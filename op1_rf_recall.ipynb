{
 "cells": [
  {
   "cell_type": "markdown",
   "id": "b8305d2b-05a2-4c03-96c1-41a8ed3e3f4e",
   "metadata": {},
   "source": [
    "## Random Forest Hyperparameter Tuning (Recall)"
   ]
  },
  {
   "cell_type": "code",
   "execution_count": 24,
   "id": "1737f07b-25d7-4e9a-950e-c41ea036b4c4",
   "metadata": {
    "tags": []
   },
   "outputs": [],
   "source": [
    "# Load Libraries\n",
    "\n",
    "import pandas as pd\n",
    "import numpy as np\n",
    "\n",
    "from sklearn.model_selection import train_test_split, StratifiedKFold\n",
    "from sklearn.metrics import recall_score\n",
    "\n",
    "from sklearn.ensemble import RandomForestClassifier\n",
    "\n",
    "import optuna"
   ]
  },
  {
   "cell_type": "code",
   "execution_count": 26,
   "id": "34b40b44-1c92-4b9d-ad57-3cddb44f6f0f",
   "metadata": {
    "tags": []
   },
   "outputs": [],
   "source": [
    "# Load Data\n",
    "\n",
    "df = pd.read_csv('bank_4.csv', index_col=0)"
   ]
  },
  {
   "cell_type": "code",
   "execution_count": 28,
   "id": "e25031a8-fef1-4150-86e7-8b7e22f0a9bb",
   "metadata": {
    "tags": []
   },
   "outputs": [],
   "source": [
    "# Train / Test Split\n",
    "\n",
    "X = df.drop(columns=['churn', 'complain', 'umap_1', 'umap_2'])\n",
    "y = df['churn']\n",
    "\n",
    "X_train, X_test, y_train, y_test = train_test_split(X, y, test_size=0.2, stratify=y, random_state=42)"
   ]
  },
  {
   "cell_type": "code",
   "execution_count": 32,
   "id": "2b530e97-2bc3-4b3d-b9f8-eb4ed610ff66",
   "metadata": {
    "tags": []
   },
   "outputs": [],
   "source": [
    "# Hyperparameter tuning\n",
    "\n",
    "def objective(trial):\n",
    "    \n",
    "    params = {\n",
    "        'n_estimators': trial.suggest_int('n_estimators', 100, 2000),\n",
    "        'max_features': trial.suggest_int('max_features', 4, 53),\n",
    "        'max_depth': trial.suggest_int('max_depth', 2, 50),\n",
    "        'min_samples_split': trial.suggest_int('min_samples_split', 2, 32),\n",
    "        'min_samples_leaf': trial.suggest_int('min_samples_leaf', 1, 32)\n",
    "    }\n",
    "\n",
    "    model = RandomForestClassifier(\n",
    "        **params,\n",
    "        random_state=42,\n",
    "        n_jobs=-1)\n",
    "    \n",
    "    threshold = 0.34\n",
    "    \n",
    "    skf = StratifiedKFold(n_splits=5, random_state=42, shuffle=True)\n",
    "    scores = []\n",
    "    \n",
    "    for tr, te in skf.split(X_train, y_train):\n",
    "        \n",
    "        X_tr, X_te = X_train.iloc[tr], X_train.iloc[te]\n",
    "        y_tr, y_te = y_train.iloc[tr], y_train.iloc[te]\n",
    "        \n",
    "        model.fit(X_tr, y_tr)\n",
    "        prob = model.predict_proba(X_te)[:, 1]\n",
    "        y_pred = np.where(prob < threshold, 0, 1)\n",
    "        \n",
    "        scores.append(recall_score(y_te, y_pred))\n",
    "        \n",
    "    return np.mean(scores)"
   ]
  },
  {
   "cell_type": "code",
   "execution_count": 34,
   "id": "eb85a387-214c-480a-8a96-d69570dcbce9",
   "metadata": {
    "tags": []
   },
   "outputs": [
    {
     "name": "stderr",
     "output_type": "stream",
     "text": [
      "[I 2024-07-07 18:51:57,646] A new study created in memory with name: no-name-32b7aa8e-a526-4004-b3da-f2386df73dad\n"
     ]
    },
    {
     "data": {
      "application/vnd.jupyter.widget-view+json": {
       "model_id": "51e23bedfc2b42e1a45ff36abce1d41d",
       "version_major": 2,
       "version_minor": 0
      },
      "text/plain": [
       "  0%|          | 0/100 [00:00<?, ?it/s]"
      ]
     },
     "metadata": {},
     "output_type": "display_data"
    },
    {
     "name": "stdout",
     "output_type": "stream",
     "text": [
      "[I 2024-07-07 18:51:59,148] Trial 0 finished with value: 0.5914110429447853 and parameters: {'n_estimators': 105, 'max_features': 25, 'max_depth': 40, 'min_samples_split': 13, 'min_samples_leaf': 31}. Best is trial 0 with value: 0.5914110429447853.\n",
      "[I 2024-07-07 18:52:05,020] Trial 1 finished with value: 0.5883435582822087 and parameters: {'n_estimators': 487, 'max_features': 51, 'max_depth': 7, 'min_samples_split': 31, 'min_samples_leaf': 1}. Best is trial 0 with value: 0.5914110429447853.\n",
      "[I 2024-07-07 18:52:20,919] Trial 2 finished with value: 0.5981595092024541 and parameters: {'n_estimators': 1139, 'max_features': 30, 'max_depth': 12, 'min_samples_split': 28, 'min_samples_leaf': 25}. Best is trial 2 with value: 0.5981595092024541.\n",
      "[I 2024-07-07 18:52:25,116] Trial 3 finished with value: 0.6018404907975461 and parameters: {'n_estimators': 285, 'max_features': 19, 'max_depth': 47, 'min_samples_split': 30, 'min_samples_leaf': 9}. Best is trial 3 with value: 0.6018404907975461.\n",
      "[I 2024-07-07 18:52:30,518] Trial 4 finished with value: 0.5987730061349694 and parameters: {'n_estimators': 382, 'max_features': 43, 'max_depth': 50, 'min_samples_split': 3, 'min_samples_leaf': 20}. Best is trial 3 with value: 0.6018404907975461.\n",
      "[I 2024-07-07 18:52:40,305] Trial 5 finished with value: 0.5914110429447852 and parameters: {'n_estimators': 728, 'max_features': 15, 'max_depth': 8, 'min_samples_split': 28, 'min_samples_leaf': 31}. Best is trial 3 with value: 0.6018404907975461.\n",
      "[I 2024-07-07 18:53:08,020] Trial 6 finished with value: 0.6 and parameters: {'n_estimators': 1654, 'max_features': 44, 'max_depth': 27, 'min_samples_split': 3, 'min_samples_leaf': 15}. Best is trial 3 with value: 0.6018404907975461.\n",
      "[I 2024-07-07 18:53:29,637] Trial 7 finished with value: 0.5987730061349694 and parameters: {'n_estimators': 1362, 'max_features': 20, 'max_depth': 36, 'min_samples_split': 15, 'min_samples_leaf': 19}. Best is trial 3 with value: 0.6018404907975461.\n",
      "[I 2024-07-07 18:53:41,712] Trial 8 finished with value: 0.596319018404908 and parameters: {'n_estimators': 777, 'max_features': 52, 'max_depth': 24, 'min_samples_split': 15, 'min_samples_leaf': 26}. Best is trial 3 with value: 0.6018404907975461.\n",
      "[I 2024-07-07 18:54:09,596] Trial 9 finished with value: 0.5938650306748465 and parameters: {'n_estimators': 1823, 'max_features': 40, 'max_depth': 20, 'min_samples_split': 10, 'min_samples_leaf': 30}. Best is trial 3 with value: 0.6018404907975461.\n",
      "[I 2024-07-07 18:54:11,163] Trial 10 finished with value: 0.5662576687116564 and parameters: {'n_estimators': 121, 'max_features': 4, 'max_depth': 50, 'min_samples_split': 22, 'min_samples_leaf': 7}. Best is trial 3 with value: 0.6018404907975461.\n",
      "[I 2024-07-07 18:54:44,811] Trial 11 finished with value: 0.6042944785276074 and parameters: {'n_estimators': 1879, 'max_features': 34, 'max_depth': 35, 'min_samples_split': 2, 'min_samples_leaf': 12}. Best is trial 11 with value: 0.6042944785276074.\n",
      "[I 2024-07-07 18:55:21,480] Trial 12 finished with value: 0.6061349693251534 and parameters: {'n_estimators': 1975, 'max_features': 33, 'max_depth': 39, 'min_samples_split': 21, 'min_samples_leaf': 10}. Best is trial 12 with value: 0.6061349693251534.\n",
      "[I 2024-07-07 18:55:55,890] Trial 13 finished with value: 0.6012269938650306 and parameters: {'n_estimators': 1958, 'max_features': 34, 'max_depth': 34, 'min_samples_split': 21, 'min_samples_leaf': 13}. Best is trial 12 with value: 0.6061349693251534.\n",
      "[I 2024-07-07 18:56:24,082] Trial 14 finished with value: 0.6030674846625768 and parameters: {'n_estimators': 1546, 'max_features': 35, 'max_depth': 41, 'min_samples_split': 9, 'min_samples_leaf': 8}. Best is trial 12 with value: 0.6061349693251534.\n",
      "[I 2024-07-07 18:57:00,108] Trial 15 finished with value: 0.6024539877300613 and parameters: {'n_estimators': 1931, 'max_features': 27, 'max_depth': 32, 'min_samples_split': 20, 'min_samples_leaf': 4}. Best is trial 12 with value: 0.6061349693251534.\n",
      "[I 2024-07-07 18:57:22,709] Trial 16 finished with value: 0.6036809815950921 and parameters: {'n_estimators': 1350, 'max_features': 37, 'max_depth': 42, 'min_samples_split': 25, 'min_samples_leaf': 12}. Best is trial 12 with value: 0.6061349693251534.\n",
      "[I 2024-07-07 18:57:44,011] Trial 17 finished with value: 0.5932515337423313 and parameters: {'n_estimators': 1681, 'max_features': 11, 'max_depth': 29, 'min_samples_split': 8, 'min_samples_leaf': 18}. Best is trial 12 with value: 0.6061349693251534.\n",
      "[I 2024-07-07 18:58:06,289] Trial 18 finished with value: 0.6049079754601228 and parameters: {'n_estimators': 1331, 'max_features': 46, 'max_depth': 18, 'min_samples_split': 18, 'min_samples_leaf': 11}. Best is trial 12 with value: 0.6061349693251534.\n",
      "[I 2024-07-07 18:58:21,875] Trial 19 finished with value: 0.603680981595092 and parameters: {'n_estimators': 926, 'max_features': 47, 'max_depth': 17, 'min_samples_split': 19, 'min_samples_leaf': 4}. Best is trial 12 with value: 0.6061349693251534.\n",
      "[I 2024-07-07 18:58:39,786] Trial 20 finished with value: 0.6018404907975461 and parameters: {'n_estimators': 1231, 'max_features': 47, 'max_depth': 15, 'min_samples_split': 25, 'min_samples_leaf': 22}. Best is trial 12 with value: 0.6061349693251534.\n",
      "[I 2024-07-07 18:59:05,217] Trial 21 finished with value: 0.6036809815950921 and parameters: {'n_estimators': 1514, 'max_features': 32, 'max_depth': 24, 'min_samples_split': 17, 'min_samples_leaf': 11}. Best is trial 12 with value: 0.6061349693251534.\n",
      "[I 2024-07-07 18:59:36,469] Trial 22 finished with value: 0.6 and parameters: {'n_estimators': 1806, 'max_features': 39, 'max_depth': 37, 'min_samples_split': 24, 'min_samples_leaf': 15}. Best is trial 12 with value: 0.6061349693251534.\n",
      "[I 2024-07-07 18:59:58,209] Trial 23 finished with value: 0.41963190184049076 and parameters: {'n_estimators': 1983, 'max_features': 25, 'max_depth': 3, 'min_samples_split': 12, 'min_samples_leaf': 10}. Best is trial 12 with value: 0.6061349693251534.\n",
      "[I 2024-07-07 19:00:27,108] Trial 24 finished with value: 0.6036809815950919 and parameters: {'n_estimators': 1744, 'max_features': 41, 'max_depth': 21, 'min_samples_split': 18, 'min_samples_leaf': 6}. Best is trial 12 with value: 0.6061349693251534.\n",
      "[I 2024-07-07 19:00:48,416] Trial 25 finished with value: 0.5993865030674848 and parameters: {'n_estimators': 1464, 'max_features': 30, 'max_depth': 30, 'min_samples_split': 6, 'min_samples_leaf': 14}. Best is trial 12 with value: 0.6061349693251534.\n",
      "[I 2024-07-07 19:01:03,217] Trial 26 finished with value: 0.5987730061349692 and parameters: {'n_estimators': 1005, 'max_features': 46, 'max_depth': 45, 'min_samples_split': 16, 'min_samples_leaf': 17}. Best is trial 12 with value: 0.6061349693251534.\n",
      "[I 2024-07-07 19:01:28,027] Trial 27 finished with value: 0.6042944785276074 and parameters: {'n_estimators': 1628, 'max_features': 36, 'max_depth': 35, 'min_samples_split': 13, 'min_samples_leaf': 11}. Best is trial 12 with value: 0.6061349693251534.\n",
      "[I 2024-07-07 19:01:47,986] Trial 28 finished with value: 0.6006134969325153 and parameters: {'n_estimators': 1300, 'max_features': 50, 'max_depth': 39, 'min_samples_split': 23, 'min_samples_leaf': 5}. Best is trial 12 with value: 0.6061349693251534.\n",
      "[I 2024-07-07 19:02:20,411] Trial 29 finished with value: 0.6092024539877301 and parameters: {'n_estimators': 1837, 'max_features': 25, 'max_depth': 44, 'min_samples_split': 6, 'min_samples_leaf': 2}. Best is trial 29 with value: 0.6092024539877301.\n",
      "[I 2024-07-07 19:02:45,213] Trial 30 finished with value: 0.6098159509202454 and parameters: {'n_estimators': 1461, 'max_features': 20, 'max_depth': 44, 'min_samples_split': 11, 'min_samples_leaf': 1}. Best is trial 30 with value: 0.6098159509202454.\n",
      "[I 2024-07-07 19:03:11,528] Trial 31 finished with value: 0.6202453987730061 and parameters: {'n_estimators': 1449, 'max_features': 21, 'max_depth': 47, 'min_samples_split': 5, 'min_samples_leaf': 1}. Best is trial 31 with value: 0.6202453987730061.\n",
      "[I 2024-07-07 19:03:42,568] Trial 32 finished with value: 0.6177914110429448 and parameters: {'n_estimators': 1757, 'max_features': 21, 'max_depth': 45, 'min_samples_split': 6, 'min_samples_leaf': 1}. Best is trial 31 with value: 0.6202453987730061.\n",
      "[I 2024-07-07 19:04:08,814] Trial 33 finished with value: 0.6184049079754601 and parameters: {'n_estimators': 1496, 'max_features': 21, 'max_depth': 46, 'min_samples_split': 6, 'min_samples_leaf': 1}. Best is trial 31 with value: 0.6202453987730061.\n",
      "[I 2024-07-07 19:04:29,670] Trial 34 finished with value: 0.6214723926380368 and parameters: {'n_estimators': 1194, 'max_features': 21, 'max_depth': 47, 'min_samples_split': 6, 'min_samples_leaf': 1}. Best is trial 34 with value: 0.6214723926380368.\n",
      "[I 2024-07-07 19:04:49,016] Trial 35 finished with value: 0.6092024539877301 and parameters: {'n_estimators': 1159, 'max_features': 16, 'max_depth': 47, 'min_samples_split': 6, 'min_samples_leaf': 2}. Best is trial 34 with value: 0.6214723926380368.\n",
      "[I 2024-07-07 19:05:07,973] Trial 36 finished with value: 0.6006134969325153 and parameters: {'n_estimators': 1092, 'max_features': 23, 'max_depth': 49, 'min_samples_split': 4, 'min_samples_leaf': 3}. Best is trial 34 with value: 0.6214723926380368.\n",
      "[I 2024-07-07 19:05:30,956] Trial 37 finished with value: 0.6177914110429448 and parameters: {'n_estimators': 1579, 'max_features': 12, 'max_depth': 46, 'min_samples_split': 8, 'min_samples_leaf': 1}. Best is trial 34 with value: 0.6214723926380368.\n",
      "[I 2024-07-07 19:05:50,606] Trial 38 finished with value: 0.6036809815950921 and parameters: {'n_estimators': 1214, 'max_features': 22, 'max_depth': 42, 'min_samples_split': 5, 'min_samples_leaf': 5}. Best is trial 34 with value: 0.6214723926380368.\n",
      "[I 2024-07-07 19:06:12,348] Trial 39 finished with value: 0.6030674846625766 and parameters: {'n_estimators': 1429, 'max_features': 17, 'max_depth': 48, 'min_samples_split': 2, 'min_samples_leaf': 7}. Best is trial 34 with value: 0.6214723926380368.\n",
      "[I 2024-07-07 19:06:24,601] Trial 40 finished with value: 0.6018404907975461 and parameters: {'n_estimators': 823, 'max_features': 13, 'max_depth': 50, 'min_samples_split': 8, 'min_samples_leaf': 3}. Best is trial 34 with value: 0.6214723926380368.\n",
      "[I 2024-07-07 19:06:45,934] Trial 41 finished with value: 0.6165644171779141 and parameters: {'n_estimators': 1577, 'max_features': 10, 'max_depth': 46, 'min_samples_split': 8, 'min_samples_leaf': 1}. Best is trial 34 with value: 0.6214723926380368.\n",
      "[I 2024-07-07 19:07:05,361] Trial 42 finished with value: 0.5791411042944785 and parameters: {'n_estimators': 1715, 'max_features': 4, 'max_depth': 44, 'min_samples_split': 4, 'min_samples_leaf': 2}. Best is trial 34 with value: 0.6214723926380368.\n",
      "[I 2024-07-07 19:07:26,147] Trial 43 finished with value: 0.6122699386503068 and parameters: {'n_estimators': 1605, 'max_features': 8, 'max_depth': 47, 'min_samples_split': 7, 'min_samples_leaf': 1}. Best is trial 34 with value: 0.6214723926380368.\n",
      "[I 2024-07-07 19:07:49,167] Trial 44 finished with value: 0.6030674846625768 and parameters: {'n_estimators': 1416, 'max_features': 18, 'max_depth': 38, 'min_samples_split': 10, 'min_samples_leaf': 5}. Best is trial 34 with value: 0.6214723926380368.\n",
      "[I 2024-07-07 19:08:10,437] Trial 45 finished with value: 0.6024539877300613 and parameters: {'n_estimators': 1252, 'max_features': 22, 'max_depth': 41, 'min_samples_split': 4, 'min_samples_leaf': 3}. Best is trial 34 with value: 0.6214723926380368.\n",
      "[I 2024-07-07 19:08:34,682] Trial 46 finished with value: 0.6006134969325153 and parameters: {'n_estimators': 1750, 'max_features': 14, 'max_depth': 43, 'min_samples_split': 10, 'min_samples_leaf': 8}. Best is trial 34 with value: 0.6214723926380368.\n",
      "[I 2024-07-07 19:08:44,107] Trial 47 finished with value: 0.6257668711656442 and parameters: {'n_estimators': 511, 'max_features': 28, 'max_depth': 48, 'min_samples_split': 2, 'min_samples_leaf': 1}. Best is trial 47 with value: 0.6257668711656442.\n",
      "[I 2024-07-07 19:08:52,734] Trial 48 finished with value: 0.6 and parameters: {'n_estimators': 515, 'max_features': 27, 'max_depth': 50, 'min_samples_split': 2, 'min_samples_leaf': 4}. Best is trial 47 with value: 0.6257668711656442.\n",
      "[I 2024-07-07 19:09:01,405] Trial 49 finished with value: 0.594478527607362 and parameters: {'n_estimators': 648, 'max_features': 20, 'max_depth': 40, 'min_samples_split': 3, 'min_samples_leaf': 28}. Best is trial 47 with value: 0.6257668711656442.\n",
      "[I 2024-07-07 19:09:04,487] Trial 50 finished with value: 0.5987730061349693 and parameters: {'n_estimators': 196, 'max_features': 29, 'max_depth': 47, 'min_samples_split': 5, 'min_samples_leaf': 6}. Best is trial 47 with value: 0.6257668711656442.\n",
      "[I 2024-07-07 19:09:10,825] Trial 51 finished with value: 0.6165644171779141 and parameters: {'n_estimators': 357, 'max_features': 27, 'max_depth': 46, 'min_samples_split': 7, 'min_samples_leaf': 1}. Best is trial 47 with value: 0.6257668711656442.\n",
      "[I 2024-07-07 19:09:27,862] Trial 52 finished with value: 0.6006134969325154 and parameters: {'n_estimators': 1004, 'max_features': 23, 'max_depth': 48, 'min_samples_split': 5, 'min_samples_leaf': 3}. Best is trial 47 with value: 0.6257668711656442.\n",
      "[I 2024-07-07 19:09:37,924] Trial 53 finished with value: 0.6263803680981594 and parameters: {'n_estimators': 557, 'max_features': 18, 'max_depth': 45, 'min_samples_split': 3, 'min_samples_leaf': 1}. Best is trial 53 with value: 0.6263803680981594.\n",
      "[I 2024-07-07 19:09:46,830] Trial 54 finished with value: 0.6030674846625766 and parameters: {'n_estimators': 519, 'max_features': 19, 'max_depth': 43, 'min_samples_split': 3, 'min_samples_leaf': 3}. Best is trial 53 with value: 0.6263803680981594.\n",
      "[I 2024-07-07 19:09:55,640] Trial 55 finished with value: 0.6006134969325153 and parameters: {'n_estimators': 628, 'max_features': 25, 'max_depth': 50, 'min_samples_split': 32, 'min_samples_leaf': 22}. Best is trial 53 with value: 0.6263803680981594.\n",
      "[I 2024-07-07 19:10:02,471] Trial 56 finished with value: 0.6042944785276074 and parameters: {'n_estimators': 447, 'max_features': 15, 'max_depth': 41, 'min_samples_split': 2, 'min_samples_leaf': 4}. Best is trial 53 with value: 0.6263803680981594.\n",
      "[I 2024-07-07 19:10:17,904] Trial 57 finished with value: 0.6085889570552148 and parameters: {'n_estimators': 874, 'max_features': 21, 'max_depth': 33, 'min_samples_split': 4, 'min_samples_leaf': 2}. Best is trial 53 with value: 0.6263803680981594.\n",
      "[I 2024-07-07 19:10:28,539] Trial 58 finished with value: 0.6018404907975461 and parameters: {'n_estimators': 692, 'max_features': 18, 'max_depth': 45, 'min_samples_split': 7, 'min_samples_leaf': 7}. Best is trial 53 with value: 0.6263803680981594.\n",
      "[I 2024-07-07 19:10:32,482] Trial 59 finished with value: 0.6018404907975461 and parameters: {'n_estimators': 249, 'max_features': 31, 'max_depth': 37, 'min_samples_split': 28, 'min_samples_leaf': 6}. Best is trial 53 with value: 0.6263803680981594.\n",
      "[I 2024-07-07 19:10:54,525] Trial 60 finished with value: 0.6036809815950921 and parameters: {'n_estimators': 1378, 'max_features': 24, 'max_depth': 49, 'min_samples_split': 13, 'min_samples_leaf': 4}. Best is trial 53 with value: 0.6263803680981594.\n",
      "[I 2024-07-07 19:11:13,373] Trial 61 finished with value: 0.605521472392638 and parameters: {'n_estimators': 1508, 'max_features': 8, 'max_depth': 46, 'min_samples_split': 9, 'min_samples_leaf': 1}. Best is trial 53 with value: 0.6263803680981594.\n",
      "[I 2024-07-07 19:11:37,863] Trial 62 finished with value: 0.6098159509202453 and parameters: {'n_estimators': 1670, 'max_features': 12, 'max_depth': 48, 'min_samples_split': 5, 'min_samples_leaf': 2}. Best is trial 53 with value: 0.6263803680981594.\n",
      "[I 2024-07-07 19:12:04,032] Trial 63 finished with value: 0.6245398773006136 and parameters: {'n_estimators': 1525, 'max_features': 16, 'max_depth': 45, 'min_samples_split': 3, 'min_samples_leaf': 1}. Best is trial 53 with value: 0.6263803680981594.\n",
      "[I 2024-07-07 19:12:26,228] Trial 64 finished with value: 0.6141104294478528 and parameters: {'n_estimators': 1303, 'max_features': 17, 'max_depth': 43, 'min_samples_split': 3, 'min_samples_leaf': 2}. Best is trial 53 with value: 0.6263803680981594.\n",
      "[I 2024-07-07 19:12:43,618] Trial 65 finished with value: 0.6024539877300613 and parameters: {'n_estimators': 1168, 'max_features': 15, 'max_depth': 39, 'min_samples_split': 6, 'min_samples_leaf': 5}. Best is trial 53 with value: 0.6263803680981594.\n",
      "[I 2024-07-07 19:12:51,404] Trial 66 finished with value: 0.5920245398773006 and parameters: {'n_estimators': 585, 'max_features': 27, 'max_depth': 42, 'min_samples_split': 2, 'min_samples_leaf': 32}. Best is trial 53 with value: 0.6263803680981594.\n",
      "[I 2024-07-07 19:13:17,148] Trial 67 finished with value: 0.6018404907975461 and parameters: {'n_estimators': 1522, 'max_features': 19, 'max_depth': 45, 'min_samples_split': 3, 'min_samples_leaf': 3}. Best is trial 53 with value: 0.6263803680981594.\n",
      "[I 2024-07-07 19:13:23,700] Trial 68 finished with value: 0.6263803680981594 and parameters: {'n_estimators': 363, 'max_features': 21, 'max_depth': 48, 'min_samples_split': 4, 'min_samples_leaf': 1}. Best is trial 53 with value: 0.6263803680981594.\n",
      "[I 2024-07-07 19:13:29,749] Trial 69 finished with value: 0.6110429447852761 and parameters: {'n_estimators': 362, 'max_features': 16, 'max_depth': 48, 'min_samples_split': 4, 'min_samples_leaf': 2}. Best is trial 53 with value: 0.6263803680981594.\n",
      "[I 2024-07-07 19:13:31,298] Trial 70 finished with value: 0.59079754601227 and parameters: {'n_estimators': 113, 'max_features': 24, 'max_depth': 6, 'min_samples_split': 5, 'min_samples_leaf': 4}. Best is trial 53 with value: 0.6263803680981594.\n",
      "[I 2024-07-07 19:13:38,685] Trial 71 finished with value: 0.6214723926380369 and parameters: {'n_estimators': 414, 'max_features': 21, 'max_depth': 44, 'min_samples_split': 6, 'min_samples_leaf': 1}. Best is trial 53 with value: 0.6263803680981594.\n",
      "[I 2024-07-07 19:13:44,410] Trial 72 finished with value: 0.6165644171779141 and parameters: {'n_estimators': 331, 'max_features': 21, 'max_depth': 49, 'min_samples_split': 7, 'min_samples_leaf': 1}. Best is trial 53 with value: 0.6263803680981594.\n",
      "[I 2024-07-07 19:13:51,867] Trial 73 finished with value: 0.6006134969325153 and parameters: {'n_estimators': 443, 'max_features': 26, 'max_depth': 13, 'min_samples_split': 2, 'min_samples_leaf': 3}. Best is trial 53 with value: 0.6263803680981594.\n",
      "[I 2024-07-07 19:13:56,265] Trial 74 finished with value: 0.6104294478527608 and parameters: {'n_estimators': 260, 'max_features': 18, 'max_depth': 44, 'min_samples_split': 9, 'min_samples_leaf': 2}. Best is trial 53 with value: 0.6263803680981594.\n",
      "[I 2024-07-07 19:14:04,361] Trial 75 finished with value: 0.6245398773006136 and parameters: {'n_estimators': 448, 'max_features': 23, 'max_depth': 47, 'min_samples_split': 3, 'min_samples_leaf': 1}. Best is trial 53 with value: 0.6263803680981594.\n",
      "[I 2024-07-07 19:14:13,771] Trial 76 finished with value: 0.5987730061349693 and parameters: {'n_estimators': 571, 'max_features': 29, 'max_depth': 48, 'min_samples_split': 3, 'min_samples_leaf': 5}. Best is trial 53 with value: 0.6263803680981594.\n",
      "[I 2024-07-07 19:14:21,393] Trial 77 finished with value: 0.6042944785276074 and parameters: {'n_estimators': 452, 'max_features': 23, 'max_depth': 47, 'min_samples_split': 4, 'min_samples_leaf': 3}. Best is trial 53 with value: 0.6263803680981594.\n",
      "[I 2024-07-07 19:14:24,629] Trial 78 finished with value: 0.6220858895705521 and parameters: {'n_estimators': 175, 'max_features': 19, 'max_depth': 50, 'min_samples_split': 3, 'min_samples_leaf': 1}. Best is trial 53 with value: 0.6263803680981594.\n",
      "[I 2024-07-07 19:14:27,791] Trial 79 finished with value: 0.6024539877300613 and parameters: {'n_estimators': 188, 'max_features': 17, 'max_depth': 50, 'min_samples_split': 3, 'min_samples_leaf': 4}. Best is trial 53 with value: 0.6263803680981594.\n",
      "[I 2024-07-07 19:14:34,398] Trial 80 finished with value: 0.6012269938650305 and parameters: {'n_estimators': 412, 'max_features': 19, 'max_depth': 42, 'min_samples_split': 2, 'min_samples_leaf': 6}. Best is trial 53 with value: 0.6263803680981594.\n",
      "[I 2024-07-07 19:14:39,579] Trial 81 finished with value: 0.6282208588957054 and parameters: {'n_estimators': 294, 'max_features': 22, 'max_depth': 49, 'min_samples_split': 5, 'min_samples_leaf': 1}. Best is trial 81 with value: 0.6282208588957054.\n",
      "[I 2024-07-07 19:14:45,022] Trial 82 finished with value: 0.6159509202453988 and parameters: {'n_estimators': 310, 'max_features': 22, 'max_depth': 49, 'min_samples_split': 4, 'min_samples_leaf': 2}. Best is trial 81 with value: 0.6282208588957054.\n",
      "[I 2024-07-07 19:14:49,710] Trial 83 finished with value: 0.6141104294478528 and parameters: {'n_estimators': 274, 'max_features': 20, 'max_depth': 45, 'min_samples_split': 5, 'min_samples_leaf': 2}. Best is trial 81 with value: 0.6282208588957054.\n",
      "[I 2024-07-07 19:14:52,848] Trial 84 finished with value: 0.6233128834355829 and parameters: {'n_estimators': 161, 'max_features': 24, 'max_depth': 50, 'min_samples_split': 3, 'min_samples_leaf': 1}. Best is trial 81 with value: 0.6282208588957054.\n",
      "[I 2024-07-07 19:14:56,268] Trial 85 finished with value: 0.6226993865030674 and parameters: {'n_estimators': 183, 'max_features': 25, 'max_depth': 49, 'min_samples_split': 3, 'min_samples_leaf': 1}. Best is trial 81 with value: 0.6282208588957054.\n",
      "[I 2024-07-07 19:14:59,474] Trial 86 finished with value: 0.603680981595092 and parameters: {'n_estimators': 190, 'max_features': 26, 'max_depth': 50, 'min_samples_split': 3, 'min_samples_leaf': 3}. Best is trial 81 with value: 0.6282208588957054.\n",
      "[I 2024-07-07 19:15:01,951] Trial 87 finished with value: 0.6214723926380368 and parameters: {'n_estimators': 133, 'max_features': 28, 'max_depth': 49, 'min_samples_split': 2, 'min_samples_leaf': 1}. Best is trial 81 with value: 0.6282208588957054.\n",
      "[I 2024-07-07 19:15:06,022] Trial 88 finished with value: 0.6122699386503068 and parameters: {'n_estimators': 224, 'max_features': 32, 'max_depth': 48, 'min_samples_split': 4, 'min_samples_leaf': 2}. Best is trial 81 with value: 0.6282208588957054.\n",
      "[I 2024-07-07 19:15:08,641] Trial 89 finished with value: 0.6042944785276074 and parameters: {'n_estimators': 152, 'max_features': 24, 'max_depth': 46, 'min_samples_split': 3, 'min_samples_leaf': 4}. Best is trial 81 with value: 0.6282208588957054.\n",
      "[I 2024-07-07 19:15:13,588] Trial 90 finished with value: 0.5993865030674848 and parameters: {'n_estimators': 301, 'max_features': 25, 'max_depth': 26, 'min_samples_split': 5, 'min_samples_leaf': 5}. Best is trial 81 with value: 0.6282208588957054.\n",
      "[I 2024-07-07 19:15:20,472] Trial 91 finished with value: 0.6251533742331288 and parameters: {'n_estimators': 382, 'max_features': 23, 'max_depth': 44, 'min_samples_split': 3, 'min_samples_leaf': 1}. Best is trial 81 with value: 0.6282208588957054.\n",
      "[I 2024-07-07 19:15:29,237] Trial 92 finished with value: 0.6128834355828221 and parameters: {'n_estimators': 487, 'max_features': 30, 'max_depth': 49, 'min_samples_split': 3, 'min_samples_leaf': 2}. Best is trial 81 with value: 0.6282208588957054.\n",
      "[I 2024-07-07 19:15:36,550] Trial 93 finished with value: 0.6239263803680982 and parameters: {'n_estimators': 399, 'max_features': 23, 'max_depth': 47, 'min_samples_split': 2, 'min_samples_leaf': 1}. Best is trial 81 with value: 0.6282208588957054.\n",
      "[I 2024-07-07 19:15:43,271] Trial 94 finished with value: 0.603680981595092 and parameters: {'n_estimators': 394, 'max_features': 26, 'max_depth': 46, 'min_samples_split': 2, 'min_samples_leaf': 3}. Best is trial 81 with value: 0.6282208588957054.\n",
      "[I 2024-07-07 19:15:53,345] Trial 95 finished with value: 0.6251533742331288 and parameters: {'n_estimators': 543, 'max_features': 28, 'max_depth': 47, 'min_samples_split': 2, 'min_samples_leaf': 1}. Best is trial 81 with value: 0.6282208588957054.\n",
      "[I 2024-07-07 19:16:03,024] Trial 96 finished with value: 0.6098159509202453 and parameters: {'n_estimators': 549, 'max_features': 23, 'max_depth': 47, 'min_samples_split': 2, 'min_samples_leaf': 2}. Best is trial 81 with value: 0.6282208588957054.\n",
      "[I 2024-07-07 19:16:16,261] Trial 97 finished with value: 0.601840490797546 and parameters: {'n_estimators': 772, 'max_features': 28, 'max_depth': 43, 'min_samples_split': 4, 'min_samples_leaf': 3}. Best is trial 81 with value: 0.6282208588957054.\n",
      "[I 2024-07-07 19:16:24,548] Trial 98 finished with value: 0.6006134969325153 and parameters: {'n_estimators': 617, 'max_features': 34, 'max_depth': 30, 'min_samples_split': 4, 'min_samples_leaf': 24}. Best is trial 81 with value: 0.6282208588957054.\n",
      "[I 2024-07-07 19:16:37,123] Trial 99 finished with value: 0.6245398773006134 and parameters: {'n_estimators': 682, 'max_features': 22, 'max_depth': 45, 'min_samples_split': 2, 'min_samples_leaf': 1}. Best is trial 81 with value: 0.6282208588957054.\n"
     ]
    }
   ],
   "source": [
    "study = optuna.create_study(direction='maximize')\n",
    "study.optimize(objective, n_trials=100, show_progress_bar=True)"
   ]
  },
  {
   "cell_type": "code",
   "execution_count": 48,
   "id": "d08f6ab5-62c1-435d-9f71-ab5c581e4dcf",
   "metadata": {
    "tags": []
   },
   "outputs": [
    {
     "name": "stdout",
     "output_type": "stream",
     "text": [
      "Best trial: FrozenTrial(number=81, state=1, values=[0.6282208588957054], datetime_start=datetime.datetime(2024, 7, 7, 19, 14, 34, 399697), datetime_complete=datetime.datetime(2024, 7, 7, 19, 14, 39, 579163), params={'n_estimators': 294, 'max_features': 22, 'max_depth': 49, 'min_samples_split': 5, 'min_samples_leaf': 1}, user_attrs={}, system_attrs={}, intermediate_values={}, distributions={'n_estimators': IntDistribution(high=2000, log=False, low=100, step=1), 'max_features': IntDistribution(high=53, log=False, low=4, step=1), 'max_depth': IntDistribution(high=50, log=False, low=2, step=1), 'min_samples_split': IntDistribution(high=32, log=False, low=2, step=1), 'min_samples_leaf': IntDistribution(high=32, log=False, low=1, step=1)}, trial_id=81, value=None)\n",
      "Best hyperparameters: {'n_estimators': 294, 'max_features': 22, 'max_depth': 49, 'min_samples_split': 5, 'min_samples_leaf': 1}\n"
     ]
    }
   ],
   "source": [
    "print(\"Best trial:\", study.best_trial)\n",
    "print(\"Best hyperparameters:\", study.best_params)"
   ]
  },
  {
   "cell_type": "code",
   "execution_count": null,
   "id": "50831393-8f7d-477e-ba8e-8ea2964c2233",
   "metadata": {},
   "outputs": [],
   "source": []
  }
 ],
 "metadata": {
  "kernelspec": {
   "display_name": "Python 3 (ipykernel)",
   "language": "python",
   "name": "python3"
  },
  "language_info": {
   "codemirror_mode": {
    "name": "ipython",
    "version": 3
   },
   "file_extension": ".py",
   "mimetype": "text/x-python",
   "name": "python",
   "nbconvert_exporter": "python",
   "pygments_lexer": "ipython3",
   "version": "3.11.5"
  }
 },
 "nbformat": 4,
 "nbformat_minor": 5
}

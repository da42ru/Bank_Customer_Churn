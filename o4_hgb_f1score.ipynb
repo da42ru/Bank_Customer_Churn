{
 "cells": [
  {
   "cell_type": "markdown",
   "id": "b8305d2b-05a2-4c03-96c1-41a8ed3e3f4e",
   "metadata": {},
   "source": [
    "## Hist Gradient Boosting Hyperparameter Tuning (F1-Score)"
   ]
  },
  {
   "cell_type": "code",
   "execution_count": 2,
   "id": "1737f07b-25d7-4e9a-950e-c41ea036b4c4",
   "metadata": {
    "tags": []
   },
   "outputs": [],
   "source": [
    "# Load Libraries\n",
    "\n",
    "import pandas as pd\n",
    "import numpy as np\n",
    "\n",
    "from sklearn.model_selection import train_test_split, StratifiedKFold\n",
    "from sklearn.metrics import f1_score\n",
    "\n",
    "from sklearn.ensemble import HistGradientBoostingClassifier\n",
    "\n",
    "import optuna"
   ]
  },
  {
   "cell_type": "code",
   "execution_count": 3,
   "id": "34b40b44-1c92-4b9d-ad57-3cddb44f6f0f",
   "metadata": {
    "tags": []
   },
   "outputs": [],
   "source": [
    "# Load Data\n",
    "\n",
    "df = pd.read_csv('bank_4.csv', index_col=0)"
   ]
  },
  {
   "cell_type": "code",
   "execution_count": 4,
   "id": "e25031a8-fef1-4150-86e7-8b7e22f0a9bb",
   "metadata": {
    "tags": []
   },
   "outputs": [],
   "source": [
    "# Train / Test Split\n",
    "\n",
    "X = df.drop(columns=['churn', 'complain', 'umap_1', 'umap_2'])\n",
    "y = df['churn']\n",
    "\n",
    "X_train, X_test, y_train, y_test = train_test_split(X, y, test_size=0.2, stratify=y, random_state=42)"
   ]
  },
  {
   "cell_type": "code",
   "execution_count": 5,
   "id": "2b530e97-2bc3-4b3d-b9f8-eb4ed610ff66",
   "metadata": {
    "tags": []
   },
   "outputs": [],
   "source": [
    "# Hyperparameter tuning\n",
    "\n",
    "def objective(trial):\n",
    "    \n",
    "    params = {\n",
    "        'learning_rate': trial.suggest_float('learning_rate', 0.001, 1.0),\n",
    "        'max_iter': trial.suggest_int('max_iter', 100, 2000),\n",
    "        'max_depth':trial.suggest_int('max_depth', 2, 50),\n",
    "        'min_samples_leaf': trial.suggest_int('min_samples_leaf', 1, 32),\n",
    "        'max_leaf_nodes': trial.suggest_int('max_leaf_nodes', 10, 50),\n",
    "        'l2_regularization': trial.suggest_float('l2_regularization', 0.0, 0.1)\n",
    "    }\n",
    "\n",
    "    model = HistGradientBoostingClassifier(\n",
    "        **params,\n",
    "        random_state=42)\n",
    "    \n",
    "    threshold = 0.31\n",
    "    \n",
    "    skf = StratifiedKFold(n_splits=5, random_state=42, shuffle=True)\n",
    "    scores = []\n",
    "    \n",
    "    for tr, te in skf.split(X_train, y_train):\n",
    "        \n",
    "        X_tr, X_te = X_train.iloc[tr], X_train.iloc[te]\n",
    "        y_tr, y_te = y_train.iloc[tr], y_train.iloc[te]\n",
    "        \n",
    "        model.fit(X_tr, y_tr)\n",
    "        prob = model.predict_proba(X_te)[:, 1]\n",
    "        y_pred = np.where(prob < threshold, 0, 1)\n",
    "        \n",
    "        scores.append(f1_score(y_te, y_pred))\n",
    "        \n",
    "    return np.mean(scores)"
   ]
  },
  {
   "cell_type": "code",
   "execution_count": 6,
   "id": "eb85a387-214c-480a-8a96-d69570dcbce9",
   "metadata": {
    "tags": []
   },
   "outputs": [
    {
     "name": "stderr",
     "output_type": "stream",
     "text": [
      "[I 2024-07-10 12:56:27,352] A new study created in memory with name: no-name-f2212109-5f0a-44ca-baff-94d407c9ea95\n"
     ]
    },
    {
     "data": {
      "application/vnd.jupyter.widget-view+json": {
       "model_id": "5711771b07b64776b957f37f90249da1",
       "version_major": 2,
       "version_minor": 0
      },
      "text/plain": [
       "  0%|          | 0/100 [00:00<?, ?it/s]"
      ]
     },
     "metadata": {},
     "output_type": "display_data"
    },
    {
     "name": "stdout",
     "output_type": "stream",
     "text": [
      "[I 2024-07-10 12:56:47,837] Trial 0 finished with value: 0.5355727324851103 and parameters: {'learning_rate': 0.9303368771357591, 'max_iter': 1189, 'max_depth': 7, 'min_samples_leaf': 23, 'max_leaf_nodes': 49, 'l2_regularization': 0.02576623974108551}. Best is trial 0 with value: 0.5355727324851103.\n",
      "[I 2024-07-10 12:56:51,867] Trial 1 finished with value: 0.5455820489302622 and parameters: {'learning_rate': 0.4224671881164837, 'max_iter': 739, 'max_depth': 42, 'min_samples_leaf': 18, 'max_leaf_nodes': 13, 'l2_regularization': 0.027413875476656736}. Best is trial 1 with value: 0.5455820489302622.\n",
      "[I 2024-07-10 12:57:15,391] Trial 2 finished with value: 0.5478776165961077 and parameters: {'learning_rate': 0.9507839628099041, 'max_iter': 1496, 'max_depth': 16, 'min_samples_leaf': 31, 'max_leaf_nodes': 43, 'l2_regularization': 0.030954467043114543}. Best is trial 2 with value: 0.5478776165961077.\n",
      "[I 2024-07-10 12:57:20,657] Trial 3 finished with value: 0.5633360706897017 and parameters: {'learning_rate': 0.1575663145989361, 'max_iter': 521, 'max_depth': 33, 'min_samples_leaf': 15, 'max_leaf_nodes': 29, 'l2_regularization': 0.08455217739926366}. Best is trial 3 with value: 0.5633360706897017.\n",
      "[I 2024-07-10 12:57:27,841] Trial 4 finished with value: 0.5442477433135751 and parameters: {'learning_rate': 0.5351141171981515, 'max_iter': 943, 'max_depth': 17, 'min_samples_leaf': 15, 'max_leaf_nodes': 20, 'l2_regularization': 0.00570267405278998}. Best is trial 3 with value: 0.5633360706897017.\n",
      "[I 2024-07-10 12:57:45,205] Trial 5 finished with value: 0.56535066315691 and parameters: {'learning_rate': 0.08437173339992557, 'max_iter': 1310, 'max_depth': 27, 'min_samples_leaf': 32, 'max_leaf_nodes': 43, 'l2_regularization': 0.016803606987469532}. Best is trial 5 with value: 0.56535066315691.\n",
      "[I 2024-07-10 12:57:46,966] Trial 6 finished with value: 0.5620321695373904 and parameters: {'learning_rate': 0.38767882280190885, 'max_iter': 209, 'max_depth': 5, 'min_samples_leaf': 31, 'max_leaf_nodes': 30, 'l2_regularization': 0.01752638851864381}. Best is trial 5 with value: 0.56535066315691.\n",
      "[I 2024-07-10 12:58:10,224] Trial 7 finished with value: 0.5508698441108304 and parameters: {'learning_rate': 0.5749462410043656, 'max_iter': 1742, 'max_depth': 18, 'min_samples_leaf': 12, 'max_leaf_nodes': 35, 'l2_regularization': 0.023492628786092696}. Best is trial 5 with value: 0.56535066315691.\n",
      "[I 2024-07-10 12:58:13,160] Trial 8 finished with value: 0.5859760408972088 and parameters: {'learning_rate': 0.20782859020923133, 'max_iter': 144, 'max_depth': 34, 'min_samples_leaf': 4, 'max_leaf_nodes': 50, 'l2_regularization': 0.016269170676675573}. Best is trial 8 with value: 0.5859760408972088.\n",
      "[I 2024-07-10 12:58:21,631] Trial 9 finished with value: 0.56414768013487 and parameters: {'learning_rate': 0.4704333395488612, 'max_iter': 619, 'max_depth': 19, 'min_samples_leaf': 28, 'max_leaf_nodes': 40, 'l2_regularization': 0.09152022579560683}. Best is trial 8 with value: 0.5859760408972088.\n",
      "[I 2024-07-10 12:58:24,267] Trial 10 finished with value: 0.5826997106748287 and parameters: {'learning_rate': 0.23991371390127042, 'max_iter': 119, 'max_depth': 50, 'min_samples_leaf': 2, 'max_leaf_nodes': 50, 'l2_regularization': 0.06052464116684565}. Best is trial 8 with value: 0.5859760408972088.\n",
      "[I 2024-07-10 12:58:28,515] Trial 11 finished with value: 0.5735785611820647 and parameters: {'learning_rate': 0.23452305026366418, 'max_iter': 205, 'max_depth': 50, 'min_samples_leaf': 1, 'max_leaf_nodes': 49, 'l2_regularization': 0.06240533379557609}. Best is trial 8 with value: 0.5859760408972088.\n",
      "[I 2024-07-10 12:58:31,542] Trial 12 finished with value: 0.6087447898665045 and parameters: {'learning_rate': 0.022968559282650236, 'max_iter': 122, 'max_depth': 39, 'min_samples_leaf': 1, 'max_leaf_nodes': 49, 'l2_regularization': 0.05725252940175895}. Best is trial 12 with value: 0.6087447898665045.\n",
      "[I 2024-07-10 12:58:38,870] Trial 13 finished with value: 0.6122363833662657 and parameters: {'learning_rate': 0.006239246425645283, 'max_iter': 437, 'max_depth': 38, 'min_samples_leaf': 7, 'max_leaf_nodes': 37, 'l2_regularization': 0.04731026189544131}. Best is trial 13 with value: 0.6122363833662657.\n",
      "[I 2024-07-10 12:58:46,814] Trial 14 finished with value: 0.6136298124447022 and parameters: {'learning_rate': 0.002683769956941344, 'max_iter': 480, 'max_depth': 40, 'min_samples_leaf': 8, 'max_leaf_nodes': 36, 'l2_regularization': 0.04860362007269522}. Best is trial 14 with value: 0.6136298124447022.\n",
      "[I 2024-07-10 12:58:53,241] Trial 15 finished with value: 0.5546546776081692 and parameters: {'learning_rate': 0.7130488927133876, 'max_iter': 438, 'max_depth': 42, 'min_samples_leaf': 9, 'max_leaf_nodes': 36, 'l2_regularization': 0.0427074880841822}. Best is trial 14 with value: 0.6136298124447022.\n",
      "[I 2024-07-10 12:59:03,019] Trial 16 finished with value: 0.614043843236911 and parameters: {'learning_rate': 0.007365485260747743, 'max_iter': 956, 'max_depth': 30, 'min_samples_leaf': 7, 'max_leaf_nodes': 25, 'l2_regularization': 0.044125604938238916}. Best is trial 16 with value: 0.614043843236911.\n",
      "[I 2024-07-10 12:59:10,870] Trial 17 finished with value: 0.5546410891171606 and parameters: {'learning_rate': 0.3200793784590996, 'max_iter': 861, 'max_depth': 27, 'min_samples_leaf': 7, 'max_leaf_nodes': 24, 'l2_regularization': 0.07453336228706332}. Best is trial 16 with value: 0.614043843236911.\n",
      "[I 2024-07-10 12:59:18,669] Trial 18 finished with value: 0.5379013372271461 and parameters: {'learning_rate': 0.6941512196160398, 'max_iter': 1098, 'max_depth': 30, 'min_samples_leaf': 11, 'max_leaf_nodes': 18, 'l2_regularization': 0.04063552204985627}. Best is trial 16 with value: 0.614043843236911.\n",
      "[I 2024-07-10 12:59:38,059] Trial 19 finished with value: 0.5618240142099541 and parameters: {'learning_rate': 0.10354616494508645, 'max_iter': 1953, 'max_depth': 23, 'min_samples_leaf': 19, 'max_leaf_nodes': 29, 'l2_regularization': 0.07097835640543346}. Best is trial 16 with value: 0.614043843236911.\n",
      "[I 2024-07-10 12:59:41,476] Trial 20 finished with value: 0.565436430854642 and parameters: {'learning_rate': 0.3289240987274838, 'max_iter': 727, 'max_depth': 45, 'min_samples_leaf': 5, 'max_leaf_nodes': 10, 'l2_regularization': 0.03752831054791191}. Best is trial 16 with value: 0.614043843236911.\n",
      "[I 2024-07-10 12:59:46,374] Trial 21 finished with value: 0.6152399641891451 and parameters: {'learning_rate': 0.026255311038519774, 'max_iter': 389, 'max_depth': 37, 'min_samples_leaf': 8, 'max_leaf_nodes': 33, 'l2_regularization': 0.05279333419717107}. Best is trial 21 with value: 0.6152399641891451.\n",
      "[I 2024-07-10 12:59:51,517] Trial 22 finished with value: 0.5856038438307201 and parameters: {'learning_rate': 0.10032579925947006, 'max_iter': 434, 'max_depth': 34, 'min_samples_leaf': 12, 'max_leaf_nodes': 32, 'l2_regularization': 0.05469744665377062}. Best is trial 21 with value: 0.6152399641891451.\n",
      "[I 2024-07-10 13:00:01,002] Trial 23 finished with value: 0.6180353184129596 and parameters: {'learning_rate': 0.00853199483099034, 'max_iter': 897, 'max_depth': 37, 'min_samples_leaf': 9, 'max_leaf_nodes': 26, 'l2_regularization': 0.04861419258358948}. Best is trial 23 with value: 0.6180353184129596.\n",
      "[I 2024-07-10 13:00:14,821] Trial 24 finished with value: 0.5595459639873278 and parameters: {'learning_rate': 0.15164879997793287, 'max_iter': 1440, 'max_depth': 31, 'min_samples_leaf': 5, 'max_leaf_nodes': 25, 'l2_regularization': 0.06765948383323518}. Best is trial 23 with value: 0.6180353184129596.\n",
      "[I 2024-07-10 13:00:22,867] Trial 25 finished with value: 0.5800115682147167 and parameters: {'learning_rate': 0.06981513394548261, 'max_iter': 881, 'max_depth': 45, 'min_samples_leaf': 10, 'max_leaf_nodes': 25, 'l2_regularization': 0.0781201584452034}. Best is trial 23 with value: 0.6180353184129596.\n",
      "[I 2024-07-10 13:00:31,318] Trial 26 finished with value: 0.5598045963865718 and parameters: {'learning_rate': 0.16123910250337598, 'max_iter': 1065, 'max_depth': 36, 'min_samples_leaf': 14, 'max_leaf_nodes': 22, 'l2_regularization': 0.036745320444584076}. Best is trial 23 with value: 0.6180353184129596.\n",
      "[I 2024-07-10 13:00:45,984] Trial 27 finished with value: 0.5572782856570851 and parameters: {'learning_rate': 0.2797443479117494, 'max_iter': 1268, 'max_depth': 23, 'min_samples_leaf': 4, 'max_leaf_nodes': 27, 'l2_regularization': 0.05230337593990306}. Best is trial 23 with value: 0.6180353184129596.\n",
      "[I 2024-07-10 13:00:50,638] Trial 28 finished with value: 0.5831252553882957 and parameters: {'learning_rate': 0.07668978508863733, 'max_iter': 666, 'max_depth': 30, 'min_samples_leaf': 21, 'max_leaf_nodes': 17, 'l2_regularization': 0.06442248624497626}. Best is trial 23 with value: 0.6180353184129596.\n",
      "[I 2024-07-10 13:01:05,778] Trial 29 finished with value: 0.5339338960441883 and parameters: {'learning_rate': 0.8666511771131737, 'max_iter': 1175, 'max_depth': 24, 'min_samples_leaf': 26, 'max_leaf_nodes': 32, 'l2_regularization': 0.04690200496704076}. Best is trial 23 with value: 0.6180353184129596.\n",
      "[I 2024-07-10 13:01:06,665] Trial 30 finished with value: 0.6029070955611235 and parameters: {'learning_rate': 0.1710447648687697, 'max_iter': 338, 'max_depth': 2, 'min_samples_leaf': 7, 'max_leaf_nodes': 22, 'l2_regularization': 0.03494128464440048}. Best is trial 23 with value: 0.6180353184129596.\n",
      "[I 2024-07-10 13:01:19,445] Trial 31 finished with value: 0.5888694459993704 and parameters: {'learning_rate': 0.030120121075944525, 'max_iter': 984, 'max_depth': 40, 'min_samples_leaf': 7, 'max_leaf_nodes': 33, 'l2_regularization': 0.046773402273763504}. Best is trial 23 with value: 0.6180353184129596.\n",
      "[I 2024-07-10 13:01:34,671] Trial 32 finished with value: 0.6146810337137276 and parameters: {'learning_rate': 0.0018299951934911828, 'max_iter': 774, 'max_depth': 45, 'min_samples_leaf': 9, 'max_leaf_nodes': 38, 'l2_regularization': 0.05299489041264155}. Best is trial 23 with value: 0.6180353184129596.\n",
      "[I 2024-07-10 13:01:44,390] Trial 33 finished with value: 0.57397379100286 and parameters: {'learning_rate': 0.11106074620448045, 'max_iter': 614, 'max_depth': 45, 'min_samples_leaf': 10, 'max_leaf_nodes': 40, 'l2_regularization': 0.05716074316071049}. Best is trial 23 with value: 0.6180353184129596.\n",
      "[I 2024-07-10 13:01:52,946] Trial 34 finished with value: 0.5906913415198741 and parameters: {'learning_rate': 0.046707880233543074, 'max_iter': 824, 'max_depth': 47, 'min_samples_leaf': 17, 'max_leaf_nodes': 27, 'l2_regularization': 0.03337695679293019}. Best is trial 23 with value: 0.6180353184129596.\n",
      "[I 2024-07-10 13:01:57,862] Trial 35 finished with value: 0.5737489391825962 and parameters: {'learning_rate': 0.19508241413928795, 'max_iter': 747, 'max_depth': 37, 'min_samples_leaf': 13, 'max_leaf_nodes': 15, 'l2_regularization': 0.027788324126144327}. Best is trial 23 with value: 0.6180353184129596.\n",
      "[I 2024-07-10 13:02:03,154] Trial 36 finished with value: 0.5770909488751064 and parameters: {'learning_rate': 0.1441010382774775, 'max_iter': 315, 'max_depth': 42, 'min_samples_leaf': 16, 'max_leaf_nodes': 45, 'l2_regularization': 0.04160111385761676}. Best is trial 23 with value: 0.6180353184129596.\n",
      "[I 2024-07-10 13:02:19,485] Trial 37 finished with value: 0.6131619089312805 and parameters: {'learning_rate': 0.008668245273952808, 'max_iter': 977, 'max_depth': 32, 'min_samples_leaf': 3, 'max_leaf_nodes': 39, 'l2_regularization': 0.052137726864898336}. Best is trial 23 with value: 0.6180353184129596.\n",
      "[I 2024-07-10 13:02:26,364] Trial 38 finished with value: 0.5519327104779996 and parameters: {'learning_rate': 0.398577514283803, 'max_iter': 563, 'max_depth': 13, 'min_samples_leaf': 9, 'max_leaf_nodes': 31, 'l2_regularization': 0.004172154579355811}. Best is trial 23 with value: 0.6180353184129596.\n",
      "[I 2024-07-10 13:02:42,658] Trial 39 finished with value: 0.5470265349028637 and parameters: {'learning_rate': 0.9855653891368137, 'max_iter': 1404, 'max_depth': 35, 'min_samples_leaf': 5, 'max_leaf_nodes': 27, 'l2_regularization': 0.08410594968437629}. Best is trial 23 with value: 0.6180353184129596.\n",
      "[I 2024-07-10 13:03:08,659] Trial 40 finished with value: 0.5589683910939949 and parameters: {'learning_rate': 0.12250848987884196, 'max_iter': 1610, 'max_depth': 26, 'min_samples_leaf': 13, 'max_leaf_nodes': 43, 'l2_regularization': 0.027969305479408523}. Best is trial 23 with value: 0.6180353184129596.\n",
      "[I 2024-07-10 13:03:18,590] Trial 41 finished with value: 0.573901786628819 and parameters: {'learning_rate': 0.07126481601301593, 'max_iter': 777, 'max_depth': 42, 'min_samples_leaf': 8, 'max_leaf_nodes': 34, 'l2_regularization': 0.04984177815513201}. Best is trial 23 with value: 0.6180353184129596.\n",
      "[I 2024-07-10 13:03:24,405] Trial 42 finished with value: 0.6132531703255035 and parameters: {'learning_rate': 0.01094536484486021, 'max_iter': 327, 'max_depth': 39, 'min_samples_leaf': 10, 'max_leaf_nodes': 37, 'l2_regularization': 0.058238985519754254}. Best is trial 23 with value: 0.6180353184129596.\n",
      "[I 2024-07-10 13:03:30,590] Trial 43 finished with value: 0.589827461040562 and parameters: {'learning_rate': 0.06028267422153208, 'max_iter': 532, 'max_depth': 47, 'min_samples_leaf': 6, 'max_leaf_nodes': 29, 'l2_regularization': 0.04237411409447729}. Best is trial 23 with value: 0.6180353184129596.\n",
      "[I 2024-07-10 13:03:47,920] Trial 44 finished with value: 0.6147711691747922 and parameters: {'learning_rate': 0.0014807372807464358, 'max_iter': 924, 'max_depth': 40, 'min_samples_leaf': 9, 'max_leaf_nodes': 38, 'l2_regularization': 0.06391954230789594}. Best is trial 23 with value: 0.6180353184129596.\n",
      "[I 2024-07-10 13:04:04,877] Trial 45 finished with value: 0.5609955558199662 and parameters: {'learning_rate': 0.23480854931611703, 'max_iter': 1143, 'max_depth': 36, 'min_samples_leaf': 11, 'max_leaf_nodes': 39, 'l2_regularization': 0.06679459055103229}. Best is trial 23 with value: 0.6180353184129596.\n",
      "[I 2024-07-10 13:04:18,917] Trial 46 finished with value: 0.5788369401873118 and parameters: {'learning_rate': 0.04849425011280341, 'max_iter': 944, 'max_depth': 42, 'min_samples_leaf': 14, 'max_leaf_nodes': 43, 'l2_regularization': 0.06298146917139907}. Best is trial 23 with value: 0.6180353184129596.\n",
      "[I 2024-07-10 13:04:34,695] Trial 47 finished with value: 0.5525503988059212 and parameters: {'learning_rate': 0.6373998121939188, 'max_iter': 1036, 'max_depth': 28, 'min_samples_leaf': 3, 'max_leaf_nodes': 34, 'l2_regularization': 0.05561588784848297}. Best is trial 23 with value: 0.6180353184129596.\n",
      "[I 2024-07-10 13:04:56,960] Trial 48 finished with value: 0.5542020398202784 and parameters: {'learning_rate': 0.46083877280882457, 'max_iter': 1277, 'max_depth': 33, 'min_samples_leaf': 9, 'max_leaf_nodes': 41, 'l2_regularization': 0.0985546878265877}. Best is trial 23 with value: 0.6180353184129596.\n",
      "[I 2024-07-10 13:05:10,938] Trial 49 finished with value: 0.5674823784170138 and parameters: {'learning_rate': 0.12196752068845526, 'max_iter': 885, 'max_depth': 37, 'min_samples_leaf': 12, 'max_leaf_nodes': 45, 'l2_regularization': 0.07762661637483981}. Best is trial 23 with value: 0.6180353184129596.\n",
      "[I 2024-07-10 13:05:17,177] Trial 50 finished with value: 0.5681410748916841 and parameters: {'learning_rate': 0.1944298349396528, 'max_iter': 699, 'max_depth': 48, 'min_samples_leaf': 3, 'max_leaf_nodes': 21, 'l2_regularization': 0.021003735183991897}. Best is trial 23 with value: 0.6180353184129596.\n",
      "[I 2024-07-10 13:05:30,371] Trial 51 finished with value: 0.6137052503186406 and parameters: {'learning_rate': 0.005942022521640506, 'max_iter': 804, 'max_depth': 40, 'min_samples_leaf': 8, 'max_leaf_nodes': 37, 'l2_regularization': 0.0482728962208857}. Best is trial 23 with value: 0.6180353184129596.\n",
      "[I 2024-07-10 13:05:41,578] Trial 52 finished with value: 0.5918619277319545 and parameters: {'learning_rate': 0.04590199296962615, 'max_iter': 806, 'max_depth': 44, 'min_samples_leaf': 8, 'max_leaf_nodes': 38, 'l2_regularization': 0.045234085228426556}. Best is trial 23 with value: 0.6180353184129596.\n",
      "[I 2024-07-10 13:05:56,727] Trial 53 finished with value: 0.6160102736268093 and parameters: {'learning_rate': 0.003627781323516881, 'max_iter': 913, 'max_depth': 40, 'min_samples_leaf': 6, 'max_leaf_nodes': 35, 'l2_regularization': 0.05178810054384612}. Best is trial 23 with value: 0.6180353184129596.\n",
      "[I 2024-07-10 13:06:08,728] Trial 54 finished with value: 0.5707013289446896 and parameters: {'learning_rate': 0.09035205568349548, 'max_iter': 1029, 'max_depth': 43, 'min_samples_leaf': 6, 'max_leaf_nodes': 30, 'l2_regularization': 0.059085620686718084}. Best is trial 23 with value: 0.6180353184129596.\n",
      "[I 2024-07-10 13:06:22,812] Trial 55 finished with value: 0.5333035726530464 and parameters: {'learning_rate': 0.8916269383430144, 'max_iter': 912, 'max_depth': 39, 'min_samples_leaf': 6, 'max_leaf_nodes': 35, 'l2_regularization': 0.05260527694656919}. Best is trial 23 with value: 0.6180353184129596.\n",
      "[I 2024-07-10 13:06:35,005] Trial 56 finished with value: 0.6132214045362393 and parameters: {'learning_rate': 0.002439118484145038, 'max_iter': 629, 'max_depth': 34, 'min_samples_leaf': 11, 'max_leaf_nodes': 41, 'l2_regularization': 0.03976609018082609}. Best is trial 23 with value: 0.6180353184129596.\n",
      "[I 2024-07-10 13:06:47,161] Trial 57 finished with value: 0.5813929434509116 and parameters: {'learning_rate': 0.04752313109608775, 'max_iter': 1210, 'max_depth': 49, 'min_samples_leaf': 2, 'max_leaf_nodes': 24, 'l2_regularization': 0.0708940713537263}. Best is trial 23 with value: 0.6180353184129596.\n",
      "[I 2024-07-10 13:06:58,404] Trial 58 finished with value: 0.5768544945956846 and parameters: {'learning_rate': 0.12798354050318936, 'max_iter': 1004, 'max_depth': 38, 'min_samples_leaf': 4, 'max_leaf_nodes': 28, 'l2_regularization': 0.06132775494239724}. Best is trial 23 with value: 0.6180353184129596.\n",
      "[I 2024-07-10 13:07:11,747] Trial 59 finished with value: 0.5523921052804226 and parameters: {'learning_rate': 0.2852303512695546, 'max_iter': 1072, 'max_depth': 41, 'min_samples_leaf': 9, 'max_leaf_nodes': 32, 'l2_regularization': 0.008676588159480879}. Best is trial 23 with value: 0.6180353184129596.\n",
      "[I 2024-07-10 13:07:15,066] Trial 60 finished with value: 0.5975304854840895 and parameters: {'learning_rate': 0.0879175602228452, 'max_iter': 235, 'max_depth': 29, 'min_samples_leaf': 6, 'max_leaf_nodes': 35, 'l2_regularization': 0.0443489175728577}. Best is trial 23 with value: 0.6180353184129596.\n",
      "[I 2024-07-10 13:07:26,971] Trial 61 finished with value: 0.5967624919169784 and parameters: {'learning_rate': 0.024622000968337648, 'max_iter': 838, 'max_depth': 46, 'min_samples_leaf': 8, 'max_leaf_nodes': 36, 'l2_regularization': 0.050510584888590004}. Best is trial 23 with value: 0.6180353184129596.\n",
      "[I 2024-07-10 13:07:45,400] Trial 62 finished with value: 0.6136617620729333 and parameters: {'learning_rate': 0.003943386946213911, 'max_iter': 1130, 'max_depth': 40, 'min_samples_leaf': 10, 'max_leaf_nodes': 37, 'l2_regularization': 0.05423774133495188}. Best is trial 23 with value: 0.6180353184129596.\n",
      "[I 2024-07-10 13:07:58,562] Trial 63 finished with value: 0.576643776686131 and parameters: {'learning_rate': 0.0608964791223755, 'max_iter': 936, 'max_depth': 32, 'min_samples_leaf': 8, 'max_leaf_nodes': 38, 'l2_regularization': 0.04835306243299268}. Best is trial 23 with value: 0.6180353184129596.\n",
      "[I 2024-07-10 13:08:08,102] Trial 64 finished with value: 0.5825368032657472 and parameters: {'learning_rate': 0.0921437061555163, 'max_iter': 720, 'max_depth': 44, 'min_samples_leaf': 5, 'max_leaf_nodes': 34, 'l2_regularization': 0.0653040441575794}. Best is trial 23 with value: 0.6180353184129596.\n",
      "[I 2024-07-10 13:08:18,317] Trial 65 finished with value: 0.5570715510958714 and parameters: {'learning_rate': 0.1692031994216996, 'max_iter': 841, 'max_depth': 35, 'min_samples_leaf': 7, 'max_leaf_nodes': 31, 'l2_regularization': 0.03737334187832549}. Best is trial 23 with value: 0.6180353184129596.\n",
      "[I 2024-07-10 13:08:24,505] Trial 66 finished with value: 0.5962076346109633 and parameters: {'learning_rate': 0.03534249269922384, 'max_iter': 656, 'max_depth': 38, 'min_samples_leaf': 11, 'max_leaf_nodes': 24, 'l2_regularization': 0.031202155759445578}. Best is trial 23 with value: 0.6180353184129596.\n",
      "[I 2024-07-10 13:08:39,219] Trial 67 finished with value: 0.5413587707214289 and parameters: {'learning_rate': 0.5653229731929251, 'max_iter': 944, 'max_depth': 41, 'min_samples_leaf': 24, 'max_leaf_nodes': 41, 'l2_regularization': 0.05645788557851022}. Best is trial 23 with value: 0.6180353184129596.\n",
      "[I 2024-07-10 13:08:48,488] Trial 68 finished with value: 0.6151963192309965 and parameters: {'learning_rate': 0.0019549864957125497, 'max_iter': 775, 'max_depth': 21, 'min_samples_leaf': 19, 'max_leaf_nodes': 26, 'l2_regularization': 0.07146415248768474}. Best is trial 23 with value: 0.6180353184129596.\n",
      "[I 2024-07-10 13:08:54,329] Trial 69 finished with value: 0.5528961086997499 and parameters: {'learning_rate': 0.794214254800388, 'max_iter': 571, 'max_depth': 21, 'min_samples_leaf': 19, 'max_leaf_nodes': 26, 'l2_regularization': 0.06994107711295675}. Best is trial 23 with value: 0.6180353184129596.\n",
      "[I 2024-07-10 13:08:58,275] Trial 70 finished with value: 0.5802162654974025 and parameters: {'learning_rate': 0.1438713436985365, 'max_iter': 405, 'max_depth': 17, 'min_samples_leaf': 16, 'max_leaf_nodes': 23, 'l2_regularization': 0.08319664759308769}. Best is trial 23 with value: 0.6180353184129596.\n",
      "[I 2024-07-10 13:09:08,810] Trial 71 finished with value: 0.616611957355424 and parameters: {'learning_rate': 0.0015269190182154108, 'max_iter': 769, 'max_depth': 15, 'min_samples_leaf': 21, 'max_leaf_nodes': 30, 'l2_regularization': 0.07446539148017912}. Best is trial 23 with value: 0.6180353184129596.\n",
      "[I 2024-07-10 13:09:16,532] Trial 72 finished with value: 0.5964977288514831 and parameters: {'learning_rate': 0.03618228467950843, 'max_iter': 766, 'max_depth': 8, 'min_samples_leaf': 22, 'max_leaf_nodes': 28, 'l2_regularization': 0.07470002838692513}. Best is trial 23 with value: 0.6180353184129596.\n",
      "[I 2024-07-10 13:09:23,330] Trial 73 finished with value: 0.5806591615949055 and parameters: {'learning_rate': 0.07680522326563531, 'max_iter': 872, 'max_depth': 12, 'min_samples_leaf': 19, 'max_leaf_nodes': 20, 'l2_regularization': 0.07985762515516388}. Best is trial 23 with value: 0.6180353184129596.\n",
      "[I 2024-07-10 13:09:29,772] Trial 74 finished with value: 0.5846374292647877 and parameters: {'learning_rate': 0.10642000502820972, 'max_iter': 676, 'max_depth': 19, 'min_samples_leaf': 21, 'max_leaf_nodes': 26, 'l2_regularization': 0.06824094638851223}. Best is trial 23 with value: 0.6180353184129596.\n",
      "[I 2024-07-10 13:09:42,103] Trial 75 finished with value: 0.5823624302045352 and parameters: {'learning_rate': 0.036145227760805296, 'max_iter': 1091, 'max_depth': 14, 'min_samples_leaf': 18, 'max_leaf_nodes': 31, 'l2_regularization': 0.075011745381931}. Best is trial 23 with value: 0.6180353184129596.\n",
      "[I 2024-07-10 13:09:49,775] Trial 76 finished with value: 0.5812303877045908 and parameters: {'learning_rate': 0.07321601071902162, 'max_iter': 738, 'max_depth': 21, 'min_samples_leaf': 24, 'max_leaf_nodes': 29, 'l2_regularization': 0.08773458185377765}. Best is trial 23 with value: 0.6180353184129596.\n",
      "[I 2024-07-10 13:09:57,169] Trial 77 finished with value: 0.6134004569238838 and parameters: {'learning_rate': 0.001507976628585754, 'max_iter': 478, 'max_depth': 25, 'min_samples_leaf': 21, 'max_leaf_nodes': 33, 'l2_regularization': 0.061898209039497894}. Best is trial 23 with value: 0.6180353184129596.\n",
      "[I 2024-07-10 13:10:06,556] Trial 78 finished with value: 0.5937974488470095 and parameters: {'learning_rate': 0.026479442966325387, 'max_iter': 983, 'max_depth': 10, 'min_samples_leaf': 20, 'max_leaf_nodes': 25, 'l2_regularization': 0.05957568451155927}. Best is trial 23 with value: 0.6180353184129596.\n",
      "[I 2024-07-10 13:10:19,763] Trial 79 finished with value: 0.5757552937656145 and parameters: {'learning_rate': 0.06396802498571813, 'max_iter': 1217, 'max_depth': 15, 'min_samples_leaf': 15, 'max_leaf_nodes': 30, 'l2_regularization': 0.04460258645243356}. Best is trial 23 with value: 0.6180353184129596.\n",
      "[I 2024-07-10 13:10:39,357] Trial 80 finished with value: 0.5597134285122403 and parameters: {'learning_rate': 0.12004526395184016, 'max_iter': 1921, 'max_depth': 21, 'min_samples_leaf': 23, 'max_leaf_nodes': 28, 'l2_regularization': 0.07310840952061075}. Best is trial 23 with value: 0.6180353184129596.\n",
      "[I 2024-07-10 13:10:50,214] Trial 81 finished with value: 0.602736263046327 and parameters: {'learning_rate': 0.028984329649354698, 'max_iter': 789, 'max_depth': 37, 'min_samples_leaf': 7, 'max_leaf_nodes': 36, 'l2_regularization': 0.05249064135705827}. Best is trial 23 with value: 0.6180353184129596.\n",
      "[I 2024-07-10 13:11:01,279] Trial 82 finished with value: 0.5835475098625198 and parameters: {'learning_rate': 0.0561971390878584, 'max_iter': 898, 'max_depth': 43, 'min_samples_leaf': 9, 'max_leaf_nodes': 33, 'l2_regularization': 0.04989695102751163}. Best is trial 23 with value: 0.6180353184129596.\n",
      "[I 2024-07-10 13:11:15,240] Trial 83 finished with value: 0.6147405242514905 and parameters: {'learning_rate': 0.002645280939697514, 'max_iter': 839, 'max_depth': 40, 'min_samples_leaf': 28, 'max_leaf_nodes': 38, 'l2_regularization': 0.039131430847067585}. Best is trial 23 with value: 0.6180353184129596.\n",
      "[I 2024-07-10 13:11:24,927] Trial 84 finished with value: 0.5714802308890699 and parameters: {'learning_rate': 0.09724810638084981, 'max_iter': 865, 'max_depth': 35, 'min_samples_leaf': 32, 'max_leaf_nodes': 26, 'l2_regularization': 0.03945666909056876}. Best is trial 23 with value: 0.6180353184129596.\n",
      "[I 2024-07-10 13:11:35,279] Trial 85 finished with value: 0.6008507434412893 and parameters: {'learning_rate': 0.023670202670577564, 'max_iter': 608, 'max_depth': 38, 'min_samples_leaf': 13, 'max_leaf_nodes': 40, 'l2_regularization': 0.06506701684739351}. Best is trial 23 with value: 0.6180353184129596.\n",
      "[I 2024-07-10 13:11:52,403] Trial 86 finished with value: 0.6168059252704461 and parameters: {'learning_rate': 0.0029291132399304203, 'max_iter': 956, 'max_depth': 19, 'min_samples_leaf': 29, 'max_leaf_nodes': 39, 'l2_regularization': 0.034132997215025655}. Best is trial 23 with value: 0.6180353184129596.\n",
      "[I 2024-07-10 13:12:11,274] Trial 87 finished with value: 0.6167410346011125 and parameters: {'learning_rate': 0.0015520653112090171, 'max_iter': 1012, 'max_depth': 18, 'min_samples_leaf': 30, 'max_leaf_nodes': 39, 'l2_regularization': 0.03256882130957711}. Best is trial 23 with value: 0.6180353184129596.\n",
      "[I 2024-07-10 13:12:27,154] Trial 88 finished with value: 0.5750523845129539 and parameters: {'learning_rate': 0.05766791363908046, 'max_iter': 1010, 'max_depth': 19, 'min_samples_leaf': 29, 'max_leaf_nodes': 42, 'l2_regularization': 0.03384396829022518}. Best is trial 23 with value: 0.6180353184129596.\n",
      "[I 2024-07-10 13:12:42,957] Trial 89 finished with value: 0.5647133177461352 and parameters: {'learning_rate': 0.1362588212293586, 'max_iter': 1113, 'max_depth': 17, 'min_samples_leaf': 30, 'max_leaf_nodes': 39, 'l2_regularization': 0.02622802672893621}. Best is trial 23 with value: 0.6180353184129596.\n",
      "[I 2024-07-10 13:12:57,955] Trial 90 finished with value: 0.5682283066079477 and parameters: {'learning_rate': 0.07944306515579798, 'max_iter': 922, 'max_depth': 23, 'min_samples_leaf': 27, 'max_leaf_nodes': 45, 'l2_regularization': 0.0356352861130069}. Best is trial 23 with value: 0.6180353184129596.\n",
      "[I 2024-07-10 13:13:13,750] Trial 91 finished with value: 0.6143247760501993 and parameters: {'learning_rate': 0.002716267731757338, 'max_iter': 827, 'max_depth': 16, 'min_samples_leaf': 31, 'max_leaf_nodes': 38, 'l2_regularization': 0.024197296926326793}. Best is trial 23 with value: 0.6180353184129596.\n",
      "[I 2024-07-10 13:13:28,437] Trial 92 finished with value: 0.582548907284034 and parameters: {'learning_rate': 0.03734189426645484, 'max_iter': 1061, 'max_depth': 20, 'min_samples_leaf': 27, 'max_leaf_nodes': 35, 'l2_regularization': 0.030631453985078758}. Best is trial 23 with value: 0.6180353184129596.\n",
      "[I 2024-07-10 13:13:40,785] Trial 93 finished with value: 0.6023045152479048 and parameters: {'learning_rate': 0.024821565005285567, 'max_iter': 763, 'max_depth': 17, 'min_samples_leaf': 30, 'max_leaf_nodes': 40, 'l2_regularization': 0.03236876770147057}. Best is trial 23 with value: 0.6180353184129596.\n",
      "[I 2024-07-10 13:13:53,789] Trial 94 finished with value: 0.581982449630247 and parameters: {'learning_rate': 0.05225065867296886, 'max_iter': 970, 'max_depth': 12, 'min_samples_leaf': 30, 'max_leaf_nodes': 38, 'l2_regularization': 0.038298445104071016}. Best is trial 23 with value: 0.6180353184129596.\n",
      "[I 2024-07-10 13:14:05,455] Trial 95 finished with value: 0.5770439918460764 and parameters: {'learning_rate': 0.09876639016839289, 'max_iter': 896, 'max_depth': 15, 'min_samples_leaf': 26, 'max_leaf_nodes': 36, 'l2_regularization': 0.021426681167390917}. Best is trial 23 with value: 0.6180353184129596.\n",
      "[I 2024-07-10 13:14:16,211] Trial 96 finished with value: 0.6054528376856585 and parameters: {'learning_rate': 0.01703421174118614, 'max_iter': 697, 'max_depth': 41, 'min_samples_leaf': 29, 'max_leaf_nodes': 42, 'l2_regularization': 0.042202320556473764}. Best is trial 23 with value: 0.6180353184129596.\n",
      "[I 2024-07-10 13:14:29,564] Trial 97 finished with value: 0.574118947514203 and parameters: {'learning_rate': 0.0746522898433704, 'max_iter': 1026, 'max_depth': 46, 'min_samples_leaf': 32, 'max_leaf_nodes': 37, 'l2_regularization': 0.028699900313425918}. Best is trial 23 with value: 0.6180353184129596.\n",
      "[I 2024-07-10 13:14:50,313] Trial 98 finished with value: 0.6141003913819982 and parameters: {'learning_rate': 0.0016307512233936024, 'max_iter': 1177, 'max_depth': 18, 'min_samples_leaf': 28, 'max_leaf_nodes': 39, 'l2_regularization': 0.0465392416176346}. Best is trial 23 with value: 0.6180353184129596.\n",
      "[I 2024-07-10 13:15:01,219] Trial 99 finished with value: 0.5535232905718169 and parameters: {'learning_rate': 0.5063359054824401, 'max_iter': 804, 'max_depth': 43, 'min_samples_leaf': 17, 'max_leaf_nodes': 34, 'l2_regularization': 0.07751174642767318}. Best is trial 23 with value: 0.6180353184129596.\n"
     ]
    }
   ],
   "source": [
    "study = optuna.create_study(direction='maximize')\n",
    "study.optimize(objective, n_trials=100, show_progress_bar=True)"
   ]
  },
  {
   "cell_type": "code",
   "execution_count": 12,
   "id": "d08f6ab5-62c1-435d-9f71-ab5c581e4dcf",
   "metadata": {},
   "outputs": [
    {
     "name": "stdout",
     "output_type": "stream",
     "text": [
      "Best trial: FrozenTrial(number=23, state=1, values=[0.6180353184129596], datetime_start=datetime.datetime(2024, 7, 10, 12, 59, 51, 519177), datetime_complete=datetime.datetime(2024, 7, 10, 13, 0, 1, 2024), params={'learning_rate': 0.00853199483099034, 'max_iter': 897, 'max_depth': 37, 'min_samples_leaf': 9, 'max_leaf_nodes': 26, 'l2_regularization': 0.04861419258358948}, user_attrs={}, system_attrs={}, intermediate_values={}, distributions={'learning_rate': FloatDistribution(high=1.0, log=False, low=0.001, step=None), 'max_iter': IntDistribution(high=2000, log=False, low=100, step=1), 'max_depth': IntDistribution(high=50, log=False, low=2, step=1), 'min_samples_leaf': IntDistribution(high=32, log=False, low=1, step=1), 'max_leaf_nodes': IntDistribution(high=50, log=False, low=10, step=1), 'l2_regularization': FloatDistribution(high=0.1, log=False, low=0.0, step=None)}, trial_id=23, value=None)\n",
      "Best hyperparameters: {'learning_rate': 0.00853199483099034, 'max_iter': 897, 'max_depth': 37, 'min_samples_leaf': 9, 'max_leaf_nodes': 26, 'l2_regularization': 0.04861419258358948}\n"
     ]
    }
   ],
   "source": [
    "print(\"Best trial:\", study.best_trial)\n",
    "print(\"Best hyperparameters:\", study.best_params)"
   ]
  },
  {
   "cell_type": "code",
   "execution_count": null,
   "id": "d6f8a700-aa1d-4e43-9877-3cd7aac617a9",
   "metadata": {},
   "outputs": [],
   "source": []
  }
 ],
 "metadata": {
  "kernelspec": {
   "display_name": "Python 3 (ipykernel)",
   "language": "python",
   "name": "python3"
  },
  "language_info": {
   "codemirror_mode": {
    "name": "ipython",
    "version": 3
   },
   "file_extension": ".py",
   "mimetype": "text/x-python",
   "name": "python",
   "nbconvert_exporter": "python",
   "pygments_lexer": "ipython3",
   "version": "3.11.5"
  }
 },
 "nbformat": 4,
 "nbformat_minor": 5
}

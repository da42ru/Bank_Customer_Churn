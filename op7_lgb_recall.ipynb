{
 "cells": [
  {
   "cell_type": "markdown",
   "id": "b8305d2b-05a2-4c03-96c1-41a8ed3e3f4e",
   "metadata": {},
   "source": [
    "## LightGBM Hyperparameter Tuning (Recall)"
   ]
  },
  {
   "cell_type": "code",
   "execution_count": 18,
   "id": "1737f07b-25d7-4e9a-950e-c41ea036b4c4",
   "metadata": {
    "tags": []
   },
   "outputs": [],
   "source": [
    "# Load Libraries\n",
    "\n",
    "import pandas as pd\n",
    "import numpy as np\n",
    "\n",
    "from sklearn.model_selection import train_test_split, StratifiedKFold\n",
    "from sklearn.metrics import recall_score\n",
    "\n",
    "from lightgbm import LGBMClassifier\n",
    "\n",
    "import optuna"
   ]
  },
  {
   "cell_type": "code",
   "execution_count": 19,
   "id": "34b40b44-1c92-4b9d-ad57-3cddb44f6f0f",
   "metadata": {
    "tags": []
   },
   "outputs": [],
   "source": [
    "# Load Data\n",
    "\n",
    "df = pd.read_csv('bank_4.csv', index_col=0)"
   ]
  },
  {
   "cell_type": "code",
   "execution_count": 20,
   "id": "e25031a8-fef1-4150-86e7-8b7e22f0a9bb",
   "metadata": {
    "tags": []
   },
   "outputs": [],
   "source": [
    "# Train / Test Split\n",
    "\n",
    "X = df.drop(columns=['churn', 'complain', 'umap_1', 'umap_2'])\n",
    "y = df['churn']\n",
    "\n",
    "X_train, X_test, y_train, y_test = train_test_split(X, y, test_size=0.2, stratify=y, random_state=42)"
   ]
  },
  {
   "cell_type": "code",
   "execution_count": 28,
   "id": "2b530e97-2bc3-4b3d-b9f8-eb4ed610ff66",
   "metadata": {
    "tags": []
   },
   "outputs": [],
   "source": [
    "# Hyperparameter tuning\n",
    "\n",
    "def objective(trial):\n",
    "    \n",
    "    params = {\n",
    "        'n_estimators': trial.suggest_int('n_estimators', 100, 1000),\n",
    "        'max_depth': trial.suggest_int('max_depth', -1, 50),\n",
    "        'learning_rate': trial.suggest_float('learning_rate', 0.01, 0.3),\n",
    "        'num_leaves': trial.suggest_int('num_leaves', 20, 40),\n",
    "        'colsample_bytree': trial.suggest_float('colsample_bytree', 0.5, 1.0),\n",
    "        'subsample': trial.suggest_float('subsample', 0.5, 1.0)\n",
    "    }\n",
    "\n",
    "    model = LGBMClassifier(\n",
    "        **params,\n",
    "        objective='binary',\n",
    "        verbose=-1,\n",
    "        random_state=42,\n",
    "        n_jobs=-1)\n",
    "    \n",
    "    threshold = 0.34\n",
    "    \n",
    "    skf = StratifiedKFold(n_splits=5, random_state=42, shuffle=True)\n",
    "    scores = []\n",
    "    \n",
    "    for tr, te in skf.split(X_train, y_train):\n",
    "        \n",
    "        X_tr, X_te = X_train.iloc[tr], X_train.iloc[te]\n",
    "        y_tr, y_te = y_train.iloc[tr], y_train.iloc[te]\n",
    "        \n",
    "        model.fit(X_tr, y_tr)\n",
    "        prob = model.predict_proba(X_te)[:, 1]\n",
    "        y_pred = np.where(prob < threshold, 0, 1)\n",
    "        \n",
    "        scores.append(recall_score(y_te, y_pred))\n",
    "        \n",
    "    return np.mean(scores)"
   ]
  },
  {
   "cell_type": "code",
   "execution_count": 30,
   "id": "eb85a387-214c-480a-8a96-d69570dcbce9",
   "metadata": {
    "tags": []
   },
   "outputs": [
    {
     "name": "stderr",
     "output_type": "stream",
     "text": [
      "[I 2024-07-08 23:17:59,709] A new study created in memory with name: no-name-3fc562ac-c712-4f5e-abff-86516ccce436\n"
     ]
    },
    {
     "data": {
      "application/vnd.jupyter.widget-view+json": {
       "model_id": "1d1b5812ec6e477f99c81787565585c9",
       "version_major": 2,
       "version_minor": 0
      },
      "text/plain": [
       "  0%|          | 0/100 [00:00<?, ?it/s]"
      ]
     },
     "metadata": {},
     "output_type": "display_data"
    },
    {
     "name": "stdout",
     "output_type": "stream",
     "text": [
      "[I 2024-07-08 23:18:00,320] Trial 0 finished with value: 0.601840490797546 and parameters: {'n_estimators': 185, 'max_depth': 17, 'learning_rate': 0.05904930722364741, 'num_leaves': 28, 'colsample_bytree': 0.9707517391192666, 'subsample': 0.7313448319899061}. Best is trial 0 with value: 0.601840490797546.\n",
      "[I 2024-07-08 23:18:02,347] Trial 1 finished with value: 0.5478527607361963 and parameters: {'n_estimators': 374, 'max_depth': 6, 'learning_rate': 0.21542131568016862, 'num_leaves': 27, 'colsample_bytree': 0.9124639575567663, 'subsample': 0.9833348995176587}. Best is trial 0 with value: 0.601840490797546.\n",
      "[I 2024-07-08 23:18:03,728] Trial 2 finished with value: 0.5576687116564416 and parameters: {'n_estimators': 456, 'max_depth': 43, 'learning_rate': 0.14465049545002429, 'num_leaves': 30, 'colsample_bytree': 0.5432017111575661, 'subsample': 0.6527576027695939}. Best is trial 0 with value: 0.601840490797546.\n",
      "[I 2024-07-08 23:18:04,493] Trial 3 finished with value: 0.5901840490797545 and parameters: {'n_estimators': 269, 'max_depth': 29, 'learning_rate': 0.09641817627413292, 'num_leaves': 26, 'colsample_bytree': 0.715040198046399, 'subsample': 0.5413057735539151}. Best is trial 0 with value: 0.601840490797546.\n",
      "[I 2024-07-08 23:18:06,346] Trial 4 finished with value: 0.5926380368098159 and parameters: {'n_estimators': 594, 'max_depth': 10, 'learning_rate': 0.03221628269339576, 'num_leaves': 30, 'colsample_bytree': 0.708257014345979, 'subsample': 0.9720311224973379}. Best is trial 0 with value: 0.601840490797546.\n",
      "[I 2024-07-08 23:18:06,790] Trial 5 finished with value: 0.5760736196319018 and parameters: {'n_estimators': 118, 'max_depth': 33, 'learning_rate': 0.2480819435350248, 'num_leaves': 37, 'colsample_bytree': 0.727655523229692, 'subsample': 0.9114871085349774}. Best is trial 0 with value: 0.601840490797546.\n",
      "[I 2024-07-08 23:18:08,887] Trial 6 finished with value: 0.5950920245398773 and parameters: {'n_estimators': 597, 'max_depth': 17, 'learning_rate': 0.012847226540413405, 'num_leaves': 32, 'colsample_bytree': 0.6557345922813975, 'subsample': 0.6731438306540019}. Best is trial 0 with value: 0.601840490797546.\n",
      "[I 2024-07-08 23:18:10,310] Trial 7 finished with value: 0.5466257668711656 and parameters: {'n_estimators': 487, 'max_depth': 8, 'learning_rate': 0.17048291324627982, 'num_leaves': 28, 'colsample_bytree': 0.6157913293708752, 'subsample': 0.6548603952540066}. Best is trial 0 with value: 0.601840490797546.\n",
      "[I 2024-07-08 23:18:13,951] Trial 8 finished with value: 0.5067484662576687 and parameters: {'n_estimators': 842, 'max_depth': 50, 'learning_rate': 0.20078654221163553, 'num_leaves': 39, 'colsample_bytree': 0.5347622779642297, 'subsample': 0.6341296432258641}. Best is trial 0 with value: 0.601840490797546.\n",
      "[I 2024-07-08 23:18:14,509] Trial 9 finished with value: 0.5797546012269938 and parameters: {'n_estimators': 183, 'max_depth': 43, 'learning_rate': 0.1436877264260675, 'num_leaves': 26, 'colsample_bytree': 0.6860317720094142, 'subsample': 0.5499788929437189}. Best is trial 0 with value: 0.601840490797546.\n",
      "[I 2024-07-08 23:18:16,824] Trial 10 finished with value: 0.5588957055214724 and parameters: {'n_estimators': 926, 'max_depth': 21, 'learning_rate': 0.07575208274302833, 'num_leaves': 20, 'colsample_bytree': 0.9936788216641073, 'subsample': 0.8173257121646053}. Best is trial 0 with value: 0.601840490797546.\n",
      "[I 2024-07-08 23:18:19,555] Trial 11 finished with value: 0.5963190184049079 and parameters: {'n_estimators': 647, 'max_depth': 18, 'learning_rate': 0.0103283161448743, 'num_leaves': 34, 'colsample_bytree': 0.8634799031403675, 'subsample': 0.7583845846204059}. Best is trial 0 with value: 0.601840490797546.\n",
      "[I 2024-07-08 23:18:22,867] Trial 12 finished with value: 0.5601226993865029 and parameters: {'n_estimators': 762, 'max_depth': 16, 'learning_rate': 0.06377874237043121, 'num_leaves': 34, 'colsample_bytree': 0.8507986441272111, 'subsample': 0.7552240102238055}. Best is trial 0 with value: 0.601840490797546.\n",
      "[I 2024-07-08 23:18:24,440] Trial 13 finished with value: 0.5828220858895705 and parameters: {'n_estimators': 668, 'max_depth': 0, 'learning_rate': 0.04545049372478031, 'num_leaves': 22, 'colsample_bytree': 0.8315034816744176, 'subsample': 0.8192655699255929}. Best is trial 0 with value: 0.601840490797546.\n",
      "[I 2024-07-08 23:18:25,498] Trial 14 finished with value: 0.5680981595092025 and parameters: {'n_estimators': 307, 'max_depth': 26, 'learning_rate': 0.10444525304014482, 'num_leaves': 35, 'colsample_bytree': 0.9991002047771813, 'subsample': 0.7660130732181146}. Best is trial 0 with value: 0.601840490797546.\n",
      "[I 2024-07-08 23:18:28,319] Trial 15 finished with value: 0.596319018404908 and parameters: {'n_estimators': 730, 'max_depth': 14, 'learning_rate': 0.012015021601921146, 'num_leaves': 40, 'colsample_bytree': 0.909432879420703, 'subsample': 0.7149986217221528}. Best is trial 0 with value: 0.601840490797546.\n",
      "[I 2024-07-08 23:18:30,555] Trial 16 finished with value: 0.5509202453987729 and parameters: {'n_estimators': 965, 'max_depth': 11, 'learning_rate': 0.1049032714044842, 'num_leaves': 23, 'colsample_bytree': 0.9281396854009458, 'subsample': 0.8753543333431271}. Best is trial 0 with value: 0.601840490797546.\n",
      "[I 2024-07-08 23:18:33,364] Trial 17 finished with value: 0.5644171779141105 and parameters: {'n_estimators': 760, 'max_depth': 0, 'learning_rate': 0.052240543641497286, 'num_leaves': 40, 'colsample_bytree': 0.788044573711797, 'subsample': 0.6992886195801415}. Best is trial 0 with value: 0.601840490797546.\n",
      "[I 2024-07-08 23:18:34,908] Trial 18 finished with value: 0.5668711656441717 and parameters: {'n_estimators': 473, 'max_depth': 33, 'learning_rate': 0.07691531868241075, 'num_leaves': 37, 'colsample_bytree': 0.933816368888817, 'subsample': 0.5813656481686015}. Best is trial 0 with value: 0.601840490797546.\n",
      "[I 2024-07-08 23:18:36,673] Trial 19 finished with value: 0.5184049079754601 and parameters: {'n_estimators': 781, 'max_depth': 23, 'learning_rate': 0.2715815038746917, 'num_leaves': 24, 'colsample_bytree': 0.7799449410792187, 'subsample': 0.7172234227679362}. Best is trial 0 with value: 0.601840490797546.\n",
      "[I 2024-07-08 23:18:37,788] Trial 20 finished with value: 0.5699386503067484 and parameters: {'n_estimators': 370, 'max_depth': 13, 'learning_rate': 0.12040853903210519, 'num_leaves': 32, 'colsample_bytree': 0.8914789175466534, 'subsample': 0.813404564508702}. Best is trial 0 with value: 0.601840490797546.\n",
      "[I 2024-07-08 23:18:40,266] Trial 21 finished with value: 0.6024539877300613 and parameters: {'n_estimators': 678, 'max_depth': 19, 'learning_rate': 0.012243972885775813, 'num_leaves': 33, 'colsample_bytree': 0.8680660276281714, 'subsample': 0.744916405319319}. Best is trial 21 with value: 0.6024539877300613.\n",
      "[I 2024-07-08 23:18:43,041] Trial 22 finished with value: 0.5828220858895705 and parameters: {'n_estimators': 672, 'max_depth': 5, 'learning_rate': 0.03275296039809911, 'num_leaves': 37, 'colsample_bytree': 0.9630970016350968, 'subsample': 0.603455720757739}. Best is trial 21 with value: 0.6024539877300613.\n",
      "[I 2024-07-08 23:18:45,741] Trial 23 finished with value: 0.6006134969325153 and parameters: {'n_estimators': 891, 'max_depth': 20, 'learning_rate': 0.010283471811422962, 'num_leaves': 32, 'colsample_bytree': 0.8094773802404058, 'subsample': 0.7146202126064315}. Best is trial 21 with value: 0.6024539877300613.\n",
      "[I 2024-07-08 23:18:48,550] Trial 24 finished with value: 0.5779141104294478 and parameters: {'n_estimators': 873, 'max_depth': 21, 'learning_rate': 0.03817411134287966, 'num_leaves': 32, 'colsample_bytree': 0.8091861080587527, 'subsample': 0.8092731553526039}. Best is trial 21 with value: 0.6024539877300613.\n",
      "[I 2024-07-08 23:18:51,115] Trial 25 finished with value: 0.547239263803681 and parameters: {'n_estimators': 986, 'max_depth': 25, 'learning_rate': 0.07841266410686322, 'num_leaves': 28, 'colsample_bytree': 0.8726613350685289, 'subsample': 0.8639408968529361}. Best is trial 21 with value: 0.6024539877300613.\n",
      "[I 2024-07-08 23:18:54,834] Trial 26 finished with value: 0.5883435582822086 and parameters: {'n_estimators': 845, 'max_depth': 30, 'learning_rate': 0.03139514482973961, 'num_leaves': 31, 'colsample_bytree': 0.765472892158919, 'subsample': 0.6935077151528068}. Best is trial 21 with value: 0.6024539877300613.\n",
      "[I 2024-07-08 23:18:55,240] Trial 27 finished with value: 0.5969325153374234 and parameters: {'n_estimators': 103, 'max_depth': 19, 'learning_rate': 0.060333193967176416, 'num_leaves': 29, 'colsample_bytree': 0.9459952145637636, 'subsample': 0.7349595252862184}. Best is trial 21 with value: 0.6024539877300613.\n",
      "[I 2024-07-08 23:18:57,885] Trial 28 finished with value: 0.5220858895705521 and parameters: {'n_estimators': 889, 'max_depth': 26, 'learning_rate': 0.1252100847584948, 'num_leaves': 34, 'colsample_bytree': 0.8287972622202562, 'subsample': 0.6165151889182675}. Best is trial 21 with value: 0.6024539877300613.\n",
      "[I 2024-07-08 23:18:58,889] Trial 29 finished with value: 0.6036809815950921 and parameters: {'n_estimators': 559, 'max_depth': 4, 'learning_rate': 0.025039034548504785, 'num_leaves': 26, 'colsample_bytree': 0.8930878135959012, 'subsample': 0.7712484582608753}. Best is trial 29 with value: 0.6036809815950921.\n",
      "[I 2024-07-08 23:18:59,874] Trial 30 finished with value: 0.5785276073619632 and parameters: {'n_estimators': 535, 'max_depth': 4, 'learning_rate': 0.1778846004450774, 'num_leaves': 26, 'colsample_bytree': 0.9685397131287733, 'subsample': 0.7812023202517392}. Best is trial 29 with value: 0.6036809815950921.\n",
      "[I 2024-07-08 23:19:01,087] Trial 31 finished with value: 0.6018404907975461 and parameters: {'n_estimators': 380, 'max_depth': 14, 'learning_rate': 0.0254477031006091, 'num_leaves': 28, 'colsample_bytree': 0.8970019610491079, 'subsample': 0.7343287381812903}. Best is trial 29 with value: 0.6036809815950921.\n",
      "[I 2024-07-08 23:19:02,432] Trial 32 finished with value: 0.5944785276073621 and parameters: {'n_estimators': 369, 'max_depth': 7, 'learning_rate': 0.031899177780198476, 'num_leaves': 25, 'colsample_bytree': 0.9075652579861354, 'subsample': 0.6803817603764739}. Best is trial 29 with value: 0.6036809815950921.\n",
      "[I 2024-07-08 23:19:03,354] Trial 33 finished with value: 0.5969325153374233 and parameters: {'n_estimators': 256, 'max_depth': 14, 'learning_rate': 0.05886482769363136, 'num_leaves': 28, 'colsample_bytree': 0.8868577762571821, 'subsample': 0.788782047635877}. Best is trial 29 with value: 0.6036809815950921.\n",
      "[I 2024-07-08 23:19:04,154] Trial 34 finished with value: 0.5889570552147239 and parameters: {'n_estimators': 529, 'max_depth': 3, 'learning_rate': 0.026721613156568402, 'num_leaves': 27, 'colsample_bytree': 0.9510837273709839, 'subsample': 0.842991368015154}. Best is trial 29 with value: 0.6036809815950921.\n",
      "[I 2024-07-08 23:19:05,583] Trial 35 finished with value: 0.5766871165644172 and parameters: {'n_estimators': 401, 'max_depth': 10, 'learning_rate': 0.08736248096569951, 'num_leaves': 29, 'colsample_bytree': 0.9151825864327169, 'subsample': 0.9181816405598284}. Best is trial 29 with value: 0.6036809815950921.\n",
      "[I 2024-07-08 23:19:06,354] Trial 36 finished with value: 0.5981595092024541 and parameters: {'n_estimators': 213, 'max_depth': 12, 'learning_rate': 0.0484284631658142, 'num_leaves': 30, 'colsample_bytree': 0.9740950456247268, 'subsample': 0.7365595272496122}. Best is trial 29 with value: 0.6036809815950921.\n",
      "[I 2024-07-08 23:19:07,947] Trial 37 finished with value: 0.6036809815950921 and parameters: {'n_estimators': 418, 'max_depth': 8, 'learning_rate': 0.026795573367003736, 'num_leaves': 24, 'colsample_bytree': 0.7460553890854842, 'subsample': 0.5038315132566769}. Best is trial 29 with value: 0.6036809815950921.\n",
      "[I 2024-07-08 23:19:09,673] Trial 38 finished with value: 0.598159509202454 and parameters: {'n_estimators': 612, 'max_depth': 9, 'learning_rate': 0.023523501700310548, 'num_leaves': 22, 'colsample_bytree': 0.7333253587804666, 'subsample': 0.5606428762385793}. Best is trial 29 with value: 0.6036809815950921.\n",
      "[I 2024-07-08 23:19:10,131] Trial 39 finished with value: 0.592638036809816 and parameters: {'n_estimators': 419, 'max_depth': 2, 'learning_rate': 0.2281194226917307, 'num_leaves': 24, 'colsample_bytree': 0.6171538235170078, 'subsample': 0.5173111363253455}. Best is trial 29 with value: 0.6036809815950921.\n",
      "[I 2024-07-08 23:19:11,303] Trial 40 finished with value: 0.5754601226993865 and parameters: {'n_estimators': 446, 'max_depth': 8, 'learning_rate': 0.06807675684616152, 'num_leaves': 25, 'colsample_bytree': 0.6746830067663521, 'subsample': 0.9694977377402842}. Best is trial 29 with value: 0.6036809815950921.\n",
      "[I 2024-07-08 23:19:12,206] Trial 41 finished with value: 0.598159509202454 and parameters: {'n_estimators': 325, 'max_depth': 16, 'learning_rate': 0.04317122651990935, 'num_leaves': 27, 'colsample_bytree': 0.7472577681082302, 'subsample': 0.7829313761617253}. Best is trial 29 with value: 0.6036809815950921.\n",
      "[I 2024-07-08 23:19:14,837] Trial 42 finished with value: 0.598159509202454 and parameters: {'n_estimators': 572, 'max_depth': 6, 'learning_rate': 0.024765676055894345, 'num_leaves': 29, 'colsample_bytree': 0.8428549593138589, 'subsample': 0.656382733101324}. Best is trial 29 with value: 0.6036809815950921.\n",
      "[I 2024-07-08 23:19:16,226] Trial 43 finished with value: 0.601840490797546 and parameters: {'n_estimators': 497, 'max_depth': 16, 'learning_rate': 0.02073745154826094, 'num_leaves': 20, 'colsample_bytree': 0.8788616711223135, 'subsample': 0.5085542868385553}. Best is trial 29 with value: 0.6036809815950921.\n",
      "[I 2024-07-08 23:19:16,766] Trial 44 finished with value: 0.605521472392638 and parameters: {'n_estimators': 178, 'max_depth': 11, 'learning_rate': 0.043270022024189225, 'num_leaves': 25, 'colsample_bytree': 0.7150144389867104, 'subsample': 0.6418522451843702}. Best is trial 44 with value: 0.605521472392638.\n",
      "[I 2024-07-08 23:19:17,316] Trial 45 finished with value: 0.5969325153374234 and parameters: {'n_estimators': 171, 'max_depth': 11, 'learning_rate': 0.04605294402312188, 'num_leaves': 22, 'colsample_bytree': 0.7139084864414413, 'subsample': 0.6191611890188874}. Best is trial 44 with value: 0.605521472392638.\n",
      "[I 2024-07-08 23:19:18,192] Trial 46 finished with value: 0.5871165644171779 and parameters: {'n_estimators': 328, 'max_depth': -1, 'learning_rate': 0.09022249475635427, 'num_leaves': 25, 'colsample_bytree': 0.6477185730880292, 'subsample': 0.6549688059924412}. Best is trial 44 with value: 0.605521472392638.\n",
      "[I 2024-07-08 23:19:19,676] Trial 47 finished with value: 0.5871165644171779 and parameters: {'n_estimators': 624, 'max_depth': 7, 'learning_rate': 0.05684270208653111, 'num_leaves': 23, 'colsample_bytree': 0.5010863162610608, 'subsample': 0.5287430029436554}. Best is trial 44 with value: 0.605521472392638.\n",
      "[I 2024-07-08 23:19:21,074] Trial 48 finished with value: 0.5693251533742332 and parameters: {'n_estimators': 711, 'max_depth': 2, 'learning_rate': 0.018860444892804643, 'num_leaves': 26, 'colsample_bytree': 0.756336374415699, 'subsample': 0.5842778997702907}. Best is trial 44 with value: 0.605521472392638.\n",
      "[I 2024-07-08 23:19:22,008] Trial 49 finished with value: 0.5527607361963189 and parameters: {'n_estimators': 251, 'max_depth': 13, 'learning_rate': 0.29241022205517897, 'num_leaves': 27, 'colsample_bytree': 0.7948153372734966, 'subsample': 0.759877191690307}. Best is trial 44 with value: 0.605521472392638.\n",
      "[I 2024-07-08 23:19:23,519] Trial 50 finished with value: 0.5944785276073619 and parameters: {'n_estimators': 139, 'max_depth': 39, 'learning_rate': 0.03756397009962459, 'num_leaves': 21, 'colsample_bytree': 0.6933797838728927, 'subsample': 0.6397853368253887}. Best is trial 44 with value: 0.605521472392638.\n",
      "[I 2024-07-08 23:19:24,522] Trial 51 finished with value: 0.5901840490797545 and parameters: {'n_estimators': 290, 'max_depth': 17, 'learning_rate': 0.0691630926114305, 'num_leaves': 30, 'colsample_bytree': 0.7354267762931888, 'subsample': 0.7426782874782323}. Best is trial 44 with value: 0.605521472392638.\n",
      "[I 2024-07-08 23:19:25,171] Trial 52 finished with value: 0.568711656441718 and parameters: {'n_estimators': 203, 'max_depth': 23, 'learning_rate': 0.010939188994418994, 'num_leaves': 24, 'colsample_bytree': 0.8512458959665375, 'subsample': 0.6759746071996613}. Best is trial 44 with value: 0.605521472392638.\n",
      "[I 2024-07-08 23:19:26,763] Trial 53 finished with value: 0.5760736196319017 and parameters: {'n_estimators': 579, 'max_depth': 14, 'learning_rate': 0.048222329986153306, 'num_leaves': 26, 'colsample_bytree': 0.9870007724064175, 'subsample': 0.7211587595953558}. Best is trial 44 with value: 0.605521472392638.\n",
      "[I 2024-07-08 23:19:27,356] Trial 54 finished with value: 0.6012269938650308 and parameters: {'n_estimators': 147, 'max_depth': 9, 'learning_rate': 0.039223868398558334, 'num_leaves': 28, 'colsample_bytree': 0.8999882718363146, 'subsample': 0.7943840669229731}. Best is trial 44 with value: 0.605521472392638.\n",
      "[I 2024-07-08 23:19:28,873] Trial 55 finished with value: 0.5460122699386503 and parameters: {'n_estimators': 513, 'max_depth': 19, 'learning_rate': 0.15123524937057609, 'num_leaves': 31, 'colsample_bytree': 0.9208540521854182, 'subsample': 0.6986937762250135}. Best is trial 44 with value: 0.605521472392638.\n",
      "[I 2024-07-08 23:19:29,666] Trial 56 finished with value: 0.5932515337423313 and parameters: {'n_estimators': 228, 'max_depth': 15, 'learning_rate': 0.02131222772327112, 'num_leaves': 23, 'colsample_bytree': 0.8181937299102773, 'subsample': 0.8383155403129623}. Best is trial 44 with value: 0.605521472392638.\n",
      "[I 2024-07-08 23:19:31,929] Trial 57 finished with value: 0.5539877300613497 and parameters: {'n_estimators': 697, 'max_depth': 22, 'learning_rate': 0.08099150047612828, 'num_leaves': 33, 'colsample_bytree': 0.9400296632138446, 'subsample': 0.7602174256487023}. Best is trial 44 with value: 0.605521472392638.\n",
      "[I 2024-07-08 23:19:33,098] Trial 58 finished with value: 0.560122699386503 and parameters: {'n_estimators': 346, 'max_depth': 11, 'learning_rate': 0.11423496278752572, 'num_leaves': 36, 'colsample_bytree': 0.7001950182264354, 'subsample': 0.7232128496082048}. Best is trial 44 with value: 0.605521472392638.\n",
      "[I 2024-07-08 23:19:34,282] Trial 59 finished with value: 0.5932515337423313 and parameters: {'n_estimators': 449, 'max_depth': 6, 'learning_rate': 0.05423065714122327, 'num_leaves': 27, 'colsample_bytree': 0.8628791465609328, 'subsample': 0.5660566008120411}. Best is trial 44 with value: 0.605521472392638.\n",
      "[I 2024-07-08 23:19:35,045] Trial 60 finished with value: 0.5699386503067485 and parameters: {'n_estimators': 284, 'max_depth': 18, 'learning_rate': 0.17890685084137373, 'num_leaves': 25, 'colsample_bytree': 0.6662797926626929, 'subsample': 0.7726223949532799}. Best is trial 44 with value: 0.605521472392638.\n",
      "[I 2024-07-08 23:19:36,690] Trial 61 finished with value: 0.6006134969325154 and parameters: {'n_estimators': 495, 'max_depth': 15, 'learning_rate': 0.02138133457321411, 'num_leaves': 26, 'colsample_bytree': 0.8760608723753914, 'subsample': 0.5367555499968644}. Best is trial 44 with value: 0.605521472392638.\n",
      "[I 2024-07-08 23:19:38,736] Trial 62 finished with value: 0.598159509202454 and parameters: {'n_estimators': 397, 'max_depth': 17, 'learning_rate': 0.03011188667237247, 'num_leaves': 20, 'colsample_bytree': 0.8894069466209847, 'subsample': 0.576652266832727}. Best is trial 44 with value: 0.605521472392638.\n",
      "[I 2024-07-08 23:19:40,127] Trial 63 finished with value: 0.5957055214723926 and parameters: {'n_estimators': 561, 'max_depth': 49, 'learning_rate': 0.01919143425452401, 'num_leaves': 21, 'colsample_bytree': 0.7880301583128815, 'subsample': 0.5144866372109251}. Best is trial 44 with value: 0.605521472392638.\n",
      "[I 2024-07-08 23:19:41,577] Trial 64 finished with value: 0.592638036809816 and parameters: {'n_estimators': 474, 'max_depth': 13, 'learning_rate': 0.010015999290704864, 'num_leaves': 28, 'colsample_bytree': 0.8402452839542477, 'subsample': 0.5046415411539839}. Best is trial 44 with value: 0.605521472392638.\n",
      "[I 2024-07-08 23:19:43,353] Trial 65 finished with value: 0.5871165644171779 and parameters: {'n_estimators': 654, 'max_depth': 20, 'learning_rate': 0.033799153467122, 'num_leaves': 24, 'colsample_bytree': 0.8610929511367698, 'subsample': 0.5454362788837229}. Best is trial 44 with value: 0.605521472392638.\n",
      "[I 2024-07-08 23:19:44,355] Trial 66 finished with value: 0.6024539877300613 and parameters: {'n_estimators': 508, 'max_depth': 4, 'learning_rate': 0.06685123690471494, 'num_leaves': 31, 'colsample_bytree': 0.7676949670524303, 'subsample': 0.6020857957491113}. Best is trial 44 with value: 0.605521472392638.\n",
      "[I 2024-07-08 23:19:44,962] Trial 67 finished with value: 0.5938650306748465 and parameters: {'n_estimators': 426, 'max_depth': 3, 'learning_rate': 0.06858663611736404, 'num_leaves': 33, 'colsample_bytree': 0.720206189480074, 'subsample': 0.5958908000781028}. Best is trial 44 with value: 0.605521472392638.\n",
      "[I 2024-07-08 23:19:45,597] Trial 68 finished with value: 0.5736196319018405 and parameters: {'n_estimators': 794, 'max_depth': 1, 'learning_rate': 0.061445396415588965, 'num_leaves': 31, 'colsample_bytree': 0.7737603736267941, 'subsample': 0.6896130822546513}. Best is trial 44 with value: 0.605521472392638.\n",
      "[I 2024-07-08 23:19:46,209] Trial 69 finished with value: 0.6012269938650305 and parameters: {'n_estimators': 188, 'max_depth': 9, 'learning_rate': 0.041913922939237964, 'num_leaves': 29, 'colsample_bytree': 0.6358834389931918, 'subsample': 0.801159508686038}. Best is trial 44 with value: 0.605521472392638.\n",
      "[I 2024-07-08 23:19:47,845] Trial 70 finished with value: 0.5717791411042945 and parameters: {'n_estimators': 536, 'max_depth': 6, 'learning_rate': 0.10180356233047819, 'num_leaves': 33, 'colsample_bytree': 0.5581365112840959, 'subsample': 0.6681676486365816}. Best is trial 44 with value: 0.605521472392638.\n",
      "[I 2024-07-08 23:19:49,400] Trial 71 finished with value: 0.5993865030674846 and parameters: {'n_estimators': 502, 'max_depth': 28, 'learning_rate': 0.017735354713916344, 'num_leaves': 30, 'colsample_bytree': 0.9247117502866256, 'subsample': 0.6306397053664349}. Best is trial 44 with value: 0.605521472392638.\n",
      "[I 2024-07-08 23:19:50,818] Trial 72 finished with value: 0.5969325153374234 and parameters: {'n_estimators': 621, 'max_depth': 4, 'learning_rate': 0.05017649495166512, 'num_leaves': 35, 'colsample_bytree': 0.8772064440421723, 'subsample': 0.7483583867128721}. Best is trial 44 with value: 0.605521472392638.\n",
      "[I 2024-07-08 23:19:52,228] Trial 73 finished with value: 0.6006134969325154 and parameters: {'n_estimators': 471, 'max_depth': 12, 'learning_rate': 0.029004290538893793, 'num_leaves': 27, 'colsample_bytree': 0.9477255433337568, 'subsample': 0.5002153955576386}. Best is trial 44 with value: 0.605521472392638.\n",
      "[I 2024-07-08 23:19:53,805] Trial 74 finished with value: 0.552760736196319 and parameters: {'n_estimators': 594, 'max_depth': 16, 'learning_rate': 0.1357817885956935, 'num_leaves': 28, 'colsample_bytree': 0.9013526608237575, 'subsample': 0.7043801751369988}. Best is trial 44 with value: 0.605521472392638.\n",
      "[I 2024-07-08 23:19:54,708] Trial 75 finished with value: 0.603680981595092 and parameters: {'n_estimators': 372, 'max_depth': 10, 'learning_rate': 0.03659201591125748, 'num_leaves': 21, 'colsample_bytree': 0.7494803053396231, 'subsample': 0.5253506737776468}. Best is trial 44 with value: 0.605521472392638.\n",
      "[I 2024-07-08 23:19:55,621] Trial 76 finished with value: 0.5987730061349694 and parameters: {'n_estimators': 383, 'max_depth': 5, 'learning_rate': 0.03781820664676315, 'num_leaves': 23, 'colsample_bytree': 0.7428154084220906, 'subsample': 0.5280320055944769}. Best is trial 44 with value: 0.605521472392638.\n",
      "[I 2024-07-08 23:19:56,619] Trial 77 finished with value: 0.583435582822086 and parameters: {'n_estimators': 428, 'max_depth': 10, 'learning_rate': 0.07561882286419963, 'num_leaves': 21, 'colsample_bytree': 0.7669482445733352, 'subsample': 0.6001355404486295}. Best is trial 44 with value: 0.605521472392638.\n",
      "[I 2024-07-08 23:19:58,632] Trial 78 finished with value: 0.5938650306748466 and parameters: {'n_estimators': 341, 'max_depth': 7, 'learning_rate': 0.05344964214866903, 'num_leaves': 32, 'colsample_bytree': 0.7561440668131953, 'subsample': 0.7280728080465537}. Best is trial 44 with value: 0.605521472392638.\n",
      "[I 2024-07-08 23:19:59,769] Trial 79 finished with value: 0.5957055214723928 and parameters: {'n_estimators': 298, 'max_depth': 12, 'learning_rate': 0.02858823686685248, 'num_leaves': 31, 'colsample_bytree': 0.8188402137213284, 'subsample': 0.5573938505476683}. Best is trial 44 with value: 0.605521472392638.\n",
      "[I 2024-07-08 23:20:00,453] Trial 80 finished with value: 0.592638036809816 and parameters: {'n_estimators': 232, 'max_depth': 8, 'learning_rate': 0.06426215157345036, 'num_leaves': 25, 'colsample_bytree': 0.9606549479954809, 'subsample': 0.7691455202158456}. Best is trial 44 with value: 0.605521472392638.\n",
      "[I 2024-07-08 23:20:01,767] Trial 81 finished with value: 0.6006134969325153 and parameters: {'n_estimators': 547, 'max_depth': 10, 'learning_rate': 0.016311059058764003, 'num_leaves': 20, 'colsample_bytree': 0.7127880059174, 'subsample': 0.5181507381387099}. Best is trial 44 with value: 0.605521472392638.\n",
      "[I 2024-07-08 23:20:02,866] Trial 82 finished with value: 0.5987730061349693 and parameters: {'n_estimators': 458, 'max_depth': 18, 'learning_rate': 0.03931660758279476, 'num_leaves': 21, 'colsample_bytree': 0.8011796830946898, 'subsample': 0.5358679177402458}. Best is trial 44 with value: 0.605521472392638.\n",
      "[I 2024-07-08 23:20:04,127] Trial 83 finished with value: 0.5987730061349692 and parameters: {'n_estimators': 514, 'max_depth': 15, 'learning_rate': 0.024935483813704182, 'num_leaves': 20, 'colsample_bytree': 0.732411774830631, 'subsample': 0.7078198653704076}. Best is trial 44 with value: 0.605521472392638.\n",
      "[I 2024-07-08 23:20:05,223] Trial 84 finished with value: 0.5901840490797546 and parameters: {'n_estimators': 363, 'max_depth': 5, 'learning_rate': 0.015221809782960753, 'num_leaves': 22, 'colsample_bytree': 0.6961391168028211, 'subsample': 0.5485978910503316}. Best is trial 44 with value: 0.605521472392638.\n",
      "[I 2024-07-08 23:20:06,283] Trial 85 finished with value: 0.6018404907975461 and parameters: {'n_estimators': 400, 'max_depth': -1, 'learning_rate': 0.04486158845435715, 'num_leaves': 24, 'colsample_bytree': 0.7796993157230426, 'subsample': 0.8291618112601553}. Best is trial 44 with value: 0.605521472392638.\n",
      "[I 2024-07-08 23:20:07,456] Trial 86 finished with value: 0.6042944785276074 and parameters: {'n_estimators': 412, 'max_depth': -1, 'learning_rate': 0.04417018507672246, 'num_leaves': 26, 'colsample_bytree': 0.981538546668604, 'subsample': 0.8989165334917453}. Best is trial 44 with value: 0.605521472392638.\n",
      "[I 2024-07-08 23:20:08,497] Trial 87 finished with value: 0.5920245398773007 and parameters: {'n_estimators': 403, 'max_depth': -1, 'learning_rate': 0.04314334010021242, 'num_leaves': 24, 'colsample_bytree': 0.7823492691790819, 'subsample': 0.9110119415486518}. Best is trial 44 with value: 0.605521472392638.\n",
      "[I 2024-07-08 23:20:08,840] Trial 88 finished with value: 0.5668711656441718 and parameters: {'n_estimators': 357, 'max_depth': 1, 'learning_rate': 0.048592509094862985, 'num_leaves': 25, 'colsample_bytree': 0.7662546903899115, 'subsample': 0.9003312850891586}. Best is trial 44 with value: 0.605521472392638.\n",
      "[I 2024-07-08 23:20:09,741] Trial 89 finished with value: 0.6073619631901841 and parameters: {'n_estimators': 322, 'max_depth': 0, 'learning_rate': 0.03335525725756855, 'num_leaves': 26, 'colsample_bytree': 0.6813157390893247, 'subsample': 0.8853493442333064}. Best is trial 89 with value: 0.6073619631901841.\n",
      "[I 2024-07-08 23:20:10,210] Trial 90 finished with value: 0.5877300613496933 and parameters: {'n_estimators': 315, 'max_depth': 3, 'learning_rate': 0.033630925535502135, 'num_leaves': 26, 'colsample_bytree': 0.6830772978631298, 'subsample': 0.955662708649071}. Best is trial 89 with value: 0.6073619631901841.\n",
      "[I 2024-07-08 23:20:10,563] Trial 91 finished with value: 0.5687116564417177 and parameters: {'n_estimators': 387, 'max_depth': 1, 'learning_rate': 0.05674289092228392, 'num_leaves': 26, 'colsample_bytree': 0.7210751094256453, 'subsample': 0.8902847530201832}. Best is trial 89 with value: 0.6073619631901841.\n",
      "[I 2024-07-08 23:20:12,236] Trial 92 finished with value: 0.592638036809816 and parameters: {'n_estimators': 432, 'max_depth': -1, 'learning_rate': 0.027135562250441957, 'num_leaves': 24, 'colsample_bytree': 0.9829946552430276, 'subsample': 0.8560705845833243}. Best is trial 89 with value: 0.6073619631901841.\n",
      "[I 2024-07-08 23:20:13,279] Trial 93 finished with value: 0.6 and parameters: {'n_estimators': 413, 'max_depth': 0, 'learning_rate': 0.04277672839445604, 'num_leaves': 23, 'colsample_bytree': 0.7491289130239704, 'subsample': 0.9380430025569502}. Best is trial 89 with value: 0.6073619631901841.\n",
      "[I 2024-07-08 23:20:13,619] Trial 94 finished with value: 0.5680981595092025 and parameters: {'n_estimators': 265, 'max_depth': 2, 'learning_rate': 0.03572744198195915, 'num_leaves': 25, 'colsample_bytree': 0.7056468690707245, 'subsample': 0.824877633854066}. Best is trial 89 with value: 0.6073619631901841.\n",
      "[I 2024-07-08 23:20:14,252] Trial 95 finished with value: 0.59079754601227 and parameters: {'n_estimators': 336, 'max_depth': 4, 'learning_rate': 0.2091285536398274, 'num_leaves': 26, 'colsample_bytree': 0.7400102987875924, 'subsample': 0.890075478331114}. Best is trial 89 with value: 0.6073619631901841.\n",
      "[I 2024-07-08 23:20:15,324] Trial 96 finished with value: 0.5950920245398772 and parameters: {'n_estimators': 376, 'max_depth': 8, 'learning_rate': 0.05021482316639065, 'num_leaves': 27, 'colsample_bytree': 0.6725590820318582, 'subsample': 0.8654609396148659}. Best is trial 89 with value: 0.6073619631901841.\n",
      "[I 2024-07-08 23:20:16,581] Trial 97 finished with value: 0.5717791411042945 and parameters: {'n_estimators': 443, 'max_depth': 0, 'learning_rate': 0.07361497230160823, 'num_leaves': 29, 'colsample_bytree': 0.6557608998168334, 'subsample': 0.9250533132667071}. Best is trial 89 with value: 0.6073619631901841.\n",
      "[I 2024-07-08 23:20:17,523] Trial 98 finished with value: 0.5975460122699386 and parameters: {'n_estimators': 478, 'max_depth': 4, 'learning_rate': 0.024611414077693895, 'num_leaves': 25, 'colsample_bytree': 0.7258016444720472, 'subsample': 0.832708266417149}. Best is trial 89 with value: 0.6073619631901841.\n",
      "[I 2024-07-08 23:20:17,886] Trial 99 finished with value: 0.5693251533742332 and parameters: {'n_estimators': 406, 'max_depth': 1, 'learning_rate': 0.03285049936234532, 'num_leaves': 27, 'colsample_bytree': 0.805087957808431, 'subsample': 0.8842009091793519}. Best is trial 89 with value: 0.6073619631901841.\n"
     ]
    }
   ],
   "source": [
    "study = optuna.create_study(direction='maximize')\n",
    "study.optimize(objective, n_trials=100, show_progress_bar=True)"
   ]
  },
  {
   "cell_type": "code",
   "execution_count": 33,
   "id": "d08f6ab5-62c1-435d-9f71-ab5c581e4dcf",
   "metadata": {},
   "outputs": [
    {
     "name": "stdout",
     "output_type": "stream",
     "text": [
      "Best trial: FrozenTrial(number=89, state=1, values=[0.6073619631901841], datetime_start=datetime.datetime(2024, 7, 8, 23, 20, 8, 842436), datetime_complete=datetime.datetime(2024, 7, 8, 23, 20, 9, 741098), params={'n_estimators': 322, 'max_depth': 0, 'learning_rate': 0.03335525725756855, 'num_leaves': 26, 'colsample_bytree': 0.6813157390893247, 'subsample': 0.8853493442333064}, user_attrs={}, system_attrs={}, intermediate_values={}, distributions={'n_estimators': IntDistribution(high=1000, log=False, low=100, step=1), 'max_depth': IntDistribution(high=50, log=False, low=-1, step=1), 'learning_rate': FloatDistribution(high=0.3, log=False, low=0.01, step=None), 'num_leaves': IntDistribution(high=40, log=False, low=20, step=1), 'colsample_bytree': FloatDistribution(high=1.0, log=False, low=0.5, step=None), 'subsample': FloatDistribution(high=1.0, log=False, low=0.5, step=None)}, trial_id=89, value=None)\n",
      "Best hyperparameters: {'n_estimators': 322, 'max_depth': 0, 'learning_rate': 0.03335525725756855, 'num_leaves': 26, 'colsample_bytree': 0.6813157390893247, 'subsample': 0.8853493442333064}\n"
     ]
    }
   ],
   "source": [
    "print(\"Best trial:\", study.best_trial)\n",
    "print(\"Best hyperparameters:\", study.best_params)"
   ]
  },
  {
   "cell_type": "code",
   "execution_count": null,
   "id": "b8ca46e6-9d93-45a9-8e0a-ac98c51687a0",
   "metadata": {},
   "outputs": [],
   "source": []
  }
 ],
 "metadata": {
  "kernelspec": {
   "display_name": "Python 3 (ipykernel)",
   "language": "python",
   "name": "python3"
  },
  "language_info": {
   "codemirror_mode": {
    "name": "ipython",
    "version": 3
   },
   "file_extension": ".py",
   "mimetype": "text/x-python",
   "name": "python",
   "nbconvert_exporter": "python",
   "pygments_lexer": "ipython3",
   "version": "3.11.5"
  }
 },
 "nbformat": 4,
 "nbformat_minor": 5
}

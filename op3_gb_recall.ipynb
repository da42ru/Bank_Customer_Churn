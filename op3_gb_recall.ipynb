{
 "cells": [
  {
   "cell_type": "markdown",
   "id": "b8305d2b-05a2-4c03-96c1-41a8ed3e3f4e",
   "metadata": {},
   "source": [
    "## Gradient Boosting Hyperparameter Tuning (Recall)"
   ]
  },
  {
   "cell_type": "code",
   "execution_count": 52,
   "id": "1737f07b-25d7-4e9a-950e-c41ea036b4c4",
   "metadata": {
    "tags": []
   },
   "outputs": [],
   "source": [
    "# Load Libraries\n",
    "\n",
    "import pandas as pd\n",
    "import numpy as np\n",
    "\n",
    "from sklearn.model_selection import train_test_split, StratifiedKFold\n",
    "from sklearn.metrics import recall_score\n",
    "\n",
    "from sklearn.ensemble import GradientBoostingClassifier\n",
    "\n",
    "import optuna"
   ]
  },
  {
   "cell_type": "code",
   "execution_count": 54,
   "id": "34b40b44-1c92-4b9d-ad57-3cddb44f6f0f",
   "metadata": {
    "tags": []
   },
   "outputs": [],
   "source": [
    "# Load Data\n",
    "\n",
    "df = pd.read_csv('bank_4.csv', index_col=0)"
   ]
  },
  {
   "cell_type": "code",
   "execution_count": 56,
   "id": "e25031a8-fef1-4150-86e7-8b7e22f0a9bb",
   "metadata": {
    "tags": []
   },
   "outputs": [],
   "source": [
    "# Train / Test Split\n",
    "\n",
    "X = df.drop(columns=['churn', 'complain', 'umap_1', 'umap_2'])\n",
    "y = df['churn']\n",
    "\n",
    "X_train, X_test, y_train, y_test = train_test_split(X, y, test_size=0.2, stratify=y, random_state=42)"
   ]
  },
  {
   "cell_type": "code",
   "execution_count": 58,
   "id": "2b530e97-2bc3-4b3d-b9f8-eb4ed610ff66",
   "metadata": {
    "tags": []
   },
   "outputs": [],
   "source": [
    "# Hyperparameter tuning\n",
    "\n",
    "def objective(trial):\n",
    "\n",
    "    params = {\n",
    "        'n_estimators': trial.suggest_int('n_estimators', 100, 2000),\n",
    "        'learning_rate': trial.suggest_float('learning_rate', 0.001, 1.0),\n",
    "        'max_depth': trial.suggest_int('max_depth', 2, 50),\n",
    "        'min_samples_split': trial.suggest_int('min_samples_split', 2, 32),\n",
    "        'min_samples_leaf': trial.suggest_int('min_samples_leaf', 1, 32)\n",
    "    }\n",
    "\n",
    "    model = GradientBoostingClassifier(\n",
    "        **params,\n",
    "        random_state=42)\n",
    "    \n",
    "    threshold = 0.33\n",
    "    \n",
    "    skf = StratifiedKFold(n_splits=5, random_state=42, shuffle=True)\n",
    "    scores = []\n",
    "    \n",
    "    for tr, te in skf.split(X_train, y_train):\n",
    "        \n",
    "        X_tr, X_te = X_train.iloc[tr], X_train.iloc[te]\n",
    "        y_tr, y_te = y_train.iloc[tr], y_train.iloc[te]\n",
    "        \n",
    "        model.fit(X_tr, y_tr)\n",
    "        prob = model.predict_proba(X_te)[:, 1]\n",
    "        y_pred = np.where(prob < threshold, 0, 1)\n",
    "        \n",
    "        scores.append(recall_score(y_te, y_pred))\n",
    "        \n",
    "    return np.mean(scores)"
   ]
  },
  {
   "cell_type": "code",
   "execution_count": 60,
   "id": "eb85a387-214c-480a-8a96-d69570dcbce9",
   "metadata": {
    "tags": []
   },
   "outputs": [
    {
     "name": "stderr",
     "output_type": "stream",
     "text": [
      "[I 2024-07-08 18:49:02,438] A new study created in memory with name: no-name-38b5e900-59ae-4f15-bfd9-81009c212a2c\n"
     ]
    },
    {
     "data": {
      "application/vnd.jupyter.widget-view+json": {
       "model_id": "6ff9510c475a428fb003415997fe9d3a",
       "version_major": 2,
       "version_minor": 0
      },
      "text/plain": [
       "  0%|          | 0/100 [00:00<?, ?it/s]"
      ]
     },
     "metadata": {},
     "output_type": "display_data"
    },
    {
     "name": "stdout",
     "output_type": "stream",
     "text": [
      "[I 2024-07-08 18:50:14,432] Trial 0 finished with value: 0.4711656441717791 and parameters: {'n_estimators': 1804, 'learning_rate': 0.1282261686622636, 'max_depth': 38, 'min_samples_split': 18, 'min_samples_leaf': 10}. Best is trial 0 with value: 0.4711656441717791.\n",
      "[I 2024-07-08 18:50:32,947] Trial 1 finished with value: 0.4840490797546012 and parameters: {'n_estimators': 779, 'learning_rate': 0.633366369967308, 'max_depth': 22, 'min_samples_split': 7, 'min_samples_leaf': 15}. Best is trial 1 with value: 0.4840490797546012.\n",
      "[I 2024-07-08 18:51:07,969] Trial 2 finished with value: 0.4815950920245398 and parameters: {'n_estimators': 1357, 'learning_rate': 0.3098100872549122, 'max_depth': 33, 'min_samples_split': 5, 'min_samples_leaf': 13}. Best is trial 1 with value: 0.4840490797546012.\n",
      "[I 2024-07-08 18:51:57,693] Trial 3 finished with value: 0.5895705521472393 and parameters: {'n_estimators': 1843, 'learning_rate': 0.12646497515922503, 'max_depth': 3, 'min_samples_split': 15, 'min_samples_leaf': 18}. Best is trial 3 with value: 0.5895705521472393.\n",
      "[I 2024-07-08 18:52:21,709] Trial 4 finished with value: 0.4871165644171779 and parameters: {'n_estimators': 1788, 'learning_rate': 0.9502478300124919, 'max_depth': 10, 'min_samples_split': 5, 'min_samples_leaf': 28}. Best is trial 3 with value: 0.5895705521472393.\n",
      "[I 2024-07-08 18:52:50,129] Trial 5 finished with value: 0.4834355828220859 and parameters: {'n_estimators': 1865, 'learning_rate': 0.5203239675832183, 'max_depth': 38, 'min_samples_split': 7, 'min_samples_leaf': 20}. Best is trial 3 with value: 0.5895705521472393.\n",
      "[I 2024-07-08 18:53:22,855] Trial 6 finished with value: 0.47239263803680986 and parameters: {'n_estimators': 278, 'learning_rate': 0.23885240009550757, 'max_depth': 23, 'min_samples_split': 8, 'min_samples_leaf': 7}. Best is trial 3 with value: 0.5895705521472393.\n",
      "[I 2024-07-08 18:54:22,086] Trial 7 finished with value: 0.4785276073619632 and parameters: {'n_estimators': 1812, 'learning_rate': 0.17941865449915223, 'max_depth': 26, 'min_samples_split': 31, 'min_samples_leaf': 12}. Best is trial 3 with value: 0.5895705521472393.\n",
      "[I 2024-07-08 18:57:15,841] Trial 8 finished with value: 0.4920245398773006 and parameters: {'n_estimators': 1638, 'learning_rate': 0.049671524290233096, 'max_depth': 10, 'min_samples_split': 10, 'min_samples_leaf': 12}. Best is trial 3 with value: 0.5895705521472393.\n",
      "[I 2024-07-08 18:59:04,963] Trial 9 finished with value: 0.47423312883435587 and parameters: {'n_estimators': 1906, 'learning_rate': 0.07007802035021536, 'max_depth': 36, 'min_samples_split': 9, 'min_samples_leaf': 2}. Best is trial 3 with value: 0.5895705521472393.\n",
      "[I 2024-07-08 18:59:24,711] Trial 10 finished with value: 0.5901840490797545 and parameters: {'n_estimators': 1141, 'learning_rate': 0.3926180815892517, 'max_depth': 2, 'min_samples_split': 19, 'min_samples_leaf': 22}. Best is trial 10 with value: 0.5901840490797545.\n",
      "[I 2024-07-08 18:59:42,274] Trial 11 finished with value: 0.587116564417178 and parameters: {'n_estimators': 1002, 'learning_rate': 0.36722195313885253, 'max_depth': 2, 'min_samples_split': 20, 'min_samples_leaf': 22}. Best is trial 10 with value: 0.5901840490797545.\n",
      "[I 2024-07-08 19:00:06,152] Trial 12 finished with value: 0.4877300613496932 and parameters: {'n_estimators': 1273, 'learning_rate': 0.7003003820289337, 'max_depth': 50, 'min_samples_split': 24, 'min_samples_leaf': 27}. Best is trial 10 with value: 0.5901840490797545.\n",
      "[I 2024-07-08 19:00:16,059] Trial 13 finished with value: 0.5920245398773005 and parameters: {'n_estimators': 562, 'learning_rate': 0.4324505487910983, 'max_depth': 2, 'min_samples_split': 13, 'min_samples_leaf': 21}. Best is trial 13 with value: 0.5920245398773005.\n",
      "[I 2024-07-08 19:00:44,257] Trial 14 finished with value: 0.48957055214723927 and parameters: {'n_estimators': 489, 'learning_rate': 0.45719866807956155, 'max_depth': 13, 'min_samples_split': 14, 'min_samples_leaf': 24}. Best is trial 13 with value: 0.5920245398773005.\n",
      "[I 2024-07-08 19:01:08,272] Trial 15 finished with value: 0.492638036809816 and parameters: {'n_estimators': 665, 'learning_rate': 0.7008547960452842, 'max_depth': 16, 'min_samples_split': 24, 'min_samples_leaf': 31}. Best is trial 13 with value: 0.5920245398773005.\n",
      "[I 2024-07-08 19:01:18,201] Trial 16 finished with value: 0.5276073619631901 and parameters: {'n_estimators': 206, 'learning_rate': 0.5185966298943679, 'max_depth': 6, 'min_samples_split': 22, 'min_samples_leaf': 25}. Best is trial 13 with value: 0.5920245398773005.\n",
      "[I 2024-07-08 19:01:33,346] Trial 17 finished with value: 0.48650306748466254 and parameters: {'n_estimators': 1069, 'learning_rate': 0.9469945182584771, 'max_depth': 17, 'min_samples_split': 29, 'min_samples_leaf': 18}. Best is trial 13 with value: 0.5920245398773005.\n",
      "[I 2024-07-08 19:02:19,469] Trial 18 finished with value: 0.49877300613496933 and parameters: {'n_estimators': 843, 'learning_rate': 0.39204685691388597, 'max_depth': 7, 'min_samples_split': 13, 'min_samples_leaf': 32}. Best is trial 13 with value: 0.5920245398773005.\n",
      "[I 2024-07-08 19:02:39,704] Trial 19 finished with value: 0.47730061349693254 and parameters: {'n_estimators': 454, 'learning_rate': 0.6020986126315251, 'max_depth': 47, 'min_samples_split': 2, 'min_samples_leaf': 21}. Best is trial 13 with value: 0.5920245398773005.\n",
      "[I 2024-07-08 19:02:57,824] Trial 20 finished with value: 0.47914110429447854 and parameters: {'n_estimators': 1399, 'learning_rate': 0.7881263584651059, 'max_depth': 29, 'min_samples_split': 17, 'min_samples_leaf': 16}. Best is trial 13 with value: 0.5920245398773005.\n",
      "[I 2024-07-08 19:03:24,091] Trial 21 finished with value: 0.5957055214723926 and parameters: {'n_estimators': 1514, 'learning_rate': 0.20165284738278189, 'max_depth': 2, 'min_samples_split': 14, 'min_samples_leaf': 18}. Best is trial 21 with value: 0.5957055214723926.\n",
      "[I 2024-07-08 19:03:50,844] Trial 22 finished with value: 0.5920245398773007 and parameters: {'n_estimators': 1548, 'learning_rate': 0.2817424219316583, 'max_depth': 2, 'min_samples_split': 12, 'min_samples_leaf': 24}. Best is trial 21 with value: 0.5957055214723926.\n",
      "[I 2024-07-08 19:05:15,948] Trial 23 finished with value: 0.49325153374233127 and parameters: {'n_estimators': 1623, 'learning_rate': 0.24863785787638915, 'max_depth': 7, 'min_samples_split': 12, 'min_samples_leaf': 25}. Best is trial 21 with value: 0.5957055214723926.\n",
      "[I 2024-07-08 19:05:57,603] Trial 24 finished with value: 0.49386503067484655 and parameters: {'n_estimators': 1509, 'learning_rate': 0.2875919620423572, 'max_depth': 12, 'min_samples_split': 11, 'min_samples_leaf': 19}. Best is trial 21 with value: 0.5957055214723926.\n",
      "[I 2024-07-08 19:08:09,771] Trial 25 finished with value: 0.6116564417177914 and parameters: {'n_estimators': 1572, 'learning_rate': 0.0028297757187205064, 'max_depth': 17, 'min_samples_split': 15, 'min_samples_leaf': 29}. Best is trial 25 with value: 0.6116564417177914.\n",
      "[I 2024-07-08 19:10:33,742] Trial 26 finished with value: 0.5325153374233128 and parameters: {'n_estimators': 1619, 'learning_rate': 0.02245329511011156, 'max_depth': 18, 'min_samples_split': 16, 'min_samples_leaf': 29}. Best is trial 25 with value: 0.6116564417177914.\n",
      "[I 2024-07-08 19:12:00,420] Trial 27 finished with value: 0.4815950920245399 and parameters: {'n_estimators': 1233, 'learning_rate': 0.1793501011570965, 'max_depth': 21, 'min_samples_split': 21, 'min_samples_leaf': 29}. Best is trial 25 with value: 0.6116564417177914.\n",
      "[I 2024-07-08 19:14:13,820] Trial 28 finished with value: 0.48588957055214727 and parameters: {'n_estimators': 1467, 'learning_rate': 0.10975890365074539, 'max_depth': 14, 'min_samples_split': 16, 'min_samples_leaf': 26}. Best is trial 25 with value: 0.6116564417177914.\n",
      "[I 2024-07-08 19:41:27,648] Trial 29 finished with value: 0.4858895705521472 and parameters: {'n_estimators': 1702, 'learning_rate': 0.20287626242110157, 'max_depth': 8, 'min_samples_split': 18, 'min_samples_leaf': 8}. Best is trial 25 with value: 0.6116564417177914.\n",
      "[I 2024-07-08 19:42:44,618] Trial 30 finished with value: 0.6006134969325154 and parameters: {'n_estimators': 1966, 'learning_rate': 0.011249160606088326, 'max_depth': 5, 'min_samples_split': 11, 'min_samples_leaf': 23}. Best is trial 25 with value: 0.6116564417177914.\n",
      "[I 2024-07-08 19:43:56,630] Trial 31 finished with value: 0.5987730061349692 and parameters: {'n_estimators': 1537, 'learning_rate': 0.002139285058676747, 'max_depth': 6, 'min_samples_split': 12, 'min_samples_leaf': 23}. Best is trial 25 with value: 0.6116564417177914.\n",
      "[I 2024-07-08 19:45:13,505] Trial 32 finished with value: 0.6085889570552148 and parameters: {'n_estimators': 1994, 'learning_rate': 0.007458608888436665, 'max_depth': 5, 'min_samples_split': 10, 'min_samples_leaf': 23}. Best is trial 25 with value: 0.6116564417177914.\n",
      "[I 2024-07-08 19:46:44,220] Trial 33 finished with value: 0.5889570552147239 and parameters: {'n_estimators': 1954, 'learning_rate': 0.01682598178079831, 'max_depth': 6, 'min_samples_split': 5, 'min_samples_leaf': 30}. Best is trial 25 with value: 0.6116564417177914.\n",
      "[I 2024-07-08 19:49:09,210] Trial 34 finished with value: 0.6067484662576688 and parameters: {'n_estimators': 1992, 'learning_rate': 0.0017460582119536538, 'max_depth': 9, 'min_samples_split': 10, 'min_samples_leaf': 23}. Best is trial 25 with value: 0.6116564417177914.\n",
      "[I 2024-07-08 19:51:39,589] Trial 35 finished with value: 0.49509202453987733 and parameters: {'n_estimators': 1996, 'learning_rate': 0.08826868343230729, 'max_depth': 10, 'min_samples_split': 2, 'min_samples_leaf': 27}. Best is trial 25 with value: 0.6116564417177914.\n",
      "[I 2024-07-08 19:52:52,028] Trial 36 finished with value: 0.47730061349693254 and parameters: {'n_estimators': 1804, 'learning_rate': 0.14324336786221745, 'max_depth': 15, 'min_samples_split': 9, 'min_samples_leaf': 15}. Best is trial 25 with value: 0.6116564417177914.\n",
      "[I 2024-07-08 19:54:51,878] Trial 37 finished with value: 0.48588957055214727 and parameters: {'n_estimators': 1711, 'learning_rate': 0.12052798198456276, 'max_depth': 20, 'min_samples_split': 5, 'min_samples_leaf': 27}. Best is trial 25 with value: 0.6116564417177914.\n",
      "[I 2024-07-08 19:57:30,767] Trial 38 finished with value: 0.4926380368098159 and parameters: {'n_estimators': 1922, 'learning_rate': 0.06305494810923841, 'max_depth': 10, 'min_samples_split': 10, 'min_samples_leaf': 19}. Best is trial 25 with value: 0.6116564417177914.\n",
      "[I 2024-07-08 19:59:04,418] Trial 39 finished with value: 0.4852760736196319 and parameters: {'n_estimators': 2000, 'learning_rate': 0.14510112971581973, 'max_depth': 24, 'min_samples_split': 7, 'min_samples_leaf': 24}. Best is trial 25 with value: 0.6116564417177914.\n",
      "[I 2024-07-08 20:01:26,068] Trial 40 finished with value: 0.4957055214723926 and parameters: {'n_estimators': 1740, 'learning_rate': 0.06286048508206037, 'max_depth': 12, 'min_samples_split': 7, 'min_samples_leaf': 29}. Best is trial 25 with value: 0.6116564417177914.\n",
      "[I 2024-07-08 20:02:38,246] Trial 41 finished with value: 0.6085889570552147 and parameters: {'n_estimators': 1877, 'learning_rate': 0.009154829564846943, 'max_depth': 5, 'min_samples_split': 11, 'min_samples_leaf': 23}. Best is trial 25 with value: 0.6116564417177914.\n",
      "[I 2024-07-08 20:03:50,314] Trial 42 finished with value: 0.6042944785276074 and parameters: {'n_estimators': 1860, 'learning_rate': 0.0042263548646733675, 'max_depth': 5, 'min_samples_split': 10, 'min_samples_leaf': 20}. Best is trial 25 with value: 0.6116564417177914.\n",
      "[I 2024-07-08 20:06:09,444] Trial 43 finished with value: 0.4963190184049079 and parameters: {'n_estimators': 1878, 'learning_rate': 0.09023488689922245, 'max_depth': 9, 'min_samples_split': 9, 'min_samples_leaf': 20}. Best is trial 25 with value: 0.6116564417177914.\n",
      "[I 2024-07-08 20:07:09,295] Trial 44 finished with value: 0.5858895705521473 and parameters: {'n_estimators': 1814, 'learning_rate': 0.04735355596145445, 'max_depth': 4, 'min_samples_split': 15, 'min_samples_leaf': 16}. Best is trial 25 with value: 0.6116564417177914.\n",
      "[I 2024-07-08 20:08:31,409] Trial 45 finished with value: 0.48957055214723927 and parameters: {'n_estimators': 1749, 'learning_rate': 0.15260724387740793, 'max_depth': 11, 'min_samples_split': 7, 'min_samples_leaf': 22}. Best is trial 25 with value: 0.6116564417177914.\n",
      "[I 2024-07-08 20:09:29,534] Trial 46 finished with value: 0.5638036809815951 and parameters: {'n_estimators': 1864, 'learning_rate': 0.1025474849074806, 'max_depth': 4, 'min_samples_split': 10, 'min_samples_leaf': 20}. Best is trial 25 with value: 0.6116564417177914.\n",
      "[I 2024-07-08 20:10:01,921] Trial 47 finished with value: 0.4785276073619632 and parameters: {'n_estimators': 1632, 'learning_rate': 0.3289498020467001, 'max_depth': 27, 'min_samples_split': 4, 'min_samples_leaf': 13}. Best is trial 25 with value: 0.6116564417177914.\n",
      "[I 2024-07-08 20:12:00,096] Trial 48 finished with value: 0.5226993865030674 and parameters: {'n_estimators': 1857, 'learning_rate': 0.04716088399319014, 'max_depth': 8, 'min_samples_split': 8, 'min_samples_leaf': 26}. Best is trial 25 with value: 0.6116564417177914.\n",
      "[I 2024-07-08 20:15:24,664] Trial 49 finished with value: 0.561963190184049 and parameters: {'n_estimators': 1909, 'learning_rate': 0.004351531357440683, 'max_depth': 19, 'min_samples_split': 14, 'min_samples_leaf': 17}. Best is trial 25 with value: 0.6116564417177914.\n",
      "[I 2024-07-08 20:16:34,672] Trial 50 finished with value: 0.48834355828220855 and parameters: {'n_estimators': 1384, 'learning_rate': 0.1754349276683449, 'max_depth': 14, 'min_samples_split': 11, 'min_samples_leaf': 21}. Best is trial 25 with value: 0.6116564417177914.\n",
      "[I 2024-07-08 20:17:52,276] Trial 51 finished with value: 0.5987730061349693 and parameters: {'n_estimators': 1992, 'learning_rate': 0.0023030739428925003, 'max_depth': 5, 'min_samples_split': 11, 'min_samples_leaf': 23}. Best is trial 25 with value: 0.6116564417177914.\n",
      "[I 2024-07-08 20:18:49,542] Trial 52 finished with value: 0.59079754601227 and parameters: {'n_estimators': 1810, 'learning_rate': 0.04724319148347117, 'max_depth': 4, 'min_samples_split': 13, 'min_samples_leaf': 1}. Best is trial 25 with value: 0.6116564417177914.\n",
      "[I 2024-07-08 20:20:58,547] Trial 53 finished with value: 0.5085889570552148 and parameters: {'n_estimators': 1923, 'learning_rate': 0.0802632468055936, 'max_depth': 8, 'min_samples_split': 8, 'min_samples_leaf': 23}. Best is trial 25 with value: 0.6116564417177914.\n",
      "[I 2024-07-08 20:22:20,806] Trial 54 finished with value: 0.5730061349693252 and parameters: {'n_estimators': 1699, 'learning_rate': 0.03831988330330666, 'max_depth': 5, 'min_samples_split': 9, 'min_samples_leaf': 25}. Best is trial 25 with value: 0.6116564417177914.\n",
      "[I 2024-07-08 20:23:19,268] Trial 55 finished with value: 0.4846625766871166 and parameters: {'n_estimators': 1809, 'learning_rate': 0.23713860795019842, 'max_depth': 33, 'min_samples_split': 10, 'min_samples_leaf': 22}. Best is trial 25 with value: 0.6116564417177914.\n",
      "[I 2024-07-08 20:23:37,074] Trial 56 finished with value: 0.49386503067484655 and parameters: {'n_estimators': 1901, 'learning_rate': 0.9960160613991316, 'max_depth': 12, 'min_samples_split': 6, 'min_samples_leaf': 19}. Best is trial 25 with value: 0.6116564417177914.\n",
      "[I 2024-07-08 20:26:02,484] Trial 57 finished with value: 0.48957055214723927 and parameters: {'n_estimators': 1745, 'learning_rate': 0.12053548240871637, 'max_depth': 16, 'min_samples_split': 15, 'min_samples_leaf': 32}. Best is trial 25 with value: 0.6116564417177914.\n",
      "[I 2024-07-08 20:27:03,415] Trial 58 finished with value: 0.5920245398773007 and parameters: {'n_estimators': 1665, 'learning_rate': 0.0825208233858624, 'max_depth': 3, 'min_samples_split': 12, 'min_samples_leaf': 26}. Best is trial 25 with value: 0.6116564417177914.\n",
      "[I 2024-07-08 20:27:38,695] Trial 59 finished with value: 0.4926380368098159 and parameters: {'n_estimators': 1951, 'learning_rate': 0.5604761528616387, 'max_depth': 9, 'min_samples_split': 14, 'min_samples_leaf': 24}. Best is trial 25 with value: 0.6116564417177914.\n",
      "[I 2024-07-08 20:29:22,374] Trial 60 finished with value: 0.5484662576687117 and parameters: {'n_estimators': 1595, 'learning_rate': 0.03907224767185863, 'max_depth': 7, 'min_samples_split': 18, 'min_samples_leaf': 28}. Best is trial 25 with value: 0.6116564417177914.\n",
      "[I 2024-07-08 20:30:51,349] Trial 61 finished with value: 0.5944785276073619 and parameters: {'n_estimators': 1994, 'learning_rate': 0.0022280926293326564, 'max_depth': 5, 'min_samples_split': 10, 'min_samples_leaf': 23}. Best is trial 25 with value: 0.6116564417177914.\n",
      "[I 2024-07-08 20:32:11,145] Trial 62 finished with value: 0.6055214723926381 and parameters: {'n_estimators': 1859, 'learning_rate': 0.00578984411457989, 'max_depth': 5, 'min_samples_split': 11, 'min_samples_leaf': 21}. Best is trial 25 with value: 0.6116564417177914.\n",
      "[I 2024-07-08 20:33:01,322] Trial 63 finished with value: 0.5957055214723926 and parameters: {'n_estimators': 1866, 'learning_rate': 0.03445196840577552, 'max_depth': 3, 'min_samples_split': 13, 'min_samples_leaf': 21}. Best is trial 25 with value: 0.6116564417177914.\n",
      "[I 2024-07-08 20:33:41,368] Trial 64 finished with value: 0.4920245398773006 and parameters: {'n_estimators': 1771, 'learning_rate': 0.8502616484358371, 'max_depth': 6, 'min_samples_split': 11, 'min_samples_leaf': 20}. Best is trial 25 with value: 0.6116564417177914.\n",
      "[I 2024-07-08 20:33:59,992] Trial 65 finished with value: 0.587116564417178 and parameters: {'n_estimators': 940, 'learning_rate': 0.07061863512790993, 'max_depth': 2, 'min_samples_split': 28, 'min_samples_leaf': 18}. Best is trial 25 with value: 0.6116564417177914.\n",
      "[I 2024-07-08 20:36:09,762] Trial 66 finished with value: 0.4852760736196319 and parameters: {'n_estimators': 1305, 'learning_rate': 0.11466074133828516, 'max_depth': 43, 'min_samples_split': 8, 'min_samples_leaf': 25}. Best is trial 25 with value: 0.6116564417177914.\n",
      "[I 2024-07-08 20:38:53,894] Trial 67 finished with value: 0.5171779141104295 and parameters: {'n_estimators': 1936, 'learning_rate': 0.027072534943451576, 'max_depth': 9, 'min_samples_split': 16, 'min_samples_leaf': 22}. Best is trial 25 with value: 0.6116564417177914.\n",
      "[I 2024-07-08 20:39:47,444] Trial 68 finished with value: 0.47607361963190187 and parameters: {'n_estimators': 1838, 'learning_rate': 0.21608736854178456, 'max_depth': 13, 'min_samples_split': 12, 'min_samples_leaf': 17}. Best is trial 25 with value: 0.6116564417177914.\n",
      "[I 2024-07-08 20:40:53,209] Trial 69 finished with value: 0.4803680981595092 and parameters: {'n_estimators': 1163, 'learning_rate': 0.1468813820866884, 'max_depth': 11, 'min_samples_split': 6, 'min_samples_leaf': 14}. Best is trial 25 with value: 0.6116564417177914.\n",
      "[I 2024-07-08 20:41:00,705] Trial 70 finished with value: 0.550920245398773 and parameters: {'n_estimators': 121, 'learning_rate': 0.1709834569200319, 'max_depth': 7, 'min_samples_split': 13, 'min_samples_leaf': 4}. Best is trial 25 with value: 0.6116564417177914.\n",
      "[I 2024-07-08 20:42:20,144] Trial 71 finished with value: 0.587116564417178 and parameters: {'n_estimators': 1975, 'learning_rate': 0.0018657352904660645, 'max_depth': 5, 'min_samples_split': 11, 'min_samples_leaf': 23}. Best is trial 25 with value: 0.6116564417177914.\n",
      "[I 2024-07-08 20:43:25,473] Trial 72 finished with value: 0.5748466257668712 and parameters: {'n_estimators': 2000, 'learning_rate': 0.07566605193650033, 'max_depth': 4, 'min_samples_split': 11, 'min_samples_leaf': 21}. Best is trial 25 with value: 0.6116564417177914.\n",
      "[I 2024-07-08 20:44:45,116] Trial 73 finished with value: 0.5840490797546012 and parameters: {'n_estimators': 1451, 'learning_rate': 0.0018121937501928186, 'max_depth': 6, 'min_samples_split': 9, 'min_samples_leaf': 24}. Best is trial 25 with value: 0.6116564417177914.\n",
      "[I 2024-07-08 20:46:52,675] Trial 74 finished with value: 0.5282208588957056 and parameters: {'n_estimators': 1915, 'learning_rate': 0.026510385110884018, 'max_depth': 8, 'min_samples_split': 10, 'min_samples_leaf': 19}. Best is trial 25 with value: 0.6116564417177914.\n",
      "[I 2024-07-08 20:48:07,287] Trial 75 finished with value: 0.5392638036809816 and parameters: {'n_estimators': 1874, 'learning_rate': 0.10177367994235477, 'max_depth': 5, 'min_samples_split': 15, 'min_samples_leaf': 23}. Best is trial 25 with value: 0.6116564417177914.\n",
      "[I 2024-07-08 20:48:39,209] Trial 76 finished with value: 0.5871165644171779 and parameters: {'n_estimators': 1760, 'learning_rate': 0.05866800846076093, 'max_depth': 2, 'min_samples_split': 17, 'min_samples_leaf': 28}. Best is trial 25 with value: 0.6116564417177914.\n",
      "[I 2024-07-08 20:51:41,327] Trial 77 finished with value: 0.5042944785276073 and parameters: {'n_estimators': 1959, 'learning_rate': 0.03011649743780261, 'max_depth': 23, 'min_samples_split': 12, 'min_samples_leaf': 25}. Best is trial 25 with value: 0.6116564417177914.\n",
      "[I 2024-07-08 20:52:06,394] Trial 78 finished with value: 0.49509202453987733 and parameters: {'n_estimators': 1572, 'learning_rate': 0.6650410609192561, 'max_depth': 11, 'min_samples_split': 9, 'min_samples_leaf': 27}. Best is trial 25 with value: 0.6116564417177914.\n",
      "[I 2024-07-08 20:52:47,290] Trial 79 finished with value: 0.5883435582822086 and parameters: {'n_estimators': 1669, 'learning_rate': 0.061937736310599005, 'max_depth': 3, 'min_samples_split': 13, 'min_samples_leaf': 22}. Best is trial 25 with value: 0.6116564417177914.\n",
      "[I 2024-07-08 20:54:28,567] Trial 80 finished with value: 0.49509202453987733 and parameters: {'n_estimators': 1814, 'learning_rate': 0.13150051206956304, 'max_depth': 9, 'min_samples_split': 11, 'min_samples_leaf': 20}. Best is trial 25 with value: 0.6116564417177914.\n",
      "[I 2024-07-08 20:55:57,365] Trial 81 finished with value: 0.6122699386503069 and parameters: {'n_estimators': 1888, 'learning_rate': 0.0031180517539165756, 'max_depth': 6, 'min_samples_split': 14, 'min_samples_leaf': 23}. Best is trial 81 with value: 0.6122699386503069.\n",
      "[I 2024-07-08 20:57:25,807] Trial 82 finished with value: 0.5723926380368098 and parameters: {'n_estimators': 1851, 'learning_rate': 0.025756895510080965, 'max_depth': 6, 'min_samples_split': 14, 'min_samples_leaf': 24}. Best is trial 81 with value: 0.6122699386503069.\n",
      "[I 2024-07-08 20:58:20,516] Trial 83 finished with value: 0.49509202453987733 and parameters: {'n_estimators': 1943, 'learning_rate': 0.46185886272125737, 'max_depth': 7, 'min_samples_split': 8, 'min_samples_leaf': 26}. Best is trial 81 with value: 0.6122699386503069.\n",
      "[I 2024-07-08 20:59:26,264] Trial 84 finished with value: 0.5748466257668711 and parameters: {'n_estimators': 1894, 'learning_rate': 0.0955294269312367, 'max_depth': 4, 'min_samples_split': 12, 'min_samples_leaf': 21}. Best is trial 81 with value: 0.6122699386503069.\n",
      "[I 2024-07-08 21:01:46,352] Trial 85 finished with value: 0.5024539877300613 and parameters: {'n_estimators': 1715, 'learning_rate': 0.05690801945514872, 'max_depth': 10, 'min_samples_split': 10, 'min_samples_leaf': 23}. Best is trial 81 with value: 0.6122699386503069.\n",
      "[I 2024-07-08 21:02:30,929] Trial 86 finished with value: 0.5975460122699386 and parameters: {'n_estimators': 713, 'learning_rate': 0.017096117472879868, 'max_depth': 8, 'min_samples_split': 14, 'min_samples_leaf': 30}. Best is trial 81 with value: 0.6122699386503069.\n",
      "[I 2024-07-08 21:03:40,846] Trial 87 finished with value: 0.5478527607361963 and parameters: {'n_estimators': 1796, 'learning_rate': 0.08654000816921496, 'max_depth': 5, 'min_samples_split': 12, 'min_samples_leaf': 22}. Best is trial 81 with value: 0.6122699386503069.\n",
      "[I 2024-07-08 21:04:26,885] Trial 88 finished with value: 0.5969325153374232 and parameters: {'n_estimators': 1945, 'learning_rate': 0.043255403252834584, 'max_depth': 3, 'min_samples_split': 15, 'min_samples_leaf': 24}. Best is trial 81 with value: 0.6122699386503069.\n",
      "[I 2024-07-08 21:06:14,453] Trial 89 finished with value: 0.5650306748466258 and parameters: {'n_estimators': 1833, 'learning_rate': 0.0171402984248126, 'max_depth': 7, 'min_samples_split': 17, 'min_samples_leaf': 21}. Best is trial 81 with value: 0.6122699386503069.\n",
      "[I 2024-07-08 21:09:08,335] Trial 90 finished with value: 0.6055214723926381 and parameters: {'n_estimators': 1891, 'learning_rate': 0.0019761972578068664, 'max_depth': 17, 'min_samples_split': 16, 'min_samples_leaf': 26}. Best is trial 81 with value: 0.6122699386503069.\n",
      "[I 2024-07-08 21:11:59,240] Trial 91 finished with value: 0.48711656441717793 and parameters: {'n_estimators': 1896, 'learning_rate': 0.06330646156125358, 'max_depth': 17, 'min_samples_split': 16, 'min_samples_leaf': 26}. Best is trial 81 with value: 0.6122699386503069.\n",
      "[I 2024-07-08 21:15:02,702] Trial 92 finished with value: 0.5380368098159509 and parameters: {'n_estimators': 1998, 'learning_rate': 0.010461462207907219, 'max_depth': 32, 'min_samples_split': 20, 'min_samples_leaf': 25}. Best is trial 81 with value: 0.6122699386503069.\n",
      "[I 2024-07-08 21:17:40,060] Trial 93 finished with value: 0.5030674846625767 and parameters: {'n_estimators': 1768, 'learning_rate': 0.04330944965022608, 'max_depth': 14, 'min_samples_split': 13, 'min_samples_leaf': 30}. Best is trial 81 with value: 0.6122699386503069.\n",
      "[I 2024-07-08 21:19:44,097] Trial 94 finished with value: 0.48650306748466254 and parameters: {'n_estimators': 1883, 'learning_rate': 0.10600124319684064, 'max_depth': 30, 'min_samples_split': 19, 'min_samples_leaf': 23}. Best is trial 81 with value: 0.6122699386503069.\n",
      "[I 2024-07-08 21:23:04,074] Trial 95 finished with value: 0.5717791411042945 and parameters: {'n_estimators': 1957, 'learning_rate': 0.004011855973834877, 'max_depth': 22, 'min_samples_split': 11, 'min_samples_leaf': 22}. Best is trial 81 with value: 0.6122699386503069.\n",
      "[I 2024-07-08 21:23:59,889] Trial 96 finished with value: 0.5730061349693252 and parameters: {'n_estimators': 1687, 'learning_rate': 0.08169923441423549, 'max_depth': 4, 'min_samples_split': 9, 'min_samples_leaf': 27}. Best is trial 81 with value: 0.6122699386503069.\n",
      "[I 2024-07-08 21:24:44,890] Trial 97 finished with value: 0.5981595092024541 and parameters: {'n_estimators': 1839, 'learning_rate': 0.031737556431667695, 'max_depth': 3, 'min_samples_split': 17, 'min_samples_leaf': 19}. Best is trial 81 with value: 0.6122699386503069.\n",
      "[I 2024-07-08 21:26:20,659] Trial 98 finished with value: 0.5361963190184049 and parameters: {'n_estimators': 1909, 'learning_rate': 0.055753480816125946, 'max_depth': 6, 'min_samples_split': 10, 'min_samples_leaf': 25}. Best is trial 81 with value: 0.6122699386503069.\n",
      "[I 2024-07-08 21:28:09,795] Trial 99 finished with value: 0.48466257668711654 and parameters: {'n_estimators': 1779, 'learning_rate': 0.12418971108027424, 'max_depth': 25, 'min_samples_split': 14, 'min_samples_leaf': 24}. Best is trial 81 with value: 0.6122699386503069.\n"
     ]
    }
   ],
   "source": [
    "study = optuna.create_study(direction='maximize')\n",
    "study.optimize(objective, n_trials=100, show_progress_bar=True)"
   ]
  },
  {
   "cell_type": "code",
   "execution_count": 66,
   "id": "d08f6ab5-62c1-435d-9f71-ab5c581e4dcf",
   "metadata": {},
   "outputs": [
    {
     "name": "stdout",
     "output_type": "stream",
     "text": [
      "Best trial: FrozenTrial(number=81, state=1, values=[0.6122699386503069], datetime_start=datetime.datetime(2024, 7, 8, 20, 54, 28, 569279), datetime_complete=datetime.datetime(2024, 7, 8, 20, 55, 57, 365007), params={'n_estimators': 1888, 'learning_rate': 0.0031180517539165756, 'max_depth': 6, 'min_samples_split': 14, 'min_samples_leaf': 23}, user_attrs={}, system_attrs={}, intermediate_values={}, distributions={'n_estimators': IntDistribution(high=2000, log=False, low=100, step=1), 'learning_rate': FloatDistribution(high=1.0, log=False, low=0.001, step=None), 'max_depth': IntDistribution(high=50, log=False, low=2, step=1), 'min_samples_split': IntDistribution(high=32, log=False, low=2, step=1), 'min_samples_leaf': IntDistribution(high=32, log=False, low=1, step=1)}, trial_id=81, value=None)\n",
      "Best hyperparameters: {'n_estimators': 1888, 'learning_rate': 0.0031180517539165756, 'max_depth': 6, 'min_samples_split': 14, 'min_samples_leaf': 23}\n"
     ]
    }
   ],
   "source": [
    "print(\"Best trial:\", study.best_trial)\n",
    "print(\"Best hyperparameters:\", study.best_params)"
   ]
  },
  {
   "cell_type": "code",
   "execution_count": null,
   "id": "7c8112a1-6eda-4493-9b41-544b0fb6bd3c",
   "metadata": {},
   "outputs": [],
   "source": []
  }
 ],
 "metadata": {
  "kernelspec": {
   "display_name": "Python 3 (ipykernel)",
   "language": "python",
   "name": "python3"
  },
  "language_info": {
   "codemirror_mode": {
    "name": "ipython",
    "version": 3
   },
   "file_extension": ".py",
   "mimetype": "text/x-python",
   "name": "python",
   "nbconvert_exporter": "python",
   "pygments_lexer": "ipython3",
   "version": "3.11.5"
  }
 },
 "nbformat": 4,
 "nbformat_minor": 5
}

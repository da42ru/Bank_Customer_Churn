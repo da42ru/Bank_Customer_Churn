{
 "cells": [
  {
   "cell_type": "markdown",
   "id": "b8305d2b-05a2-4c03-96c1-41a8ed3e3f4e",
   "metadata": {},
   "source": [
    "## Extra Trees Hyperparameter Tuning (Recall)"
   ]
  },
  {
   "cell_type": "code",
   "execution_count": 57,
   "id": "1737f07b-25d7-4e9a-950e-c41ea036b4c4",
   "metadata": {
    "tags": []
   },
   "outputs": [],
   "source": [
    "# Load Libraries\n",
    "\n",
    "import pandas as pd\n",
    "import numpy as np\n",
    "\n",
    "from sklearn.model_selection import train_test_split, StratifiedKFold\n",
    "from sklearn.metrics import recall_score\n",
    "\n",
    "from sklearn.ensemble import ExtraTreesClassifier\n",
    "\n",
    "import optuna"
   ]
  },
  {
   "cell_type": "code",
   "execution_count": 59,
   "id": "34b40b44-1c92-4b9d-ad57-3cddb44f6f0f",
   "metadata": {
    "tags": []
   },
   "outputs": [],
   "source": [
    "# Load Data\n",
    "\n",
    "df = pd.read_csv('bank_4.csv', index_col=0)"
   ]
  },
  {
   "cell_type": "code",
   "execution_count": 61,
   "id": "e25031a8-fef1-4150-86e7-8b7e22f0a9bb",
   "metadata": {
    "tags": []
   },
   "outputs": [],
   "source": [
    "# Train / Test Split\n",
    "\n",
    "X = df.drop(columns=['churn', 'complain', 'umap_1', 'umap_2'])\n",
    "y = df['churn']\n",
    "\n",
    "X_train, X_test, y_train, y_test = train_test_split(X, y, test_size=0.2, stratify=y, random_state=42)"
   ]
  },
  {
   "cell_type": "code",
   "execution_count": 65,
   "id": "2b530e97-2bc3-4b3d-b9f8-eb4ed610ff66",
   "metadata": {
    "tags": []
   },
   "outputs": [],
   "source": [
    "# Hyperparameter tuning\n",
    "\n",
    "def objective(trial):\n",
    "    \n",
    "    params = {\n",
    "        'n_estimators': trial.suggest_int('n_estimators', 100, 2000),\n",
    "        'max_features': trial.suggest_int('max_features', 4, 53),\n",
    "        'max_depth': trial.suggest_int('max_depth', 2, 50),\n",
    "        'min_samples_split': trial.suggest_int('min_samples_split', 2, 32),\n",
    "        'min_samples_leaf': trial.suggest_int('min_samples_leaf', 1, 32)\n",
    "    }\n",
    "\n",
    "    model = ExtraTreesClassifier(\n",
    "        **params,\n",
    "        random_state=42,\n",
    "        n_jobs=-1)\n",
    "        \n",
    "    threshold = 0.32\n",
    "    \n",
    "    skf = StratifiedKFold(n_splits=5, random_state=42, shuffle=True)\n",
    "    scores = []\n",
    "    \n",
    "    for tr, te in skf.split(X_train, y_train):\n",
    "        \n",
    "        X_tr, X_te = X_train.iloc[tr], X_train.iloc[te]\n",
    "        y_tr, y_te = y_train.iloc[tr], y_train.iloc[te]\n",
    "        \n",
    "        model.fit(X_tr, y_tr)\n",
    "        prob = model.predict_proba(X_te)[:, 1]\n",
    "        y_pred = np.where(prob < threshold, 0, 1)\n",
    "        \n",
    "        scores.append(recall_score(y_te, y_pred))\n",
    "        \n",
    "    return np.mean(scores)"
   ]
  },
  {
   "cell_type": "code",
   "execution_count": 67,
   "id": "eb85a387-214c-480a-8a96-d69570dcbce9",
   "metadata": {
    "tags": []
   },
   "outputs": [
    {
     "name": "stderr",
     "output_type": "stream",
     "text": [
      "[I 2024-07-08 18:08:23,968] A new study created in memory with name: no-name-c432d60f-4f9a-4a17-894c-9c01a9554790\n"
     ]
    },
    {
     "data": {
      "application/vnd.jupyter.widget-view+json": {
       "model_id": "c71d70ceb71749f186a134d8f1c494a4",
       "version_major": 2,
       "version_minor": 0
      },
      "text/plain": [
       "  0%|          | 0/100 [00:00<?, ?it/s]"
      ]
     },
     "metadata": {},
     "output_type": "display_data"
    },
    {
     "name": "stdout",
     "output_type": "stream",
     "text": [
      "[I 2024-07-08 18:08:31,942] Trial 0 finished with value: 0.6276073619631901 and parameters: {'n_estimators': 633, 'max_features': 50, 'max_depth': 42, 'min_samples_split': 32, 'min_samples_leaf': 9}. Best is trial 0 with value: 0.6276073619631901.\n",
      "[I 2024-07-08 18:08:34,751] Trial 1 finished with value: 0.6337423312883435 and parameters: {'n_estimators': 219, 'max_features': 50, 'max_depth': 41, 'min_samples_split': 31, 'min_samples_leaf': 5}. Best is trial 1 with value: 0.6337423312883435.\n",
      "[I 2024-07-08 18:08:39,550] Trial 2 finished with value: 0.5852760736196319 and parameters: {'n_estimators': 571, 'max_features': 5, 'max_depth': 21, 'min_samples_split': 24, 'min_samples_leaf': 24}. Best is trial 1 with value: 0.6337423312883435.\n",
      "[I 2024-07-08 18:09:06,049] Trial 3 finished with value: 0.6294478527607362 and parameters: {'n_estimators': 1971, 'max_features': 33, 'max_depth': 17, 'min_samples_split': 11, 'min_samples_leaf': 18}. Best is trial 1 with value: 0.6337423312883435.\n",
      "[I 2024-07-08 18:09:26,335] Trial 4 finished with value: 0.6294478527607362 and parameters: {'n_estimators': 1485, 'max_features': 23, 'max_depth': 22, 'min_samples_split': 18, 'min_samples_leaf': 18}. Best is trial 1 with value: 0.6337423312883435.\n",
      "[I 2024-07-08 18:09:39,804] Trial 5 finished with value: 0.6288343558282208 and parameters: {'n_estimators': 928, 'max_features': 53, 'max_depth': 22, 'min_samples_split': 31, 'min_samples_leaf': 8}. Best is trial 1 with value: 0.6337423312883435.\n",
      "[I 2024-07-08 18:09:50,251] Trial 6 finished with value: 0.4748466257668712 and parameters: {'n_estimators': 1195, 'max_features': 35, 'max_depth': 3, 'min_samples_split': 11, 'min_samples_leaf': 29}. Best is trial 1 with value: 0.6337423312883435.\n",
      "[I 2024-07-08 18:10:14,415] Trial 7 finished with value: 0.6214723926380368 and parameters: {'n_estimators': 1830, 'max_features': 28, 'max_depth': 8, 'min_samples_split': 31, 'min_samples_leaf': 2}. Best is trial 1 with value: 0.6337423312883435.\n",
      "[I 2024-07-08 18:10:38,790] Trial 8 finished with value: 0.6153374233128834 and parameters: {'n_estimators': 1811, 'max_features': 35, 'max_depth': 27, 'min_samples_split': 15, 'min_samples_leaf': 32}. Best is trial 1 with value: 0.6337423312883435.\n",
      "[I 2024-07-08 18:10:48,572] Trial 9 finished with value: 0.6263803680981594 and parameters: {'n_estimators': 615, 'max_features': 21, 'max_depth': 44, 'min_samples_split': 10, 'min_samples_leaf': 11}. Best is trial 1 with value: 0.6337423312883435.\n",
      "[I 2024-07-08 18:10:51,178] Trial 10 finished with value: 0.6294478527607362 and parameters: {'n_estimators': 158, 'max_features': 44, 'max_depth': 34, 'min_samples_split': 2, 'min_samples_leaf': 6}. Best is trial 1 with value: 0.6337423312883435.\n",
      "[I 2024-07-08 18:10:53,141] Trial 11 finished with value: 0.6269938650306748 and parameters: {'n_estimators': 129, 'max_features': 42, 'max_depth': 13, 'min_samples_split': 22, 'min_samples_leaf': 17}. Best is trial 1 with value: 0.6337423312883435.\n",
      "[I 2024-07-08 18:11:10,261] Trial 12 finished with value: 0.6226993865030674 and parameters: {'n_estimators': 1371, 'max_features': 13, 'max_depth': 31, 'min_samples_split': 5, 'min_samples_leaf': 22}. Best is trial 1 with value: 0.6337423312883435.\n",
      "[I 2024-07-08 18:11:40,598] Trial 13 finished with value: 0.6331288343558283 and parameters: {'n_estimators': 1966, 'max_features': 40, 'max_depth': 38, 'min_samples_split': 25, 'min_samples_leaf': 13}. Best is trial 1 with value: 0.6337423312883435.\n",
      "[I 2024-07-08 18:11:56,646] Trial 14 finished with value: 0.6288343558282208 and parameters: {'n_estimators': 952, 'max_features': 42, 'max_depth': 48, 'min_samples_split': 26, 'min_samples_leaf': 3}. Best is trial 1 with value: 0.6337423312883435.\n",
      "[I 2024-07-08 18:12:21,043] Trial 15 finished with value: 0.6343558282208589 and parameters: {'n_estimators': 1586, 'max_features': 46, 'max_depth': 37, 'min_samples_split': 28, 'min_samples_leaf': 13}. Best is trial 15 with value: 0.6343558282208589.\n",
      "[I 2024-07-08 18:12:44,547] Trial 16 finished with value: 0.6349693251533741 and parameters: {'n_estimators': 1522, 'max_features': 49, 'max_depth': 37, 'min_samples_split': 28, 'min_samples_leaf': 14}. Best is trial 16 with value: 0.6349693251533741.\n",
      "[I 2024-07-08 18:13:08,052] Trial 17 finished with value: 0.6361963190184049 and parameters: {'n_estimators': 1567, 'max_features': 47, 'max_depth': 34, 'min_samples_split': 21, 'min_samples_leaf': 14}. Best is trial 17 with value: 0.6361963190184049.\n",
      "[I 2024-07-08 18:13:26,223] Trial 18 finished with value: 0.6165644171779141 and parameters: {'n_estimators': 1235, 'max_features': 48, 'max_depth': 50, 'min_samples_split': 18, 'min_samples_leaf': 22}. Best is trial 17 with value: 0.6361963190184049.\n",
      "[I 2024-07-08 18:13:53,379] Trial 19 finished with value: 0.6361963190184049 and parameters: {'n_estimators': 1671, 'max_features': 38, 'max_depth': 30, 'min_samples_split': 21, 'min_samples_leaf': 14}. Best is trial 17 with value: 0.6361963190184049.\n",
      "[I 2024-07-08 18:14:16,924] Trial 20 finished with value: 0.6196319018404907 and parameters: {'n_estimators': 1654, 'max_features': 29, 'max_depth': 29, 'min_samples_split': 20, 'min_samples_leaf': 25}. Best is trial 17 with value: 0.6361963190184049.\n",
      "[I 2024-07-08 18:14:44,395] Trial 21 finished with value: 0.6361963190184049 and parameters: {'n_estimators': 1650, 'max_features': 39, 'max_depth': 33, 'min_samples_split': 15, 'min_samples_leaf': 14}. Best is trial 17 with value: 0.6361963190184049.\n",
      "[I 2024-07-08 18:15:12,255] Trial 22 finished with value: 0.6300613496932514 and parameters: {'n_estimators': 1728, 'max_features': 37, 'max_depth': 33, 'min_samples_split': 15, 'min_samples_leaf': 16}. Best is trial 17 with value: 0.6361963190184049.\n",
      "[I 2024-07-08 18:15:34,834] Trial 23 finished with value: 0.6276073619631902 and parameters: {'n_estimators': 1327, 'max_features': 38, 'max_depth': 27, 'min_samples_split': 22, 'min_samples_leaf': 10}. Best is trial 17 with value: 0.6361963190184049.\n",
      "[I 2024-07-08 18:15:57,375] Trial 24 finished with value: 0.6251533742331288 and parameters: {'n_estimators': 1444, 'max_features': 30, 'max_depth': 33, 'min_samples_split': 14, 'min_samples_leaf': 20}. Best is trial 17 with value: 0.6361963190184049.\n",
      "[I 2024-07-08 18:16:25,512] Trial 25 finished with value: 0.6319018404907975 and parameters: {'n_estimators': 1732, 'max_features': 44, 'max_depth': 30, 'min_samples_split': 20, 'min_samples_leaf': 15}. Best is trial 17 with value: 0.6361963190184049.\n",
      "[I 2024-07-08 18:16:44,600] Trial 26 finished with value: 0.6269938650306748 and parameters: {'n_estimators': 1130, 'max_features': 53, 'max_depth': 25, 'min_samples_split': 13, 'min_samples_leaf': 11}. Best is trial 17 with value: 0.6361963190184049.\n",
      "[I 2024-07-08 18:17:15,751] Trial 27 finished with value: 0.6276073619631901 and parameters: {'n_estimators': 1858, 'max_features': 24, 'max_depth': 45, 'min_samples_split': 8, 'min_samples_leaf': 7}. Best is trial 17 with value: 0.6361963190184049.\n",
      "[I 2024-07-08 18:17:40,978] Trial 28 finished with value: 0.6251533742331288 and parameters: {'n_estimators': 1616, 'max_features': 39, 'max_depth': 17, 'min_samples_split': 20, 'min_samples_leaf': 20}. Best is trial 17 with value: 0.6361963190184049.\n",
      "[I 2024-07-08 18:17:56,998] Trial 29 finished with value: 0.6331288343558281 and parameters: {'n_estimators': 1032, 'max_features': 46, 'max_depth': 40, 'min_samples_split': 16, 'min_samples_leaf': 12}. Best is trial 17 with value: 0.6361963190184049.\n",
      "[I 2024-07-08 18:18:19,257] Trial 30 finished with value: 0.6300613496932514 and parameters: {'n_estimators': 1310, 'max_features': 32, 'max_depth': 36, 'min_samples_split': 23, 'min_samples_leaf': 9}. Best is trial 17 with value: 0.6361963190184049.\n",
      "[I 2024-07-08 18:18:44,251] Trial 31 finished with value: 0.6361963190184049 and parameters: {'n_estimators': 1541, 'max_features': 49, 'max_depth': 35, 'min_samples_split': 28, 'min_samples_leaf': 14}. Best is trial 17 with value: 0.6361963190184049.\n",
      "[I 2024-07-08 18:18:57,180] Trial 32 finished with value: 0.6343558282208589 and parameters: {'n_estimators': 770, 'max_features': 51, 'max_depth': 41, 'min_samples_split': 26, 'min_samples_leaf': 14}. Best is trial 17 with value: 0.6361963190184049.\n",
      "[I 2024-07-08 18:19:21,007] Trial 33 finished with value: 0.6312883435582822 and parameters: {'n_estimators': 1456, 'max_features': 46, 'max_depth': 34, 'min_samples_split': 28, 'min_samples_leaf': 16}. Best is trial 17 with value: 0.6361963190184049.\n",
      "[I 2024-07-08 18:19:28,532] Trial 34 finished with value: 0.6239263803680981 and parameters: {'n_estimators': 460, 'max_features': 49, 'max_depth': 24, 'min_samples_split': 18, 'min_samples_leaf': 20}. Best is trial 17 with value: 0.6361963190184049.\n",
      "[I 2024-07-08 18:19:58,279] Trial 35 finished with value: 0.6282208588957056 and parameters: {'n_estimators': 1723, 'max_features': 42, 'max_depth': 30, 'min_samples_split': 21, 'min_samples_leaf': 9}. Best is trial 17 with value: 0.6361963190184049.\n",
      "[I 2024-07-08 18:20:30,024] Trial 36 finished with value: 0.6294478527607362 and parameters: {'n_estimators': 1917, 'max_features': 51, 'max_depth': 18, 'min_samples_split': 17, 'min_samples_leaf': 19}. Best is trial 17 with value: 0.6361963190184049.\n",
      "[I 2024-07-08 18:20:56,852] Trial 37 finished with value: 0.6288343558282208 and parameters: {'n_estimators': 1599, 'max_features': 35, 'max_depth': 43, 'min_samples_split': 24, 'min_samples_leaf': 17}. Best is trial 17 with value: 0.6361963190184049.\n",
      "[I 2024-07-08 18:21:20,974] Trial 38 finished with value: 0.6343558282208589 and parameters: {'n_estimators': 1461, 'max_features': 41, 'max_depth': 39, 'min_samples_split': 32, 'min_samples_leaf': 4}. Best is trial 17 with value: 0.6361963190184049.\n",
      "[I 2024-07-08 18:21:42,435] Trial 39 finished with value: 0.6165644171779141 and parameters: {'n_estimators': 1762, 'max_features': 9, 'max_depth': 28, 'min_samples_split': 12, 'min_samples_leaf': 15}. Best is trial 17 with value: 0.6361963190184049.\n",
      "[I 2024-07-08 18:22:00,089] Trial 40 finished with value: 0.6319018404907976 and parameters: {'n_estimators': 1208, 'max_features': 37, 'max_depth': 23, 'min_samples_split': 30, 'min_samples_leaf': 12}. Best is trial 17 with value: 0.6361963190184049.\n",
      "[I 2024-07-08 18:22:22,236] Trial 41 finished with value: 0.6349693251533741 and parameters: {'n_estimators': 1517, 'max_features': 48, 'max_depth': 36, 'min_samples_split': 28, 'min_samples_leaf': 14}. Best is trial 17 with value: 0.6361963190184049.\n",
      "[I 2024-07-08 18:22:44,998] Trial 42 finished with value: 0.6319018404907976 and parameters: {'n_estimators': 1539, 'max_features': 45, 'max_depth': 32, 'min_samples_split': 29, 'min_samples_leaf': 14}. Best is trial 17 with value: 0.6361963190184049.\n",
      "[I 2024-07-08 18:23:10,200] Trial 43 finished with value: 0.6294478527607362 and parameters: {'n_estimators': 1648, 'max_features': 50, 'max_depth': 35, 'min_samples_split': 25, 'min_samples_leaf': 18}. Best is trial 17 with value: 0.6361963190184049.\n",
      "[I 2024-07-08 18:23:32,755] Trial 44 finished with value: 0.6300613496932514 and parameters: {'n_estimators': 1380, 'max_features': 52, 'max_depth': 41, 'min_samples_split': 27, 'min_samples_leaf': 11}. Best is trial 17 with value: 0.6361963190184049.\n",
      "[I 2024-07-08 18:24:03,615] Trial 45 finished with value: 0.6325153374233128 and parameters: {'n_estimators': 1897, 'max_features': 48, 'max_depth': 20, 'min_samples_split': 19, 'min_samples_leaf': 15}. Best is trial 17 with value: 0.6361963190184049.\n",
      "[I 2024-07-08 18:24:35,585] Trial 46 finished with value: 0.6269938650306749 and parameters: {'n_estimators': 1808, 'max_features': 26, 'max_depth': 38, 'min_samples_split': 9, 'min_samples_leaf': 7}. Best is trial 17 with value: 0.6361963190184049.\n",
      "[I 2024-07-08 18:25:02,664] Trial 47 finished with value: 0.6325153374233128 and parameters: {'n_estimators': 1659, 'max_features': 43, 'max_depth': 26, 'min_samples_split': 24, 'min_samples_leaf': 13}. Best is trial 17 with value: 0.6361963190184049.\n",
      "[I 2024-07-08 18:25:26,497] Trial 48 finished with value: 0.6300613496932514 and parameters: {'n_estimators': 1524, 'max_features': 33, 'max_depth': 31, 'min_samples_split': 32, 'min_samples_leaf': 18}. Best is trial 17 with value: 0.6361963190184049.\n",
      "[I 2024-07-08 18:25:31,049] Trial 49 finished with value: 0.6288343558282209 and parameters: {'n_estimators': 299, 'max_features': 16, 'max_depth': 46, 'min_samples_split': 22, 'min_samples_leaf': 10}. Best is trial 17 with value: 0.6361963190184049.\n",
      "[I 2024-07-08 18:26:00,557] Trial 50 finished with value: 0.6171779141104294 and parameters: {'n_estimators': 1973, 'max_features': 40, 'max_depth': 35, 'min_samples_split': 29, 'min_samples_leaf': 22}. Best is trial 17 with value: 0.6361963190184049.\n",
      "[I 2024-07-08 18:26:26,443] Trial 51 finished with value: 0.6361963190184049 and parameters: {'n_estimators': 1543, 'max_features': 47, 'max_depth': 36, 'min_samples_split': 27, 'min_samples_leaf': 14}. Best is trial 17 with value: 0.6361963190184049.\n",
      "[I 2024-07-08 18:26:48,055] Trial 52 finished with value: 0.6294478527607362 and parameters: {'n_estimators': 1414, 'max_features': 47, 'max_depth': 38, 'min_samples_split': 26, 'min_samples_leaf': 16}. Best is trial 17 with value: 0.6361963190184049.\n",
      "[I 2024-07-08 18:27:08,762] Trial 53 finished with value: 0.6312883435582822 and parameters: {'n_estimators': 1288, 'max_features': 50, 'max_depth': 32, 'min_samples_split': 30, 'min_samples_leaf': 12}. Best is trial 17 with value: 0.6361963190184049.\n",
      "[I 2024-07-08 18:27:23,466] Trial 54 finished with value: 0.4754601226993865 and parameters: {'n_estimators': 1541, 'max_features': 44, 'max_depth': 3, 'min_samples_split': 23, 'min_samples_leaf': 14}. Best is trial 17 with value: 0.6361963190184049.\n",
      "[I 2024-07-08 18:27:50,654] Trial 55 finished with value: 0.6282208588957056 and parameters: {'n_estimators': 1708, 'max_features': 53, 'max_depth': 34, 'min_samples_split': 27, 'min_samples_leaf': 17}. Best is trial 17 with value: 0.6361963190184049.\n",
      "[I 2024-07-08 18:28:24,533] Trial 56 finished with value: 0.6257668711656442 and parameters: {'n_estimators': 1812, 'max_features': 36, 'max_depth': 29, 'min_samples_split': 15, 'min_samples_leaf': 10}. Best is trial 17 with value: 0.6361963190184049.\n",
      "[I 2024-07-08 18:28:51,259] Trial 57 finished with value: 0.6331288343558283 and parameters: {'n_estimators': 1572, 'max_features': 45, 'max_depth': 37, 'min_samples_split': 25, 'min_samples_leaf': 13}. Best is trial 17 with value: 0.6361963190184049.\n",
      "[I 2024-07-08 18:29:07,186] Trial 58 finished with value: 0.6165644171779141 and parameters: {'n_estimators': 1100, 'max_features': 49, 'max_depth': 32, 'min_samples_split': 17, 'min_samples_leaf': 28}. Best is trial 17 with value: 0.6361963190184049.\n",
      "[I 2024-07-08 18:29:30,925] Trial 59 finished with value: 0.6319018404907976 and parameters: {'n_estimators': 1372, 'max_features': 41, 'max_depth': 43, 'min_samples_split': 30, 'min_samples_leaf': 1}. Best is trial 17 with value: 0.6361963190184049.\n",
      "[I 2024-07-08 18:29:57,791] Trial 60 finished with value: 0.6325153374233129 and parameters: {'n_estimators': 1683, 'max_features': 47, 'max_depth': 36, 'min_samples_split': 23, 'min_samples_leaf': 15}. Best is trial 17 with value: 0.6361963190184049.\n",
      "[I 2024-07-08 18:30:22,628] Trial 61 finished with value: 0.6349693251533741 and parameters: {'n_estimators': 1524, 'max_features': 49, 'max_depth': 36, 'min_samples_split': 28, 'min_samples_leaf': 14}. Best is trial 17 with value: 0.6361963190184049.\n",
      "[I 2024-07-08 18:30:46,656] Trial 62 finished with value: 0.6325153374233129 and parameters: {'n_estimators': 1504, 'max_features': 47, 'max_depth': 39, 'min_samples_split': 27, 'min_samples_leaf': 12}. Best is trial 17 with value: 0.6361963190184049.\n",
      "[I 2024-07-08 18:31:11,486] Trial 63 finished with value: 0.6300613496932514 and parameters: {'n_estimators': 1616, 'max_features': 43, 'max_depth': 34, 'min_samples_split': 29, 'min_samples_leaf': 16}. Best is trial 17 with value: 0.6361963190184049.\n",
      "[I 2024-07-08 18:31:34,825] Trial 64 finished with value: 0.6288343558282209 and parameters: {'n_estimators': 1425, 'max_features': 52, 'max_depth': 27, 'min_samples_split': 31, 'min_samples_leaf': 11}. Best is trial 17 with value: 0.6361963190184049.\n",
      "[I 2024-07-08 18:32:03,934] Trial 65 finished with value: 0.6325153374233128 and parameters: {'n_estimators': 1758, 'max_features': 39, 'max_depth': 11, 'min_samples_split': 21, 'min_samples_leaf': 13}. Best is trial 17 with value: 0.6361963190184049.\n",
      "[I 2024-07-08 18:32:23,872] Trial 66 finished with value: 0.6282208588957056 and parameters: {'n_estimators': 1270, 'max_features': 48, 'max_depth': 30, 'min_samples_split': 26, 'min_samples_leaf': 18}. Best is trial 17 with value: 0.6361963190184049.\n",
      "[I 2024-07-08 18:32:52,148] Trial 67 finished with value: 0.6276073619631901 and parameters: {'n_estimators': 1589, 'max_features': 45, 'max_depth': 41, 'min_samples_split': 19, 'min_samples_leaf': 8}. Best is trial 17 with value: 0.6361963190184049.\n",
      "[I 2024-07-08 18:33:15,720] Trial 68 finished with value: 0.6312883435582821 and parameters: {'n_estimators': 1475, 'max_features': 51, 'max_depth': 37, 'min_samples_split': 14, 'min_samples_leaf': 15}. Best is trial 17 with value: 0.6361963190184049.\n",
      "[I 2024-07-08 18:33:37,109] Trial 69 finished with value: 0.6282208588957056 and parameters: {'n_estimators': 1326, 'max_features': 43, 'max_depth': 33, 'min_samples_split': 28, 'min_samples_leaf': 19}. Best is trial 17 with value: 0.6361963190184049.\n",
      "[I 2024-07-08 18:34:11,021] Trial 70 finished with value: 0.6349693251533743 and parameters: {'n_estimators': 1876, 'max_features': 30, 'max_depth': 39, 'min_samples_split': 24, 'min_samples_leaf': 14}. Best is trial 17 with value: 0.6361963190184049.\n",
      "[I 2024-07-08 18:34:47,968] Trial 71 finished with value: 0.6355828220858897 and parameters: {'n_estimators': 1862, 'max_features': 20, 'max_depth': 39, 'min_samples_split': 24, 'min_samples_leaf': 14}. Best is trial 17 with value: 0.6361963190184049.\n",
      "[I 2024-07-08 18:35:20,373] Trial 72 finished with value: 0.6337423312883436 and parameters: {'n_estimators': 1883, 'max_features': 22, 'max_depth': 40, 'min_samples_split': 25, 'min_samples_leaf': 13}. Best is trial 17 with value: 0.6361963190184049.\n",
      "[I 2024-07-08 18:35:52,772] Trial 73 finished with value: 0.6312883435582822 and parameters: {'n_estimators': 1809, 'max_features': 19, 'max_depth': 39, 'min_samples_split': 21, 'min_samples_leaf': 16}. Best is trial 17 with value: 0.6361963190184049.\n",
      "[I 2024-07-08 18:36:22,772] Trial 74 finished with value: 0.6319018404907976 and parameters: {'n_estimators': 1766, 'max_features': 31, 'max_depth': 43, 'min_samples_split': 24, 'min_samples_leaf': 12}. Best is trial 17 with value: 0.6361963190184049.\n",
      "[I 2024-07-08 18:36:52,751] Trial 75 finished with value: 0.6282208588957056 and parameters: {'n_estimators': 1926, 'max_features': 28, 'max_depth': 45, 'min_samples_split': 22, 'min_samples_leaf': 17}. Best is trial 17 with value: 0.6361963190184049.\n",
      "[I 2024-07-08 18:37:25,109] Trial 76 finished with value: 0.6349693251533742 and parameters: {'n_estimators': 1982, 'max_features': 24, 'max_depth': 35, 'min_samples_split': 23, 'min_samples_leaf': 14}. Best is trial 17 with value: 0.6361963190184049.\n",
      "[I 2024-07-08 18:37:58,083] Trial 77 finished with value: 0.6325153374233128 and parameters: {'n_estimators': 1978, 'max_features': 19, 'max_depth': 35, 'min_samples_split': 19, 'min_samples_leaf': 15}. Best is trial 17 with value: 0.6361963190184049.\n",
      "[I 2024-07-08 18:38:30,078] Trial 78 finished with value: 0.6269938650306748 and parameters: {'n_estimators': 1867, 'max_features': 25, 'max_depth': 31, 'min_samples_split': 23, 'min_samples_leaf': 10}. Best is trial 17 with value: 0.6361963190184049.\n",
      "[I 2024-07-08 18:38:58,179] Trial 79 finished with value: 0.6282208588957056 and parameters: {'n_estimators': 1938, 'max_features': 20, 'max_depth': 33, 'min_samples_split': 25, 'min_samples_leaf': 11}. Best is trial 17 with value: 0.6361963190184049.\n",
      "[I 2024-07-08 18:39:26,618] Trial 80 finished with value: 0.6331288343558283 and parameters: {'n_estimators': 1999, 'max_features': 27, 'max_depth': 38, 'min_samples_split': 22, 'min_samples_leaf': 13}. Best is trial 17 with value: 0.6361963190184049.\n",
      "[I 2024-07-08 18:39:51,559] Trial 81 finished with value: 0.6263803680981594 and parameters: {'n_estimators': 1848, 'max_features': 15, 'max_depth': 40, 'min_samples_split': 24, 'min_samples_leaf': 14}. Best is trial 17 with value: 0.6361963190184049.\n",
      "[I 2024-07-08 18:40:18,695] Trial 82 finished with value: 0.6361963190184049 and parameters: {'n_estimators': 1684, 'max_features': 24, 'max_depth': 35, 'min_samples_split': 16, 'min_samples_leaf': 14}. Best is trial 17 with value: 0.6361963190184049.\n",
      "[I 2024-07-08 18:40:43,549] Trial 83 finished with value: 0.6312883435582822 and parameters: {'n_estimators': 1645, 'max_features': 24, 'max_depth': 34, 'min_samples_split': 16, 'min_samples_leaf': 16}. Best is trial 17 with value: 0.6361963190184049.\n",
      "[I 2024-07-08 18:41:10,265] Trial 84 finished with value: 0.6319018404907976 and parameters: {'n_estimators': 1707, 'max_features': 22, 'max_depth': 36, 'min_samples_split': 18, 'min_samples_leaf': 12}. Best is trial 17 with value: 0.6361963190184049.\n",
      "[I 2024-07-08 18:41:36,858] Trial 85 finished with value: 0.6319018404907975 and parameters: {'n_estimators': 1770, 'max_features': 30, 'max_depth': 29, 'min_samples_split': 16, 'min_samples_leaf': 15}. Best is trial 17 with value: 0.6361963190184049.\n",
      "[I 2024-07-08 18:42:02,972] Trial 86 finished with value: 0.6361963190184049 and parameters: {'n_estimators': 1675, 'max_features': 26, 'max_depth': 31, 'min_samples_split': 13, 'min_samples_leaf': 14}. Best is trial 17 with value: 0.6361963190184049.\n",
      "[I 2024-07-08 18:42:16,229] Trial 87 finished with value: 0.6288343558282208 and parameters: {'n_estimators': 840, 'max_features': 26, 'max_depth': 31, 'min_samples_split': 12, 'min_samples_leaf': 17}. Best is trial 17 with value: 0.6361963190184049.\n",
      "[I 2024-07-08 18:42:42,956] Trial 88 finished with value: 0.6276073619631902 and parameters: {'n_estimators': 1694, 'max_features': 33, 'max_depth': 32, 'min_samples_split': 14, 'min_samples_leaf': 11}. Best is trial 17 with value: 0.6361963190184049.\n",
      "[I 2024-07-08 18:43:07,226] Trial 89 finished with value: 0.6331288343558283 and parameters: {'n_estimators': 1635, 'max_features': 21, 'max_depth': 25, 'min_samples_split': 10, 'min_samples_leaf': 13}. Best is trial 17 with value: 0.6361963190184049.\n",
      "[I 2024-07-08 18:43:30,403] Trial 90 finished with value: 0.6294478527607362 and parameters: {'n_estimators': 1556, 'max_features': 34, 'max_depth': 28, 'min_samples_split': 2, 'min_samples_leaf': 19}. Best is trial 17 with value: 0.6361963190184049.\n",
      "[I 2024-07-08 18:43:58,857] Trial 91 finished with value: 0.6331288343558283 and parameters: {'n_estimators': 1829, 'max_features': 17, 'max_depth': 35, 'min_samples_split': 12, 'min_samples_leaf': 14}. Best is trial 17 with value: 0.6361963190184049.\n",
      "[I 2024-07-08 18:44:27,513] Trial 92 finished with value: 0.6349693251533743 and parameters: {'n_estimators': 1775, 'max_features': 24, 'max_depth': 33, 'min_samples_split': 20, 'min_samples_leaf': 14}. Best is trial 17 with value: 0.6361963190184049.\n",
      "[I 2024-07-08 18:44:55,222] Trial 93 finished with value: 0.6319018404907975 and parameters: {'n_estimators': 1744, 'max_features': 23, 'max_depth': 33, 'min_samples_split': 20, 'min_samples_leaf': 15}. Best is trial 17 with value: 0.6361963190184049.\n",
      "[I 2024-07-08 18:45:24,576] Trial 94 finished with value: 0.6319018404907976 and parameters: {'n_estimators': 1671, 'max_features': 27, 'max_depth': 37, 'min_samples_split': 13, 'min_samples_leaf': 12}. Best is trial 17 with value: 0.6361963190184049.\n",
      "[I 2024-07-08 18:45:52,575] Trial 95 finished with value: 0.6312883435582822 and parameters: {'n_estimators': 1781, 'max_features': 29, 'max_depth': 30, 'min_samples_split': 16, 'min_samples_leaf': 16}. Best is trial 17 with value: 0.6361963190184049.\n",
      "[I 2024-07-08 18:46:21,141] Trial 96 finished with value: 0.6331288343558283 and parameters: {'n_estimators': 1609, 'max_features': 25, 'max_depth': 28, 'min_samples_split': 17, 'min_samples_leaf': 13}. Best is trial 17 with value: 0.6361963190184049.\n",
      "[I 2024-07-08 18:46:48,346] Trial 97 finished with value: 0.6355828220858897 and parameters: {'n_estimators': 1574, 'max_features': 18, 'max_depth': 38, 'min_samples_split': 6, 'min_samples_leaf': 14}. Best is trial 17 with value: 0.6361963190184049.\n",
      "[I 2024-07-08 18:47:10,548] Trial 98 finished with value: 0.6233128834355828 and parameters: {'n_estimators': 1566, 'max_features': 13, 'max_depth': 39, 'min_samples_split': 5, 'min_samples_leaf': 15}. Best is trial 17 with value: 0.6361963190184049.\n",
      "[I 2024-07-08 18:47:32,737] Trial 99 finished with value: 0.6319018404907976 and parameters: {'n_estimators': 1466, 'max_features': 18, 'max_depth': 34, 'min_samples_split': 6, 'min_samples_leaf': 12}. Best is trial 17 with value: 0.6361963190184049.\n"
     ]
    }
   ],
   "source": [
    "study = optuna.create_study(direction='maximize')\n",
    "study.optimize(objective, n_trials=100, show_progress_bar=True)"
   ]
  },
  {
   "cell_type": "code",
   "execution_count": 77,
   "id": "eea8aafd-af4f-4ad6-bf8a-53d2592270df",
   "metadata": {
    "tags": []
   },
   "outputs": [
    {
     "name": "stdout",
     "output_type": "stream",
     "text": [
      "Best trial: FrozenTrial(number=17, state=1, values=[0.6361963190184049], datetime_start=datetime.datetime(2024, 7, 8, 18, 12, 44, 549935), datetime_complete=datetime.datetime(2024, 7, 8, 18, 13, 8, 51777), params={'n_estimators': 1567, 'max_features': 47, 'max_depth': 34, 'min_samples_split': 21, 'min_samples_leaf': 14}, user_attrs={}, system_attrs={}, intermediate_values={}, distributions={'n_estimators': IntDistribution(high=2000, log=False, low=100, step=1), 'max_features': IntDistribution(high=53, log=False, low=4, step=1), 'max_depth': IntDistribution(high=50, log=False, low=2, step=1), 'min_samples_split': IntDistribution(high=32, log=False, low=2, step=1), 'min_samples_leaf': IntDistribution(high=32, log=False, low=1, step=1)}, trial_id=17, value=None)\n",
      "Best hyperparameters: {'n_estimators': 1567, 'max_features': 47, 'max_depth': 34, 'min_samples_split': 21, 'min_samples_leaf': 14}\n"
     ]
    }
   ],
   "source": [
    "print(\"Best trial:\", study.best_trial)\n",
    "print(\"Best hyperparameters:\", study.best_params)"
   ]
  },
  {
   "cell_type": "code",
   "execution_count": null,
   "id": "fe68db3b-05af-46f9-b52b-f33a3c16fa69",
   "metadata": {},
   "outputs": [],
   "source": []
  }
 ],
 "metadata": {
  "kernelspec": {
   "display_name": "Python 3 (ipykernel)",
   "language": "python",
   "name": "python3"
  },
  "language_info": {
   "codemirror_mode": {
    "name": "ipython",
    "version": 3
   },
   "file_extension": ".py",
   "mimetype": "text/x-python",
   "name": "python",
   "nbconvert_exporter": "python",
   "pygments_lexer": "ipython3",
   "version": "3.11.5"
  }
 },
 "nbformat": 4,
 "nbformat_minor": 5
}

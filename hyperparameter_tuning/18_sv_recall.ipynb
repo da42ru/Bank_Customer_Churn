{
 "cells": [
  {
   "cell_type": "markdown",
   "id": "b8305d2b-05a2-4c03-96c1-41a8ed3e3f4e",
   "metadata": {},
   "source": [
    "## Support Vector Hyperparameter Tuning (Recall)"
   ]
  },
  {
   "cell_type": "code",
   "execution_count": 10,
   "id": "1737f07b-25d7-4e9a-950e-c41ea036b4c4",
   "metadata": {
    "tags": []
   },
   "outputs": [],
   "source": [
    "# Load Libraries\n",
    "\n",
    "import pandas as pd\n",
    "import numpy as np\n",
    "\n",
    "from sklearn.preprocessing import StandardScaler, MinMaxScaler\n",
    "from sklearn.model_selection import train_test_split, StratifiedKFold\n",
    "from sklearn.metrics import recall_score\n",
    "\n",
    "from sklearn.svm import SVC\n",
    "\n",
    "import optuna"
   ]
  },
  {
   "cell_type": "code",
   "execution_count": 12,
   "id": "34b40b44-1c92-4b9d-ad57-3cddb44f6f0f",
   "metadata": {
    "tags": []
   },
   "outputs": [],
   "source": [
    "# Load Data\n",
    "\n",
    "df = pd.read_csv('bank_4.csv', index_col=0)"
   ]
  },
  {
   "cell_type": "code",
   "execution_count": 14,
   "id": "e25031a8-fef1-4150-86e7-8b7e22f0a9bb",
   "metadata": {
    "tags": []
   },
   "outputs": [],
   "source": [
    "# Train / Test Split\n",
    "\n",
    "X = df.drop(columns=['churn', 'complain', 'umap_1', 'umap_2'])\n",
    "y = df['churn']\n",
    "\n",
    "X_train, X_test, y_train, y_test = train_test_split(X, y, test_size=0.2, stratify=y, random_state=42)"
   ]
  },
  {
   "cell_type": "code",
   "execution_count": 16,
   "id": "2b530e97-2bc3-4b3d-b9f8-eb4ed610ff66",
   "metadata": {
    "tags": []
   },
   "outputs": [],
   "source": [
    "# Hyperparameter tuning\n",
    "\n",
    "def objective(trial):\n",
    "    \n",
    "    params = {\n",
    "        'C': trial.suggest_float('C', 0.001, 1.0),\n",
    "        'kernel': trial.suggest_categorical('kernel', ['linear', 'rbf', 'poly'])\n",
    "    }\n",
    "\n",
    "    model = SVC(\n",
    "        **params,\n",
    "        random_state=42,\n",
    "        probability=True)\n",
    "    \n",
    "    threshold = 0.27\n",
    "    \n",
    "    skf = StratifiedKFold(n_splits=5, random_state=42, shuffle=True)\n",
    "    scores = []\n",
    "    \n",
    "    for tr, te in skf.split(X_train, y_train):\n",
    "        \n",
    "        X_tr, X_te = X_train.iloc[tr], X_train.iloc[te]\n",
    "        y_tr, y_te = y_train.iloc[tr], y_train.iloc[te]\n",
    "        \n",
    "        model.fit(X_tr, y_tr)\n",
    "        prob = model.predict_proba(X_te)[:, 1]\n",
    "        y_pred = np.where(prob < threshold, 0, 1)\n",
    "        \n",
    "        scores.append(recall_score(y_te, y_pred))\n",
    "        \n",
    "    return np.mean(scores)"
   ]
  },
  {
   "cell_type": "code",
   "execution_count": 18,
   "id": "eb85a387-214c-480a-8a96-d69570dcbce9",
   "metadata": {
    "tags": []
   },
   "outputs": [
    {
     "name": "stderr",
     "output_type": "stream",
     "text": [
      "[I 2024-07-15 18:37:49,969] A new study created in memory with name: no-name-d10cb353-8546-4073-946c-61c85af42e9e\n"
     ]
    },
    {
     "data": {
      "application/vnd.jupyter.widget-view+json": {
       "model_id": "ac287b384f354585a18a9f3fcbf38230",
       "version_major": 2,
       "version_minor": 0
      },
      "text/plain": [
       "  0%|          | 0/100 [00:00<?, ?it/s]"
      ]
     },
     "metadata": {},
     "output_type": "display_data"
    },
    {
     "name": "stdout",
     "output_type": "stream",
     "text": [
      "[I 2024-07-15 18:38:27,210] Trial 0 finished with value: 0.558282208588957 and parameters: {'C': 0.051199972487481114, 'kernel': 'rbf'}. Best is trial 0 with value: 0.558282208588957.\n",
      "[I 2024-07-15 18:38:56,122] Trial 1 finished with value: 0.5 and parameters: {'C': 0.07972708110156429, 'kernel': 'poly'}. Best is trial 0 with value: 0.558282208588957.\n",
      "[I 2024-07-15 18:39:14,184] Trial 2 finished with value: 0.43128834355828227 and parameters: {'C': 0.0051896276710999166, 'kernel': 'linear'}. Best is trial 0 with value: 0.558282208588957.\n",
      "[I 2024-07-15 18:39:54,278] Trial 3 finished with value: 0.5552147239263803 and parameters: {'C': 0.1814990994030717, 'kernel': 'rbf'}. Best is trial 0 with value: 0.558282208588957.\n",
      "[I 2024-07-15 18:40:24,254] Trial 4 finished with value: 0.5 and parameters: {'C': 0.9829238075355662, 'kernel': 'poly'}. Best is trial 0 with value: 0.558282208588957.\n",
      "[I 2024-07-15 18:40:51,056] Trial 5 finished with value: 0.49815950920245394 and parameters: {'C': 0.7205486617585537, 'kernel': 'poly'}. Best is trial 0 with value: 0.558282208588957.\n",
      "[I 2024-07-15 18:41:25,890] Trial 6 finished with value: 0.5558282208588957 and parameters: {'C': 0.7864368775555016, 'kernel': 'rbf'}. Best is trial 0 with value: 0.558282208588957.\n",
      "[I 2024-07-15 18:41:42,689] Trial 7 finished with value: 0.5613496932515337 and parameters: {'C': 0.23545329014535316, 'kernel': 'linear'}. Best is trial 7 with value: 0.5613496932515337.\n",
      "[I 2024-07-15 18:42:09,716] Trial 8 finished with value: 0.49754601226993866 and parameters: {'C': 0.5979231786294499, 'kernel': 'poly'}. Best is trial 7 with value: 0.5613496932515337.\n",
      "[I 2024-07-15 18:42:25,512] Trial 9 finished with value: 0.46134969325153374 and parameters: {'C': 0.07090391890584122, 'kernel': 'linear'}. Best is trial 7 with value: 0.5613496932515337.\n",
      "[I 2024-07-15 18:42:43,932] Trial 10 finished with value: 0.5791411042944785 and parameters: {'C': 0.3472225320720194, 'kernel': 'linear'}. Best is trial 10 with value: 0.5791411042944785.\n",
      "[I 2024-07-15 18:43:02,128] Trial 11 finished with value: 0.554601226993865 and parameters: {'C': 0.3345899981836431, 'kernel': 'linear'}. Best is trial 10 with value: 0.5791411042944785.\n",
      "[I 2024-07-15 18:43:20,753] Trial 12 finished with value: 0.5760736196319018 and parameters: {'C': 0.3701853785764505, 'kernel': 'linear'}. Best is trial 10 with value: 0.5791411042944785.\n",
      "[I 2024-07-15 18:43:39,735] Trial 13 finished with value: 0.5570552147239264 and parameters: {'C': 0.40393731160461754, 'kernel': 'linear'}. Best is trial 10 with value: 0.5791411042944785.\n",
      "[I 2024-07-15 18:43:59,198] Trial 14 finished with value: 0.5411042944785276 and parameters: {'C': 0.49241364577657465, 'kernel': 'linear'}. Best is trial 10 with value: 0.5791411042944785.\n",
      "[I 2024-07-15 18:44:17,379] Trial 15 finished with value: 0.5797546012269938 and parameters: {'C': 0.33312022804874153, 'kernel': 'linear'}. Best is trial 15 with value: 0.5797546012269938.\n",
      "[I 2024-07-15 18:44:34,023] Trial 16 finished with value: 0.5705521472392638 and parameters: {'C': 0.2547267695596596, 'kernel': 'linear'}. Best is trial 15 with value: 0.5797546012269938.\n",
      "[I 2024-07-15 18:44:55,146] Trial 17 finished with value: 0.5453987730061349 and parameters: {'C': 0.639294487934534, 'kernel': 'linear'}. Best is trial 15 with value: 0.5797546012269938.\n",
      "[I 2024-07-15 18:45:15,544] Trial 18 finished with value: 0.5564417177914109 and parameters: {'C': 0.5243100225529914, 'kernel': 'linear'}. Best is trial 15 with value: 0.5797546012269938.\n",
      "[I 2024-07-15 18:45:51,388] Trial 19 finished with value: 0.5558282208588957 and parameters: {'C': 0.4573583668617778, 'kernel': 'rbf'}. Best is trial 15 with value: 0.5797546012269938.\n",
      "[I 2024-07-15 18:46:09,029] Trial 20 finished with value: 0.5705521472392638 and parameters: {'C': 0.3015423245314337, 'kernel': 'linear'}. Best is trial 15 with value: 0.5797546012269938.\n",
      "[I 2024-07-15 18:46:27,626] Trial 21 finished with value: 0.5484662576687116 and parameters: {'C': 0.3642909873849592, 'kernel': 'linear'}. Best is trial 15 with value: 0.5797546012269938.\n",
      "[I 2024-07-15 18:46:44,111] Trial 22 finished with value: 0.5386503067484663 and parameters: {'C': 0.1710669934052154, 'kernel': 'linear'}. Best is trial 15 with value: 0.5797546012269938.\n",
      "[I 2024-07-15 18:47:03,004] Trial 23 finished with value: 0.5693251533742331 and parameters: {'C': 0.41231136584530126, 'kernel': 'linear'}. Best is trial 15 with value: 0.5797546012269938.\n",
      "[I 2024-07-15 18:47:24,162] Trial 24 finished with value: 0.5503067484662576 and parameters: {'C': 0.5666545205916609, 'kernel': 'linear'}. Best is trial 15 with value: 0.5797546012269938.\n",
      "[I 2024-07-15 18:47:41,990] Trial 25 finished with value: 0.5558282208588958 and parameters: {'C': 0.29929686678530787, 'kernel': 'linear'}. Best is trial 15 with value: 0.5797546012269938.\n",
      "[I 2024-07-15 18:47:58,770] Trial 26 finished with value: 0.5638036809815951 and parameters: {'C': 0.19144856980133432, 'kernel': 'linear'}. Best is trial 15 with value: 0.5797546012269938.\n",
      "[I 2024-07-15 18:48:18,622] Trial 27 finished with value: 0.5920245398773006 and parameters: {'C': 0.442710723458716, 'kernel': 'linear'}. Best is trial 27 with value: 0.5920245398773006.\n",
      "[I 2024-07-15 18:48:54,045] Trial 28 finished with value: 0.5558282208588957 and parameters: {'C': 0.44664086903227096, 'kernel': 'rbf'}. Best is trial 27 with value: 0.5920245398773006.\n",
      "[I 2024-07-15 18:49:21,365] Trial 29 finished with value: 0.4969325153374233 and parameters: {'C': 0.6706176693491372, 'kernel': 'poly'}. Best is trial 27 with value: 0.5920245398773006.\n",
      "[I 2024-07-15 18:49:57,632] Trial 30 finished with value: 0.5558282208588957 and parameters: {'C': 0.8477124183796989, 'kernel': 'rbf'}. Best is trial 27 with value: 0.5920245398773006.\n",
      "[I 2024-07-15 18:50:17,291] Trial 31 finished with value: 0.5693251533742332 and parameters: {'C': 0.39157921796929696, 'kernel': 'linear'}. Best is trial 27 with value: 0.5920245398773006.\n",
      "[I 2024-07-15 18:50:38,096] Trial 32 finished with value: 0.5361963190184048 and parameters: {'C': 0.5184292354240982, 'kernel': 'linear'}. Best is trial 27 with value: 0.5920245398773006.\n",
      "[I 2024-07-15 18:50:55,741] Trial 33 finished with value: 0.5558282208588956 and parameters: {'C': 0.26711196533533904, 'kernel': 'linear'}. Best is trial 27 with value: 0.5920245398773006.\n",
      "[I 2024-07-15 18:51:15,754] Trial 34 finished with value: 0.5595092024539877 and parameters: {'C': 0.35804668457984595, 'kernel': 'linear'}. Best is trial 27 with value: 0.5920245398773006.\n",
      "[I 2024-07-15 18:51:32,256] Trial 35 finished with value: 0.5049079754601227 and parameters: {'C': 0.10890821920933705, 'kernel': 'linear'}. Best is trial 27 with value: 0.5920245398773006.\n",
      "[I 2024-07-15 18:51:57,588] Trial 36 finished with value: 0.5 and parameters: {'C': 0.1294455655103145, 'kernel': 'poly'}. Best is trial 27 with value: 0.5920245398773006.\n",
      "[I 2024-07-15 18:52:17,111] Trial 37 finished with value: 0.5785276073619633 and parameters: {'C': 0.4592136264134906, 'kernel': 'linear'}. Best is trial 27 with value: 0.5920245398773006.\n",
      "[I 2024-07-15 18:52:52,205] Trial 38 finished with value: 0.5558282208588957 and parameters: {'C': 0.4785698258523933, 'kernel': 'rbf'}. Best is trial 27 with value: 0.5920245398773006.\n",
      "[I 2024-07-15 18:53:18,139] Trial 39 finished with value: 0.49877300613496933 and parameters: {'C': 0.5623173383737505, 'kernel': 'poly'}. Best is trial 27 with value: 0.5920245398773006.\n",
      "[I 2024-07-15 18:53:34,063] Trial 40 finished with value: 0.40981595092024536 and parameters: {'C': 0.012892098768200355, 'kernel': 'linear'}. Best is trial 27 with value: 0.5920245398773006.\n",
      "[I 2024-07-15 18:53:52,439] Trial 41 finished with value: 0.5815950920245399 and parameters: {'C': 0.32916586297617517, 'kernel': 'linear'}. Best is trial 27 with value: 0.5920245398773006.\n",
      "[I 2024-07-15 18:54:11,000] Trial 42 finished with value: 0.5803680981595092 and parameters: {'C': 0.32463959757117744, 'kernel': 'linear'}. Best is trial 27 with value: 0.5920245398773006.\n",
      "[I 2024-07-15 18:54:27,443] Trial 43 finished with value: 0.5607361963190184 and parameters: {'C': 0.22195215579473865, 'kernel': 'linear'}. Best is trial 27 with value: 0.5920245398773006.\n",
      "[I 2024-07-15 18:54:45,435] Trial 44 finished with value: 0.5496932515337424 and parameters: {'C': 0.32053152347376845, 'kernel': 'linear'}. Best is trial 27 with value: 0.5920245398773006.\n",
      "[I 2024-07-15 18:55:02,285] Trial 45 finished with value: 0.5699386503067485 and parameters: {'C': 0.2711720421327202, 'kernel': 'linear'}. Best is trial 27 with value: 0.5920245398773006.\n",
      "[I 2024-07-15 18:55:21,520] Trial 46 finished with value: 0.5687116564417178 and parameters: {'C': 0.42166856086323534, 'kernel': 'linear'}. Best is trial 27 with value: 0.5920245398773006.\n",
      "[I 2024-07-15 18:55:47,017] Trial 47 finished with value: 0.4993865030674846 and parameters: {'C': 0.21111636651656981, 'kernel': 'poly'}. Best is trial 27 with value: 0.5920245398773006.\n",
      "[I 2024-07-15 18:56:04,801] Trial 48 finished with value: 0.5411042944785276 and parameters: {'C': 0.32120846813572024, 'kernel': 'linear'}. Best is trial 27 with value: 0.5920245398773006.\n",
      "[I 2024-07-15 18:56:23,259] Trial 49 finished with value: 0.560122699386503 and parameters: {'C': 0.3558406264153953, 'kernel': 'linear'}. Best is trial 27 with value: 0.5920245398773006.\n",
      "[I 2024-07-15 18:56:57,370] Trial 50 finished with value: 0.556441717791411 and parameters: {'C': 0.27854053298718895, 'kernel': 'rbf'}. Best is trial 27 with value: 0.5920245398773006.\n",
      "[I 2024-07-15 18:57:16,306] Trial 51 finished with value: 0.5619631901840492 and parameters: {'C': 0.43591669662618276, 'kernel': 'linear'}. Best is trial 27 with value: 0.5920245398773006.\n",
      "[I 2024-07-15 18:57:35,868] Trial 52 finished with value: 0.5515337423312883 and parameters: {'C': 0.4929571235093117, 'kernel': 'linear'}. Best is trial 27 with value: 0.5920245398773006.\n",
      "[I 2024-07-15 18:57:54,516] Trial 53 finished with value: 0.5607361963190185 and parameters: {'C': 0.3925935893092759, 'kernel': 'linear'}. Best is trial 27 with value: 0.5920245398773006.\n",
      "[I 2024-07-15 18:58:10,427] Trial 54 finished with value: 0.5429447852760736 and parameters: {'C': 0.15504799135252822, 'kernel': 'linear'}. Best is trial 27 with value: 0.5920245398773006.\n",
      "[I 2024-07-15 18:58:28,681] Trial 55 finished with value: 0.550920245398773 and parameters: {'C': 0.34474206774617594, 'kernel': 'linear'}. Best is trial 27 with value: 0.5920245398773006.\n",
      "[I 2024-07-15 18:58:52,431] Trial 56 finished with value: 0.5300613496932516 and parameters: {'C': 0.9810705014324049, 'kernel': 'linear'}. Best is trial 27 with value: 0.5920245398773006.\n",
      "[I 2024-07-15 18:59:13,206] Trial 57 finished with value: 0.5687116564417178 and parameters: {'C': 0.551909429051438, 'kernel': 'linear'}. Best is trial 27 with value: 0.5920245398773006.\n",
      "[I 2024-07-15 18:59:32,551] Trial 58 finished with value: 0.5558282208588956 and parameters: {'C': 0.46851238904842996, 'kernel': 'linear'}. Best is trial 27 with value: 0.5920245398773006.\n",
      "[I 2024-07-15 18:59:49,034] Trial 59 finished with value: 0.5901840490797546 and parameters: {'C': 0.23884566795848855, 'kernel': 'linear'}. Best is trial 27 with value: 0.5920245398773006.\n",
      "[I 2024-07-15 19:00:05,642] Trial 60 finished with value: 0.5705521472392638 and parameters: {'C': 0.22416629471189878, 'kernel': 'linear'}. Best is trial 27 with value: 0.5920245398773006.\n",
      "[I 2024-07-15 19:00:24,433] Trial 61 finished with value: 0.5392638036809816 and parameters: {'C': 0.3827681921096499, 'kernel': 'linear'}. Best is trial 27 with value: 0.5920245398773006.\n",
      "[I 2024-07-15 19:00:41,889] Trial 62 finished with value: 0.5822085889570553 and parameters: {'C': 0.28994000234578793, 'kernel': 'linear'}. Best is trial 27 with value: 0.5920245398773006.\n",
      "[I 2024-07-15 19:00:59,297] Trial 63 finished with value: 0.576073619631902 and parameters: {'C': 0.28863427028549943, 'kernel': 'linear'}. Best is trial 27 with value: 0.5920245398773006.\n",
      "[I 2024-07-15 19:01:15,808] Trial 64 finished with value: 0.5374233128834357 and parameters: {'C': 0.2455541808258243, 'kernel': 'linear'}. Best is trial 27 with value: 0.5920245398773006.\n",
      "[I 2024-07-15 19:01:33,871] Trial 65 finished with value: 0.5699386503067485 and parameters: {'C': 0.3145364209166835, 'kernel': 'linear'}. Best is trial 27 with value: 0.5920245398773006.\n",
      "[I 2024-07-15 19:02:00,086] Trial 66 finished with value: 0.5 and parameters: {'C': 0.34195992534327324, 'kernel': 'poly'}. Best is trial 27 with value: 0.5920245398773006.\n",
      "[I 2024-07-15 19:02:34,414] Trial 67 finished with value: 0.5552147239263803 and parameters: {'C': 0.24398406108206325, 'kernel': 'rbf'}. Best is trial 27 with value: 0.5920245398773006.\n",
      "[I 2024-07-15 19:02:50,645] Trial 68 finished with value: 0.5515337423312883 and parameters: {'C': 0.18934578823683373, 'kernel': 'linear'}. Best is trial 27 with value: 0.5920245398773006.\n",
      "[I 2024-07-15 19:03:09,443] Trial 69 finished with value: 0.5496932515337424 and parameters: {'C': 0.4221159389245768, 'kernel': 'linear'}. Best is trial 27 with value: 0.5920245398773006.\n",
      "[I 2024-07-15 19:03:26,471] Trial 70 finished with value: 0.5791411042944785 and parameters: {'C': 0.29422411740285703, 'kernel': 'linear'}. Best is trial 27 with value: 0.5920245398773006.\n",
      "[I 2024-07-15 19:03:43,484] Trial 71 finished with value: 0.5625766871165644 and parameters: {'C': 0.29538556544152283, 'kernel': 'linear'}. Best is trial 27 with value: 0.5920245398773006.\n",
      "[I 2024-07-15 19:04:01,989] Trial 72 finished with value: 0.5662576687116564 and parameters: {'C': 0.3790725437457921, 'kernel': 'linear'}. Best is trial 27 with value: 0.5920245398773006.\n",
      "[I 2024-07-15 19:04:17,972] Trial 73 finished with value: 0.5036809815950921 and parameters: {'C': 0.15282666426873204, 'kernel': 'linear'}. Best is trial 27 with value: 0.5920245398773006.\n",
      "[I 2024-07-15 19:04:36,199] Trial 74 finished with value: 0.5723926380368098 and parameters: {'C': 0.33517981893504833, 'kernel': 'linear'}. Best is trial 27 with value: 0.5920245398773006.\n",
      "[I 2024-07-15 19:04:54,028] Trial 75 finished with value: 0.5607361963190185 and parameters: {'C': 0.26511915575265865, 'kernel': 'linear'}. Best is trial 27 with value: 0.5920245398773006.\n",
      "[I 2024-07-15 19:05:13,558] Trial 76 finished with value: 0.549079754601227 and parameters: {'C': 0.19815660795995793, 'kernel': 'linear'}. Best is trial 27 with value: 0.5920245398773006.\n",
      "[I 2024-07-15 19:05:32,564] Trial 77 finished with value: 0.5797546012269938 and parameters: {'C': 0.3018721230722206, 'kernel': 'linear'}. Best is trial 27 with value: 0.5920245398773006.\n",
      "[I 2024-07-15 19:06:02,924] Trial 78 finished with value: 0.5006134969325153 and parameters: {'C': 0.39994586094315626, 'kernel': 'poly'}. Best is trial 27 with value: 0.5920245398773006.\n",
      "[I 2024-07-15 19:06:39,901] Trial 79 finished with value: 0.5558282208588957 and parameters: {'C': 0.3638183541199873, 'kernel': 'rbf'}. Best is trial 27 with value: 0.5920245398773006.\n",
      "[I 2024-07-15 19:06:57,755] Trial 80 finished with value: 0.5779141104294478 and parameters: {'C': 0.2277284030150563, 'kernel': 'linear'}. Best is trial 27 with value: 0.5920245398773006.\n",
      "[I 2024-07-15 19:07:16,308] Trial 81 finished with value: 0.5466257668711656 and parameters: {'C': 0.3086450889472803, 'kernel': 'linear'}. Best is trial 27 with value: 0.5920245398773006.\n",
      "[I 2024-07-15 19:07:33,447] Trial 82 finished with value: 0.5668711656441717 and parameters: {'C': 0.2783195750622685, 'kernel': 'linear'}. Best is trial 27 with value: 0.5920245398773006.\n",
      "[I 2024-07-15 19:07:51,873] Trial 83 finished with value: 0.5484662576687117 and parameters: {'C': 0.3269673997255454, 'kernel': 'linear'}. Best is trial 27 with value: 0.5920245398773006.\n",
      "[I 2024-07-15 19:08:10,794] Trial 84 finished with value: 0.5809815950920246 and parameters: {'C': 0.2471583857698322, 'kernel': 'linear'}. Best is trial 27 with value: 0.5920245398773006.\n",
      "[I 2024-07-15 19:08:30,336] Trial 85 finished with value: 0.5650306748466258 and parameters: {'C': 0.36687207433337266, 'kernel': 'linear'}. Best is trial 27 with value: 0.5920245398773006.\n",
      "[I 2024-07-15 19:08:47,763] Trial 86 finished with value: 0.5613496932515337 and parameters: {'C': 0.24561961667505905, 'kernel': 'linear'}. Best is trial 27 with value: 0.5920245398773006.\n",
      "[I 2024-07-15 19:09:08,098] Trial 87 finished with value: 0.5650306748466258 and parameters: {'C': 0.42831105407866715, 'kernel': 'linear'}. Best is trial 27 with value: 0.5920245398773006.\n",
      "[I 2024-07-15 19:09:24,833] Trial 88 finished with value: 0.5374233128834356 and parameters: {'C': 0.15881064792531496, 'kernel': 'linear'}. Best is trial 27 with value: 0.5920245398773006.\n",
      "[I 2024-07-15 19:09:43,382] Trial 89 finished with value: 0.592638036809816 and parameters: {'C': 0.2600853655654022, 'kernel': 'linear'}. Best is trial 89 with value: 0.592638036809816.\n",
      "[I 2024-07-15 19:10:00,325] Trial 90 finished with value: 0.4564417177914111 and parameters: {'C': 0.06912384658063253, 'kernel': 'linear'}. Best is trial 89 with value: 0.592638036809816.\n",
      "[I 2024-07-15 19:10:20,553] Trial 91 finished with value: 0.5607361963190184 and parameters: {'C': 0.11966940132659604, 'kernel': 'linear'}. Best is trial 89 with value: 0.592638036809816.\n",
      "[I 2024-07-15 19:10:41,255] Trial 92 finished with value: 0.5711656441717793 and parameters: {'C': 0.2593779080071899, 'kernel': 'linear'}. Best is trial 89 with value: 0.592638036809816.\n",
      "[I 2024-07-15 19:11:04,349] Trial 93 finished with value: 0.5766871165644172 and parameters: {'C': 0.3082785840122139, 'kernel': 'linear'}. Best is trial 89 with value: 0.592638036809816.\n",
      "[I 2024-07-15 19:11:28,001] Trial 94 finished with value: 0.5674846625766872 and parameters: {'C': 0.21294718965737036, 'kernel': 'linear'}. Best is trial 89 with value: 0.592638036809816.\n",
      "[I 2024-07-15 19:11:48,890] Trial 95 finished with value: 0.5380368098159509 and parameters: {'C': 0.1735847045408494, 'kernel': 'linear'}. Best is trial 89 with value: 0.592638036809816.\n",
      "[I 2024-07-15 19:12:07,302] Trial 96 finished with value: 0.5460122699386503 and parameters: {'C': 0.33801290778826565, 'kernel': 'linear'}. Best is trial 89 with value: 0.592638036809816.\n",
      "[I 2024-07-15 19:12:33,623] Trial 97 finished with value: 0.5 and parameters: {'C': 0.2773628509299107, 'kernel': 'poly'}. Best is trial 89 with value: 0.592638036809816.\n",
      "[I 2024-07-15 19:13:11,193] Trial 98 finished with value: 0.5558282208588957 and parameters: {'C': 0.4014976815319317, 'kernel': 'rbf'}. Best is trial 89 with value: 0.592638036809816.\n",
      "[I 2024-07-15 19:13:32,596] Trial 99 finished with value: 0.5552147239263803 and parameters: {'C': 0.44553040434188595, 'kernel': 'linear'}. Best is trial 89 with value: 0.592638036809816.\n"
     ]
    }
   ],
   "source": [
    "study = optuna.create_study(direction='maximize')\n",
    "study.optimize(objective, n_trials=100, show_progress_bar=True)"
   ]
  },
  {
   "cell_type": "code",
   "execution_count": 27,
   "id": "d08f6ab5-62c1-435d-9f71-ab5c581e4dcf",
   "metadata": {},
   "outputs": [
    {
     "name": "stdout",
     "output_type": "stream",
     "text": [
      "Best trial: FrozenTrial(number=89, state=1, values=[0.592638036809816], datetime_start=datetime.datetime(2024, 7, 15, 19, 9, 24, 835207), datetime_complete=datetime.datetime(2024, 7, 15, 19, 9, 43, 382584), params={'C': 0.2600853655654022, 'kernel': 'linear'}, user_attrs={}, system_attrs={}, intermediate_values={}, distributions={'C': FloatDistribution(high=1.0, log=False, low=0.001, step=None), 'kernel': CategoricalDistribution(choices=('linear', 'rbf', 'poly'))}, trial_id=89, value=None)\n",
      "Best hyperparameters: {'C': 0.2600853655654022, 'kernel': 'linear'}\n"
     ]
    }
   ],
   "source": [
    "print(\"Best trial:\", study.best_trial)\n",
    "print(\"Best hyperparameters:\", study.best_params)"
   ]
  },
  {
   "cell_type": "code",
   "execution_count": 43,
   "id": "fb5b1105-8334-4e05-8f33-0a10085c0e08",
   "metadata": {},
   "outputs": [
    {
     "name": "stdout",
     "output_type": "stream",
     "text": [
      "StandardScaler recall: 0.5441717791411043\n",
      "MinMaxScaler recall: 0.4012269938650307\n"
     ]
    }
   ],
   "source": [
    "# See if scaling data improves score\n",
    "\n",
    "sv = SVC(C=0.2600853655654022, kernel='linear', random_state=42, probability=True)\n",
    "\n",
    "ss = StandardScaler()\n",
    "mm = MinMaxScaler()\n",
    "\n",
    "X_train_scaled_ss = pd.DataFrame(ss.fit_transform(X_train))\n",
    "X_train_scaled_mm = pd.DataFrame(mm.fit_transform(X_train))\n",
    "\n",
    "scales = [X_train_scaled_ss, X_train_scaled_mm]\n",
    "names = ['StandardScaler', 'MinMaxScaler']\n",
    "\n",
    "for i, n in zip(scales, names):\n",
    "    \n",
    "    threshold = 0.27\n",
    "    \n",
    "    skf = StratifiedKFold(n_splits=5, random_state=42, shuffle=True)\n",
    "    scores = []\n",
    "    \n",
    "    for tr, te in skf.split(i, y_train):\n",
    "        \n",
    "        X_tr, X_te = i.iloc[tr],i.iloc[te]\n",
    "        y_tr, y_te = y_train.iloc[tr], y_train.iloc[te]\n",
    "        \n",
    "        sv.fit(X_tr, y_tr)\n",
    "        prob = sv.predict_proba(X_te)[:, 1]\n",
    "        y_pred = np.where(prob < threshold, 0, 1)\n",
    "        \n",
    "        scores.append(recall_score(y_te, y_pred))\n",
    "        \n",
    "    print(f'{n} recall: {np.mean(scores)}')"
   ]
  },
  {
   "cell_type": "markdown",
   "id": "8d481c73-e802-47ae-820e-e432d540799e",
   "metadata": {},
   "source": [
    "Scaling the data does not improve model performance."
   ]
  },
  {
   "cell_type": "code",
   "execution_count": null,
   "id": "007b87f8-f7de-4e1f-b668-b856d1a1bfd0",
   "metadata": {},
   "outputs": [],
   "source": []
  }
 ],
 "metadata": {
  "kernelspec": {
   "display_name": "Python 3 (ipykernel)",
   "language": "python",
   "name": "python3"
  },
  "language_info": {
   "codemirror_mode": {
    "name": "ipython",
    "version": 3
   },
   "file_extension": ".py",
   "mimetype": "text/x-python",
   "name": "python",
   "nbconvert_exporter": "python",
   "pygments_lexer": "ipython3",
   "version": "3.11.5"
  }
 },
 "nbformat": 4,
 "nbformat_minor": 5
}

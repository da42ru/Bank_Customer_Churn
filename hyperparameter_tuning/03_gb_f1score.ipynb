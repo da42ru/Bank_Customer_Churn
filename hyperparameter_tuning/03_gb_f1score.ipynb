{
 "cells": [
  {
   "cell_type": "markdown",
   "id": "b8305d2b-05a2-4c03-96c1-41a8ed3e3f4e",
   "metadata": {},
   "source": [
    "## Gradient Boosting Hyperparameter Tuning (F1-Score)"
   ]
  },
  {
   "cell_type": "code",
   "execution_count": 2,
   "id": "1737f07b-25d7-4e9a-950e-c41ea036b4c4",
   "metadata": {
    "tags": []
   },
   "outputs": [],
   "source": [
    "# Load Libraries\n",
    "\n",
    "import pandas as pd\n",
    "import numpy as np\n",
    "\n",
    "from sklearn.model_selection import train_test_split, StratifiedKFold\n",
    "from sklearn.metrics import f1_score\n",
    "\n",
    "from sklearn.ensemble import GradientBoostingClassifier\n",
    "\n",
    "import optuna"
   ]
  },
  {
   "cell_type": "code",
   "execution_count": 4,
   "id": "34b40b44-1c92-4b9d-ad57-3cddb44f6f0f",
   "metadata": {
    "tags": []
   },
   "outputs": [],
   "source": [
    "# Load Data\n",
    "\n",
    "df = pd.read_csv('bank_4.csv', index_col=0)"
   ]
  },
  {
   "cell_type": "code",
   "execution_count": 6,
   "id": "e25031a8-fef1-4150-86e7-8b7e22f0a9bb",
   "metadata": {
    "tags": []
   },
   "outputs": [],
   "source": [
    "# Train / Test Split\n",
    "\n",
    "X = df.drop(columns=['churn', 'complain', 'umap_1', 'umap_2'])\n",
    "y = df['churn']\n",
    "\n",
    "X_train, X_test, y_train, y_test = train_test_split(X, y, test_size=0.2, stratify=y, random_state=42)"
   ]
  },
  {
   "cell_type": "code",
   "execution_count": 8,
   "id": "2b530e97-2bc3-4b3d-b9f8-eb4ed610ff66",
   "metadata": {
    "tags": []
   },
   "outputs": [],
   "source": [
    "# Hyperparameter tuning\n",
    "\n",
    "def objective(trial):\n",
    "\n",
    "    params = {\n",
    "        'n_estimators': trial.suggest_int('n_estimators', 100, 2000),\n",
    "        'learning_rate': trial.suggest_float('learning_rate', 0.001, 1.0),\n",
    "        'max_depth': trial.suggest_int('max_depth', 2, 50),\n",
    "        'min_samples_split': trial.suggest_int('min_samples_split', 2, 32),\n",
    "        'min_samples_leaf': trial.suggest_int('min_samples_leaf', 1, 32)\n",
    "    }\n",
    "\n",
    "    model = GradientBoostingClassifier(\n",
    "        **params,\n",
    "        random_state=42)\n",
    "    \n",
    "    threshold = 0.33\n",
    "    \n",
    "    skf = StratifiedKFold(n_splits=5, random_state=42, shuffle=True)\n",
    "    scores = []\n",
    "    \n",
    "    for tr, te in skf.split(X_train, y_train):\n",
    "        \n",
    "        X_tr, X_te = X_train.iloc[tr], X_train.iloc[te]\n",
    "        y_tr, y_te = y_train.iloc[tr], y_train.iloc[te]\n",
    "        \n",
    "        model.fit(X_tr, y_tr)\n",
    "        prob = model.predict_proba(X_te)[:, 1]\n",
    "        y_pred = np.where(prob < threshold, 0, 1)\n",
    "        \n",
    "        scores.append(f1_score(y_te, y_pred))\n",
    "        \n",
    "    return np.mean(scores)"
   ]
  },
  {
   "cell_type": "code",
   "execution_count": 10,
   "id": "eb85a387-214c-480a-8a96-d69570dcbce9",
   "metadata": {
    "tags": []
   },
   "outputs": [
    {
     "name": "stderr",
     "output_type": "stream",
     "text": [
      "[I 2024-07-10 00:01:19,050] A new study created in memory with name: no-name-2b2a2301-8cea-4f93-828e-08d74710e431\n"
     ]
    },
    {
     "data": {
      "application/vnd.jupyter.widget-view+json": {
       "model_id": "8367c7f5d8244e42b25cb966f552b370",
       "version_major": 2,
       "version_minor": 0
      },
      "text/plain": [
       "  0%|          | 0/100 [00:00<?, ?it/s]"
      ]
     },
     "metadata": {},
     "output_type": "display_data"
    },
    {
     "name": "stdout",
     "output_type": "stream",
     "text": [
      "[I 2024-07-10 00:01:54,157] Trial 0 finished with value: 0.5366305587213784 and parameters: {'n_estimators': 1639, 'learning_rate': 0.367705706952336, 'max_depth': 32, 'min_samples_split': 12, 'min_samples_leaf': 19}. Best is trial 0 with value: 0.5366305587213784.\n",
      "[I 2024-07-10 00:02:22,923] Trial 1 finished with value: 0.557995303023943 and parameters: {'n_estimators': 338, 'learning_rate': 0.16763520307195676, 'max_depth': 40, 'min_samples_split': 27, 'min_samples_leaf': 30}. Best is trial 1 with value: 0.557995303023943.\n",
      "[I 2024-07-10 00:02:38,266] Trial 2 finished with value: 0.5396415033428086 and parameters: {'n_estimators': 1242, 'learning_rate': 0.8174722023994216, 'max_depth': 37, 'min_samples_split': 31, 'min_samples_leaf': 12}. Best is trial 1 with value: 0.557995303023943.\n",
      "[I 2024-07-10 00:04:51,262] Trial 3 finished with value: 0.58279844277694 and parameters: {'n_estimators': 1601, 'learning_rate': 0.011135832122879077, 'max_depth': 15, 'min_samples_split': 31, 'min_samples_leaf': 31}. Best is trial 3 with value: 0.58279844277694.\n",
      "[I 2024-07-10 00:05:32,662] Trial 4 finished with value: 0.5386320351627166 and parameters: {'n_estimators': 628, 'learning_rate': 0.37996318529012, 'max_depth': 46, 'min_samples_split': 12, 'min_samples_leaf': 31}. Best is trial 3 with value: 0.58279844277694.\n",
      "[I 2024-07-10 00:05:57,970] Trial 5 finished with value: 0.5471700392309323 and parameters: {'n_estimators': 295, 'learning_rate': 0.3469224349042821, 'max_depth': 21, 'min_samples_split': 3, 'min_samples_leaf': 29}. Best is trial 3 with value: 0.58279844277694.\n",
      "[I 2024-07-10 00:06:14,316] Trial 6 finished with value: 0.5440898095223735 and parameters: {'n_estimators': 1299, 'learning_rate': 0.677101591168239, 'max_depth': 20, 'min_samples_split': 4, 'min_samples_leaf': 9}. Best is trial 3 with value: 0.58279844277694.\n",
      "[I 2024-07-10 00:06:33,659] Trial 7 finished with value: 0.5395003219977057 and parameters: {'n_estimators': 489, 'learning_rate': 0.8031191372176888, 'max_depth': 49, 'min_samples_split': 7, 'min_samples_leaf': 29}. Best is trial 3 with value: 0.58279844277694.\n",
      "[I 2024-07-10 00:07:57,537] Trial 8 finished with value: 0.5394531542466702 and parameters: {'n_estimators': 1783, 'learning_rate': 0.18318895703916335, 'max_depth': 6, 'min_samples_split': 16, 'min_samples_leaf': 27}. Best is trial 3 with value: 0.58279844277694.\n",
      "[I 2024-07-10 00:08:27,306] Trial 9 finished with value: 0.5552225646186242 and parameters: {'n_estimators': 319, 'learning_rate': 0.14470451666262177, 'max_depth': 47, 'min_samples_split': 31, 'min_samples_leaf': 24}. Best is trial 3 with value: 0.58279844277694.\n",
      "[I 2024-07-10 00:09:44,850] Trial 10 finished with value: 0.5756183913371542 and parameters: {'n_estimators': 1971, 'learning_rate': 0.02616391041814911, 'max_depth': 5, 'min_samples_split': 23, 'min_samples_leaf': 3}. Best is trial 3 with value: 0.58279844277694.\n",
      "[I 2024-07-10 00:10:31,723] Trial 11 finished with value: 0.6099746248097764 and parameters: {'n_estimators': 1963, 'learning_rate': 0.008746447179224478, 'max_depth': 3, 'min_samples_split': 23, 'min_samples_leaf': 1}. Best is trial 11 with value: 0.6099746248097764.\n",
      "[I 2024-07-10 00:13:57,645] Trial 12 finished with value: 0.5503289923693626 and parameters: {'n_estimators': 1584, 'learning_rate': 0.01217813404157873, 'max_depth': 13, 'min_samples_split': 23, 'min_samples_leaf': 2}. Best is trial 11 with value: 0.6099746248097764.\n",
      "[I 2024-07-10 00:14:19,696] Trial 13 finished with value: 0.5435114211572548 and parameters: {'n_estimators': 866, 'learning_rate': 0.5768907216487209, 'max_depth': 12, 'min_samples_split': 23, 'min_samples_leaf': 21}. Best is trial 11 with value: 0.6099746248097764.\n",
      "[I 2024-07-10 00:14:59,340] Trial 14 finished with value: 0.5461426046691054 and parameters: {'n_estimators': 1975, 'learning_rate': 0.251076136708446, 'max_depth': 13, 'min_samples_split': 27, 'min_samples_leaf': 12}. Best is trial 11 with value: 0.6099746248097764.\n",
      "[I 2024-07-10 00:15:43,084] Trial 15 finished with value: 0.5178024938286657 and parameters: {'n_estimators': 1401, 'learning_rate': 0.951461955208379, 'max_depth': 4, 'min_samples_split': 18, 'min_samples_leaf': 7}. Best is trial 11 with value: 0.6099746248097764.\n",
      "[I 2024-07-10 00:17:25,267] Trial 16 finished with value: 0.5610686785115051 and parameters: {'n_estimators': 974, 'learning_rate': 0.03477427975023708, 'max_depth': 23, 'min_samples_split': 27, 'min_samples_leaf': 18}. Best is trial 11 with value: 0.6099746248097764.\n",
      "[I 2024-07-10 00:17:49,801] Trial 17 finished with value: 0.5425377672277067 and parameters: {'n_estimators': 1687, 'learning_rate': 0.5026500999511769, 'max_depth': 16, 'min_samples_split': 19, 'min_samples_leaf': 15}. Best is trial 11 with value: 0.6099746248097764.\n",
      "[I 2024-07-10 00:18:35,352] Trial 18 finished with value: 0.5394618172329076 and parameters: {'n_estimators': 1442, 'learning_rate': 0.29479262847382726, 'max_depth': 29, 'min_samples_split': 32, 'min_samples_leaf': 23}. Best is trial 11 with value: 0.6099746248097764.\n",
      "[I 2024-07-10 00:19:06,576] Trial 19 finished with value: 0.6062124741144543 and parameters: {'n_estimators': 1825, 'learning_rate': 0.10317651190986744, 'max_depth': 2, 'min_samples_split': 28, 'min_samples_leaf': 6}. Best is trial 11 with value: 0.6099746248097764.\n",
      "[I 2024-07-10 00:19:37,948] Trial 20 finished with value: 0.5995997542629311 and parameters: {'n_estimators': 1832, 'learning_rate': 0.1251120846990475, 'max_depth': 2, 'min_samples_split': 21, 'min_samples_leaf': 5}. Best is trial 11 with value: 0.6099746248097764.\n",
      "[I 2024-07-10 00:20:09,594] Trial 21 finished with value: 0.6036630757882232 and parameters: {'n_estimators': 1829, 'learning_rate': 0.12168206153345787, 'max_depth': 2, 'min_samples_split': 21, 'min_samples_leaf': 5}. Best is trial 11 with value: 0.6099746248097764.\n",
      "[I 2024-07-10 00:22:01,360] Trial 22 finished with value: 0.5358927054353335 and parameters: {'n_estimators': 1857, 'learning_rate': 0.09978646515586898, 'max_depth': 8, 'min_samples_split': 25, 'min_samples_leaf': 2}. Best is trial 11 with value: 0.6099746248097764.\n",
      "[I 2024-07-10 00:22:41,914] Trial 23 finished with value: 0.5413871071407932 and parameters: {'n_estimators': 1990, 'learning_rate': 0.24271389297241708, 'max_depth': 9, 'min_samples_split': 15, 'min_samples_leaf': 6}. Best is trial 11 with value: 0.6099746248097764.\n",
      "[I 2024-07-10 00:23:17,730] Trial 24 finished with value: 0.5813312239692402 and parameters: {'n_estimators': 1492, 'learning_rate': 0.10223318053111242, 'max_depth': 3, 'min_samples_split': 20, 'min_samples_leaf': 9}. Best is trial 11 with value: 0.6099746248097764.\n",
      "[I 2024-07-10 00:23:41,130] Trial 25 finished with value: 0.53400078258282 and parameters: {'n_estimators': 1129, 'learning_rate': 0.45853800189580907, 'max_depth': 9, 'min_samples_split': 28, 'min_samples_leaf': 1}. Best is trial 11 with value: 0.6099746248097764.\n",
      "[I 2024-07-10 00:24:25,461] Trial 26 finished with value: 0.5463881886724249 and parameters: {'n_estimators': 1755, 'learning_rate': 0.22614657505410252, 'max_depth': 9, 'min_samples_split': 25, 'min_samples_leaf': 4}. Best is trial 11 with value: 0.6099746248097764.\n",
      "[I 2024-07-10 00:25:09,434] Trial 27 finished with value: 0.5842781736734999 and parameters: {'n_estimators': 1831, 'learning_rate': 0.08214220000435012, 'max_depth': 3, 'min_samples_split': 29, 'min_samples_leaf': 9}. Best is trial 11 with value: 0.6099746248097764.\n",
      "[I 2024-07-10 00:25:41,590] Trial 28 finished with value: 0.5407565888494374 and parameters: {'n_estimators': 851, 'learning_rate': 0.28514556956213033, 'max_depth': 18, 'min_samples_split': 14, 'min_samples_leaf': 13}. Best is trial 11 with value: 0.6099746248097764.\n",
      "[I 2024-07-10 00:26:26,525] Trial 29 finished with value: 0.5394283269287694 and parameters: {'n_estimators': 1647, 'learning_rate': 0.17834764821697846, 'max_depth': 26, 'min_samples_split': 22, 'min_samples_leaf': 7}. Best is trial 11 with value: 0.6099746248097764.\n",
      "[I 2024-07-10 00:27:06,565] Trial 30 finished with value: 0.5419410585472985 and parameters: {'n_estimators': 1537, 'learning_rate': 0.3843490735896552, 'max_depth': 7, 'min_samples_split': 25, 'min_samples_leaf': 1}. Best is trial 11 with value: 0.6099746248097764.\n",
      "[I 2024-07-10 00:27:38,343] Trial 31 finished with value: 0.5999160536808119 and parameters: {'n_estimators': 1879, 'learning_rate': 0.12511113827533496, 'max_depth': 2, 'min_samples_split': 21, 'min_samples_leaf': 5}. Best is trial 11 with value: 0.6099746248097764.\n",
      "[I 2024-07-10 00:28:11,956] Trial 32 finished with value: 0.6043491227957266 and parameters: {'n_estimators': 1898, 'learning_rate': 0.07435490052597243, 'max_depth': 2, 'min_samples_split': 18, 'min_samples_leaf': 4}. Best is trial 11 with value: 0.6099746248097764.\n",
      "[I 2024-07-10 00:29:42,909] Trial 33 finished with value: 0.5445682360611381 and parameters: {'n_estimators': 1717, 'learning_rate': 0.07781785550829784, 'max_depth': 34, 'min_samples_split': 19, 'min_samples_leaf': 4}. Best is trial 11 with value: 0.6099746248097764.\n",
      "[I 2024-07-10 00:30:29,809] Trial 34 finished with value: 0.550615686983448 and parameters: {'n_estimators': 1906, 'learning_rate': 0.19349991988163728, 'max_depth': 11, 'min_samples_split': 9, 'min_samples_leaf': 10}. Best is trial 11 with value: 0.6099746248097764.\n",
      "[I 2024-07-10 00:31:50,254] Trial 35 finished with value: 0.6129909274944317 and parameters: {'n_estimators': 1685, 'learning_rate': 0.0036525002056174323, 'max_depth': 6, 'min_samples_split': 25, 'min_samples_leaf': 7}. Best is trial 35 with value: 0.6129909274944317.\n",
      "[I 2024-07-10 00:32:53,927] Trial 36 finished with value: 0.6137306687386467 and parameters: {'n_estimators': 1335, 'learning_rate': 0.0028137127552670498, 'max_depth': 6, 'min_samples_split': 29, 'min_samples_leaf': 7}. Best is trial 36 with value: 0.6137306687386467.\n",
      "[I 2024-07-10 00:33:56,671] Trial 37 finished with value: 0.6139663946422221 and parameters: {'n_estimators': 1315, 'learning_rate': 0.005457264275382211, 'max_depth': 6, 'min_samples_split': 29, 'min_samples_leaf': 11}. Best is trial 37 with value: 0.6139663946422221.\n",
      "[I 2024-07-10 00:36:24,732] Trial 38 finished with value: 0.5663240843980237 and parameters: {'n_estimators': 1298, 'learning_rate': 0.018403578102126786, 'max_depth': 39, 'min_samples_split': 30, 'min_samples_leaf': 15}. Best is trial 37 with value: 0.6139663946422221.\n",
      "[I 2024-07-10 00:38:31,487] Trial 39 finished with value: 0.5467096503134756 and parameters: {'n_estimators': 1108, 'learning_rate': 0.059512553730095244, 'max_depth': 16, 'min_samples_split': 26, 'min_samples_leaf': 11}. Best is trial 37 with value: 0.6139663946422221.\n",
      "[I 2024-07-10 00:39:29,505] Trial 40 finished with value: 0.6138790747317422 and parameters: {'n_estimators': 1216, 'learning_rate': 0.00458790111407682, 'max_depth': 6, 'min_samples_split': 30, 'min_samples_leaf': 14}. Best is trial 37 with value: 0.6139663946422221.\n",
      "[I 2024-07-10 00:40:26,787] Trial 41 finished with value: 0.5889384212819824 and parameters: {'n_estimators': 1206, 'learning_rate': 0.016784335795077036, 'max_depth': 6, 'min_samples_split': 30, 'min_samples_leaf': 15}. Best is trial 37 with value: 0.6139663946422221.\n",
      "[I 2024-07-10 00:41:20,369] Trial 42 finished with value: 0.5480231911518063 and parameters: {'n_estimators': 1375, 'learning_rate': 0.16245728937721912, 'max_depth': 11, 'min_samples_split': 32, 'min_samples_leaf': 8}. Best is trial 37 with value: 0.6139663946422221.\n",
      "[I 2024-07-10 00:42:18,004] Trial 43 finished with value: 0.6121465186688957 and parameters: {'n_estimators': 1216, 'learning_rate': 0.0012706096905455164, 'max_depth': 6, 'min_samples_split': 30, 'min_samples_leaf': 13}. Best is trial 37 with value: 0.6139663946422221.\n",
      "[I 2024-07-10 00:43:05,691] Trial 44 finished with value: 0.5634529792992562 and parameters: {'n_estimators': 981, 'learning_rate': 0.05217917327465043, 'max_depth': 6, 'min_samples_split': 29, 'min_samples_leaf': 13}. Best is trial 37 with value: 0.6139663946422221.\n",
      "[I 2024-07-10 00:43:24,568] Trial 45 finished with value: 0.541627284412667 and parameters: {'n_estimators': 1197, 'learning_rate': 0.7498218847064211, 'max_depth': 10, 'min_samples_split': 30, 'min_samples_leaf': 18}. Best is trial 37 with value: 0.6139663946422221.\n",
      "[I 2024-07-10 00:45:46,654] Trial 46 finished with value: 0.5959362562125029 and parameters: {'n_estimators': 1289, 'learning_rate': 0.0012179886664264845, 'max_depth': 14, 'min_samples_split': 32, 'min_samples_leaf': 11}. Best is trial 37 with value: 0.6139663946422221.\n",
      "[I 2024-07-10 00:46:16,262] Trial 47 finished with value: 0.529271809981198 and parameters: {'n_estimators': 738, 'learning_rate': 0.9874383827693576, 'max_depth': 5, 'min_samples_split': 28, 'min_samples_leaf': 14}. Best is trial 37 with value: 0.6139663946422221.\n",
      "[I 2024-07-10 00:47:37,739] Trial 48 finished with value: 0.5532785980975772 and parameters: {'n_estimators': 1367, 'learning_rate': 0.059158904378800246, 'max_depth': 7, 'min_samples_split': 26, 'min_samples_leaf': 11}. Best is trial 37 with value: 0.6139663946422221.\n",
      "[I 2024-07-10 00:47:57,697] Trial 49 finished with value: 0.5628047953011555 and parameters: {'n_estimators': 184, 'learning_rate': 0.15607865562048426, 'max_depth': 20, 'min_samples_split': 30, 'min_samples_leaf': 17}. Best is trial 37 with value: 0.6139663946422221.\n",
      "[I 2024-07-10 00:48:15,780] Trial 50 finished with value: 0.556080684179147 and parameters: {'n_estimators': 1010, 'learning_rate': 0.6000358437247397, 'max_depth': 12, 'min_samples_split': 31, 'min_samples_leaf': 13}. Best is trial 37 with value: 0.6139663946422221.\n",
      "[I 2024-07-10 00:49:17,395] Trial 51 finished with value: 0.5798420667067992 and parameters: {'n_estimators': 1566, 'learning_rate': 0.036800770394437396, 'max_depth': 5, 'min_samples_split': 26, 'min_samples_leaf': 16}. Best is trial 37 with value: 0.6139663946422221.\n",
      "[I 2024-07-10 00:50:30,408] Trial 52 finished with value: 0.5794288398939561 and parameters: {'n_estimators': 1101, 'learning_rate': 0.011348092867823413, 'max_depth': 8, 'min_samples_split': 24, 'min_samples_leaf': 20}. Best is trial 37 with value: 0.6139663946422221.\n",
      "[I 2024-07-10 00:51:17,330] Trial 53 finished with value: 0.610551360148172 and parameters: {'n_estimators': 1480, 'learning_rate': 0.0022307534743091864, 'max_depth': 4, 'min_samples_split': 27, 'min_samples_leaf': 10}. Best is trial 37 with value: 0.6139663946422221.\n",
      "[I 2024-07-10 00:52:17,044] Trial 54 finished with value: 0.5684580333387236 and parameters: {'n_estimators': 1496, 'learning_rate': 0.055943838195578924, 'max_depth': 5, 'min_samples_split': 27, 'min_samples_leaf': 8}. Best is trial 37 with value: 0.6139663946422221.\n",
      "[I 2024-07-10 00:53:01,431] Trial 55 finished with value: 0.5471419654508571 and parameters: {'n_estimators': 1249, 'learning_rate': 0.20840310987117666, 'max_depth': 44, 'min_samples_split': 29, 'min_samples_leaf': 12}. Best is trial 37 with value: 0.6139663946422221.\n",
      "[I 2024-07-10 00:54:08,075] Trial 56 finished with value: 0.5463378595931212 and parameters: {'n_estimators': 1432, 'learning_rate': 0.12766251946819743, 'max_depth': 14, 'min_samples_split': 28, 'min_samples_leaf': 10}. Best is trial 37 with value: 0.6139663946422221.\n",
      "[I 2024-07-10 01:22:05,368] Trial 57 finished with value: 0.5478356364366916 and parameters: {'n_estimators': 1337, 'learning_rate': 0.08970310842187529, 'max_depth': 7, 'min_samples_split': 31, 'min_samples_leaf': 8}. Best is trial 37 with value: 0.6139663946422221.\n",
      "[I 2024-07-10 01:22:59,708] Trial 58 finished with value: 0.6114618272965934 and parameters: {'n_estimators': 1617, 'learning_rate': 0.0058180192858763155, 'max_depth': 4, 'min_samples_split': 27, 'min_samples_leaf': 10}. Best is trial 37 with value: 0.6139663946422221.\n",
      "[I 2024-07-10 01:23:53,952] Trial 59 finished with value: 0.5439955450486809 and parameters: {'n_estimators': 1160, 'learning_rate': 0.1558873598320727, 'max_depth': 10, 'min_samples_split': 24, 'min_samples_leaf': 7}. Best is trial 37 with value: 0.6139663946422221.\n",
      "[I 2024-07-10 01:25:38,899] Trial 60 finished with value: 0.5516879396997018 and parameters: {'n_estimators': 885, 'learning_rate': 0.040887419971380456, 'max_depth': 17, 'min_samples_split': 31, 'min_samples_leaf': 14}. Best is trial 37 with value: 0.6139663946422221.\n",
      "[I 2024-07-10 01:26:30,492] Trial 61 finished with value: 0.6156758664009493 and parameters: {'n_estimators': 1601, 'learning_rate': 0.007484423302277796, 'max_depth': 4, 'min_samples_split': 29, 'min_samples_leaf': 10}. Best is trial 61 with value: 0.6156758664009493.\n",
      "[I 2024-07-10 01:27:22,215] Trial 62 finished with value: 0.5884086074740579 and parameters: {'n_estimators': 1591, 'learning_rate': 0.04401390482544901, 'max_depth': 4, 'min_samples_split': 29, 'min_samples_leaf': 9}. Best is trial 61 with value: 0.6156758664009493.\n",
      "[I 2024-07-10 01:29:20,349] Trial 63 finished with value: 0.5422923756835833 and parameters: {'n_estimators': 1644, 'learning_rate': 0.10440374477595338, 'max_depth': 8, 'min_samples_split': 28, 'min_samples_leaf': 12}. Best is trial 61 with value: 0.6156758664009493.\n",
      "[I 2024-07-10 01:30:14,853] Trial 64 finished with value: 0.57171946580971 and parameters: {'n_estimators': 1700, 'learning_rate': 0.07020764076303734, 'max_depth': 4, 'min_samples_split': 27, 'min_samples_leaf': 6}. Best is trial 61 with value: 0.6156758664009493.\n",
      "[I 2024-07-10 01:31:15,364] Trial 65 finished with value: 0.6124028825638699 and parameters: {'n_estimators': 1252, 'learning_rate': 0.004556212348595217, 'max_depth': 6, 'min_samples_split': 32, 'min_samples_leaf': 11}. Best is trial 61 with value: 0.6156758664009493.\n",
      "[I 2024-07-10 01:32:25,209] Trial 66 finished with value: 0.5459658194412611 and parameters: {'n_estimators': 1054, 'learning_rate': 0.13023221863142967, 'max_depth': 11, 'min_samples_split': 31, 'min_samples_leaf': 12}. Best is trial 61 with value: 0.6156758664009493.\n",
      "[I 2024-07-10 01:33:41,640] Trial 67 finished with value: 0.5616959158071649 and parameters: {'n_estimators': 1256, 'learning_rate': 0.04353458853669949, 'max_depth': 7, 'min_samples_split': 32, 'min_samples_leaf': 14}. Best is trial 61 with value: 0.6156758664009493.\n",
      "[I 2024-07-10 01:33:58,443] Trial 68 finished with value: 0.5498529024131471 and parameters: {'n_estimators': 1424, 'learning_rate': 0.8865888218778077, 'max_depth': 24, 'min_samples_split': 30, 'min_samples_leaf': 16}. Best is trial 61 with value: 0.6156758664009493.\n",
      "[I 2024-07-10 01:35:45,069] Trial 69 finished with value: 0.5444319786016882 and parameters: {'n_estimators': 1335, 'learning_rate': 0.0926556161048911, 'max_depth': 9, 'min_samples_split': 32, 'min_samples_leaf': 8}. Best is trial 61 with value: 0.6156758664009493.\n",
      "[I 2024-07-10 01:37:59,979] Trial 70 finished with value: 0.5556802839421917 and parameters: {'n_estimators': 1173, 'learning_rate': 0.030117235344703206, 'max_depth': 13, 'min_samples_split': 29, 'min_samples_leaf': 11}. Best is trial 61 with value: 0.6156758664009493.\n",
      "[I 2024-07-10 01:39:15,848] Trial 71 finished with value: 0.588037664866371 and parameters: {'n_estimators': 1525, 'learning_rate': 0.012871170157714117, 'max_depth': 6, 'min_samples_split': 26, 'min_samples_leaf': 10}. Best is trial 61 with value: 0.6156758664009493.\n",
      "[I 2024-07-10 01:39:59,513] Trial 72 finished with value: 0.5885881193669201 and parameters: {'n_estimators': 1768, 'learning_rate': 0.0739859472800712, 'max_depth': 3, 'min_samples_split': 28, 'min_samples_leaf': 7}. Best is trial 61 with value: 0.6156758664009493.\n",
      "[I 2024-07-10 01:40:48,015] Trial 73 finished with value: 0.6084482204156803 and parameters: {'n_estimators': 1235, 'learning_rate': 0.001700719245608124, 'max_depth': 5, 'min_samples_split': 29, 'min_samples_leaf': 9}. Best is trial 61 with value: 0.6156758664009493.\n",
      "[I 2024-07-10 01:42:30,343] Trial 74 finished with value: 0.5519926214609219 and parameters: {'n_estimators': 1464, 'learning_rate': 0.10735632528191698, 'max_depth': 9, 'min_samples_split': 30, 'min_samples_leaf': 32}. Best is trial 61 with value: 0.6156758664009493.\n",
      "[I 2024-07-10 01:44:50,187] Trial 75 finished with value: 0.5548246579658075 and parameters: {'n_estimators': 1057, 'learning_rate': 0.036850792526967616, 'max_depth': 31, 'min_samples_split': 10, 'min_samples_leaf': 13}. Best is trial 61 with value: 0.6156758664009493.\n",
      "[I 2024-07-10 01:44:58,675] Trial 76 finished with value: 0.6016557273154011 and parameters: {'n_estimators': 462, 'learning_rate': 0.3469007102753961, 'max_depth': 2, 'min_samples_split': 25, 'min_samples_leaf': 6}. Best is trial 61 with value: 0.6156758664009493.\n",
      "[I 2024-07-10 01:45:27,749] Trial 77 finished with value: 0.5889990117160605 and parameters: {'n_estimators': 922, 'learning_rate': 0.07652705757023433, 'max_depth': 4, 'min_samples_split': 31, 'min_samples_leaf': 10}. Best is trial 61 with value: 0.6156758664009493.\n",
      "[I 2024-07-10 01:47:06,788] Trial 78 finished with value: 0.5388280724562311 and parameters: {'n_estimators': 1619, 'learning_rate': 0.13963139768611602, 'max_depth': 7, 'min_samples_split': 2, 'min_samples_leaf': 11}. Best is trial 61 with value: 0.6156758664009493.\n",
      "[I 2024-07-10 01:49:06,765] Trial 79 finished with value: 0.555421076814938 and parameters: {'n_estimators': 1326, 'learning_rate': 0.03362791622199239, 'max_depth': 10, 'min_samples_split': 6, 'min_samples_leaf': 15}. Best is trial 61 with value: 0.6156758664009493.\n",
      "[I 2024-07-10 01:50:02,420] Trial 80 finished with value: 0.565632735025117 and parameters: {'n_estimators': 1132, 'learning_rate': 0.0606228027171323, 'max_depth': 6, 'min_samples_split': 27, 'min_samples_leaf': 3}. Best is trial 61 with value: 0.6156758664009493.\n",
      "[I 2024-07-10 01:50:37,692] Trial 81 finished with value: 0.6134938665772323 and parameters: {'n_estimators': 1388, 'learning_rate': 0.005746485599192138, 'max_depth': 3, 'min_samples_split': 27, 'min_samples_leaf': 10}. Best is trial 61 with value: 0.6156758664009493.\n",
      "[I 2024-07-10 01:52:18,633] Trial 82 finished with value: 0.6006228583425199 and parameters: {'n_estimators': 1382, 'learning_rate': 0.003076984920782278, 'max_depth': 8, 'min_samples_split': 24, 'min_samples_leaf': 12}. Best is trial 61 with value: 0.6156758664009493.\n",
      "[I 2024-07-10 01:53:01,393] Trial 83 finished with value: 0.5999515433334912 and parameters: {'n_estimators': 1677, 'learning_rate': 0.034146885574890144, 'max_depth': 3, 'min_samples_split': 29, 'min_samples_leaf': 8}. Best is trial 61 with value: 0.6156758664009493.\n",
      "[I 2024-07-10 01:54:03,431] Trial 84 finished with value: 0.5461351219342696 and parameters: {'n_estimators': 1549, 'learning_rate': 0.10700160298415451, 'max_depth': 5, 'min_samples_split': 30, 'min_samples_leaf': 9}. Best is trial 61 with value: 0.6156758664009493.\n",
      "[I 2024-07-10 01:54:24,769] Trial 85 finished with value: 0.584174705675369 and parameters: {'n_estimators': 1221, 'learning_rate': 0.5007670603294828, 'max_depth': 2, 'min_samples_split': 32, 'min_samples_leaf': 27}. Best is trial 61 with value: 0.6156758664009493.\n",
      "[I 2024-07-10 01:55:18,202] Trial 86 finished with value: 0.5303493594959419 and parameters: {'n_estimators': 1285, 'learning_rate': 0.4502728602350349, 'max_depth': 6, 'min_samples_split': 26, 'min_samples_leaf': 14}. Best is trial 61 with value: 0.6156758664009493.\n",
      "[I 2024-07-10 01:55:51,966] Trial 87 finished with value: 0.5957159904659985 and parameters: {'n_estimators': 1383, 'learning_rate': 0.06149712508261403, 'max_depth': 3, 'min_samples_split': 28, 'min_samples_leaf': 11}. Best is trial 61 with value: 0.6156758664009493.\n",
      "[I 2024-07-10 01:57:31,567] Trial 88 finished with value: 0.5589051718003434 and parameters: {'n_estimators': 1417, 'learning_rate': 0.026896740174006065, 'max_depth': 8, 'min_samples_split': 27, 'min_samples_leaf': 13}. Best is trial 61 with value: 0.6156758664009493.\n",
      "[I 2024-07-10 01:58:27,328] Trial 89 finished with value: 0.5639835666430125 and parameters: {'n_estimators': 1728, 'learning_rate': 0.08638855853813017, 'max_depth': 4, 'min_samples_split': 31, 'min_samples_leaf': 5}. Best is trial 61 with value: 0.6156758664009493.\n",
      "[I 2024-07-10 01:59:11,880] Trial 90 finished with value: 0.542795355012258 and parameters: {'n_estimators': 1277, 'learning_rate': 0.17985638284602978, 'max_depth': 12, 'min_samples_split': 22, 'min_samples_leaf': 7}. Best is trial 61 with value: 0.6156758664009493.\n",
      "[I 2024-07-10 02:00:00,990] Trial 91 finished with value: 0.6107074101130432 and parameters: {'n_estimators': 1492, 'learning_rate': 0.0026953054077996476, 'max_depth': 4, 'min_samples_split': 25, 'min_samples_leaf': 10}. Best is trial 61 with value: 0.6156758664009493.\n",
      "[I 2024-07-10 02:01:17,557] Trial 92 finished with value: 0.5764274331347439 and parameters: {'n_estimators': 1517, 'learning_rate': 0.020067614215059527, 'max_depth': 6, 'min_samples_split': 25, 'min_samples_leaf': 10}. Best is trial 61 with value: 0.6156758664009493.\n",
      "[I 2024-07-10 02:02:09,502] Trial 93 finished with value: 0.5791408472064087 and parameters: {'n_estimators': 1607, 'learning_rate': 0.053661328510444625, 'max_depth': 4, 'min_samples_split': 28, 'min_samples_leaf': 9}. Best is trial 61 with value: 0.6156758664009493.\n",
      "[I 2024-07-10 02:03:27,785] Trial 94 finished with value: 0.6094050665260546 and parameters: {'n_estimators': 1339, 'learning_rate': 0.0025256943938439845, 'max_depth': 7, 'min_samples_split': 30, 'min_samples_leaf': 12}. Best is trial 61 with value: 0.6156758664009493.\n",
      "[I 2024-07-10 02:05:29,925] Trial 95 finished with value: 0.5591087642959554 and parameters: {'n_estimators': 1464, 'learning_rate': 0.02739670425023421, 'max_depth': 9, 'min_samples_split': 23, 'min_samples_leaf': 13}. Best is trial 61 with value: 0.6156758664009493.\n",
      "[I 2024-07-10 02:06:08,837] Trial 96 finished with value: 0.5763144292785339 and parameters: {'n_estimators': 1565, 'learning_rate': 0.11587403302767686, 'max_depth': 3, 'min_samples_split': 13, 'min_samples_leaf': 10}. Best is trial 61 with value: 0.6156758664009493.\n",
      "[I 2024-07-10 02:07:17,382] Trial 97 finished with value: 0.550926396751557 and parameters: {'n_estimators': 1669, 'learning_rate': 0.08246035879070288, 'max_depth': 5, 'min_samples_split': 29, 'min_samples_leaf': 11}. Best is trial 61 with value: 0.6156758664009493.\n",
      "[I 2024-07-10 02:07:49,283] Trial 98 finished with value: 0.6014459908080868 and parameters: {'n_estimators': 1791, 'learning_rate': 0.04920091481784234, 'max_depth': 2, 'min_samples_split': 26, 'min_samples_leaf': 8}. Best is trial 61 with value: 0.6156758664009493.\n",
      "[I 2024-07-10 02:09:12,573] Trial 99 finished with value: 0.5646041109919218 and parameters: {'n_estimators': 1151, 'learning_rate': 0.023669495573927064, 'max_depth': 8, 'min_samples_split': 24, 'min_samples_leaf': 6}. Best is trial 61 with value: 0.6156758664009493.\n"
     ]
    }
   ],
   "source": [
    "study = optuna.create_study(direction='maximize')\n",
    "study.optimize(objective, n_trials=100, show_progress_bar=True)"
   ]
  },
  {
   "cell_type": "code",
   "execution_count": 12,
   "id": "d08f6ab5-62c1-435d-9f71-ab5c581e4dcf",
   "metadata": {},
   "outputs": [
    {
     "name": "stdout",
     "output_type": "stream",
     "text": [
      "Best trial: FrozenTrial(number=61, state=1, values=[0.6156758664009493], datetime_start=datetime.datetime(2024, 7, 10, 1, 25, 38, 901409), datetime_complete=datetime.datetime(2024, 7, 10, 1, 26, 30, 492582), params={'n_estimators': 1601, 'learning_rate': 0.007484423302277796, 'max_depth': 4, 'min_samples_split': 29, 'min_samples_leaf': 10}, user_attrs={}, system_attrs={}, intermediate_values={}, distributions={'n_estimators': IntDistribution(high=2000, log=False, low=100, step=1), 'learning_rate': FloatDistribution(high=1.0, log=False, low=0.001, step=None), 'max_depth': IntDistribution(high=50, log=False, low=2, step=1), 'min_samples_split': IntDistribution(high=32, log=False, low=2, step=1), 'min_samples_leaf': IntDistribution(high=32, log=False, low=1, step=1)}, trial_id=61, value=None)\n",
      "Best hyperparameters: {'n_estimators': 1601, 'learning_rate': 0.007484423302277796, 'max_depth': 4, 'min_samples_split': 29, 'min_samples_leaf': 10}\n"
     ]
    }
   ],
   "source": [
    "print(\"Best trial:\", study.best_trial)\n",
    "print(\"Best hyperparameters:\", study.best_params)"
   ]
  },
  {
   "cell_type": "code",
   "execution_count": null,
   "id": "7c8112a1-6eda-4493-9b41-544b0fb6bd3c",
   "metadata": {},
   "outputs": [],
   "source": []
  }
 ],
 "metadata": {
  "kernelspec": {
   "display_name": "Python 3 (ipykernel)",
   "language": "python",
   "name": "python3"
  },
  "language_info": {
   "codemirror_mode": {
    "name": "ipython",
    "version": 3
   },
   "file_extension": ".py",
   "mimetype": "text/x-python",
   "name": "python",
   "nbconvert_exporter": "python",
   "pygments_lexer": "ipython3",
   "version": "3.11.5"
  }
 },
 "nbformat": 4,
 "nbformat_minor": 5
}

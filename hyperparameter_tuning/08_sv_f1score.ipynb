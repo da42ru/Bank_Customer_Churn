{
 "cells": [
  {
   "cell_type": "markdown",
   "id": "b8305d2b-05a2-4c03-96c1-41a8ed3e3f4e",
   "metadata": {},
   "source": [
    "## Support Vector Hyperparameter Tuning (F1-Score)"
   ]
  },
  {
   "cell_type": "code",
   "execution_count": 56,
   "id": "1737f07b-25d7-4e9a-950e-c41ea036b4c4",
   "metadata": {
    "tags": []
   },
   "outputs": [],
   "source": [
    "# Load Libraries\n",
    "\n",
    "import pandas as pd\n",
    "import numpy as np\n",
    "\n",
    "from sklearn.preprocessing import StandardScaler, MinMaxScaler\n",
    "from sklearn.model_selection import train_test_split, StratifiedKFold\n",
    "from sklearn.metrics import f1_score\n",
    "\n",
    "from sklearn.svm import SVC\n",
    "\n",
    "import optuna"
   ]
  },
  {
   "cell_type": "code",
   "execution_count": 58,
   "id": "34b40b44-1c92-4b9d-ad57-3cddb44f6f0f",
   "metadata": {
    "tags": []
   },
   "outputs": [],
   "source": [
    "# Load Data\n",
    "\n",
    "df = pd.read_csv('bank_4.csv', index_col=0)"
   ]
  },
  {
   "cell_type": "code",
   "execution_count": 60,
   "id": "e25031a8-fef1-4150-86e7-8b7e22f0a9bb",
   "metadata": {
    "tags": []
   },
   "outputs": [],
   "source": [
    "# Train / Test Split\n",
    "\n",
    "X = df.drop(columns=['churn', 'complain', 'umap_1', 'umap_2'])\n",
    "y = df['churn']\n",
    "\n",
    "X_train, X_test, y_train, y_test = train_test_split(X, y, test_size=0.2, stratify=y, random_state=42)"
   ]
  },
  {
   "cell_type": "code",
   "execution_count": 62,
   "id": "2b530e97-2bc3-4b3d-b9f8-eb4ed610ff66",
   "metadata": {
    "tags": []
   },
   "outputs": [],
   "source": [
    "# Hyperparameter tuning\n",
    "\n",
    "def objective(trial):\n",
    "    \n",
    "    params = {\n",
    "        'C': trial.suggest_float('C', 0.001, 1.0),\n",
    "        'kernel': trial.suggest_categorical('kernel', ['linear', 'rbf', 'poly'])\n",
    "    }\n",
    "\n",
    "    model = SVC(\n",
    "        **params,\n",
    "        random_state=42,\n",
    "        probability=True)\n",
    "    \n",
    "    threshold = 0.27\n",
    "    \n",
    "    skf = StratifiedKFold(n_splits=5, random_state=42, shuffle=True)\n",
    "    scores = []\n",
    "    \n",
    "    for tr, te in skf.split(X_train, y_train):\n",
    "        \n",
    "        X_tr, X_te = X_train.iloc[tr], X_train.iloc[te]\n",
    "        y_tr, y_te = y_train.iloc[tr], y_train.iloc[te]\n",
    "        \n",
    "        model.fit(X_tr, y_tr)\n",
    "        prob = model.predict_proba(X_te)[:, 1]\n",
    "        y_pred = np.where(prob < threshold, 0, 1)\n",
    "        \n",
    "        scores.append(f1_score(y_te, y_pred))\n",
    "        \n",
    "    return np.mean(scores)"
   ]
  },
  {
   "cell_type": "code",
   "execution_count": 64,
   "id": "eb85a387-214c-480a-8a96-d69570dcbce9",
   "metadata": {
    "tags": []
   },
   "outputs": [
    {
     "name": "stderr",
     "output_type": "stream",
     "text": [
      "[I 2024-07-15 19:24:28,305] A new study created in memory with name: no-name-de02149e-a74b-4f98-a664-8d4858a3b428\n"
     ]
    },
    {
     "data": {
      "application/vnd.jupyter.widget-view+json": {
       "model_id": "3d9672f9fdba4481b5f8d6dffa108542",
       "version_major": 2,
       "version_minor": 0
      },
      "text/plain": [
       "  0%|          | 0/100 [00:00<?, ?it/s]"
      ]
     },
     "metadata": {},
     "output_type": "display_data"
    },
    {
     "name": "stdout",
     "output_type": "stream",
     "text": [
      "[I 2024-07-15 19:24:57,333] Trial 0 finished with value: 0.5182642679074513 and parameters: {'C': 0.6740981841562477, 'kernel': 'poly'}. Best is trial 0 with value: 0.5182642679074513.\n",
      "[I 2024-07-15 19:25:26,200] Trial 1 finished with value: 0.5177061667410501 and parameters: {'C': 0.32086916826147666, 'kernel': 'poly'}. Best is trial 0 with value: 0.5182642679074513.\n",
      "[I 2024-07-15 19:25:54,112] Trial 2 finished with value: 0.5181882816032892 and parameters: {'C': 0.6271061756410041, 'kernel': 'poly'}. Best is trial 0 with value: 0.5182642679074513.\n",
      "[I 2024-07-15 19:26:10,848] Trial 3 finished with value: 0.4667738021531367 and parameters: {'C': 0.2573550992640807, 'kernel': 'linear'}. Best is trial 0 with value: 0.5182642679074513.\n",
      "[I 2024-07-15 19:26:37,145] Trial 4 finished with value: 0.5177061667410501 and parameters: {'C': 0.2966492527160302, 'kernel': 'poly'}. Best is trial 0 with value: 0.5182642679074513.\n",
      "[I 2024-07-15 19:27:12,211] Trial 5 finished with value: 0.5484785569838893 and parameters: {'C': 0.3283966407899201, 'kernel': 'rbf'}. Best is trial 5 with value: 0.5484785569838893.\n",
      "[I 2024-07-15 19:27:39,695] Trial 6 finished with value: 0.5197405103879713 and parameters: {'C': 0.8921967328843085, 'kernel': 'poly'}. Best is trial 5 with value: 0.5484785569838893.\n",
      "[I 2024-07-15 19:28:06,597] Trial 7 finished with value: 0.5184219258017573 and parameters: {'C': 0.5517773686591768, 'kernel': 'poly'}. Best is trial 5 with value: 0.5484785569838893.\n",
      "[I 2024-07-15 19:28:25,917] Trial 8 finished with value: 0.4519277955912725 and parameters: {'C': 0.4246918014036572, 'kernel': 'linear'}. Best is trial 5 with value: 0.5484785569838893.\n",
      "[I 2024-07-15 19:29:01,929] Trial 9 finished with value: 0.5486438490699076 and parameters: {'C': 0.9205309952477296, 'kernel': 'rbf'}. Best is trial 9 with value: 0.5486438490699076.\n",
      "[I 2024-07-15 19:29:36,339] Trial 10 finished with value: 0.5478245265539246 and parameters: {'C': 0.9737091351258879, 'kernel': 'rbf'}. Best is trial 9 with value: 0.5486438490699076.\n",
      "[I 2024-07-15 19:30:11,655] Trial 11 finished with value: 0.5485362376593638 and parameters: {'C': 0.08748662793678041, 'kernel': 'rbf'}. Best is trial 9 with value: 0.5486438490699076.\n",
      "[I 2024-07-15 19:30:46,064] Trial 12 finished with value: 0.5504900374123334 and parameters: {'C': 0.06439853814274676, 'kernel': 'rbf'}. Best is trial 12 with value: 0.5504900374123334.\n",
      "[I 2024-07-15 19:31:21,734] Trial 13 finished with value: 0.5496175604272797 and parameters: {'C': 0.054801158935006075, 'kernel': 'rbf'}. Best is trial 12 with value: 0.5504900374123334.\n",
      "[I 2024-07-15 19:31:55,418] Trial 14 finished with value: 0.5453587930114834 and parameters: {'C': 0.004587636717279721, 'kernel': 'rbf'}. Best is trial 12 with value: 0.5504900374123334.\n",
      "[I 2024-07-15 19:32:32,151] Trial 15 finished with value: 0.5471912083005976 and parameters: {'C': 0.13595603207378043, 'kernel': 'rbf'}. Best is trial 12 with value: 0.5504900374123334.\n",
      "[I 2024-07-15 19:33:08,598] Trial 16 finished with value: 0.5475782053265763 and parameters: {'C': 0.1419492083209404, 'kernel': 'rbf'}. Best is trial 12 with value: 0.5504900374123334.\n",
      "[I 2024-07-15 19:33:38,739] Trial 17 finished with value: 0.546000826560008 and parameters: {'C': 0.006787942174638968, 'kernel': 'rbf'}. Best is trial 12 with value: 0.5504900374123334.\n",
      "[I 2024-07-15 19:33:55,236] Trial 18 finished with value: 0.45538703007575715 and parameters: {'C': 0.20122893129447164, 'kernel': 'linear'}. Best is trial 12 with value: 0.5504900374123334.\n",
      "[I 2024-07-15 19:34:30,119] Trial 19 finished with value: 0.5486498485747991 and parameters: {'C': 0.42011671286568064, 'kernel': 'rbf'}. Best is trial 12 with value: 0.5504900374123334.\n",
      "[I 2024-07-15 19:35:04,108] Trial 20 finished with value: 0.5480902489435974 and parameters: {'C': 0.09411140076466763, 'kernel': 'rbf'}. Best is trial 12 with value: 0.5504900374123334.\n",
      "[I 2024-07-15 19:35:38,837] Trial 21 finished with value: 0.5481461209829703 and parameters: {'C': 0.4288174339879447, 'kernel': 'rbf'}. Best is trial 12 with value: 0.5504900374123334.\n",
      "[I 2024-07-15 19:36:13,478] Trial 22 finished with value: 0.5483077740573525 and parameters: {'C': 0.7448623903200497, 'kernel': 'rbf'}. Best is trial 12 with value: 0.5504900374123334.\n",
      "[I 2024-07-15 19:36:48,328] Trial 23 finished with value: 0.5480291300468337 and parameters: {'C': 0.40732093248594914, 'kernel': 'rbf'}. Best is trial 12 with value: 0.5504900374123334.\n",
      "[I 2024-07-15 19:37:22,264] Trial 24 finished with value: 0.548182322638817 and parameters: {'C': 0.20147382257352464, 'kernel': 'rbf'}. Best is trial 12 with value: 0.5504900374123334.\n",
      "[I 2024-07-15 19:37:42,393] Trial 25 finished with value: 0.4609824374852545 and parameters: {'C': 0.5157704391809348, 'kernel': 'linear'}. Best is trial 12 with value: 0.5504900374123334.\n",
      "[I 2024-07-15 19:38:16,349] Trial 26 finished with value: 0.5489720910578356 and parameters: {'C': 0.06749697046735752, 'kernel': 'rbf'}. Best is trial 12 with value: 0.5504900374123334.\n",
      "[I 2024-07-15 19:38:50,140] Trial 27 finished with value: 0.5503187023200814 and parameters: {'C': 0.06426869613558445, 'kernel': 'rbf'}. Best is trial 12 with value: 0.5504900374123334.\n",
      "[I 2024-07-15 19:39:24,386] Trial 28 finished with value: 0.5489829459641482 and parameters: {'C': 0.20671979532461643, 'kernel': 'rbf'}. Best is trial 12 with value: 0.5504900374123334.\n",
      "[I 2024-07-15 19:39:40,707] Trial 29 finished with value: 0.3867590217724177 and parameters: {'C': 0.006202312016842952, 'kernel': 'linear'}. Best is trial 12 with value: 0.5504900374123334.\n",
      "[I 2024-07-15 19:40:15,782] Trial 30 finished with value: 0.5476990145216373 and parameters: {'C': 0.16016167859239183, 'kernel': 'rbf'}. Best is trial 12 with value: 0.5504900374123334.\n",
      "[I 2024-07-15 19:40:50,742] Trial 31 finished with value: 0.5479700873953238 and parameters: {'C': 0.23494839146183868, 'kernel': 'rbf'}. Best is trial 12 with value: 0.5504900374123334.\n",
      "[I 2024-07-15 19:41:25,237] Trial 32 finished with value: 0.5495190691922204 and parameters: {'C': 0.08010608184640136, 'kernel': 'rbf'}. Best is trial 12 with value: 0.5504900374123334.\n",
      "[I 2024-07-15 19:42:00,108] Trial 33 finished with value: 0.5495489150774315 and parameters: {'C': 0.07576759032686237, 'kernel': 'rbf'}. Best is trial 12 with value: 0.5504900374123334.\n",
      "[I 2024-07-15 19:42:34,202] Trial 34 finished with value: 0.5503933513234982 and parameters: {'C': 0.05178097247093921, 'kernel': 'rbf'}. Best is trial 12 with value: 0.5504900374123334.\n",
      "[I 2024-07-15 19:43:00,004] Trial 35 finished with value: 0.5177061667410501 and parameters: {'C': 0.28913742691080124, 'kernel': 'poly'}. Best is trial 12 with value: 0.5504900374123334.\n",
      "[I 2024-07-15 19:43:34,913] Trial 36 finished with value: 0.5481414224875758 and parameters: {'C': 0.34143163770880447, 'kernel': 'rbf'}. Best is trial 12 with value: 0.5504900374123334.\n",
      "[I 2024-07-15 19:44:01,023] Trial 37 finished with value: 0.5180250828477135 and parameters: {'C': 0.14902318648052582, 'kernel': 'poly'}. Best is trial 12 with value: 0.5504900374123334.\n",
      "[I 2024-07-15 19:44:36,628] Trial 38 finished with value: 0.5483219495234958 and parameters: {'C': 0.7346854036694501, 'kernel': 'rbf'}. Best is trial 12 with value: 0.5504900374123334.\n",
      "[I 2024-07-15 20:14:16,984] Trial 39 finished with value: 0.4070323830904138 and parameters: {'C': 0.03715062441013091, 'kernel': 'linear'}. Best is trial 12 with value: 0.5504900374123334.\n",
      "[I 2024-07-15 20:14:43,572] Trial 40 finished with value: 0.5177061667410501 and parameters: {'C': 0.2600895559532613, 'kernel': 'poly'}. Best is trial 12 with value: 0.5504900374123334.\n",
      "[I 2024-07-15 20:15:18,187] Trial 41 finished with value: 0.5489613642280018 and parameters: {'C': 0.10461273854965086, 'kernel': 'rbf'}. Best is trial 12 with value: 0.5504900374123334.\n",
      "[I 2024-07-15 20:15:52,217] Trial 42 finished with value: 0.5488973449538793 and parameters: {'C': 0.04528460609815766, 'kernel': 'rbf'}. Best is trial 12 with value: 0.5504900374123334.\n",
      "[I 2024-07-15 20:16:26,075] Trial 43 finished with value: 0.5490402718571732 and parameters: {'C': 0.11388898644485584, 'kernel': 'rbf'}. Best is trial 12 with value: 0.5504900374123334.\n",
      "[I 2024-07-15 20:17:00,681] Trial 44 finished with value: 0.5481251679579615 and parameters: {'C': 0.17158121825185552, 'kernel': 'rbf'}. Best is trial 12 with value: 0.5504900374123334.\n",
      "[I 2024-07-15 20:17:34,840] Trial 45 finished with value: 0.5499408695214065 and parameters: {'C': 0.06038940588908269, 'kernel': 'rbf'}. Best is trial 12 with value: 0.5504900374123334.\n",
      "[I 2024-07-15 20:18:08,549] Trial 46 finished with value: 0.5498160504253675 and parameters: {'C': 0.046469903499500254, 'kernel': 'rbf'}. Best is trial 12 with value: 0.5504900374123334.\n",
      "[I 2024-07-15 20:18:43,914] Trial 47 finished with value: 0.5484628257865541 and parameters: {'C': 0.6111498068582103, 'kernel': 'rbf'}. Best is trial 12 with value: 0.5504900374123334.\n",
      "[I 2024-07-15 20:19:09,067] Trial 48 finished with value: 0.5158336296640742 and parameters: {'C': 0.03535439222931554, 'kernel': 'poly'}. Best is trial 12 with value: 0.5504900374123334.\n",
      "[I 2024-07-15 20:19:42,910] Trial 49 finished with value: 0.5485374565290736 and parameters: {'C': 0.1768908749993128, 'kernel': 'rbf'}. Best is trial 12 with value: 0.5504900374123334.\n",
      "[I 2024-07-15 20:20:17,147] Trial 50 finished with value: 0.5483215946062081 and parameters: {'C': 0.1226163467632972, 'kernel': 'rbf'}. Best is trial 12 with value: 0.5504900374123334.\n",
      "[I 2024-07-15 20:20:46,260] Trial 51 finished with value: 0.5393874418551414 and parameters: {'C': 0.004096341220292524, 'kernel': 'rbf'}. Best is trial 12 with value: 0.5504900374123334.\n",
      "[I 2024-07-15 20:21:19,969] Trial 52 finished with value: 0.5488973449538793 and parameters: {'C': 0.04539059161235065, 'kernel': 'rbf'}. Best is trial 12 with value: 0.5504900374123334.\n",
      "[I 2024-07-15 20:21:53,838] Trial 53 finished with value: 0.5493875176643261 and parameters: {'C': 0.10654888771088511, 'kernel': 'rbf'}. Best is trial 12 with value: 0.5504900374123334.\n",
      "[I 2024-07-15 20:22:27,933] Trial 54 finished with value: 0.5502420740781454 and parameters: {'C': 0.057360603158499335, 'kernel': 'rbf'}. Best is trial 12 with value: 0.5504900374123334.\n",
      "[I 2024-07-15 20:23:01,931] Trial 55 finished with value: 0.5486478578343897 and parameters: {'C': 0.06886232609227537, 'kernel': 'rbf'}. Best is trial 12 with value: 0.5504900374123334.\n",
      "[I 2024-07-15 20:23:18,861] Trial 56 finished with value: 0.46924479224602234 and parameters: {'C': 0.23432109595052236, 'kernel': 'linear'}. Best is trial 12 with value: 0.5504900374123334.\n",
      "[I 2024-07-15 20:23:52,622] Trial 57 finished with value: 0.5475812678130908 and parameters: {'C': 0.131803738914328, 'kernel': 'rbf'}. Best is trial 12 with value: 0.5504900374123334.\n",
      "[I 2024-07-15 20:24:27,352] Trial 58 finished with value: 0.546922114622488 and parameters: {'C': 0.3677789016209227, 'kernel': 'rbf'}. Best is trial 12 with value: 0.5504900374123334.\n",
      "[I 2024-07-15 20:25:00,438] Trial 59 finished with value: 0.5476872866535598 and parameters: {'C': 0.031357914474482114, 'kernel': 'rbf'}. Best is trial 12 with value: 0.5504900374123334.\n",
      "[I 2024-07-15 20:25:35,001] Trial 60 finished with value: 0.5484801483295756 and parameters: {'C': 0.8392315945962082, 'kernel': 'rbf'}. Best is trial 12 with value: 0.5504900374123334.\n",
      "[I 2024-07-15 20:26:09,145] Trial 61 finished with value: 0.5504787886428721 and parameters: {'C': 0.06400257295473225, 'kernel': 'rbf'}. Best is trial 12 with value: 0.5504900374123334.\n",
      "[I 2024-07-15 20:26:43,418] Trial 62 finished with value: 0.5480393690324121 and parameters: {'C': 0.08655057738409186, 'kernel': 'rbf'}. Best is trial 12 with value: 0.5504900374123334.\n",
      "[I 2024-07-15 20:27:17,290] Trial 63 finished with value: 0.5476038865645944 and parameters: {'C': 0.18727643318643905, 'kernel': 'rbf'}. Best is trial 12 with value: 0.5504900374123334.\n",
      "[I 2024-07-15 20:27:45,794] Trial 64 finished with value: 0.5221184117749178 and parameters: {'C': 0.002494091483552792, 'kernel': 'rbf'}. Best is trial 12 with value: 0.5504900374123334.\n",
      "[I 2024-07-15 20:28:19,839] Trial 65 finished with value: 0.5478506495403802 and parameters: {'C': 0.14095656788135866, 'kernel': 'rbf'}. Best is trial 12 with value: 0.5504900374123334.\n",
      "[I 2024-07-15 20:28:53,917] Trial 66 finished with value: 0.550701985735464 and parameters: {'C': 0.06275438636998831, 'kernel': 'rbf'}. Best is trial 66 with value: 0.550701985735464.\n",
      "[I 2024-07-15 20:29:09,690] Trial 67 finished with value: 0.46014314871576084 and parameters: {'C': 0.09943510531089908, 'kernel': 'linear'}. Best is trial 66 with value: 0.550701985735464.\n",
      "[I 2024-07-15 20:29:43,485] Trial 68 finished with value: 0.5483620878428288 and parameters: {'C': 0.22334414113512857, 'kernel': 'rbf'}. Best is trial 66 with value: 0.550701985735464.\n",
      "[I 2024-07-15 20:30:09,598] Trial 69 finished with value: 0.517244691915349 and parameters: {'C': 0.2820948273023749, 'kernel': 'poly'}. Best is trial 66 with value: 0.550701985735464.\n",
      "[I 2024-07-15 20:30:43,450] Trial 70 finished with value: 0.5481695540534833 and parameters: {'C': 0.07179390238894721, 'kernel': 'rbf'}. Best is trial 66 with value: 0.550701985735464.\n",
      "[I 2024-07-15 20:31:17,014] Trial 71 finished with value: 0.5505418103603905 and parameters: {'C': 0.039191927690536144, 'kernel': 'rbf'}. Best is trial 66 with value: 0.550701985735464.\n",
      "[I 2024-07-15 20:31:49,917] Trial 72 finished with value: 0.5456278541203996 and parameters: {'C': 0.026899924690703562, 'kernel': 'rbf'}. Best is trial 66 with value: 0.550701985735464.\n",
      "[I 2024-07-15 20:32:24,287] Trial 73 finished with value: 0.5481636638535499 and parameters: {'C': 0.15172781117327527, 'kernel': 'rbf'}. Best is trial 66 with value: 0.550701985735464.\n",
      "[I 2024-07-15 20:32:57,965] Trial 74 finished with value: 0.5499180395483281 and parameters: {'C': 0.06599084743052608, 'kernel': 'rbf'}. Best is trial 66 with value: 0.550701985735464.\n",
      "[I 2024-07-15 20:33:32,025] Trial 75 finished with value: 0.5480160123336295 and parameters: {'C': 0.09768612277399003, 'kernel': 'rbf'}. Best is trial 66 with value: 0.550701985735464.\n",
      "[I 2024-07-15 20:34:06,145] Trial 76 finished with value: 0.5486765564220956 and parameters: {'C': 0.12584753919363673, 'kernel': 'rbf'}. Best is trial 66 with value: 0.550701985735464.\n",
      "[I 2024-07-15 20:34:40,135] Trial 77 finished with value: 0.5481745534447499 and parameters: {'C': 0.055934638910804184, 'kernel': 'rbf'}. Best is trial 66 with value: 0.550701985735464.\n",
      "[I 2024-07-15 20:35:13,690] Trial 78 finished with value: 0.5503834947212232 and parameters: {'C': 0.020810396636358558, 'kernel': 'rbf'}. Best is trial 66 with value: 0.550701985735464.\n",
      "[I 2024-07-15 20:35:29,908] Trial 79 finished with value: 0.3850897421695624 and parameters: {'C': 0.02302384356178233, 'kernel': 'linear'}. Best is trial 66 with value: 0.550701985735464.\n",
      "[I 2024-07-15 20:35:57,251] Trial 80 finished with value: 0.5093682705561963 and parameters: {'C': 0.0016091325020507682, 'kernel': 'rbf'}. Best is trial 66 with value: 0.550701985735464.\n",
      "[I 2024-07-15 20:36:31,084] Trial 81 finished with value: 0.5479088442871938 and parameters: {'C': 0.09187426584400468, 'kernel': 'rbf'}. Best is trial 66 with value: 0.550701985735464.\n",
      "[I 2024-07-15 20:37:05,221] Trial 82 finished with value: 0.548495750288725 and parameters: {'C': 0.46913271804174206, 'kernel': 'rbf'}. Best is trial 66 with value: 0.550701985735464.\n",
      "[I 2024-07-15 20:37:38,375] Trial 83 finished with value: 0.550401275946114 and parameters: {'C': 0.058118462403553194, 'kernel': 'rbf'}. Best is trial 66 with value: 0.550701985735464.\n",
      "[I 2024-07-15 20:38:11,244] Trial 84 finished with value: 0.5484274015301647 and parameters: {'C': 0.02395773918332863, 'kernel': 'rbf'}. Best is trial 66 with value: 0.550701985735464.\n",
      "[I 2024-07-15 20:38:44,893] Trial 85 finished with value: 0.5480025450977362 and parameters: {'C': 0.1704815677590059, 'kernel': 'rbf'}. Best is trial 66 with value: 0.550701985735464.\n",
      "[I 2024-07-15 20:39:09,888] Trial 86 finished with value: 0.5172252616897117 and parameters: {'C': 0.07839829466274527, 'kernel': 'poly'}. Best is trial 66 with value: 0.550701985735464.\n",
      "[I 2024-07-15 20:39:43,504] Trial 87 finished with value: 0.5480056633411782 and parameters: {'C': 0.12119077629708513, 'kernel': 'rbf'}. Best is trial 66 with value: 0.550701985735464.\n",
      "[I 2024-07-15 20:40:16,478] Trial 88 finished with value: 0.5502961251234564 and parameters: {'C': 0.04385862675708119, 'kernel': 'rbf'}. Best is trial 66 with value: 0.550701985735464.\n",
      "[I 2024-07-15 20:40:49,363] Trial 89 finished with value: 0.5481074075935787 and parameters: {'C': 0.029859535544346272, 'kernel': 'rbf'}. Best is trial 66 with value: 0.550701985735464.\n",
      "[I 2024-07-15 20:41:23,710] Trial 90 finished with value: 0.5469786655803156 and parameters: {'C': 0.14693535438612415, 'kernel': 'rbf'}. Best is trial 66 with value: 0.550701985735464.\n",
      "[I 2024-07-15 20:41:57,557] Trial 91 finished with value: 0.5502265480100492 and parameters: {'C': 0.051557167837187425, 'kernel': 'rbf'}. Best is trial 66 with value: 0.550701985735464.\n",
      "[I 2024-07-15 20:42:31,391] Trial 92 finished with value: 0.5491209755171937 and parameters: {'C': 0.10493128623668735, 'kernel': 'rbf'}. Best is trial 66 with value: 0.550701985735464.\n",
      "[I 2024-07-15 20:43:05,226] Trial 93 finished with value: 0.5502359878368986 and parameters: {'C': 0.05343128303044347, 'kernel': 'rbf'}. Best is trial 66 with value: 0.550701985735464.\n",
      "[I 2024-07-15 20:43:39,446] Trial 94 finished with value: 0.5490899178516724 and parameters: {'C': 0.0790099902533251, 'kernel': 'rbf'}. Best is trial 66 with value: 0.550701985735464.\n",
      "[I 2024-07-15 20:44:12,464] Trial 95 finished with value: 0.55141251958048 and parameters: {'C': 0.020457060411976778, 'kernel': 'rbf'}. Best is trial 95 with value: 0.55141251958048.\n",
      "[I 2024-07-15 20:44:45,875] Trial 96 finished with value: 0.5500845631165296 and parameters: {'C': 0.024092122766630662, 'kernel': 'rbf'}. Best is trial 95 with value: 0.55141251958048.\n",
      "[I 2024-07-15 20:45:20,805] Trial 97 finished with value: 0.5481404575029393 and parameters: {'C': 0.5852927453474079, 'kernel': 'rbf'}. Best is trial 95 with value: 0.55141251958048.\n",
      "[I 2024-07-15 20:45:59,293] Trial 98 finished with value: 0.548317407419105 and parameters: {'C': 0.6685234670864995, 'kernel': 'rbf'}. Best is trial 95 with value: 0.55141251958048.\n",
      "[I 2024-07-15 20:46:16,986] Trial 99 finished with value: 0.39020357580627657 and parameters: {'C': 0.01606148858997864, 'kernel': 'linear'}. Best is trial 95 with value: 0.55141251958048.\n"
     ]
    }
   ],
   "source": [
    "study = optuna.create_study(direction='maximize')\n",
    "study.optimize(objective, n_trials=100, show_progress_bar=True)"
   ]
  },
  {
   "cell_type": "code",
   "execution_count": 69,
   "id": "d08f6ab5-62c1-435d-9f71-ab5c581e4dcf",
   "metadata": {},
   "outputs": [
    {
     "name": "stdout",
     "output_type": "stream",
     "text": [
      "Best trial: FrozenTrial(number=95, state=1, values=[0.55141251958048], datetime_start=datetime.datetime(2024, 7, 15, 20, 43, 39, 448229), datetime_complete=datetime.datetime(2024, 7, 15, 20, 44, 12, 464714), params={'C': 0.020457060411976778, 'kernel': 'rbf'}, user_attrs={}, system_attrs={}, intermediate_values={}, distributions={'C': FloatDistribution(high=1.0, log=False, low=0.001, step=None), 'kernel': CategoricalDistribution(choices=('linear', 'rbf', 'poly'))}, trial_id=95, value=None)\n",
      "Best hyperparameters: {'C': 0.020457060411976778, 'kernel': 'rbf'}\n"
     ]
    }
   ],
   "source": [
    "print(\"Best trial:\", study.best_trial)\n",
    "print(\"Best hyperparameters:\", study.best_params)"
   ]
  },
  {
   "cell_type": "code",
   "execution_count": 72,
   "id": "fb5b1105-8334-4e05-8f33-0a10085c0e08",
   "metadata": {},
   "outputs": [
    {
     "name": "stdout",
     "output_type": "stream",
     "text": [
      "StandardScaler f1-score: 0.5713451671313549\n",
      "MinMaxScaler f1-score: 0.5572141709954568\n"
     ]
    }
   ],
   "source": [
    "# See if scaling data improves score\n",
    "\n",
    "sv = SVC(C=0.020457060411976778, random_state=42, probability=True)\n",
    "\n",
    "ss = StandardScaler()\n",
    "mm = MinMaxScaler()\n",
    "\n",
    "X_train_scaled_ss = pd.DataFrame(ss.fit_transform(X_train))\n",
    "X_train_scaled_mm = pd.DataFrame(mm.fit_transform(X_train))\n",
    "\n",
    "scales = [X_train_scaled_ss, X_train_scaled_mm]\n",
    "names = ['StandardScaler', 'MinMaxScaler']\n",
    "\n",
    "for i, n in zip(scales, names):\n",
    "    \n",
    "    threshold = 0.27\n",
    "    \n",
    "    skf = StratifiedKFold(n_splits=5, random_state=42, shuffle=True)\n",
    "    scores = []\n",
    "    \n",
    "    for tr, te in skf.split(i, y_train):\n",
    "        \n",
    "        X_tr, X_te = i.iloc[tr],i.iloc[te]\n",
    "        y_tr, y_te = y_train.iloc[tr], y_train.iloc[te]\n",
    "        \n",
    "        sv.fit(X_tr, y_tr)\n",
    "        prob = sv.predict_proba(X_te)[:, 1]\n",
    "        y_pred = np.where(prob < threshold, 0, 1)\n",
    "        \n",
    "        scores.append(f1_score(y_te, y_pred))\n",
    "        \n",
    "    print(f'{n} f1-score: {np.mean(scores)}')"
   ]
  },
  {
   "cell_type": "markdown",
   "id": "58a3d41b-3d16-4480-b0c9-3a648614ca8c",
   "metadata": {},
   "source": [
    "The model performs best with the Standard Scaler."
   ]
  },
  {
   "cell_type": "code",
   "execution_count": null,
   "id": "2b3bd48e-4e95-4087-885c-abb331a2bb4e",
   "metadata": {},
   "outputs": [],
   "source": []
  }
 ],
 "metadata": {
  "kernelspec": {
   "display_name": "Python 3 (ipykernel)",
   "language": "python",
   "name": "python3"
  },
  "language_info": {
   "codemirror_mode": {
    "name": "ipython",
    "version": 3
   },
   "file_extension": ".py",
   "mimetype": "text/x-python",
   "name": "python",
   "nbconvert_exporter": "python",
   "pygments_lexer": "ipython3",
   "version": "3.11.5"
  }
 },
 "nbformat": 4,
 "nbformat_minor": 5
}

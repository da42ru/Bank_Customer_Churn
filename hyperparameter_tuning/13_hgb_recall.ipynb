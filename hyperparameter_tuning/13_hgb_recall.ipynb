{
 "cells": [
  {
   "cell_type": "markdown",
   "id": "b8305d2b-05a2-4c03-96c1-41a8ed3e3f4e",
   "metadata": {},
   "source": [
    "## Hist Gradient Boosting Hyperparameter Tuning (Recall)"
   ]
  },
  {
   "cell_type": "code",
   "execution_count": 45,
   "id": "1737f07b-25d7-4e9a-950e-c41ea036b4c4",
   "metadata": {
    "tags": []
   },
   "outputs": [],
   "source": [
    "# Load Libraries\n",
    "\n",
    "import pandas as pd\n",
    "import numpy as np\n",
    "\n",
    "from sklearn.model_selection import train_test_split, StratifiedKFold\n",
    "from sklearn.metrics import recall_score\n",
    "\n",
    "from sklearn.ensemble import HistGradientBoostingClassifier\n",
    "\n",
    "import optuna"
   ]
  },
  {
   "cell_type": "code",
   "execution_count": 47,
   "id": "34b40b44-1c92-4b9d-ad57-3cddb44f6f0f",
   "metadata": {
    "tags": []
   },
   "outputs": [],
   "source": [
    "# Load Data\n",
    "\n",
    "df = pd.read_csv('bank_4.csv', index_col=0)"
   ]
  },
  {
   "cell_type": "code",
   "execution_count": 49,
   "id": "e25031a8-fef1-4150-86e7-8b7e22f0a9bb",
   "metadata": {
    "tags": []
   },
   "outputs": [],
   "source": [
    "# Train / Test Split\n",
    "\n",
    "X = df.drop(columns=['churn', 'complain', 'umap_1', 'umap_2'])\n",
    "y = df['churn']\n",
    "\n",
    "X_train, X_test, y_train, y_test = train_test_split(X, y, test_size=0.2, stratify=y, random_state=42)"
   ]
  },
  {
   "cell_type": "code",
   "execution_count": 54,
   "id": "2b530e97-2bc3-4b3d-b9f8-eb4ed610ff66",
   "metadata": {
    "tags": []
   },
   "outputs": [],
   "source": [
    "# Hyperparameter tuning\n",
    "\n",
    "def objective(trial):\n",
    "    \n",
    "    params = {\n",
    "        'learning_rate': trial.suggest_float('learning_rate', 0.001, 1.0),\n",
    "        'max_iter': trial.suggest_int('max_iter', 100, 2000),\n",
    "        'max_depth':trial.suggest_int('max_depth', 2, 50),\n",
    "        'min_samples_leaf': trial.suggest_int('min_samples_leaf', 1, 32),\n",
    "        'max_leaf_nodes': trial.suggest_int('max_leaf_nodes', 10, 50),\n",
    "        'l2_regularization': trial.suggest_float('l2_regularization', 0.0, 0.1)\n",
    "    }\n",
    "\n",
    "    model = HistGradientBoostingClassifier(\n",
    "        **params,\n",
    "        random_state=42)\n",
    "    \n",
    "    threshold = 0.31\n",
    "    \n",
    "    skf = StratifiedKFold(n_splits=5, random_state=42, shuffle=True)\n",
    "    scores = []\n",
    "    \n",
    "    for tr, te in skf.split(X_train, y_train):\n",
    "        \n",
    "        X_tr, X_te = X_train.iloc[tr], X_train.iloc[te]\n",
    "        y_tr, y_te = y_train.iloc[tr], y_train.iloc[te]\n",
    "        \n",
    "        model.fit(X_tr, y_tr)\n",
    "        prob = model.predict_proba(X_te)[:, 1]\n",
    "        y_pred = np.where(prob < threshold, 0, 1)\n",
    "        \n",
    "        scores.append(recall_score(y_te, y_pred))\n",
    "        \n",
    "    return np.mean(scores)"
   ]
  },
  {
   "cell_type": "code",
   "execution_count": 56,
   "id": "eb85a387-214c-480a-8a96-d69570dcbce9",
   "metadata": {
    "tags": []
   },
   "outputs": [
    {
     "name": "stderr",
     "output_type": "stream",
     "text": [
      "[I 2024-07-08 21:31:21,170] A new study created in memory with name: no-name-170febed-53d2-4d84-ab27-8a88e60004f8\n"
     ]
    },
    {
     "data": {
      "application/vnd.jupyter.widget-view+json": {
       "model_id": "19aef415f4784d15b34f9795063e3cfe",
       "version_major": 2,
       "version_minor": 0
      },
      "text/plain": [
       "  0%|          | 0/100 [00:00<?, ?it/s]"
      ]
     },
     "metadata": {},
     "output_type": "display_data"
    },
    {
     "name": "stdout",
     "output_type": "stream",
     "text": [
      "[I 2024-07-08 21:31:24,408] Trial 0 finished with value: 0.6288343558282208 and parameters: {'learning_rate': 0.021644846573591232, 'max_iter': 169, 'max_depth': 43, 'min_samples_leaf': 32, 'max_leaf_nodes': 48, 'l2_regularization': 0.06720132148467962}. Best is trial 0 with value: 0.6288343558282208.\n",
      "[I 2024-07-08 21:31:30,286] Trial 1 finished with value: 0.5196319018404908 and parameters: {'learning_rate': 0.6117201964045411, 'max_iter': 1082, 'max_depth': 16, 'min_samples_leaf': 26, 'max_leaf_nodes': 13, 'l2_regularization': 0.052490743456140354}. Best is trial 0 with value: 0.6288343558282208.\n",
      "[I 2024-07-08 21:31:39,607] Trial 2 finished with value: 0.5067484662576687 and parameters: {'learning_rate': 0.8601640902989984, 'max_iter': 896, 'max_depth': 40, 'min_samples_leaf': 26, 'max_leaf_nodes': 26, 'l2_regularization': 0.09039413790573217}. Best is trial 0 with value: 0.6288343558282208.\n",
      "[I 2024-07-08 21:32:11,636] Trial 3 finished with value: 0.5141104294478528 and parameters: {'learning_rate': 0.8471645918511426, 'max_iter': 1584, 'max_depth': 35, 'min_samples_leaf': 19, 'max_leaf_nodes': 43, 'l2_regularization': 0.08813612737722047}. Best is trial 0 with value: 0.6288343558282208.\n",
      "[I 2024-07-08 21:32:25,504] Trial 4 finished with value: 0.5441717791411043 and parameters: {'learning_rate': 0.5912562739235014, 'max_iter': 1779, 'max_depth': 47, 'min_samples_leaf': 9, 'max_leaf_nodes': 26, 'l2_regularization': 0.008474533749114466}. Best is trial 0 with value: 0.6288343558282208.\n",
      "[I 2024-07-08 21:32:47,478] Trial 5 finished with value: 0.5159509202453988 and parameters: {'learning_rate': 0.12512912350350577, 'max_iter': 1483, 'max_depth': 41, 'min_samples_leaf': 12, 'max_leaf_nodes': 39, 'l2_regularization': 0.09786632262476282}. Best is trial 0 with value: 0.6288343558282208.\n",
      "[I 2024-07-08 21:32:51,594] Trial 6 finished with value: 0.5110429447852761 and parameters: {'learning_rate': 0.8256647756830884, 'max_iter': 277, 'max_depth': 15, 'min_samples_leaf': 8, 'max_leaf_nodes': 35, 'l2_regularization': 0.05370716073263776}. Best is trial 0 with value: 0.6288343558282208.\n",
      "[I 2024-07-08 21:33:10,572] Trial 7 finished with value: 0.5220858895705521 and parameters: {'learning_rate': 0.13212483370606537, 'max_iter': 1642, 'max_depth': 22, 'min_samples_leaf': 23, 'max_leaf_nodes': 34, 'l2_regularization': 0.03895530694344841}. Best is trial 0 with value: 0.6288343558282208.\n",
      "[I 2024-07-08 21:33:15,449] Trial 8 finished with value: 0.5294478527607362 and parameters: {'learning_rate': 0.5729361140079979, 'max_iter': 661, 'max_depth': 24, 'min_samples_leaf': 24, 'max_leaf_nodes': 19, 'l2_regularization': 0.08578248987225827}. Best is trial 0 with value: 0.6288343558282208.\n",
      "[I 2024-07-08 21:33:22,028] Trial 9 finished with value: 0.5116564417177913 and parameters: {'learning_rate': 0.736452242109496, 'max_iter': 529, 'max_depth': 12, 'min_samples_leaf': 6, 'max_leaf_nodes': 28, 'l2_regularization': 0.08802706572423091}. Best is trial 0 with value: 0.6288343558282208.\n",
      "[I 2024-07-08 21:33:22,838] Trial 10 finished with value: 0.6122699386503067 and parameters: {'learning_rate': 0.3245471247452853, 'max_iter': 135, 'max_depth': 4, 'min_samples_leaf': 31, 'max_leaf_nodes': 50, 'l2_regularization': 0.06568702390182113}. Best is trial 0 with value: 0.6288343558282208.\n",
      "[I 2024-07-08 21:33:23,469] Trial 11 finished with value: 0.6202453987730061 and parameters: {'learning_rate': 0.32486724068151757, 'max_iter': 101, 'max_depth': 4, 'min_samples_leaf': 32, 'max_leaf_nodes': 50, 'l2_regularization': 0.06632063748202695}. Best is trial 0 with value: 0.6288343558282208.\n",
      "[I 2024-07-08 21:33:25,589] Trial 12 finished with value: 0.45276073619631907 and parameters: {'learning_rate': 0.004592495716736034, 'max_iter': 100, 'max_depth': 32, 'min_samples_leaf': 30, 'max_leaf_nodes': 49, 'l2_regularization': 0.07080947364863127}. Best is trial 0 with value: 0.6288343558282208.\n",
      "[I 2024-07-08 21:33:30,155] Trial 13 finished with value: 0.5306748466257668 and parameters: {'learning_rate': 0.36840193107056257, 'max_iter': 462, 'max_depth': 5, 'min_samples_leaf': 1, 'max_leaf_nodes': 44, 'l2_regularization': 0.0303365139250109}. Best is trial 0 with value: 0.6288343558282208.\n",
      "[I 2024-07-08 21:33:48,581] Trial 14 finished with value: 0.5147239263803681 and parameters: {'learning_rate': 0.32650462299388305, 'max_iter': 1179, 'max_depth': 50, 'min_samples_leaf': 32, 'max_leaf_nodes': 44, 'l2_regularization': 0.07187284436627538}. Best is trial 0 with value: 0.6288343558282208.\n",
      "[I 2024-07-08 21:34:00,947] Trial 15 finished with value: 0.5171779141104295 and parameters: {'learning_rate': 0.1895288394542509, 'max_iter': 729, 'max_depth': 31, 'min_samples_leaf': 18, 'max_leaf_nodes': 50, 'l2_regularization': 0.03681076967685269}. Best is trial 0 with value: 0.6288343558282208.\n",
      "[I 2024-07-08 21:34:06,336] Trial 16 finished with value: 0.5263803680981595 and parameters: {'learning_rate': 0.999825548704142, 'max_iter': 361, 'max_depth': 44, 'min_samples_leaf': 29, 'max_leaf_nodes': 39, 'l2_regularization': 0.06255978075836266}. Best is trial 0 with value: 0.6288343558282208.\n",
      "[I 2024-07-08 21:34:28,422] Trial 17 finished with value: 0.6147239263803681 and parameters: {'learning_rate': 0.00809195046608698, 'max_iter': 1325, 'max_depth': 9, 'min_samples_leaf': 23, 'max_leaf_nodes': 45, 'l2_regularization': 0.015537444844698732}. Best is trial 0 with value: 0.6288343558282208.\n",
      "[I 2024-07-08 21:34:42,693] Trial 18 finished with value: 0.50920245398773 and parameters: {'learning_rate': 0.4634714571015338, 'max_iter': 849, 'max_depth': 19, 'min_samples_leaf': 14, 'max_leaf_nodes': 39, 'l2_regularization': 0.07804335657659009}. Best is trial 0 with value: 0.6288343558282208.\n",
      "[I 2024-07-08 21:34:46,312] Trial 19 finished with value: 0.5723926380368097 and parameters: {'learning_rate': 0.21066726694264257, 'max_iter': 290, 'max_depth': 28, 'min_samples_leaf': 20, 'max_leaf_nodes': 33, 'l2_regularization': 0.05999017023892897}. Best is trial 0 with value: 0.6288343558282208.\n",
      "[I 2024-07-08 21:35:04,048] Trial 20 finished with value: 0.501840490797546 and parameters: {'learning_rate': 0.47932842355542304, 'max_iter': 1977, 'max_depth': 36, 'min_samples_leaf': 27, 'max_leaf_nodes': 21, 'l2_regularization': 0.04122117165771838}. Best is trial 0 with value: 0.6288343558282208.\n",
      "[I 2024-07-08 21:35:25,749] Trial 21 finished with value: 0.6098159509202454 and parameters: {'learning_rate': 0.01382941855517404, 'max_iter': 1271, 'max_depth': 10, 'min_samples_leaf': 21, 'max_leaf_nodes': 46, 'l2_regularization': 0.009327050695598374}. Best is trial 0 with value: 0.6288343558282208.\n",
      "[I 2024-07-08 21:35:46,071] Trial 22 finished with value: 0.5441717791411043 and parameters: {'learning_rate': 0.0848825961582173, 'max_iter': 1297, 'max_depth': 8, 'min_samples_leaf': 32, 'max_leaf_nodes': 47, 'l2_regularization': 0.021886848282077244}. Best is trial 0 with value: 0.6288343558282208.\n",
      "[I 2024-07-08 21:35:54,415] Trial 23 finished with value: 0.5521472392638037 and parameters: {'learning_rate': 0.25662046530236526, 'max_iter': 1396, 'max_depth': 4, 'min_samples_leaf': 28, 'max_leaf_nodes': 42, 'l2_regularization': 0.01990518648162112}. Best is trial 0 with value: 0.6288343558282208.\n",
      "[I 2024-07-08 21:35:57,106] Trial 24 finished with value: 0.6085889570552148 and parameters: {'learning_rate': 0.07538285076229978, 'max_iter': 907, 'max_depth': 2, 'min_samples_leaf': 23, 'max_leaf_nodes': 47, 'l2_regularization': 0.04791169928656744}. Best is trial 0 with value: 0.6288343558282208.\n",
      "[I 2024-07-08 21:36:05,707] Trial 25 finished with value: 0.5030674846625767 and parameters: {'learning_rate': 0.39494919494247993, 'max_iter': 524, 'max_depth': 14, 'min_samples_leaf': 29, 'max_leaf_nodes': 41, 'l2_regularization': 0.000607336089084665}. Best is trial 0 with value: 0.6288343558282208.\n",
      "[I 2024-07-08 21:36:09,053] Trial 26 finished with value: 0.5570552147239264 and parameters: {'learning_rate': 0.2594804169782842, 'max_iter': 190, 'max_depth': 8, 'min_samples_leaf': 15, 'max_leaf_nodes': 46, 'l2_regularization': 0.07122501011836674}. Best is trial 0 with value: 0.6288343558282208.\n",
      "[I 2024-07-08 21:36:22,575] Trial 27 finished with value: 0.5263803680981595 and parameters: {'learning_rate': 0.17552802963706243, 'max_iter': 1048, 'max_depth': 21, 'min_samples_leaf': 25, 'max_leaf_nodes': 37, 'l2_regularization': 0.07845264091843696}. Best is trial 0 with value: 0.6288343558282208.\n",
      "[I 2024-07-08 21:36:29,307] Trial 28 finished with value: 0.598159509202454 and parameters: {'learning_rate': 0.06815124812925388, 'max_iter': 413, 'max_depth': 7, 'min_samples_leaf': 28, 'max_leaf_nodes': 50, 'l2_regularization': 0.056572644145550126}. Best is trial 0 with value: 0.6288343558282208.\n",
      "[I 2024-07-08 21:36:37,553] Trial 29 finished with value: 0.5042944785276073 and parameters: {'learning_rate': 0.6644308694889507, 'max_iter': 1038, 'max_depth': 18, 'min_samples_leaf': 22, 'max_leaf_nodes': 18, 'l2_regularization': 0.04698087638537797}. Best is trial 0 with value: 0.6288343558282208.\n",
      "[I 2024-07-08 21:36:40,816] Trial 30 finished with value: 0.561963190184049 and parameters: {'learning_rate': 0.27390209043239094, 'max_iter': 638, 'max_depth': 11, 'min_samples_leaf': 26, 'max_leaf_nodes': 11, 'l2_regularization': 0.08069870657407945}. Best is trial 0 with value: 0.6288343558282208.\n",
      "[I 2024-07-08 21:36:41,176] Trial 31 finished with value: 0.6134969325153374 and parameters: {'learning_rate': 0.3789411948412527, 'max_iter': 109, 'max_depth': 2, 'min_samples_leaf': 32, 'max_leaf_nodes': 50, 'l2_regularization': 0.0652901769219729}. Best is trial 0 with value: 0.6288343558282208.\n",
      "[I 2024-07-08 21:36:41,843] Trial 32 finished with value: 0.6177914110429448 and parameters: {'learning_rate': 0.42043776589721876, 'max_iter': 237, 'max_depth': 2, 'min_samples_leaf': 32, 'max_leaf_nodes': 47, 'l2_regularization': 0.06561023942277626}. Best is trial 0 with value: 0.6288343558282208.\n",
      "[I 2024-07-08 21:36:46,084] Trial 33 finished with value: 0.5392638036809816 and parameters: {'learning_rate': 0.43795017468096475, 'max_iter': 247, 'max_depth': 7, 'min_samples_leaf': 30, 'max_leaf_nodes': 45, 'l2_regularization': 0.05432086006265429}. Best is trial 0 with value: 0.6288343558282208.\n",
      "[I 2024-07-08 21:36:51,353] Trial 34 finished with value: 0.5239263803680981 and parameters: {'learning_rate': 0.5702858161295001, 'max_iter': 364, 'max_depth': 13, 'min_samples_leaf': 27, 'max_leaf_nodes': 41, 'l2_regularization': 0.06980569656563429}. Best is trial 0 with value: 0.6288343558282208.\n",
      "[I 2024-07-08 21:36:54,524] Trial 35 finished with value: 0.59079754601227 and parameters: {'learning_rate': 0.1277682708634375, 'max_iter': 261, 'max_depth': 40, 'min_samples_leaf': 25, 'max_leaf_nodes': 31, 'l2_regularization': 0.058924558005622456}. Best is trial 0 with value: 0.6288343558282208.\n",
      "[I 2024-07-08 21:37:22,518] Trial 36 finished with value: 0.5159509202453988 and parameters: {'learning_rate': 0.5278332575747681, 'max_iter': 1565, 'max_depth': 27, 'min_samples_leaf': 30, 'max_leaf_nodes': 48, 'l2_regularization': 0.04979265421200518}. Best is trial 0 with value: 0.6288343558282208.\n",
      "[I 2024-07-08 21:37:25,525] Trial 37 finished with value: 0.5276073619631901 and parameters: {'learning_rate': 0.6718708101510066, 'max_iter': 205, 'max_depth': 44, 'min_samples_leaf': 32, 'max_leaf_nodes': 43, 'l2_regularization': 0.09381921051472886}. Best is trial 0 with value: 0.6288343558282208.\n",
      "[I 2024-07-08 21:37:32,760] Trial 38 finished with value: 0.5883435582822085 and parameters: {'learning_rate': 0.05929749555815261, 'max_iter': 562, 'max_depth': 35, 'min_samples_leaf': 19, 'max_leaf_nodes': 36, 'l2_regularization': 0.07539958697855684}. Best is trial 0 with value: 0.6288343558282208.\n",
      "[I 2024-07-08 21:38:03,038] Trial 39 finished with value: 0.5214723926380368 and parameters: {'learning_rate': 0.16364068985853147, 'max_iter': 1686, 'max_depth': 17, 'min_samples_leaf': 17, 'max_leaf_nodes': 47, 'l2_regularization': 0.08197263224797544}. Best is trial 0 with value: 0.6288343558282208.\n",
      "[I 2024-07-08 21:38:10,193] Trial 40 finished with value: 0.5239263803680981 and parameters: {'learning_rate': 0.30643975421615804, 'max_iter': 778, 'max_depth': 10, 'min_samples_leaf': 27, 'max_leaf_nodes': 24, 'l2_regularization': 0.030385261235242753}. Best is trial 0 with value: 0.6288343558282208.\n",
      "[I 2024-07-08 21:38:10,734] Trial 41 finished with value: 0.6134969325153374 and parameters: {'learning_rate': 0.4066077344303538, 'max_iter': 176, 'max_depth': 2, 'min_samples_leaf': 32, 'max_leaf_nodes': 48, 'l2_regularization': 0.06546805243805265}. Best is trial 0 with value: 0.6288343558282208.\n",
      "[I 2024-07-08 21:38:11,155] Trial 42 finished with value: 0.6122699386503069 and parameters: {'learning_rate': 0.3674057659434059, 'max_iter': 121, 'max_depth': 2, 'min_samples_leaf': 30, 'max_leaf_nodes': 50, 'l2_regularization': 0.06255671133599143}. Best is trial 0 with value: 0.6288343558282208.\n",
      "[I 2024-07-08 21:38:14,312] Trial 43 finished with value: 0.5453987730061349 and parameters: {'learning_rate': 0.5365795027679365, 'max_iter': 341, 'max_depth': 5, 'min_samples_leaf': 31, 'max_leaf_nodes': 45, 'l2_regularization': 0.06598992390898029}. Best is trial 0 with value: 0.6288343558282208.\n",
      "[I 2024-07-08 21:38:15,677] Trial 44 finished with value: 0.6055214723926381 and parameters: {'learning_rate': 0.22669277704871987, 'max_iter': 117, 'max_depth': 5, 'min_samples_leaf': 11, 'max_leaf_nodes': 48, 'l2_regularization': 0.0552371058257841}. Best is trial 0 with value: 0.6288343558282208.\n",
      "[I 2024-07-08 21:38:23,491] Trial 45 finished with value: 0.6269938650306749 and parameters: {'learning_rate': 0.020406999254172838, 'max_iter': 463, 'max_depth': 9, 'min_samples_leaf': 29, 'max_leaf_nodes': 43, 'l2_regularization': 0.0849232509023703}. Best is trial 0 with value: 0.6288343558282208.\n",
      "[I 2024-07-08 21:38:32,175] Trial 46 finished with value: 0.587116564417178 and parameters: {'learning_rate': 0.002787897502118424, 'max_iter': 452, 'max_depth': 15, 'min_samples_leaf': 29, 'max_leaf_nodes': 42, 'l2_regularization': 0.08534726200525031}. Best is trial 0 with value: 0.6288343558282208.\n",
      "[I 2024-07-08 21:38:54,016] Trial 47 finished with value: 0.5276073619631902 and parameters: {'learning_rate': 0.10801621717409368, 'max_iter': 1437, 'max_depth': 10, 'min_samples_leaf': 24, 'max_leaf_nodes': 44, 'l2_regularization': 0.09683473383318103}. Best is trial 0 with value: 0.6288343558282208.\n",
      "[I 2024-07-08 21:38:58,759] Trial 48 finished with value: 0.6263803680981594 and parameters: {'learning_rate': 0.03593196818953332, 'max_iter': 281, 'max_depth': 50, 'min_samples_leaf': 28, 'max_leaf_nodes': 38, 'l2_regularization': 0.07466273212842277}. Best is trial 0 with value: 0.6288343558282208.\n",
      "[I 2024-07-08 21:39:04,662] Trial 49 finished with value: 0.6104294478527608 and parameters: {'learning_rate': 0.0523531549637133, 'max_iter': 315, 'max_depth': 50, 'min_samples_leaf': 3, 'max_leaf_nodes': 38, 'l2_regularization': 0.09199736304096541}. Best is trial 0 with value: 0.6288343558282208.\n",
      "[I 2024-07-08 21:39:13,462] Trial 50 finished with value: 0.5429447852760736 and parameters: {'learning_rate': 0.1484113801683039, 'max_iter': 573, 'max_depth': 46, 'min_samples_leaf': 28, 'max_leaf_nodes': 40, 'l2_regularization': 0.07346741748216994}. Best is trial 0 with value: 0.6288343558282208.\n",
      "[I 2024-07-08 21:39:20,687] Trial 51 finished with value: 0.6245398773006136 and parameters: {'learning_rate': 0.026396348518512025, 'max_iter': 419, 'max_depth': 48, 'min_samples_leaf': 31, 'max_leaf_nodes': 43, 'l2_regularization': 0.08516328717431615}. Best is trial 0 with value: 0.6288343558282208.\n",
      "[I 2024-07-08 21:39:28,059] Trial 52 finished with value: 0.6098159509202453 and parameters: {'learning_rate': 0.047149508553010706, 'max_iter': 452, 'max_depth': 47, 'min_samples_leaf': 31, 'max_leaf_nodes': 42, 'l2_regularization': 0.08711084984083853}. Best is trial 0 with value: 0.6288343558282208.\n",
      "[I 2024-07-08 21:39:31,669] Trial 53 finished with value: 0.5957055214723926 and parameters: {'learning_rate': 0.09183098988828203, 'max_iter': 238, 'max_depth': 48, 'min_samples_leaf': 30, 'max_leaf_nodes': 44, 'l2_regularization': 0.08387324679709794}. Best is trial 0 with value: 0.6288343558282208.\n",
      "[I 2024-07-08 21:39:37,294] Trial 54 finished with value: 0.6233128834355828 and parameters: {'learning_rate': 0.03595231811446189, 'max_iter': 387, 'max_depth': 40, 'min_samples_leaf': 31, 'max_leaf_nodes': 33, 'l2_regularization': 0.07642150319030458}. Best is trial 0 with value: 0.6288343558282208.\n",
      "[I 2024-07-08 21:39:42,619] Trial 55 finished with value: 0.6306748466257668 and parameters: {'learning_rate': 0.03134765616739056, 'max_iter': 377, 'max_depth': 40, 'min_samples_leaf': 29, 'max_leaf_nodes': 32, 'l2_regularization': 0.07646734966718845}. Best is trial 55 with value: 0.6306748466257668.\n",
      "[I 2024-07-08 21:39:50,554] Trial 56 finished with value: 0.6153374233128834 and parameters: {'learning_rate': 0.03350122177342985, 'max_iter': 655, 'max_depth': 39, 'min_samples_leaf': 26, 'max_leaf_nodes': 31, 'l2_regularization': 0.08935973684071138}. Best is trial 55 with value: 0.6306748466257668.\n",
      "[I 2024-07-08 21:39:56,500] Trial 57 finished with value: 0.5687116564417176 and parameters: {'learning_rate': 0.12304611755566056, 'max_iter': 498, 'max_depth': 43, 'min_samples_leaf': 29, 'max_leaf_nodes': 33, 'l2_regularization': 0.07594807296870884}. Best is trial 55 with value: 0.6306748466257668.\n",
      "[I 2024-07-08 21:40:00,827] Trial 58 finished with value: 0.6245398773006134 and parameters: {'learning_rate': 0.03289367001289667, 'max_iter': 390, 'max_depth': 38, 'min_samples_leaf': 28, 'max_leaf_nodes': 28, 'l2_regularization': 0.09821432545592884}. Best is trial 55 with value: 0.6306748466257668.\n",
      "[I 2024-07-08 21:40:06,941] Trial 59 finished with value: 0.5742331288343558 and parameters: {'learning_rate': 0.09940762806539347, 'max_iter': 588, 'max_depth': 42, 'min_samples_leaf': 25, 'max_leaf_nodes': 28, 'l2_regularization': 0.09994768184010748}. Best is trial 55 with value: 0.6306748466257668.\n",
      "[I 2024-07-08 21:40:15,093] Trial 60 finished with value: 0.5484662576687116 and parameters: {'learning_rate': 0.20080872544385492, 'max_iter': 734, 'max_depth': 37, 'min_samples_leaf': 27, 'max_leaf_nodes': 27, 'l2_regularization': 0.0958771324811754}. Best is trial 55 with value: 0.6306748466257668.\n",
      "[I 2024-07-08 21:40:20,420] Trial 61 finished with value: 0.6233128834355828 and parameters: {'learning_rate': 0.0308639492938814, 'max_iter': 408, 'max_depth': 45, 'min_samples_leaf': 28, 'max_leaf_nodes': 34, 'l2_regularization': 0.07991668440704458}. Best is trial 55 with value: 0.6306748466257668.\n",
      "[I 2024-07-08 21:40:25,754] Trial 62 finished with value: 0.5914110429447853 and parameters: {'learning_rate': 0.004770787106722102, 'max_iter': 377, 'max_depth': 33, 'min_samples_leaf': 31, 'max_leaf_nodes': 30, 'l2_regularization': 0.09213139644667272}. Best is trial 55 with value: 0.6306748466257668.\n",
      "[I 2024-07-08 21:40:30,036] Trial 63 finished with value: 0.5760736196319017 and parameters: {'learning_rate': 0.14395528324278745, 'max_iter': 307, 'max_depth': 38, 'min_samples_leaf': 29, 'max_leaf_nodes': 36, 'l2_regularization': 0.08283450124578534}. Best is trial 55 with value: 0.6306748466257668.\n",
      "[I 2024-07-08 21:40:34,605] Trial 64 finished with value: 0.6036809815950921 and parameters: {'learning_rate': 0.0659111526583815, 'max_iter': 473, 'max_depth': 41, 'min_samples_leaf': 31, 'max_leaf_nodes': 24, 'l2_regularization': 0.07681822519991609}. Best is trial 55 with value: 0.6306748466257668.\n",
      "[I 2024-07-08 21:40:39,722] Trial 65 finished with value: 0.6245398773006136 and parameters: {'learning_rate': 0.03457370134325801, 'max_iter': 403, 'max_depth': 49, 'min_samples_leaf': 29, 'max_leaf_nodes': 32, 'l2_regularization': 0.08779667878672262}. Best is trial 55 with value: 0.6306748466257668.\n",
      "[I 2024-07-08 21:40:42,134] Trial 66 finished with value: 0.6147239263803681 and parameters: {'learning_rate': 0.08695068683630808, 'max_iter': 173, 'max_depth': 48, 'min_samples_leaf': 26, 'max_leaf_nodes': 38, 'l2_regularization': 0.0888170728752088}. Best is trial 55 with value: 0.6306748466257668.\n",
      "[I 2024-07-08 21:40:45,098] Trial 67 finished with value: 0.5269938650306749 and parameters: {'learning_rate': 0.8901764062127749, 'max_iter': 315, 'max_depth': 49, 'min_samples_leaf': 28, 'max_leaf_nodes': 24, 'l2_regularization': 0.09998483936291029}. Best is trial 55 with value: 0.6306748466257668.\n",
      "[I 2024-07-08 21:40:55,311] Trial 68 finished with value: 0.5570552147239264 and parameters: {'learning_rate': 0.1120639727141676, 'max_iter': 955, 'max_depth': 46, 'min_samples_leaf': 24, 'max_leaf_nodes': 29, 'l2_regularization': 0.08658940119572871}. Best is trial 55 with value: 0.6306748466257668.\n",
      "[I 2024-07-08 21:41:00,540] Trial 69 finished with value: 0.5588957055214723 and parameters: {'learning_rate': 0.17707000803175016, 'max_iter': 520, 'max_depth': 30, 'min_samples_leaf': 22, 'max_leaf_nodes': 26, 'l2_regularization': 0.06870611680553311}. Best is trial 55 with value: 0.6306748466257668.\n",
      "[I 2024-07-08 21:41:06,061] Trial 70 finished with value: 0.6276073619631902 and parameters: {'learning_rate': 0.022463203233241306, 'max_iter': 427, 'max_depth': 50, 'min_samples_leaf': 29, 'max_leaf_nodes': 32, 'l2_regularization': 0.09490877948715856}. Best is trial 55 with value: 0.6306748466257668.\n",
      "[I 2024-07-08 21:41:11,487] Trial 71 finished with value: 0.6263803680981594 and parameters: {'learning_rate': 0.030879043699190104, 'max_iter': 436, 'max_depth': 50, 'min_samples_leaf': 29, 'max_leaf_nodes': 31, 'l2_regularization': 0.09330331506648645}. Best is trial 55 with value: 0.6306748466257668.\n",
      "[I 2024-07-08 21:41:18,631] Trial 72 finished with value: 0.5883435582822087 and parameters: {'learning_rate': 0.0647646664003403, 'max_iter': 631, 'max_depth': 49, 'min_samples_leaf': 30, 'max_leaf_nodes': 32, 'l2_regularization': 0.09466799591118984}. Best is trial 55 with value: 0.6306748466257668.\n",
      "[I 2024-07-08 21:41:25,692] Trial 73 finished with value: 0.6171779141104295 and parameters: {'learning_rate': 0.007453599898111131, 'max_iter': 445, 'max_depth': 50, 'min_samples_leaf': 29, 'max_leaf_nodes': 35, 'l2_regularization': 0.0911521123653144}. Best is trial 55 with value: 0.6306748466257668.\n",
      "[I 2024-07-08 21:41:28,718] Trial 74 finished with value: 0.6159509202453989 and parameters: {'learning_rate': 0.09532949780438102, 'max_iter': 258, 'max_depth': 47, 'min_samples_leaf': 30, 'max_leaf_nodes': 30, 'l2_regularization': 0.07982274888421373}. Best is trial 55 with value: 0.6306748466257668.\n",
      "[I 2024-07-08 21:41:38,021] Trial 75 finished with value: 0.5791411042944785 and parameters: {'learning_rate': 0.044432978638508924, 'max_iter': 711, 'max_depth': 45, 'min_samples_leaf': 27, 'max_leaf_nodes': 35, 'l2_regularization': 0.08535972728143149}. Best is trial 55 with value: 0.6306748466257668.\n",
      "[I 2024-07-08 21:41:44,043] Trial 76 finished with value: 0.5638036809815951 and parameters: {'learning_rate': 0.14511366281626986, 'max_iter': 525, 'max_depth': 48, 'min_samples_leaf': 32, 'max_leaf_nodes': 32, 'l2_regularization': 0.07266675567328565}. Best is trial 55 with value: 0.6306748466257668.\n",
      "[I 2024-07-08 21:41:46,880] Trial 77 finished with value: 0.6208588957055214 and parameters: {'learning_rate': 0.08273920488312606, 'max_iter': 190, 'max_depth': 43, 'min_samples_leaf': 27, 'max_leaf_nodes': 40, 'l2_regularization': 0.08967763603339954}. Best is trial 55 with value: 0.6306748466257668.\n",
      "[I 2024-07-08 21:41:51,045] Trial 78 finished with value: 0.6300613496932516 and parameters: {'learning_rate': 0.029361986130486926, 'max_iter': 286, 'max_depth': 23, 'min_samples_leaf': 31, 'max_leaf_nodes': 37, 'l2_regularization': 0.08314561614987877}. Best is trial 55 with value: 0.6306748466257668.\n",
      "[I 2024-07-08 21:41:56,265] Trial 79 finished with value: 0.5662576687116565 and parameters: {'learning_rate': 0.003243365151357487, 'max_iter': 295, 'max_depth': 24, 'min_samples_leaf': 31, 'max_leaf_nodes': 37, 'l2_regularization': 0.08254409555599025}. Best is trial 55 with value: 0.6306748466257668.\n",
      "[I 2024-07-08 21:42:00,791] Trial 80 finished with value: 0.5453987730061349 and parameters: {'learning_rate': 0.2371792252732359, 'max_iter': 328, 'max_depth': 20, 'min_samples_leaf': 30, 'max_leaf_nodes': 40, 'l2_regularization': 0.0685403408955153}. Best is trial 55 with value: 0.6306748466257668.\n",
      "[I 2024-07-08 21:42:06,415] Trial 81 finished with value: 0.6196319018404908 and parameters: {'learning_rate': 0.028809104403310817, 'max_iter': 427, 'max_depth': 49, 'min_samples_leaf': 29, 'max_leaf_nodes': 34, 'l2_regularization': 0.09305893389971967}. Best is trial 55 with value: 0.6306748466257668.\n",
      "[I 2024-07-08 21:42:10,711] Trial 82 finished with value: 0.6171779141104294 and parameters: {'learning_rate': 0.06095981423122805, 'max_iter': 355, 'max_depth': 50, 'min_samples_leaf': 32, 'max_leaf_nodes': 31, 'l2_regularization': 0.08390200213595399}. Best is trial 55 with value: 0.6306748466257668.\n",
      "[I 2024-07-08 21:42:13,693] Trial 83 finished with value: 0.5981595092024541 and parameters: {'learning_rate': 0.11919468585219442, 'max_iter': 231, 'max_depth': 46, 'min_samples_leaf': 29, 'max_leaf_nodes': 37, 'l2_regularization': 0.087183141678743}. Best is trial 55 with value: 0.6306748466257668.\n",
      "[I 2024-07-08 21:42:20,607] Trial 84 finished with value: 0.6202453987730061 and parameters: {'learning_rate': 0.027129378766677818, 'max_iter': 557, 'max_depth': 44, 'min_samples_leaf': 28, 'max_leaf_nodes': 32, 'l2_regularization': 0.0949705388908319}. Best is trial 55 with value: 0.6306748466257668.\n",
      "[I 2024-07-08 21:42:27,004] Trial 85 finished with value: 0.5883435582822086 and parameters: {'learning_rate': 0.07487136509521028, 'max_iter': 489, 'max_depth': 24, 'min_samples_leaf': 26, 'max_leaf_nodes': 36, 'l2_regularization': 0.0786314582830114}. Best is trial 55 with value: 0.6306748466257668.\n",
      "[I 2024-07-08 21:42:39,985] Trial 86 finished with value: 0.5815950920245399 and parameters: {'learning_rate': 0.054189151643875715, 'max_iter': 1130, 'max_depth': 48, 'min_samples_leaf': 30, 'max_leaf_nodes': 29, 'l2_regularization': 0.07466017183301436}. Best is trial 55 with value: 0.6306748466257668.\n",
      "[I 2024-07-08 21:42:41,801] Trial 87 finished with value: 0.6104294478527608 and parameters: {'learning_rate': 0.15338350777199314, 'max_iter': 144, 'max_depth': 45, 'min_samples_leaf': 31, 'max_leaf_nodes': 35, 'l2_regularization': 0.08094836687834524}. Best is trial 55 with value: 0.6306748466257668.\n",
      "[I 2024-07-08 21:42:48,725] Trial 88 finished with value: 0.6214723926380368 and parameters: {'learning_rate': 0.018056486742731515, 'max_iter': 414, 'max_depth': 50, 'min_samples_leaf': 8, 'max_leaf_nodes': 39, 'l2_regularization': 0.09079586808651316}. Best is trial 55 with value: 0.6306748466257668.\n",
      "[I 2024-07-08 21:42:53,478] Trial 89 finished with value: 0.5877300613496932 and parameters: {'learning_rate': 0.1092941279128112, 'max_iter': 282, 'max_depth': 47, 'min_samples_leaf': 13, 'max_leaf_nodes': 43, 'l2_regularization': 0.08499729448070284}. Best is trial 55 with value: 0.6306748466257668.\n",
      "[I 2024-07-08 21:43:03,408] Trial 90 finished with value: 0.5773006134969325 and parameters: {'learning_rate': 0.08080388877787034, 'max_iter': 603, 'max_depth': 22, 'min_samples_leaf': 29, 'max_leaf_nodes': 46, 'l2_regularization': 0.08798858009317427}. Best is trial 55 with value: 0.6306748466257668.\n",
      "[I 2024-07-08 21:43:07,543] Trial 91 finished with value: 0.6233128834355829 and parameters: {'learning_rate': 0.04188456178646714, 'max_iter': 367, 'max_depth': 34, 'min_samples_leaf': 28, 'max_leaf_nodes': 29, 'l2_regularization': 0.0978568363576247}. Best is trial 55 with value: 0.6306748466257668.\n",
      "[I 2024-07-08 21:43:26,677] Trial 92 finished with value: 0.587116564417178 and parameters: {'learning_rate': 0.027339461799570183, 'max_iter': 1929, 'max_depth': 29, 'min_samples_leaf': 28, 'max_leaf_nodes': 26, 'l2_regularization': 0.0971455370322353}. Best is trial 55 with value: 0.6306748466257668.\n",
      "[I 2024-07-08 21:43:29,060] Trial 93 finished with value: 0.6190184049079754 and parameters: {'learning_rate': 0.05228375601319125, 'max_iter': 215, 'max_depth': 42, 'min_samples_leaf': 32, 'max_leaf_nodes': 28, 'l2_regularization': 0.09332071105815459}. Best is trial 55 with value: 0.6306748466257668.\n",
      "[I 2024-07-08 21:43:33,979] Trial 94 finished with value: 0.6233128834355828 and parameters: {'learning_rate': 0.03147216677161916, 'max_iter': 391, 'max_depth': 43, 'min_samples_leaf': 30, 'max_leaf_nodes': 33, 'l2_regularization': 0.08957117246494324}. Best is trial 55 with value: 0.6306748466257668.\n",
      "[I 2024-07-08 21:43:38,858] Trial 95 finished with value: 0.5687116564417177 and parameters: {'learning_rate': 0.13642953549666914, 'max_iter': 342, 'max_depth': 37, 'min_samples_leaf': 25, 'max_leaf_nodes': 41, 'l2_regularization': 0.07179074899041775}. Best is trial 55 with value: 0.6306748466257668.\n",
      "[I 2024-07-08 21:43:46,471] Trial 96 finished with value: 0.5950920245398772 and parameters: {'learning_rate': 0.0036188197717508877, 'max_iter': 482, 'max_depth': 41, 'min_samples_leaf': 31, 'max_leaf_nodes': 34, 'l2_regularization': 0.09588562996248011}. Best is trial 55 with value: 0.6306748466257668.\n",
      "[I 2024-07-08 21:43:49,803] Trial 97 finished with value: 0.5171779141104295 and parameters: {'learning_rate': 0.7791475346409588, 'max_iter': 272, 'max_depth': 49, 'min_samples_leaf': 27, 'max_leaf_nodes': 31, 'l2_regularization': 0.07812660439511668}. Best is trial 55 with value: 0.6306748466257668.\n",
      "[I 2024-07-08 21:43:52,380] Trial 98 finished with value: 0.614723926380368 and parameters: {'learning_rate': 0.09967119341794141, 'max_iter': 164, 'max_depth': 26, 'min_samples_leaf': 26, 'max_leaf_nodes': 38, 'l2_regularization': 0.06241435253932895}. Best is trial 55 with value: 0.6306748466257668.\n",
      "[I 2024-07-08 21:43:56,881] Trial 99 finished with value: 0.6030674846625768 and parameters: {'learning_rate': 0.07696481690506185, 'max_iter': 425, 'max_depth': 39, 'min_samples_leaf': 28, 'max_leaf_nodes': 28, 'l2_regularization': 0.08162962999952664}. Best is trial 55 with value: 0.6306748466257668.\n"
     ]
    }
   ],
   "source": [
    "study = optuna.create_study(direction='maximize')\n",
    "study.optimize(objective, n_trials=100, show_progress_bar=True)"
   ]
  },
  {
   "cell_type": "code",
   "execution_count": 58,
   "id": "d08f6ab5-62c1-435d-9f71-ab5c581e4dcf",
   "metadata": {},
   "outputs": [
    {
     "name": "stdout",
     "output_type": "stream",
     "text": [
      "Best trial: FrozenTrial(number=55, state=1, values=[0.6306748466257668], datetime_start=datetime.datetime(2024, 7, 8, 21, 39, 37, 296716), datetime_complete=datetime.datetime(2024, 7, 8, 21, 39, 42, 618830), params={'learning_rate': 0.03134765616739056, 'max_iter': 377, 'max_depth': 40, 'min_samples_leaf': 29, 'max_leaf_nodes': 32, 'l2_regularization': 0.07646734966718845}, user_attrs={}, system_attrs={}, intermediate_values={}, distributions={'learning_rate': FloatDistribution(high=1.0, log=False, low=0.001, step=None), 'max_iter': IntDistribution(high=2000, log=False, low=100, step=1), 'max_depth': IntDistribution(high=50, log=False, low=2, step=1), 'min_samples_leaf': IntDistribution(high=32, log=False, low=1, step=1), 'max_leaf_nodes': IntDistribution(high=50, log=False, low=10, step=1), 'l2_regularization': FloatDistribution(high=0.1, log=False, low=0.0, step=None)}, trial_id=55, value=None)\n",
      "Best hyperparameters: {'learning_rate': 0.03134765616739056, 'max_iter': 377, 'max_depth': 40, 'min_samples_leaf': 29, 'max_leaf_nodes': 32, 'l2_regularization': 0.07646734966718845}\n"
     ]
    }
   ],
   "source": [
    "print(\"Best trial:\", study.best_trial)\n",
    "print(\"Best hyperparameters:\", study.best_params)"
   ]
  },
  {
   "cell_type": "code",
   "execution_count": null,
   "id": "d6f8a700-aa1d-4e43-9877-3cd7aac617a9",
   "metadata": {},
   "outputs": [],
   "source": []
  }
 ],
 "metadata": {
  "kernelspec": {
   "display_name": "Python 3 (ipykernel)",
   "language": "python",
   "name": "python3"
  },
  "language_info": {
   "codemirror_mode": {
    "name": "ipython",
    "version": 3
   },
   "file_extension": ".py",
   "mimetype": "text/x-python",
   "name": "python",
   "nbconvert_exporter": "python",
   "pygments_lexer": "ipython3",
   "version": "3.11.5"
  }
 },
 "nbformat": 4,
 "nbformat_minor": 5
}

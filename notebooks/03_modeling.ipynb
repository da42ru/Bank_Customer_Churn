{
 "cells": [
  {
   "cell_type": "markdown",
   "id": "699ff5a4-550d-45d1-9698-1a8316392a7c",
   "metadata": {},
   "source": [
    "# Maximizing Customer Retention: Fairway Bank (Modeling 1)"
   ]
  },
  {
   "cell_type": "markdown",
   "id": "565f4a8f-f77f-4ae7-b742-65bfde055d7a",
   "metadata": {},
   "source": [
    "We are ready to build some classification models to predict customer churn. Data preprocessing can be found __[here](https://github.com/da42ru/Fairway_Bank_Churn_Reduction/blob/main/notebooks/02_preprocessing.ipynb)__."
   ]
  },
  {
   "cell_type": "markdown",
   "id": "61b346a2-76e7-44f8-b0ea-8703157a9264",
   "metadata": {},
   "source": [
    "## Load Libraries"
   ]
  },
  {
   "cell_type": "code",
   "execution_count": 303,
   "id": "1da8c9d0-01f2-46a8-af75-4ba2a3bef5bb",
   "metadata": {
    "tags": []
   },
   "outputs": [],
   "source": [
    "import pandas as pd\n",
    "import numpy as np\n",
    "\n",
    "import matplotlib.pyplot as plt\n",
    "import seaborn as sns\n",
    "\n",
    "from sklearn.model_selection import train_test_split, cross_val_score, StratifiedKFold\n",
    "from sklearn.metrics import confusion_matrix, ConfusionMatrixDisplay, recall_score, make_scorer\n",
    "\n",
    "from sklearn.ensemble import RandomForestClassifier, ExtraTreesClassifier, GradientBoostingClassifier, HistGradientBoostingClassifier, AdaBoostClassifier\n",
    "from xgboost import XGBClassifier\n",
    "from lightgbm import LGBMClassifier\n",
    "from catboost import CatBoostClassifier\n",
    "\n",
    "from sklearn.linear_model import LogisticRegression\n",
    "from sklearn.svm import SVC"
   ]
  },
  {
   "cell_type": "markdown",
   "id": "dd91c4fb-c1d1-40c2-a768-06398d25cd46",
   "metadata": {},
   "source": [
    "## Load Data"
   ]
  },
  {
   "cell_type": "code",
   "execution_count": 306,
   "id": "9b7968bb-f6db-4ef8-a400-cc1f7ba5850f",
   "metadata": {
    "tags": []
   },
   "outputs": [],
   "source": [
    "df = pd.read_csv('bank_4.csv', index_col=0)"
   ]
  },
  {
   "cell_type": "code",
   "execution_count": 308,
   "id": "5652b48d-56de-41f4-a962-b54df50e83fc",
   "metadata": {
    "tags": []
   },
   "outputs": [
    {
     "data": {
      "text/html": [
       "<div>\n",
       "<style scoped>\n",
       "    .dataframe tbody tr th:only-of-type {\n",
       "        vertical-align: middle;\n",
       "    }\n",
       "\n",
       "    .dataframe tbody tr th {\n",
       "        vertical-align: top;\n",
       "    }\n",
       "\n",
       "    .dataframe thead th {\n",
       "        text-align: right;\n",
       "    }\n",
       "</style>\n",
       "<table border=\"1\" class=\"dataframe\">\n",
       "  <thead>\n",
       "    <tr style=\"text-align: right;\">\n",
       "      <th></th>\n",
       "      <th>credit_score</th>\n",
       "      <th>gender</th>\n",
       "      <th>age</th>\n",
       "      <th>tenure</th>\n",
       "      <th>balance</th>\n",
       "      <th>num_products</th>\n",
       "      <th>credit_card</th>\n",
       "      <th>active</th>\n",
       "      <th>salary</th>\n",
       "      <th>churn</th>\n",
       "      <th>...</th>\n",
       "      <th>points</th>\n",
       "      <th>country_F</th>\n",
       "      <th>country_G</th>\n",
       "      <th>country_S</th>\n",
       "      <th>card_D</th>\n",
       "      <th>card_G</th>\n",
       "      <th>card_P</th>\n",
       "      <th>card_S</th>\n",
       "      <th>umap_1</th>\n",
       "      <th>umap_2</th>\n",
       "    </tr>\n",
       "  </thead>\n",
       "  <tbody>\n",
       "    <tr>\n",
       "      <th>0</th>\n",
       "      <td>1</td>\n",
       "      <td>0</td>\n",
       "      <td>2</td>\n",
       "      <td>2</td>\n",
       "      <td>0</td>\n",
       "      <td>1</td>\n",
       "      <td>1</td>\n",
       "      <td>1</td>\n",
       "      <td>2</td>\n",
       "      <td>1</td>\n",
       "      <td>...</td>\n",
       "      <td>2</td>\n",
       "      <td>1</td>\n",
       "      <td>0</td>\n",
       "      <td>0</td>\n",
       "      <td>1</td>\n",
       "      <td>0</td>\n",
       "      <td>0</td>\n",
       "      <td>0</td>\n",
       "      <td>-3.143583</td>\n",
       "      <td>0.786093</td>\n",
       "    </tr>\n",
       "    <tr>\n",
       "      <th>1</th>\n",
       "      <td>1</td>\n",
       "      <td>0</td>\n",
       "      <td>2</td>\n",
       "      <td>1</td>\n",
       "      <td>1</td>\n",
       "      <td>1</td>\n",
       "      <td>0</td>\n",
       "      <td>1</td>\n",
       "      <td>2</td>\n",
       "      <td>0</td>\n",
       "      <td>...</td>\n",
       "      <td>2</td>\n",
       "      <td>0</td>\n",
       "      <td>0</td>\n",
       "      <td>1</td>\n",
       "      <td>1</td>\n",
       "      <td>0</td>\n",
       "      <td>0</td>\n",
       "      <td>0</td>\n",
       "      <td>10.020865</td>\n",
       "      <td>-11.832602</td>\n",
       "    </tr>\n",
       "    <tr>\n",
       "      <th>2</th>\n",
       "      <td>0</td>\n",
       "      <td>0</td>\n",
       "      <td>2</td>\n",
       "      <td>8</td>\n",
       "      <td>3</td>\n",
       "      <td>3</td>\n",
       "      <td>1</td>\n",
       "      <td>0</td>\n",
       "      <td>2</td>\n",
       "      <td>1</td>\n",
       "      <td>...</td>\n",
       "      <td>1</td>\n",
       "      <td>1</td>\n",
       "      <td>0</td>\n",
       "      <td>0</td>\n",
       "      <td>1</td>\n",
       "      <td>0</td>\n",
       "      <td>0</td>\n",
       "      <td>0</td>\n",
       "      <td>-3.809586</td>\n",
       "      <td>-0.268657</td>\n",
       "    </tr>\n",
       "    <tr>\n",
       "      <th>3</th>\n",
       "      <td>2</td>\n",
       "      <td>0</td>\n",
       "      <td>2</td>\n",
       "      <td>1</td>\n",
       "      <td>0</td>\n",
       "      <td>2</td>\n",
       "      <td>0</td>\n",
       "      <td>0</td>\n",
       "      <td>1</td>\n",
       "      <td>0</td>\n",
       "      <td>...</td>\n",
       "      <td>1</td>\n",
       "      <td>1</td>\n",
       "      <td>0</td>\n",
       "      <td>0</td>\n",
       "      <td>0</td>\n",
       "      <td>1</td>\n",
       "      <td>0</td>\n",
       "      <td>0</td>\n",
       "      <td>-8.133482</td>\n",
       "      <td>3.541135</td>\n",
       "    </tr>\n",
       "    <tr>\n",
       "      <th>4</th>\n",
       "      <td>3</td>\n",
       "      <td>0</td>\n",
       "      <td>2</td>\n",
       "      <td>2</td>\n",
       "      <td>2</td>\n",
       "      <td>1</td>\n",
       "      <td>1</td>\n",
       "      <td>1</td>\n",
       "      <td>1</td>\n",
       "      <td>0</td>\n",
       "      <td>...</td>\n",
       "      <td>2</td>\n",
       "      <td>0</td>\n",
       "      <td>0</td>\n",
       "      <td>1</td>\n",
       "      <td>0</td>\n",
       "      <td>1</td>\n",
       "      <td>0</td>\n",
       "      <td>0</td>\n",
       "      <td>1.444620</td>\n",
       "      <td>-6.639251</td>\n",
       "    </tr>\n",
       "  </tbody>\n",
       "</table>\n",
       "<p>5 rows × 22 columns</p>\n",
       "</div>"
      ],
      "text/plain": [
       "   credit_score  gender  age  tenure  balance  num_products  credit_card  \\\n",
       "0             1       0    2       2        0             1            1   \n",
       "1             1       0    2       1        1             1            0   \n",
       "2             0       0    2       8        3             3            1   \n",
       "3             2       0    2       1        0             2            0   \n",
       "4             3       0    2       2        2             1            1   \n",
       "\n",
       "   active  salary  churn  ...  points  country_F  country_G  country_S  \\\n",
       "0       1       2      1  ...       2          1          0          0   \n",
       "1       1       2      0  ...       2          0          0          1   \n",
       "2       0       2      1  ...       1          1          0          0   \n",
       "3       0       1      0  ...       1          1          0          0   \n",
       "4       1       1      0  ...       2          0          0          1   \n",
       "\n",
       "   card_D  card_G  card_P  card_S     umap_1     umap_2  \n",
       "0       1       0       0       0  -3.143583   0.786093  \n",
       "1       1       0       0       0  10.020865 -11.832602  \n",
       "2       1       0       0       0  -3.809586  -0.268657  \n",
       "3       0       1       0       0  -8.133482   3.541135  \n",
       "4       0       1       0       0   1.444620  -6.639251  \n",
       "\n",
       "[5 rows x 22 columns]"
      ]
     },
     "execution_count": 308,
     "metadata": {},
     "output_type": "execute_result"
    }
   ],
   "source": [
    "df.head()"
   ]
  },
  {
   "cell_type": "code",
   "execution_count": 310,
   "id": "bfcd73f6-186d-4527-b099-da6b81381eb7",
   "metadata": {
    "tags": []
   },
   "outputs": [
    {
     "data": {
      "text/plain": [
       "(10000, 22)"
      ]
     },
     "execution_count": 310,
     "metadata": {},
     "output_type": "execute_result"
    }
   ],
   "source": [
    "df.shape"
   ]
  },
  {
   "cell_type": "markdown",
   "id": "f8573f68-e07d-4077-9ab3-7371986659a4",
   "metadata": {},
   "source": [
    "## Train / Test Split"
   ]
  },
  {
   "cell_type": "code",
   "execution_count": 561,
   "id": "d5f83f45-ff76-4a3d-b22c-6e3521d1bc6f",
   "metadata": {
    "tags": []
   },
   "outputs": [],
   "source": [
    "# We will build initial models without the umap features\n",
    "\n",
    "X = df.drop(columns=['churn', 'umap_1', 'umap_2'])\n",
    "y = df['churn']\n",
    "\n",
    "X_train, X_test, y_train, y_test = train_test_split(X, y, test_size=0.2, stratify=y, random_state=42)"
   ]
  },
  {
   "cell_type": "code",
   "execution_count": 527,
   "id": "fb40ac97-2b55-4122-8bab-eb53e44a9554",
   "metadata": {
    "tags": []
   },
   "outputs": [
    {
     "name": "stdout",
     "output_type": "stream",
     "text": [
      "Train shape: ((8000, 19), (8000,))\n",
      "Test shape: ((2000, 19), (2000,))\n"
     ]
    }
   ],
   "source": [
    "print(f'Train shape: {X_train.shape, y_train.shape}')\n",
    "print(f'Test shape: {X_test.shape, y_test.shape}')"
   ]
  },
  {
   "cell_type": "markdown",
   "id": "d07dc33a-c58b-461c-9d58-881e96e2c8a6",
   "metadata": {},
   "source": [
    "## Scoring Metric"
   ]
  },
  {
   "cell_type": "markdown",
   "id": "5e13f678-da36-4c23-9b61-0db46cca5b12",
   "metadata": {},
   "source": [
    "As this is a binary classification problem predicting either: retain (0) or churn (1), we consider the following metrics:\n",
    "\n",
    "- **Accuracy:** number of true predictions divided by total predictions\n",
    "- **Precision:** number of true positives divided by total predicted positives\n",
    "- **Recall:** number of true positives divided by total actual positives\n",
    "- **F1 Score:** harmonic mean of precision and recall\n",
    "\n",
    "Whereas precision is a good score to use when there is a high cost for false positives (Type 1 error), recall is a good score to use when there is a high cost for false negatives (Type 2 error). Since our goal is to reduce churn of existing customers, our top priority is to minimize false negatives so that we do not miss properly predicting a customer that is likely to churn. This will help us most effectively select customers that are likely to churn to extend additional support to so that they might retain instead. Thus, we will use recall as our primary scoring metric for model comparison."
   ]
  },
  {
   "cell_type": "code",
   "execution_count": 319,
   "id": "faad4c4e-1496-4150-8308-ba3551666959",
   "metadata": {
    "tags": []
   },
   "outputs": [],
   "source": [
    "# Cross-validate model recall on train data\n",
    "\n",
    "def cv(model):\n",
    "    skf = StratifiedKFold(n_splits=5, random_state=42, shuffle=True)\n",
    "    scores = cross_val_score(model, X_train, y_train, scoring=make_scorer(recall_score), cv=skf, n_jobs=-1)\n",
    "    print('Cross-validated recall:', np.mean(scores))"
   ]
  },
  {
   "cell_type": "code",
   "execution_count": 321,
   "id": "af58a971-0623-40c4-8207-9d7b4c148a09",
   "metadata": {
    "tags": []
   },
   "outputs": [],
   "source": [
    "# Fit model to train data and predict churn on test data\n",
    "\n",
    "def pred(model):\n",
    "    model.fit(X_train, y_train)\n",
    "    preds = model.predict(X_test)\n",
    "    ConfusionMatrixDisplay(confusion_matrix(y_test, preds)).plot(colorbar=False);\n",
    "    plt.title('Test Predictions')"
   ]
  },
  {
   "cell_type": "code",
   "execution_count": 323,
   "id": "e53fbca3-28a6-441b-b3d3-ae44ea669a66",
   "metadata": {
    "tags": []
   },
   "outputs": [],
   "source": [
    "#Evaluate feature importances\n",
    "\n",
    "def feat(model):\n",
    "    model.fit(X_train, y_train)\n",
    "    fi = pd.DataFrame({'Feature':X_train.columns, 'Importance':model.feature_importances_}).sort_values(\n",
    "                       'Importance', ascending=False).reset_index(drop=True)\n",
    "    return fi"
   ]
  },
  {
   "cell_type": "markdown",
   "id": "eb6582a5-2687-43a3-8261-595eac6d7bd3",
   "metadata": {},
   "source": [
    "## Random Forest Classifier"
   ]
  },
  {
   "cell_type": "code",
   "execution_count": 452,
   "id": "59ec9a2a-a483-4c8e-90b8-f4328ac51c05",
   "metadata": {
    "tags": []
   },
   "outputs": [],
   "source": [
    "# Untuned model\n",
    "\n",
    "rf = RandomForestClassifier(random_state=42)"
   ]
  },
  {
   "cell_type": "code",
   "execution_count": 454,
   "id": "5e98be90-b8d9-40c3-ac3d-39da20fcebfe",
   "metadata": {
    "tags": []
   },
   "outputs": [
    {
     "name": "stdout",
     "output_type": "stream",
     "text": [
      "Cross-validated recall: 0.9987730061349694\n"
     ]
    }
   ],
   "source": [
    "cv(rf)"
   ]
  },
  {
   "cell_type": "code",
   "execution_count": 456,
   "id": "e7eb1604-1c04-402e-b3e8-db30f8e57f30",
   "metadata": {
    "tags": []
   },
   "outputs": [
    {
     "data": {
      "image/png": "[encoded data removed]",
      "text/plain": [
       "<Figure size 640x480 with 1 Axes>"
      ]
     },
     "metadata": {},
     "output_type": "display_data"
    }
   ],
   "source": [
    "pred(rf)"
   ]
  },
  {
   "cell_type": "markdown",
   "id": "535b9301-7c1e-4b0b-83fd-411ca47157c7",
   "metadata": {},
   "source": [
    "The model only predicts 2 false negatives and 1 false positive on the test set."
   ]
  },
  {
   "cell_type": "code",
   "execution_count": 333,
   "id": "fe808478-b927-4087-9687-9d248dcda53c",
   "metadata": {
    "tags": []
   },
   "outputs": [
    {
     "data": {
      "text/html": [
       "<div>\n",
       "<style scoped>\n",
       "    .dataframe tbody tr th:only-of-type {\n",
       "        vertical-align: middle;\n",
       "    }\n",
       "\n",
       "    .dataframe tbody tr th {\n",
       "        vertical-align: top;\n",
       "    }\n",
       "\n",
       "    .dataframe thead th {\n",
       "        text-align: right;\n",
       "    }\n",
       "</style>\n",
       "<table border=\"1\" class=\"dataframe\">\n",
       "  <thead>\n",
       "    <tr style=\"text-align: right;\">\n",
       "      <th></th>\n",
       "      <th>Feature</th>\n",
       "      <th>Importance</th>\n",
       "    </tr>\n",
       "  </thead>\n",
       "  <tbody>\n",
       "    <tr>\n",
       "      <th>0</th>\n",
       "      <td>complain</td>\n",
       "      <td>0.812243</td>\n",
       "    </tr>\n",
       "    <tr>\n",
       "      <th>1</th>\n",
       "      <td>age</td>\n",
       "      <td>0.058174</td>\n",
       "    </tr>\n",
       "    <tr>\n",
       "      <th>2</th>\n",
       "      <td>num_products</td>\n",
       "      <td>0.043070</td>\n",
       "    </tr>\n",
       "    <tr>\n",
       "      <th>3</th>\n",
       "      <td>active</td>\n",
       "      <td>0.012829</td>\n",
       "    </tr>\n",
       "    <tr>\n",
       "      <th>4</th>\n",
       "      <td>tenure</td>\n",
       "      <td>0.010475</td>\n",
       "    </tr>\n",
       "    <tr>\n",
       "      <th>5</th>\n",
       "      <td>country_G</td>\n",
       "      <td>0.010411</td>\n",
       "    </tr>\n",
       "    <tr>\n",
       "      <th>6</th>\n",
       "      <td>points</td>\n",
       "      <td>0.008528</td>\n",
       "    </tr>\n",
       "    <tr>\n",
       "      <th>7</th>\n",
       "      <td>balance</td>\n",
       "      <td>0.008421</td>\n",
       "    </tr>\n",
       "    <tr>\n",
       "      <th>8</th>\n",
       "      <td>satisfaction</td>\n",
       "      <td>0.005926</td>\n",
       "    </tr>\n",
       "    <tr>\n",
       "      <th>9</th>\n",
       "      <td>salary</td>\n",
       "      <td>0.005855</td>\n",
       "    </tr>\n",
       "    <tr>\n",
       "      <th>10</th>\n",
       "      <td>credit_score</td>\n",
       "      <td>0.005099</td>\n",
       "    </tr>\n",
       "    <tr>\n",
       "      <th>11</th>\n",
       "      <td>gender</td>\n",
       "      <td>0.003709</td>\n",
       "    </tr>\n",
       "    <tr>\n",
       "      <th>12</th>\n",
       "      <td>country_F</td>\n",
       "      <td>0.003134</td>\n",
       "    </tr>\n",
       "    <tr>\n",
       "      <th>13</th>\n",
       "      <td>credit_card</td>\n",
       "      <td>0.002710</td>\n",
       "    </tr>\n",
       "    <tr>\n",
       "      <th>14</th>\n",
       "      <td>country_S</td>\n",
       "      <td>0.002065</td>\n",
       "    </tr>\n",
       "    <tr>\n",
       "      <th>15</th>\n",
       "      <td>card_S</td>\n",
       "      <td>0.002004</td>\n",
       "    </tr>\n",
       "    <tr>\n",
       "      <th>16</th>\n",
       "      <td>card_D</td>\n",
       "      <td>0.001887</td>\n",
       "    </tr>\n",
       "    <tr>\n",
       "      <th>17</th>\n",
       "      <td>card_G</td>\n",
       "      <td>0.001806</td>\n",
       "    </tr>\n",
       "    <tr>\n",
       "      <th>18</th>\n",
       "      <td>card_P</td>\n",
       "      <td>0.001652</td>\n",
       "    </tr>\n",
       "  </tbody>\n",
       "</table>\n",
       "</div>"
      ],
      "text/plain": [
       "         Feature  Importance\n",
       "0       complain    0.812243\n",
       "1            age    0.058174\n",
       "2   num_products    0.043070\n",
       "3         active    0.012829\n",
       "4         tenure    0.010475\n",
       "5      country_G    0.010411\n",
       "6         points    0.008528\n",
       "7        balance    0.008421\n",
       "8   satisfaction    0.005926\n",
       "9         salary    0.005855\n",
       "10  credit_score    0.005099\n",
       "11        gender    0.003709\n",
       "12     country_F    0.003134\n",
       "13   credit_card    0.002710\n",
       "14     country_S    0.002065\n",
       "15        card_S    0.002004\n",
       "16        card_D    0.001887\n",
       "17        card_G    0.001806\n",
       "18        card_P    0.001652"
      ]
     },
     "execution_count": 333,
     "metadata": {},
     "output_type": "execute_result"
    }
   ],
   "source": [
    "feat(rf)"
   ]
  },
  {
   "cell_type": "markdown",
   "id": "871af7cc-410c-4c2b-8370-6fddeac1bb5e",
   "metadata": {},
   "source": [
    "Complain is by far the most important feature, followed by age and number of products."
   ]
  },
  {
   "cell_type": "markdown",
   "id": "7d56c9a7-dacf-4524-8add-7c6e2dfb5bb4",
   "metadata": {},
   "source": [
    "## Extra Trees Classifier"
   ]
  },
  {
   "cell_type": "code",
   "execution_count": 337,
   "id": "2ae0ea52-c182-495a-a213-194a891dede7",
   "metadata": {
    "tags": []
   },
   "outputs": [],
   "source": [
    "# Untuned model\n",
    "\n",
    "et = ExtraTreesClassifier(random_state=42)"
   ]
  },
  {
   "cell_type": "code",
   "execution_count": 339,
   "id": "63537673-31d1-4a4c-8e43-175babd85af9",
   "metadata": {
    "tags": []
   },
   "outputs": [
    {
     "name": "stdout",
     "output_type": "stream",
     "text": [
      "Cross-validated recall: 0.9987730061349694\n"
     ]
    }
   ],
   "source": [
    "cv(et)"
   ]
  },
  {
   "cell_type": "code",
   "execution_count": 341,
   "id": "2f8568df-1b9a-4903-91ca-e941451c1ad7",
   "metadata": {
    "tags": []
   },
   "outputs": [
    {
     "data": {
      "image/png": "[encoded data removed]",
      "text/plain": [
       "<Figure size 640x480 with 1 Axes>"
      ]
     },
     "metadata": {},
     "output_type": "display_data"
    }
   ],
   "source": [
    "pred(et)"
   ]
  },
  {
   "cell_type": "code",
   "execution_count": 343,
   "id": "688fddf7-d86f-47d6-a80f-5b9fbde93935",
   "metadata": {
    "tags": []
   },
   "outputs": [
    {
     "data": {
      "text/html": [
       "<div>\n",
       "<style scoped>\n",
       "    .dataframe tbody tr th:only-of-type {\n",
       "        vertical-align: middle;\n",
       "    }\n",
       "\n",
       "    .dataframe tbody tr th {\n",
       "        vertical-align: top;\n",
       "    }\n",
       "\n",
       "    .dataframe thead th {\n",
       "        text-align: right;\n",
       "    }\n",
       "</style>\n",
       "<table border=\"1\" class=\"dataframe\">\n",
       "  <thead>\n",
       "    <tr style=\"text-align: right;\">\n",
       "      <th></th>\n",
       "      <th>Feature</th>\n",
       "      <th>Importance</th>\n",
       "    </tr>\n",
       "  </thead>\n",
       "  <tbody>\n",
       "    <tr>\n",
       "      <th>0</th>\n",
       "      <td>complain</td>\n",
       "      <td>0.865663</td>\n",
       "    </tr>\n",
       "    <tr>\n",
       "      <th>1</th>\n",
       "      <td>num_products</td>\n",
       "      <td>0.042452</td>\n",
       "    </tr>\n",
       "    <tr>\n",
       "      <th>2</th>\n",
       "      <td>age</td>\n",
       "      <td>0.026682</td>\n",
       "    </tr>\n",
       "    <tr>\n",
       "      <th>3</th>\n",
       "      <td>active</td>\n",
       "      <td>0.010724</td>\n",
       "    </tr>\n",
       "    <tr>\n",
       "      <th>4</th>\n",
       "      <td>country_G</td>\n",
       "      <td>0.008767</td>\n",
       "    </tr>\n",
       "    <tr>\n",
       "      <th>5</th>\n",
       "      <td>balance</td>\n",
       "      <td>0.007398</td>\n",
       "    </tr>\n",
       "    <tr>\n",
       "      <th>6</th>\n",
       "      <td>tenure</td>\n",
       "      <td>0.005074</td>\n",
       "    </tr>\n",
       "    <tr>\n",
       "      <th>7</th>\n",
       "      <td>points</td>\n",
       "      <td>0.004545</td>\n",
       "    </tr>\n",
       "    <tr>\n",
       "      <th>8</th>\n",
       "      <td>satisfaction</td>\n",
       "      <td>0.004216</td>\n",
       "    </tr>\n",
       "    <tr>\n",
       "      <th>9</th>\n",
       "      <td>country_F</td>\n",
       "      <td>0.003987</td>\n",
       "    </tr>\n",
       "    <tr>\n",
       "      <th>10</th>\n",
       "      <td>gender</td>\n",
       "      <td>0.003895</td>\n",
       "    </tr>\n",
       "    <tr>\n",
       "      <th>11</th>\n",
       "      <td>salary</td>\n",
       "      <td>0.003724</td>\n",
       "    </tr>\n",
       "    <tr>\n",
       "      <th>12</th>\n",
       "      <td>credit_score</td>\n",
       "      <td>0.003482</td>\n",
       "    </tr>\n",
       "    <tr>\n",
       "      <th>13</th>\n",
       "      <td>country_S</td>\n",
       "      <td>0.002192</td>\n",
       "    </tr>\n",
       "    <tr>\n",
       "      <th>14</th>\n",
       "      <td>credit_card</td>\n",
       "      <td>0.002111</td>\n",
       "    </tr>\n",
       "    <tr>\n",
       "      <th>15</th>\n",
       "      <td>card_D</td>\n",
       "      <td>0.001361</td>\n",
       "    </tr>\n",
       "    <tr>\n",
       "      <th>16</th>\n",
       "      <td>card_S</td>\n",
       "      <td>0.001292</td>\n",
       "    </tr>\n",
       "    <tr>\n",
       "      <th>17</th>\n",
       "      <td>card_P</td>\n",
       "      <td>0.001234</td>\n",
       "    </tr>\n",
       "    <tr>\n",
       "      <th>18</th>\n",
       "      <td>card_G</td>\n",
       "      <td>0.001202</td>\n",
       "    </tr>\n",
       "  </tbody>\n",
       "</table>\n",
       "</div>"
      ],
      "text/plain": [
       "         Feature  Importance\n",
       "0       complain    0.865663\n",
       "1   num_products    0.042452\n",
       "2            age    0.026682\n",
       "3         active    0.010724\n",
       "4      country_G    0.008767\n",
       "5        balance    0.007398\n",
       "6         tenure    0.005074\n",
       "7         points    0.004545\n",
       "8   satisfaction    0.004216\n",
       "9      country_F    0.003987\n",
       "10        gender    0.003895\n",
       "11        salary    0.003724\n",
       "12  credit_score    0.003482\n",
       "13     country_S    0.002192\n",
       "14   credit_card    0.002111\n",
       "15        card_D    0.001361\n",
       "16        card_S    0.001292\n",
       "17        card_P    0.001234\n",
       "18        card_G    0.001202"
      ]
     },
     "execution_count": 343,
     "metadata": {},
     "output_type": "execute_result"
    }
   ],
   "source": [
    "feat(et)"
   ]
  },
  {
   "cell_type": "markdown",
   "id": "cde7e71e-4ebc-441b-9af2-8bff339f61b9",
   "metadata": {},
   "source": [
    "Extra trees performs similar to random forest and also rates complain as the most important feature, but it places less emphasis on age."
   ]
  },
  {
   "cell_type": "markdown",
   "id": "39dd256c-b319-42af-8fda-7534d6c5344b",
   "metadata": {
    "tags": []
   },
   "source": [
    "## Gradient Boosting Classifier"
   ]
  },
  {
   "cell_type": "code",
   "execution_count": 347,
   "id": "51153147-5a39-4d53-ba1c-7a4f796031df",
   "metadata": {},
   "outputs": [],
   "source": [
    "# Untuned model\n",
    "\n",
    "gb = GradientBoostingClassifier(random_state=42)"
   ]
  },
  {
   "cell_type": "code",
   "execution_count": 349,
   "id": "96567bbc-3d29-47e3-baf5-b5d176ecd587",
   "metadata": {
    "tags": []
   },
   "outputs": [
    {
     "name": "stdout",
     "output_type": "stream",
     "text": [
      "Cross-validated recall: 0.9987730061349694\n"
     ]
    }
   ],
   "source": [
    "cv(gb)"
   ]
  },
  {
   "cell_type": "code",
   "execution_count": 351,
   "id": "6aa8c117-9b3e-4c57-97bc-d19c8faf3451",
   "metadata": {
    "tags": []
   },
   "outputs": [
    {
     "data": {
      "image/png": "[encoded data removed]",
      "text/plain": [
       "<Figure size 640x480 with 1 Axes>"
      ]
     },
     "metadata": {},
     "output_type": "display_data"
    }
   ],
   "source": [
    "pred(gb)"
   ]
  },
  {
   "cell_type": "code",
   "execution_count": 353,
   "id": "3c85f9f4-2ad3-4a11-a60e-f3da83db079c",
   "metadata": {
    "tags": []
   },
   "outputs": [
    {
     "data": {
      "text/html": [
       "<div>\n",
       "<style scoped>\n",
       "    .dataframe tbody tr th:only-of-type {\n",
       "        vertical-align: middle;\n",
       "    }\n",
       "\n",
       "    .dataframe tbody tr th {\n",
       "        vertical-align: top;\n",
       "    }\n",
       "\n",
       "    .dataframe thead th {\n",
       "        text-align: right;\n",
       "    }\n",
       "</style>\n",
       "<table border=\"1\" class=\"dataframe\">\n",
       "  <thead>\n",
       "    <tr style=\"text-align: right;\">\n",
       "      <th></th>\n",
       "      <th>Feature</th>\n",
       "      <th>Importance</th>\n",
       "    </tr>\n",
       "  </thead>\n",
       "  <tbody>\n",
       "    <tr>\n",
       "      <th>0</th>\n",
       "      <td>complain</td>\n",
       "      <td>9.992628e-01</td>\n",
       "    </tr>\n",
       "    <tr>\n",
       "      <th>1</th>\n",
       "      <td>age</td>\n",
       "      <td>1.691350e-04</td>\n",
       "    </tr>\n",
       "    <tr>\n",
       "      <th>2</th>\n",
       "      <td>num_products</td>\n",
       "      <td>1.435001e-04</td>\n",
       "    </tr>\n",
       "    <tr>\n",
       "      <th>3</th>\n",
       "      <td>points</td>\n",
       "      <td>1.143485e-04</td>\n",
       "    </tr>\n",
       "    <tr>\n",
       "      <th>4</th>\n",
       "      <td>balance</td>\n",
       "      <td>7.251439e-05</td>\n",
       "    </tr>\n",
       "    <tr>\n",
       "      <th>5</th>\n",
       "      <td>satisfaction</td>\n",
       "      <td>6.555484e-05</td>\n",
       "    </tr>\n",
       "    <tr>\n",
       "      <th>6</th>\n",
       "      <td>tenure</td>\n",
       "      <td>5.726994e-05</td>\n",
       "    </tr>\n",
       "    <tr>\n",
       "      <th>7</th>\n",
       "      <td>active</td>\n",
       "      <td>5.214894e-05</td>\n",
       "    </tr>\n",
       "    <tr>\n",
       "      <th>8</th>\n",
       "      <td>country_G</td>\n",
       "      <td>3.341186e-05</td>\n",
       "    </tr>\n",
       "    <tr>\n",
       "      <th>9</th>\n",
       "      <td>card_G</td>\n",
       "      <td>1.347894e-05</td>\n",
       "    </tr>\n",
       "    <tr>\n",
       "      <th>10</th>\n",
       "      <td>salary</td>\n",
       "      <td>6.778270e-06</td>\n",
       "    </tr>\n",
       "    <tr>\n",
       "      <th>11</th>\n",
       "      <td>card_D</td>\n",
       "      <td>4.404896e-06</td>\n",
       "    </tr>\n",
       "    <tr>\n",
       "      <th>12</th>\n",
       "      <td>card_P</td>\n",
       "      <td>2.579163e-06</td>\n",
       "    </tr>\n",
       "    <tr>\n",
       "      <th>13</th>\n",
       "      <td>credit_score</td>\n",
       "      <td>1.062186e-06</td>\n",
       "    </tr>\n",
       "    <tr>\n",
       "      <th>14</th>\n",
       "      <td>credit_card</td>\n",
       "      <td>7.350876e-07</td>\n",
       "    </tr>\n",
       "    <tr>\n",
       "      <th>15</th>\n",
       "      <td>gender</td>\n",
       "      <td>2.047520e-07</td>\n",
       "    </tr>\n",
       "    <tr>\n",
       "      <th>16</th>\n",
       "      <td>card_S</td>\n",
       "      <td>5.523818e-08</td>\n",
       "    </tr>\n",
       "    <tr>\n",
       "      <th>17</th>\n",
       "      <td>country_S</td>\n",
       "      <td>0.000000e+00</td>\n",
       "    </tr>\n",
       "    <tr>\n",
       "      <th>18</th>\n",
       "      <td>country_F</td>\n",
       "      <td>0.000000e+00</td>\n",
       "    </tr>\n",
       "  </tbody>\n",
       "</table>\n",
       "</div>"
      ],
      "text/plain": [
       "         Feature    Importance\n",
       "0       complain  9.992628e-01\n",
       "1            age  1.691350e-04\n",
       "2   num_products  1.435001e-04\n",
       "3         points  1.143485e-04\n",
       "4        balance  7.251439e-05\n",
       "5   satisfaction  6.555484e-05\n",
       "6         tenure  5.726994e-05\n",
       "7         active  5.214894e-05\n",
       "8      country_G  3.341186e-05\n",
       "9         card_G  1.347894e-05\n",
       "10        salary  6.778270e-06\n",
       "11        card_D  4.404896e-06\n",
       "12        card_P  2.579163e-06\n",
       "13  credit_score  1.062186e-06\n",
       "14   credit_card  7.350876e-07\n",
       "15        gender  2.047520e-07\n",
       "16        card_S  5.523818e-08\n",
       "17     country_S  0.000000e+00\n",
       "18     country_F  0.000000e+00"
      ]
     },
     "execution_count": 353,
     "metadata": {},
     "output_type": "execute_result"
    }
   ],
   "source": [
    "feat(gb)"
   ]
  },
  {
   "cell_type": "markdown",
   "id": "a93044f9-6c45-4966-a293-2c457adb63bf",
   "metadata": {},
   "source": [
    "## Hist Gradient Boosting Classifier"
   ]
  },
  {
   "cell_type": "code",
   "execution_count": 356,
   "id": "23ef4235-4323-4b97-b475-1150c214572c",
   "metadata": {},
   "outputs": [],
   "source": [
    "# Untuned model\n",
    "\n",
    "hgb = HistGradientBoostingClassifier(random_state=42)"
   ]
  },
  {
   "cell_type": "code",
   "execution_count": 358,
   "id": "4e059a13-49cd-4c2c-a22f-d49d11fa33b7",
   "metadata": {
    "tags": []
   },
   "outputs": [
    {
     "name": "stdout",
     "output_type": "stream",
     "text": [
      "Cross-validated recall: 0.9987730061349694\n"
     ]
    }
   ],
   "source": [
    "cv(hgb)"
   ]
  },
  {
   "cell_type": "code",
   "execution_count": 360,
   "id": "3e82ec12-a4fd-4152-8acb-d80dcb954cbc",
   "metadata": {
    "tags": []
   },
   "outputs": [
    {
     "data": {
      "image/png": "[encoded data removed]",
      "text/plain": [
       "<Figure size 640x480 with 1 Axes>"
      ]
     },
     "metadata": {},
     "output_type": "display_data"
    }
   ],
   "source": [
    "pred(hgb)"
   ]
  },
  {
   "cell_type": "markdown",
   "id": "3108b766-6e14-4b50-890b-1a124e0b750f",
   "metadata": {},
   "source": [
    "## AdaBoost Classifier"
   ]
  },
  {
   "cell_type": "code",
   "execution_count": 363,
   "id": "ddfffd80-aa01-4242-9d05-4619a485e3a0",
   "metadata": {},
   "outputs": [],
   "source": [
    "# Untuned model\n",
    "\n",
    "ab = AdaBoostClassifier(random_state=42)"
   ]
  },
  {
   "cell_type": "code",
   "execution_count": 365,
   "id": "59764473-61a0-411a-9bcc-4dc5e9f8aa34",
   "metadata": {
    "tags": []
   },
   "outputs": [
    {
     "name": "stdout",
     "output_type": "stream",
     "text": [
      "Cross-validated recall: 0.9963190184049079\n"
     ]
    }
   ],
   "source": [
    "cv(ab)"
   ]
  },
  {
   "cell_type": "markdown",
   "id": "c364dfe6-067b-44b3-a850-b4a342912de4",
   "metadata": {},
   "source": [
    "This is the first model not to have a train cross-validated recall of 0.9987730061349694."
   ]
  },
  {
   "cell_type": "code",
   "execution_count": 368,
   "id": "a4834ecd-e387-4365-9efa-0c9cfb78acd1",
   "metadata": {
    "tags": []
   },
   "outputs": [
    {
     "data": {
      "image/png": "[encoded data removed]",
      "text/plain": [
       "<Figure size 640x480 with 1 Axes>"
      ]
     },
     "metadata": {},
     "output_type": "display_data"
    }
   ],
   "source": [
    "pred(ab)"
   ]
  },
  {
   "cell_type": "markdown",
   "id": "00a58081-58d5-4c66-95c0-de68ba86b1cc",
   "metadata": {},
   "source": [
    "Like prior models, adaboost has 1 false positive, but 3 false negatives. This is still an excellent performance."
   ]
  },
  {
   "cell_type": "code",
   "execution_count": 371,
   "id": "2c566a9d-d5e7-4e90-a696-c44cf59aaebe",
   "metadata": {
    "tags": []
   },
   "outputs": [
    {
     "data": {
      "text/html": [
       "<div>\n",
       "<style scoped>\n",
       "    .dataframe tbody tr th:only-of-type {\n",
       "        vertical-align: middle;\n",
       "    }\n",
       "\n",
       "    .dataframe tbody tr th {\n",
       "        vertical-align: top;\n",
       "    }\n",
       "\n",
       "    .dataframe thead th {\n",
       "        text-align: right;\n",
       "    }\n",
       "</style>\n",
       "<table border=\"1\" class=\"dataframe\">\n",
       "  <thead>\n",
       "    <tr style=\"text-align: right;\">\n",
       "      <th></th>\n",
       "      <th>Feature</th>\n",
       "      <th>Importance</th>\n",
       "    </tr>\n",
       "  </thead>\n",
       "  <tbody>\n",
       "    <tr>\n",
       "      <th>0</th>\n",
       "      <td>complain</td>\n",
       "      <td>0.20</td>\n",
       "    </tr>\n",
       "    <tr>\n",
       "      <th>1</th>\n",
       "      <td>satisfaction</td>\n",
       "      <td>0.14</td>\n",
       "    </tr>\n",
       "    <tr>\n",
       "      <th>2</th>\n",
       "      <td>age</td>\n",
       "      <td>0.12</td>\n",
       "    </tr>\n",
       "    <tr>\n",
       "      <th>3</th>\n",
       "      <td>tenure</td>\n",
       "      <td>0.12</td>\n",
       "    </tr>\n",
       "    <tr>\n",
       "      <th>4</th>\n",
       "      <td>points</td>\n",
       "      <td>0.10</td>\n",
       "    </tr>\n",
       "    <tr>\n",
       "      <th>5</th>\n",
       "      <td>balance</td>\n",
       "      <td>0.06</td>\n",
       "    </tr>\n",
       "    <tr>\n",
       "      <th>6</th>\n",
       "      <td>num_products</td>\n",
       "      <td>0.06</td>\n",
       "    </tr>\n",
       "    <tr>\n",
       "      <th>7</th>\n",
       "      <td>salary</td>\n",
       "      <td>0.06</td>\n",
       "    </tr>\n",
       "    <tr>\n",
       "      <th>8</th>\n",
       "      <td>active</td>\n",
       "      <td>0.04</td>\n",
       "    </tr>\n",
       "    <tr>\n",
       "      <th>9</th>\n",
       "      <td>country_F</td>\n",
       "      <td>0.02</td>\n",
       "    </tr>\n",
       "    <tr>\n",
       "      <th>10</th>\n",
       "      <td>card_G</td>\n",
       "      <td>0.02</td>\n",
       "    </tr>\n",
       "    <tr>\n",
       "      <th>11</th>\n",
       "      <td>country_G</td>\n",
       "      <td>0.02</td>\n",
       "    </tr>\n",
       "    <tr>\n",
       "      <th>12</th>\n",
       "      <td>credit_score</td>\n",
       "      <td>0.02</td>\n",
       "    </tr>\n",
       "    <tr>\n",
       "      <th>13</th>\n",
       "      <td>gender</td>\n",
       "      <td>0.02</td>\n",
       "    </tr>\n",
       "    <tr>\n",
       "      <th>14</th>\n",
       "      <td>country_S</td>\n",
       "      <td>0.00</td>\n",
       "    </tr>\n",
       "    <tr>\n",
       "      <th>15</th>\n",
       "      <td>card_D</td>\n",
       "      <td>0.00</td>\n",
       "    </tr>\n",
       "    <tr>\n",
       "      <th>16</th>\n",
       "      <td>credit_card</td>\n",
       "      <td>0.00</td>\n",
       "    </tr>\n",
       "    <tr>\n",
       "      <th>17</th>\n",
       "      <td>card_P</td>\n",
       "      <td>0.00</td>\n",
       "    </tr>\n",
       "    <tr>\n",
       "      <th>18</th>\n",
       "      <td>card_S</td>\n",
       "      <td>0.00</td>\n",
       "    </tr>\n",
       "  </tbody>\n",
       "</table>\n",
       "</div>"
      ],
      "text/plain": [
       "         Feature  Importance\n",
       "0       complain        0.20\n",
       "1   satisfaction        0.14\n",
       "2            age        0.12\n",
       "3         tenure        0.12\n",
       "4         points        0.10\n",
       "5        balance        0.06\n",
       "6   num_products        0.06\n",
       "7         salary        0.06\n",
       "8         active        0.04\n",
       "9      country_F        0.02\n",
       "10        card_G        0.02\n",
       "11     country_G        0.02\n",
       "12  credit_score        0.02\n",
       "13        gender        0.02\n",
       "14     country_S        0.00\n",
       "15        card_D        0.00\n",
       "16   credit_card        0.00\n",
       "17        card_P        0.00\n",
       "18        card_S        0.00"
      ]
     },
     "execution_count": 371,
     "metadata": {},
     "output_type": "execute_result"
    }
   ],
   "source": [
    "feat(ab)"
   ]
  },
  {
   "cell_type": "markdown",
   "id": "47fc58e6-17fb-414a-adaf-e2c8912d281c",
   "metadata": {},
   "source": [
    "Adaboost has some different feature importances than prior models. Complain is still the most important, but satisfaction is second most important."
   ]
  },
  {
   "cell_type": "markdown",
   "id": "28d22cad-dbab-4e87-a69c-20ee7a50b5b6",
   "metadata": {},
   "source": [
    "## XGBoost Classifier"
   ]
  },
  {
   "cell_type": "code",
   "execution_count": 375,
   "id": "fbda27ec-b741-4134-82cd-3b5de0de9d34",
   "metadata": {},
   "outputs": [],
   "source": [
    "# Untuned model\n",
    "\n",
    "xgb = XGBClassifier(random_state=42)"
   ]
  },
  {
   "cell_type": "code",
   "execution_count": 377,
   "id": "eee51852-5e1b-4d20-b38d-078b436d3409",
   "metadata": {
    "tags": []
   },
   "outputs": [
    {
     "name": "stdout",
     "output_type": "stream",
     "text": [
      "Cross-validated recall: 0.9987730061349694\n"
     ]
    }
   ],
   "source": [
    "cv(xgb)"
   ]
  },
  {
   "cell_type": "code",
   "execution_count": 379,
   "id": "32fa93df-8774-47fc-b5c8-95ffc05ac30f",
   "metadata": {
    "tags": []
   },
   "outputs": [
    {
     "data": {
      "image/png": "[encoded data removed]",
      "text/plain": [
       "<Figure size 640x480 with 1 Axes>"
      ]
     },
     "metadata": {},
     "output_type": "display_data"
    }
   ],
   "source": [
    "pred(xgb)"
   ]
  },
  {
   "cell_type": "code",
   "execution_count": 381,
   "id": "83dde512-32d5-49ed-9118-ee5a15d99772",
   "metadata": {
    "tags": []
   },
   "outputs": [
    {
     "data": {
      "text/html": [
       "<div>\n",
       "<style scoped>\n",
       "    .dataframe tbody tr th:only-of-type {\n",
       "        vertical-align: middle;\n",
       "    }\n",
       "\n",
       "    .dataframe tbody tr th {\n",
       "        vertical-align: top;\n",
       "    }\n",
       "\n",
       "    .dataframe thead th {\n",
       "        text-align: right;\n",
       "    }\n",
       "</style>\n",
       "<table border=\"1\" class=\"dataframe\">\n",
       "  <thead>\n",
       "    <tr style=\"text-align: right;\">\n",
       "      <th></th>\n",
       "      <th>Feature</th>\n",
       "      <th>Importance</th>\n",
       "    </tr>\n",
       "  </thead>\n",
       "  <tbody>\n",
       "    <tr>\n",
       "      <th>0</th>\n",
       "      <td>complain</td>\n",
       "      <td>0.965007</td>\n",
       "    </tr>\n",
       "    <tr>\n",
       "      <th>1</th>\n",
       "      <td>country_S</td>\n",
       "      <td>0.003281</td>\n",
       "    </tr>\n",
       "    <tr>\n",
       "      <th>2</th>\n",
       "      <td>active</td>\n",
       "      <td>0.002998</td>\n",
       "    </tr>\n",
       "    <tr>\n",
       "      <th>3</th>\n",
       "      <td>num_products</td>\n",
       "      <td>0.002858</td>\n",
       "    </tr>\n",
       "    <tr>\n",
       "      <th>4</th>\n",
       "      <td>country_F</td>\n",
       "      <td>0.002795</td>\n",
       "    </tr>\n",
       "    <tr>\n",
       "      <th>5</th>\n",
       "      <td>satisfaction</td>\n",
       "      <td>0.002375</td>\n",
       "    </tr>\n",
       "    <tr>\n",
       "      <th>6</th>\n",
       "      <td>age</td>\n",
       "      <td>0.002257</td>\n",
       "    </tr>\n",
       "    <tr>\n",
       "      <th>7</th>\n",
       "      <td>card_G</td>\n",
       "      <td>0.002213</td>\n",
       "    </tr>\n",
       "    <tr>\n",
       "      <th>8</th>\n",
       "      <td>credit_card</td>\n",
       "      <td>0.001941</td>\n",
       "    </tr>\n",
       "    <tr>\n",
       "      <th>9</th>\n",
       "      <td>salary</td>\n",
       "      <td>0.001879</td>\n",
       "    </tr>\n",
       "    <tr>\n",
       "      <th>10</th>\n",
       "      <td>tenure</td>\n",
       "      <td>0.001761</td>\n",
       "    </tr>\n",
       "    <tr>\n",
       "      <th>11</th>\n",
       "      <td>country_G</td>\n",
       "      <td>0.001679</td>\n",
       "    </tr>\n",
       "    <tr>\n",
       "      <th>12</th>\n",
       "      <td>points</td>\n",
       "      <td>0.001609</td>\n",
       "    </tr>\n",
       "    <tr>\n",
       "      <th>13</th>\n",
       "      <td>balance</td>\n",
       "      <td>0.001499</td>\n",
       "    </tr>\n",
       "    <tr>\n",
       "      <th>14</th>\n",
       "      <td>card_D</td>\n",
       "      <td>0.001457</td>\n",
       "    </tr>\n",
       "    <tr>\n",
       "      <th>15</th>\n",
       "      <td>card_S</td>\n",
       "      <td>0.001447</td>\n",
       "    </tr>\n",
       "    <tr>\n",
       "      <th>16</th>\n",
       "      <td>card_P</td>\n",
       "      <td>0.001194</td>\n",
       "    </tr>\n",
       "    <tr>\n",
       "      <th>17</th>\n",
       "      <td>gender</td>\n",
       "      <td>0.001048</td>\n",
       "    </tr>\n",
       "    <tr>\n",
       "      <th>18</th>\n",
       "      <td>credit_score</td>\n",
       "      <td>0.000703</td>\n",
       "    </tr>\n",
       "  </tbody>\n",
       "</table>\n",
       "</div>"
      ],
      "text/plain": [
       "         Feature  Importance\n",
       "0       complain    0.965007\n",
       "1      country_S    0.003281\n",
       "2         active    0.002998\n",
       "3   num_products    0.002858\n",
       "4      country_F    0.002795\n",
       "5   satisfaction    0.002375\n",
       "6            age    0.002257\n",
       "7         card_G    0.002213\n",
       "8    credit_card    0.001941\n",
       "9         salary    0.001879\n",
       "10        tenure    0.001761\n",
       "11     country_G    0.001679\n",
       "12        points    0.001609\n",
       "13       balance    0.001499\n",
       "14        card_D    0.001457\n",
       "15        card_S    0.001447\n",
       "16        card_P    0.001194\n",
       "17        gender    0.001048\n",
       "18  credit_score    0.000703"
      ]
     },
     "execution_count": 381,
     "metadata": {},
     "output_type": "execute_result"
    }
   ],
   "source": [
    "feat(xgb)"
   ]
  },
  {
   "cell_type": "markdown",
   "id": "9ba827b1-03d6-4017-8e18-696bf23cf06d",
   "metadata": {},
   "source": [
    "XGBoost classifier ranks features differently than other models with complain still in first but whether or not a customer is from Spain as second most important, and whether or not the customer is active as third most important."
   ]
  },
  {
   "cell_type": "markdown",
   "id": "ba59819a-5b03-4d93-8c32-d6f1bab33221",
   "metadata": {},
   "source": [
    "## LightGBM Classifier"
   ]
  },
  {
   "cell_type": "code",
   "execution_count": 385,
   "id": "c6704a5f-62b6-4203-be68-ecf4bcaa3ff4",
   "metadata": {},
   "outputs": [],
   "source": [
    "# Untuned model\n",
    "\n",
    "lgb = LGBMClassifier(random_state=42, verbose=-1)"
   ]
  },
  {
   "cell_type": "code",
   "execution_count": 387,
   "id": "101f961e-a89e-41e0-b8b7-0b815c9a49ee",
   "metadata": {
    "tags": []
   },
   "outputs": [
    {
     "name": "stdout",
     "output_type": "stream",
     "text": [
      "Cross-validated recall: 0.9987730061349694\n"
     ]
    }
   ],
   "source": [
    "cv(lgb)"
   ]
  },
  {
   "cell_type": "code",
   "execution_count": 389,
   "id": "c5d8b335-c2a3-455c-b9c6-ae759c238c82",
   "metadata": {
    "tags": []
   },
   "outputs": [
    {
     "data": {
      "image/png": "[encoded data removed]",
      "text/plain": [
       "<Figure size 640x480 with 1 Axes>"
      ]
     },
     "metadata": {},
     "output_type": "display_data"
    }
   ],
   "source": [
    "pred(lgb)"
   ]
  },
  {
   "cell_type": "code",
   "execution_count": 391,
   "id": "d1f0454b-cf2c-418f-bb02-8280d3452fc1",
   "metadata": {
    "tags": []
   },
   "outputs": [
    {
     "data": {
      "text/html": [
       "<div>\n",
       "<style scoped>\n",
       "    .dataframe tbody tr th:only-of-type {\n",
       "        vertical-align: middle;\n",
       "    }\n",
       "\n",
       "    .dataframe tbody tr th {\n",
       "        vertical-align: top;\n",
       "    }\n",
       "\n",
       "    .dataframe thead th {\n",
       "        text-align: right;\n",
       "    }\n",
       "</style>\n",
       "<table border=\"1\" class=\"dataframe\">\n",
       "  <thead>\n",
       "    <tr style=\"text-align: right;\">\n",
       "      <th></th>\n",
       "      <th>Feature</th>\n",
       "      <th>Importance</th>\n",
       "    </tr>\n",
       "  </thead>\n",
       "  <tbody>\n",
       "    <tr>\n",
       "      <th>0</th>\n",
       "      <td>tenure</td>\n",
       "      <td>575</td>\n",
       "    </tr>\n",
       "    <tr>\n",
       "      <th>1</th>\n",
       "      <td>points</td>\n",
       "      <td>372</td>\n",
       "    </tr>\n",
       "    <tr>\n",
       "      <th>2</th>\n",
       "      <td>satisfaction</td>\n",
       "      <td>313</td>\n",
       "    </tr>\n",
       "    <tr>\n",
       "      <th>3</th>\n",
       "      <td>age</td>\n",
       "      <td>292</td>\n",
       "    </tr>\n",
       "    <tr>\n",
       "      <th>4</th>\n",
       "      <td>num_products</td>\n",
       "      <td>276</td>\n",
       "    </tr>\n",
       "    <tr>\n",
       "      <th>5</th>\n",
       "      <td>balance</td>\n",
       "      <td>185</td>\n",
       "    </tr>\n",
       "    <tr>\n",
       "      <th>6</th>\n",
       "      <td>active</td>\n",
       "      <td>161</td>\n",
       "    </tr>\n",
       "    <tr>\n",
       "      <th>7</th>\n",
       "      <td>salary</td>\n",
       "      <td>124</td>\n",
       "    </tr>\n",
       "    <tr>\n",
       "      <th>8</th>\n",
       "      <td>country_G</td>\n",
       "      <td>114</td>\n",
       "    </tr>\n",
       "    <tr>\n",
       "      <th>9</th>\n",
       "      <td>complain</td>\n",
       "      <td>100</td>\n",
       "    </tr>\n",
       "    <tr>\n",
       "      <th>10</th>\n",
       "      <td>gender</td>\n",
       "      <td>86</td>\n",
       "    </tr>\n",
       "    <tr>\n",
       "      <th>11</th>\n",
       "      <td>card_G</td>\n",
       "      <td>85</td>\n",
       "    </tr>\n",
       "    <tr>\n",
       "      <th>12</th>\n",
       "      <td>card_S</td>\n",
       "      <td>77</td>\n",
       "    </tr>\n",
       "    <tr>\n",
       "      <th>13</th>\n",
       "      <td>credit_score</td>\n",
       "      <td>70</td>\n",
       "    </tr>\n",
       "    <tr>\n",
       "      <th>14</th>\n",
       "      <td>country_F</td>\n",
       "      <td>50</td>\n",
       "    </tr>\n",
       "    <tr>\n",
       "      <th>15</th>\n",
       "      <td>credit_card</td>\n",
       "      <td>42</td>\n",
       "    </tr>\n",
       "    <tr>\n",
       "      <th>16</th>\n",
       "      <td>card_D</td>\n",
       "      <td>29</td>\n",
       "    </tr>\n",
       "    <tr>\n",
       "      <th>17</th>\n",
       "      <td>card_P</td>\n",
       "      <td>26</td>\n",
       "    </tr>\n",
       "    <tr>\n",
       "      <th>18</th>\n",
       "      <td>country_S</td>\n",
       "      <td>14</td>\n",
       "    </tr>\n",
       "  </tbody>\n",
       "</table>\n",
       "</div>"
      ],
      "text/plain": [
       "         Feature  Importance\n",
       "0         tenure         575\n",
       "1         points         372\n",
       "2   satisfaction         313\n",
       "3            age         292\n",
       "4   num_products         276\n",
       "5        balance         185\n",
       "6         active         161\n",
       "7         salary         124\n",
       "8      country_G         114\n",
       "9       complain         100\n",
       "10        gender          86\n",
       "11        card_G          85\n",
       "12        card_S          77\n",
       "13  credit_score          70\n",
       "14     country_F          50\n",
       "15   credit_card          42\n",
       "16        card_D          29\n",
       "17        card_P          26\n",
       "18     country_S          14"
      ]
     },
     "execution_count": 391,
     "metadata": {},
     "output_type": "execute_result"
    }
   ],
   "source": [
    "feat(lgb)"
   ]
  },
  {
   "cell_type": "markdown",
   "id": "4478e02f-9d04-4881-863e-4b8a6c68a042",
   "metadata": {},
   "source": [
    "The LightGBM classifier is the first model that doesn't list complain as the most important feature. In fact complain is the 10th most important feature! The most important features for this model are tenure, points, and satisfaction."
   ]
  },
  {
   "cell_type": "markdown",
   "id": "f8d290ea-b4f9-49b8-9115-c7161a711df8",
   "metadata": {},
   "source": [
    "## CatBoost Classifier"
   ]
  },
  {
   "cell_type": "code",
   "execution_count": 395,
   "id": "288b245d-571a-46f6-b442-23a25b7b55c6",
   "metadata": {},
   "outputs": [],
   "source": [
    "# Untuned model\n",
    "\n",
    "cb = CatBoostClassifier(random_state=42, verbose=0)"
   ]
  },
  {
   "cell_type": "code",
   "execution_count": 397,
   "id": "1bc35571-cbd0-47e6-896c-2bc391038469",
   "metadata": {},
   "outputs": [
    {
     "name": "stdout",
     "output_type": "stream",
     "text": [
      "Cross-validated recall: 0.9987730061349694\n"
     ]
    }
   ],
   "source": [
    "cv(cb)"
   ]
  },
  {
   "cell_type": "code",
   "execution_count": 399,
   "id": "63f4f076-cc38-4725-9f6e-f61b550182fd",
   "metadata": {
    "tags": []
   },
   "outputs": [
    {
     "data": {
      "image/png": "[encoded data removed]",
      "text/plain": [
       "<Figure size 640x480 with 1 Axes>"
      ]
     },
     "metadata": {},
     "output_type": "display_data"
    }
   ],
   "source": [
    "pred(cb)"
   ]
  },
  {
   "cell_type": "code",
   "execution_count": 401,
   "id": "062eef25-5010-4d17-b49e-18319d34a519",
   "metadata": {
    "tags": []
   },
   "outputs": [
    {
     "data": {
      "text/html": [
       "<div>\n",
       "<style scoped>\n",
       "    .dataframe tbody tr th:only-of-type {\n",
       "        vertical-align: middle;\n",
       "    }\n",
       "\n",
       "    .dataframe tbody tr th {\n",
       "        vertical-align: top;\n",
       "    }\n",
       "\n",
       "    .dataframe thead th {\n",
       "        text-align: right;\n",
       "    }\n",
       "</style>\n",
       "<table border=\"1\" class=\"dataframe\">\n",
       "  <thead>\n",
       "    <tr style=\"text-align: right;\">\n",
       "      <th></th>\n",
       "      <th>Feature</th>\n",
       "      <th>Importance</th>\n",
       "    </tr>\n",
       "  </thead>\n",
       "  <tbody>\n",
       "    <tr>\n",
       "      <th>0</th>\n",
       "      <td>complain</td>\n",
       "      <td>75.213879</td>\n",
       "    </tr>\n",
       "    <tr>\n",
       "      <th>1</th>\n",
       "      <td>age</td>\n",
       "      <td>2.959163</td>\n",
       "    </tr>\n",
       "    <tr>\n",
       "      <th>2</th>\n",
       "      <td>tenure</td>\n",
       "      <td>2.882064</td>\n",
       "    </tr>\n",
       "    <tr>\n",
       "      <th>3</th>\n",
       "      <td>points</td>\n",
       "      <td>2.848723</td>\n",
       "    </tr>\n",
       "    <tr>\n",
       "      <th>4</th>\n",
       "      <td>salary</td>\n",
       "      <td>2.416150</td>\n",
       "    </tr>\n",
       "    <tr>\n",
       "      <th>5</th>\n",
       "      <td>num_products</td>\n",
       "      <td>2.333857</td>\n",
       "    </tr>\n",
       "    <tr>\n",
       "      <th>6</th>\n",
       "      <td>satisfaction</td>\n",
       "      <td>2.322602</td>\n",
       "    </tr>\n",
       "    <tr>\n",
       "      <th>7</th>\n",
       "      <td>balance</td>\n",
       "      <td>1.851612</td>\n",
       "    </tr>\n",
       "    <tr>\n",
       "      <th>8</th>\n",
       "      <td>credit_score</td>\n",
       "      <td>1.519033</td>\n",
       "    </tr>\n",
       "    <tr>\n",
       "      <th>9</th>\n",
       "      <td>active</td>\n",
       "      <td>1.142911</td>\n",
       "    </tr>\n",
       "    <tr>\n",
       "      <th>10</th>\n",
       "      <td>card_G</td>\n",
       "      <td>1.037869</td>\n",
       "    </tr>\n",
       "    <tr>\n",
       "      <th>11</th>\n",
       "      <td>country_G</td>\n",
       "      <td>0.983049</td>\n",
       "    </tr>\n",
       "    <tr>\n",
       "      <th>12</th>\n",
       "      <td>card_S</td>\n",
       "      <td>0.597525</td>\n",
       "    </tr>\n",
       "    <tr>\n",
       "      <th>13</th>\n",
       "      <td>card_D</td>\n",
       "      <td>0.460452</td>\n",
       "    </tr>\n",
       "    <tr>\n",
       "      <th>14</th>\n",
       "      <td>card_P</td>\n",
       "      <td>0.441258</td>\n",
       "    </tr>\n",
       "    <tr>\n",
       "      <th>15</th>\n",
       "      <td>gender</td>\n",
       "      <td>0.419599</td>\n",
       "    </tr>\n",
       "    <tr>\n",
       "      <th>16</th>\n",
       "      <td>country_F</td>\n",
       "      <td>0.251165</td>\n",
       "    </tr>\n",
       "    <tr>\n",
       "      <th>17</th>\n",
       "      <td>credit_card</td>\n",
       "      <td>0.214187</td>\n",
       "    </tr>\n",
       "    <tr>\n",
       "      <th>18</th>\n",
       "      <td>country_S</td>\n",
       "      <td>0.104901</td>\n",
       "    </tr>\n",
       "  </tbody>\n",
       "</table>\n",
       "</div>"
      ],
      "text/plain": [
       "         Feature  Importance\n",
       "0       complain   75.213879\n",
       "1            age    2.959163\n",
       "2         tenure    2.882064\n",
       "3         points    2.848723\n",
       "4         salary    2.416150\n",
       "5   num_products    2.333857\n",
       "6   satisfaction    2.322602\n",
       "7        balance    1.851612\n",
       "8   credit_score    1.519033\n",
       "9         active    1.142911\n",
       "10        card_G    1.037869\n",
       "11     country_G    0.983049\n",
       "12        card_S    0.597525\n",
       "13        card_D    0.460452\n",
       "14        card_P    0.441258\n",
       "15        gender    0.419599\n",
       "16     country_F    0.251165\n",
       "17   credit_card    0.214187\n",
       "18     country_S    0.104901"
      ]
     },
     "execution_count": 401,
     "metadata": {},
     "output_type": "execute_result"
    }
   ],
   "source": [
    "#Evaluate feature importances\n",
    "\n",
    "cb_fi = pd.DataFrame({'Feature':X_train.columns, 'Importance':cb.feature_importances_}).sort_values(\n",
    "                    'Importance', ascending=False).reset_index(drop=True)\n",
    "cb_fi"
   ]
  },
  {
   "cell_type": "markdown",
   "id": "b7f38f2a-1a8c-4125-8b74-a0801e345c70",
   "metadata": {},
   "source": [
    "Similar to random forest and gradient boosting, catboost ranks complain and age as the two most important features. This model, however, places tenure in third."
   ]
  },
  {
   "cell_type": "markdown",
   "id": "bf0d434b-ce17-4a77-b7a9-d271d6773508",
   "metadata": {},
   "source": [
    "With the exception of adaboost, our previous 8 models all had the same cross-validated recall scores on the train data, and the same true / false prediction ratios on the test data. As all of these models come from the decision tree family, we will also try out a couple of other model types."
   ]
  },
  {
   "cell_type": "markdown",
   "id": "8758bbcf-b769-46e4-ac70-266795a45ba5",
   "metadata": {},
   "source": [
    "## Logistic Regression Classifier"
   ]
  },
  {
   "cell_type": "code",
   "execution_count": 406,
   "id": "728fc723-4194-406d-bff1-3cb045e8dcc8",
   "metadata": {
    "tags": []
   },
   "outputs": [],
   "source": [
    "# Untuned model\n",
    "\n",
    "lr = LogisticRegression(random_state=42)"
   ]
  },
  {
   "cell_type": "markdown",
   "id": "1dc57471-e22d-4c12-b929-6d94611d711d",
   "metadata": {},
   "source": [
    "Though the logistic regression classifier is sensitive to unscaled features, we need not scale our features here, as the data binning put all values within a close scaling."
   ]
  },
  {
   "cell_type": "code",
   "execution_count": 409,
   "id": "9bceeb27-0df8-4b48-95b1-5a6ed61719f5",
   "metadata": {
    "tags": []
   },
   "outputs": [
    {
     "name": "stdout",
     "output_type": "stream",
     "text": [
      "Cross-validated recall: 0.9987730061349694\n"
     ]
    }
   ],
   "source": [
    "cv(lr)"
   ]
  },
  {
   "cell_type": "code",
   "execution_count": 411,
   "id": "1f0b6be6-d47b-465c-8f3c-814ef646903d",
   "metadata": {
    "tags": []
   },
   "outputs": [
    {
     "data": {
      "image/png": "[encoded data removed]",
      "text/plain": [
       "<Figure size 640x480 with 1 Axes>"
      ]
     },
     "metadata": {},
     "output_type": "display_data"
    }
   ],
   "source": [
    "pred(lr)"
   ]
  },
  {
   "cell_type": "markdown",
   "id": "283acfb8-ac31-43db-9625-10e5d0530ba9",
   "metadata": {},
   "source": [
    "## Support Vector Machine Classifier"
   ]
  },
  {
   "cell_type": "code",
   "execution_count": 418,
   "id": "25f20791-832f-4bd3-ad8d-72401aeefd11",
   "metadata": {
    "tags": []
   },
   "outputs": [],
   "source": [
    "# Untuned model\n",
    "\n",
    "sv = SVC(random_state=42)"
   ]
  },
  {
   "cell_type": "code",
   "execution_count": 420,
   "id": "d7b170d4-0e2a-4d2c-be3f-cd65dbd150c8",
   "metadata": {
    "tags": []
   },
   "outputs": [
    {
     "name": "stdout",
     "output_type": "stream",
     "text": [
      "Cross-validated recall: 0.9987730061349694\n"
     ]
    }
   ],
   "source": [
    "cv(sv)"
   ]
  },
  {
   "cell_type": "code",
   "execution_count": 422,
   "id": "9d718657-0644-4e1e-9a35-bf496078e771",
   "metadata": {
    "tags": []
   },
   "outputs": [
    {
     "data": {
      "image/png": "[encoded data removed]",
      "text/plain": [
       "<Figure size 640x480 with 1 Axes>"
      ]
     },
     "metadata": {},
     "output_type": "display_data"
    }
   ],
   "source": [
    "pred(sv)"
   ]
  },
  {
   "cell_type": "markdown",
   "id": "86413767-75a0-4fd4-83c4-2d3870e9a909",
   "metadata": {},
   "source": [
    "## Additional EDA"
   ]
  },
  {
   "cell_type": "markdown",
   "id": "94e0bf18-c97a-46d9-ac29-fcd16f8d26d3",
   "metadata": {},
   "source": [
    "Since 'complain' is overwhelmingly the most important feature across (almost) all models, let's check if there are any churned customers that did not complain. Similarly, we will check if there are any customers that complained but did not churn."
   ]
  },
  {
   "cell_type": "code",
   "execution_count": 563,
   "id": "dc2f326c-7826-42ef-b31d-c44e362f5013",
   "metadata": {
    "tags": []
   },
   "outputs": [],
   "source": [
    "# Total number of customers who churned\n",
    "\n",
    "tch = df[df['churn']==1].shape[0]\n",
    "\n",
    "# Churned without complaining\n",
    "\n",
    "ych_nco = df[(df['churn'] == 1) & (df['complain'] == 0)].shape[0]\n",
    "\n",
    "# Total number of customers who complained\n",
    "\n",
    "tco = df[df['complain']==1].shape[0]\n",
    "\n",
    "# Complained without churning\n",
    "\n",
    "yco_nch = df[(df['complain'] == 1) & (df['churn'] == 0)].shape[0]"
   ]
  },
  {
   "cell_type": "code",
   "execution_count": 565,
   "id": "e1c8355e-be63-43a1-b23f-567bca3539f3",
   "metadata": {
    "tags": []
   },
   "outputs": [
    {
     "name": "stdout",
     "output_type": "stream",
     "text": [
      "4 / 2038 customers who churned did not complain\n",
      "10 / 2044 customers who complained did not churn\n"
     ]
    }
   ],
   "source": [
    "print(f'{ych_nco} / {tch} customers who churned did not complain')\n",
    "print(f'{yco_nch} / {tco} customers who complained did not churn')"
   ]
  },
  {
   "cell_type": "markdown",
   "id": "5cf8789e-6ca4-4693-96cf-0e26af80beaa",
   "metadata": {},
   "source": [
    "The takeaway jumps off the page. All but 4 customers who churned had complained. And of all the customers who complained, only 10 of them did not end up churning. This indicates that by far the most important thing for Fairway to do to prevent churn is to improve its complaint resolution. Moreover, Fairway should aim to improve customer support so as to prevent complaints (and hence churn) in the first place. To predict the effect of complaint resolution on churn, let's see compare actual test predictions to predictions on a modified test set with reduced complain values."
   ]
  },
  {
   "cell_type": "code",
   "execution_count": 568,
   "id": "d882ceef-95f6-40a9-a801-d835ece2bc9d",
   "metadata": {
    "tags": []
   },
   "outputs": [
    {
     "name": "stdout",
     "output_type": "stream",
     "text": [
      "[[1591    1]\n",
      " [   2  406]]\n"
     ]
    }
   ],
   "source": [
    "# Predictions on initial test set\n",
    "\n",
    "rf.fit(X_train, y_train)\n",
    "preds_og = rf.predict(X_test)\n",
    "print(confusion_matrix(y_test, preds1))"
   ]
  },
  {
   "cell_type": "markdown",
   "id": "f35dc826-fdba-43d4-858d-947a9ea48a54",
   "metadata": {},
   "source": [
    "The model only has 3 false predictions out of 2000 in the test set. We can be confident that the model predicts accurately."
   ]
  },
  {
   "cell_type": "code",
   "execution_count": 571,
   "id": "f1875106-4c9c-4ed2-b9f5-9b1ef61a0689",
   "metadata": {
    "tags": []
   },
   "outputs": [
    {
     "name": "stdout",
     "output_type": "stream",
     "text": [
      "20% of customers in the test set were predicted to churn.\n"
     ]
    }
   ],
   "source": [
    "# Calculate percentage of customers predicted to churn on initial test set\n",
    "\n",
    "churn_og = len(preds_og[preds_og == 1]) / len(preds_og)\n",
    "\n",
    "print(f'{round(churn_og*100)}% of customers in the test set were predicted to churn.')"
   ]
  },
  {
   "cell_type": "code",
   "execution_count": 593,
   "id": "032b5565-c550-4559-baa7-2145f88ca18d",
   "metadata": {
    "tags": []
   },
   "outputs": [
    {
     "name": "stdout",
     "output_type": "stream",
     "text": [
      "In a mock scenario with 0 complaints, 0% of customers were predicted to churn.\n"
     ]
    }
   ],
   "source": [
    "# Calculate percentage of customers predicted to churn if no customers complained\n",
    "\n",
    "X_test_no_complaints = X_test.copy()\n",
    "X_test_no_complaints['complain'] = 0\n",
    "preds_no_complaints = rf.predict(X_test_no_complaints)\n",
    "\n",
    "churn_no_complaints = len(preds_no_complaints[preds_no_complaints == 1]) / len(preds_no_complaints)\n",
    "\n",
    "print(f'In a mock scenario with 0 complaints, {round(churn_no_complaints*100)}% of customers were predicted to churn.')"
   ]
  },
  {
   "cell_type": "code",
   "execution_count": 595,
   "id": "6128fa50-d790-43ee-a5bc-254c183d8bf9",
   "metadata": {
    "tags": []
   },
   "outputs": [
    {
     "name": "stdout",
     "output_type": "stream",
     "text": [
      "In a mock scenario in which 10% of customers complained - selected at random - 10% of customers were predicted to churn.\n"
     ]
    }
   ],
   "source": [
    "# Calculate percentage of customers predicted to churn if 10% of customers complained\n",
    "\n",
    "X_test_10_percent = X_test.copy()\n",
    "X_test_10_percent['complain'] = np.random.choice([0, 1], size=2000, p=[0.9, 0.1])\n",
    "preds_10_percent = rf.predict(X_test_10_percent)\n",
    "\n",
    "churn_10_percent = len(preds_10_percent[preds_10_percent == 1]) / len(preds_10_percent)\n",
    "\n",
    "print(f'In a mock scenario in which 10% of customers complained - selected at random - {round(churn_10_percent*100)}% of customers were predicted to churn.')"
   ]
  },
  {
   "cell_type": "markdown",
   "id": "ecea2ff0-40e0-4aa7-acf5-f27a43c13de1",
   "metadata": {},
   "source": [
    "The examples illustrate that whether a customer churns and whether a customer complains are directly proportional. Thus, to reduce churn by 10%, Fairway must reduce complaints by 10%. But is there more that can be done to locate the issue before a complaint is filed? We will proceed to model without the 'complain' feature, to see if we can better understand the profile of a customer who is likely to churn."
   ]
  },
  {
   "cell_type": "markdown",
   "id": "dd61293d-75c1-42f2-839e-6d4687e2cfdc",
   "metadata": {},
   "source": [
    "## Summary"
   ]
  },
  {
   "cell_type": "markdown",
   "id": "a893a247-a9a3-482d-8121-b647e1b409fa",
   "metadata": {},
   "source": [
    "We split the Fairway customer sample dataset into an 80% train set and a 20% test set. We explored 10 different classification models' ability to predict customer churn:\n",
    "\n",
    "- Random Forest\n",
    "- Extra Trees\n",
    "- Gradient Boosting\n",
    "- Hist Gradient Boosting\n",
    "- AdaBoost\n",
    "- XGBoost\n",
    "- LightGBM\n",
    "- CatBoost\n",
    "- Logistic Regression\n",
    "- Support Vector Machine\n",
    "\n",
    "We identified recall as the ideal performance metric, as the goal is to minimize false negatives so as to make sure that we identify all customers that are likely to churn. Without any hyperparameter tuning, every model had a recall of ~ 99.88% (except for AdaBoost which had a recall of 99.63 %). We identified feature importances for all models and 'complain' was overwhelmingly the most important feature, making it the golden feature of the dataset. Given that this alone provides the clear insight for Fairway's next course of action--improve customer support and complaint resolution(!!)--we will report this insight to stakeholders and share the important finding that:\n",
    "\n",
    "- only 4 / 2038 churned customers didn't complain\n",
    "- only 10 / 2044 customers who complained didn't churn\n",
    "- therefore 'complain' and 'churn' are directly proportional\n",
    "\n",
    "Moving forward, we will proceed to explore churn prediction without the 'complain' feature, so as to better understand the type of customer that is at risk for churning. We expect model performance to significanly drop without this feature, so we will do our best to mitigate this drop with hyperparameter tuning and by adjusting the probability threshold of our models' churn predicion to be more conservative than the default 50%. See you in Modeling Stage 2."
   ]
  },
  {
   "cell_type": "code",
   "execution_count": null,
   "id": "cb7056f8-5a6e-4e52-bc60-20f0e90b13ee",
   "metadata": {},
   "outputs": [],
   "source": []
  }
 ],
 "metadata": {
  "kernelspec": {
   "display_name": "Python 3 (ipykernel)",
   "language": "python",
   "name": "python3"
  },
  "language_info": {
   "codemirror_mode": {
    "name": "ipython",
    "version": 3
   },
   "file_extension": ".py",
   "mimetype": "text/x-python",
   "name": "python",
   "nbconvert_exporter": "python",
   "pygments_lexer": "ipython3",
   "version": "3.11.5"
  }
 },
 "nbformat": 4,
 "nbformat_minor": 5
}

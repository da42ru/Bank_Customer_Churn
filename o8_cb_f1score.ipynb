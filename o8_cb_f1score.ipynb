{
 "cells": [
  {
   "cell_type": "markdown",
   "id": "b8305d2b-05a2-4c03-96c1-41a8ed3e3f4e",
   "metadata": {},
   "source": [
    "## CatBoost Hyperparameter Tuning (F1-Score)"
   ]
  },
  {
   "cell_type": "code",
   "execution_count": 17,
   "id": "1737f07b-25d7-4e9a-950e-c41ea036b4c4",
   "metadata": {
    "tags": []
   },
   "outputs": [],
   "source": [
    "# Load Libraries\n",
    "\n",
    "import pandas as pd\n",
    "import numpy as np\n",
    "\n",
    "from sklearn.model_selection import train_test_split, StratifiedKFold\n",
    "from sklearn.metrics import f1_score\n",
    "\n",
    "from catboost import CatBoostClassifier\n",
    "\n",
    "import optuna"
   ]
  },
  {
   "cell_type": "code",
   "execution_count": 19,
   "id": "34b40b44-1c92-4b9d-ad57-3cddb44f6f0f",
   "metadata": {
    "tags": []
   },
   "outputs": [],
   "source": [
    "# Load Data\n",
    "\n",
    "df = pd.read_csv('bank_4.csv', index_col=0)"
   ]
  },
  {
   "cell_type": "code",
   "execution_count": 21,
   "id": "e25031a8-fef1-4150-86e7-8b7e22f0a9bb",
   "metadata": {
    "tags": []
   },
   "outputs": [],
   "source": [
    "# Train / Test Split\n",
    "\n",
    "X = df.drop(columns=['churn', 'complain', 'umap_1', 'umap_2'])\n",
    "y = df['churn']\n",
    "\n",
    "X_train, X_test, y_train, y_test = train_test_split(X, y, test_size=0.2, stratify=y, random_state=42)"
   ]
  },
  {
   "cell_type": "code",
   "execution_count": 23,
   "id": "2b530e97-2bc3-4b3d-b9f8-eb4ed610ff66",
   "metadata": {
    "tags": []
   },
   "outputs": [],
   "source": [
    "# Hyperparameter tuning\n",
    "\n",
    "def objective(trial):\n",
    "    \n",
    "    params = {\n",
    "        'iterations': trial.suggest_int('iterations', 500, 1000),\n",
    "        'learning_rate': trial.suggest_float('learning_rate', 0.01, 0.1),\n",
    "        'depth': trial.suggest_int('depth', 6, 16),\n",
    "        'random_strength': trial.suggest_float('random_strength', 0.3, 1),\n",
    "        'bagging_temperature': trial.suggest_float('bagging_temperature', 0.1, 1.0),\n",
    "        'l2_leaf_reg': trial.suggest_float('l2_leaf_reg', 2.0, 10.0)\n",
    "    }\n",
    "\n",
    "    model = CatBoostClassifier(\n",
    "        **params,\n",
    "        verbose=0,\n",
    "        random_state=42)\n",
    "    \n",
    "    threshold = 0.29\n",
    "    \n",
    "    skf = StratifiedKFold(n_splits=5, random_state=42, shuffle=True)\n",
    "    scores = []\n",
    "    \n",
    "    for tr, te in skf.split(X_train, y_train):\n",
    "        \n",
    "        X_tr, X_te = X_train.iloc[tr], X_train.iloc[te]\n",
    "        y_tr, y_te = y_train.iloc[tr], y_train.iloc[te]\n",
    "        \n",
    "        model.fit(X_tr, y_tr)\n",
    "        prob = model.predict_proba(X_te)[:, 1]\n",
    "        y_pred = np.where(prob < threshold, 0, 1)\n",
    "        \n",
    "        scores.append(f1_score(y_te, y_pred))\n",
    "        \n",
    "    return np.mean(scores)"
   ]
  },
  {
   "cell_type": "code",
   "execution_count": 25,
   "id": "eb85a387-214c-480a-8a96-d69570dcbce9",
   "metadata": {
    "tags": []
   },
   "outputs": [
    {
     "name": "stderr",
     "output_type": "stream",
     "text": [
      "[I 2024-07-10 14:33:41,816] A new study created in memory with name: no-name-9f3095ba-6fab-4a08-a629-ff24527c0b96\n"
     ]
    },
    {
     "data": {
      "application/vnd.jupyter.widget-view+json": {
       "model_id": "938423d46ad64d36907ac05ad0b24a1e",
       "version_major": 2,
       "version_minor": 0
      },
      "text/plain": [
       "  0%|          | 0/100 [00:00<?, ?it/s]"
      ]
     },
     "metadata": {},
     "output_type": "display_data"
    },
    {
     "name": "stdout",
     "output_type": "stream",
     "text": [
      "[I 2024-07-10 14:34:17,055] Trial 0 finished with value: 0.5716025929605287 and parameters: {'iterations': 925, 'learning_rate': 0.08438353547200592, 'depth': 12, 'random_strength': 0.7133152767235692, 'bagging_temperature': 0.24822840631165138, 'l2_leaf_reg': 6.729859024994687}. Best is trial 0 with value: 0.5716025929605287.\n",
      "[I 2024-07-10 14:34:29,803] Trial 1 finished with value: 0.5955473522615714 and parameters: {'iterations': 534, 'learning_rate': 0.03898494295959593, 'depth': 11, 'random_strength': 0.5957926033122601, 'bagging_temperature': 0.7061012049887373, 'l2_leaf_reg': 9.060986042155577}. Best is trial 1 with value: 0.5955473522615714.\n",
      "[I 2024-07-10 14:34:43,780] Trial 2 finished with value: 0.5934840428867407 and parameters: {'iterations': 575, 'learning_rate': 0.04045206136619186, 'depth': 11, 'random_strength': 0.3927267449881347, 'bagging_temperature': 0.9007350729443333, 'l2_leaf_reg': 9.669516354045438}. Best is trial 1 with value: 0.5955473522615714.\n",
      "[I 2024-07-10 14:35:00,062] Trial 3 finished with value: 0.6069243871708101 and parameters: {'iterations': 730, 'learning_rate': 0.011751558059384264, 'depth': 11, 'random_strength': 0.7999623667141997, 'bagging_temperature': 0.48239890671626906, 'l2_leaf_reg': 4.677122809521584}. Best is trial 3 with value: 0.6069243871708101.\n",
      "[I 2024-07-10 14:35:12,074] Trial 4 finished with value: 0.5850373018124376 and parameters: {'iterations': 915, 'learning_rate': 0.03692716661854408, 'depth': 9, 'random_strength': 0.44542315032126956, 'bagging_temperature': 0.7274171556382847, 'l2_leaf_reg': 2.413753692161925}. Best is trial 3 with value: 0.6069243871708101.\n",
      "[I 2024-07-10 14:38:19,287] Trial 5 finished with value: 0.5879599396236981 and parameters: {'iterations': 721, 'learning_rate': 0.09230412380450968, 'depth': 15, 'random_strength': 0.8058503967436981, 'bagging_temperature': 0.7389710336196927, 'l2_leaf_reg': 7.806107237741004}. Best is trial 3 with value: 0.6069243871708101.\n",
      "[I 2024-07-10 14:39:04,479] Trial 6 finished with value: 0.6000258078800257 and parameters: {'iterations': 697, 'learning_rate': 0.015437934577703025, 'depth': 13, 'random_strength': 0.35829437669109065, 'bagging_temperature': 0.23974131660719109, 'l2_leaf_reg': 6.666364738652426}. Best is trial 3 with value: 0.6069243871708101.\n",
      "[I 2024-07-10 14:39:16,127] Trial 7 finished with value: 0.5785730328222115 and parameters: {'iterations': 882, 'learning_rate': 0.09861655787005394, 'depth': 9, 'random_strength': 0.6422007480077478, 'bagging_temperature': 0.32108763136338725, 'l2_leaf_reg': 8.263932646770185}. Best is trial 3 with value: 0.6069243871708101.\n",
      "[I 2024-07-10 14:39:30,175] Trial 8 finished with value: 0.5773496596373071 and parameters: {'iterations': 551, 'learning_rate': 0.04707175983596376, 'depth': 11, 'random_strength': 0.41765460974791746, 'bagging_temperature': 0.23495793374840804, 'l2_leaf_reg': 2.411576537703482}. Best is trial 3 with value: 0.6069243871708101.\n",
      "[I 2024-07-10 14:39:36,654] Trial 9 finished with value: 0.6096850932668768 and parameters: {'iterations': 582, 'learning_rate': 0.022087867899987557, 'depth': 8, 'random_strength': 0.3449655420977308, 'bagging_temperature': 0.11326553143535589, 'l2_leaf_reg': 8.289076794259813}. Best is trial 9 with value: 0.6096850932668768.\n",
      "[I 2024-07-10 14:39:42,313] Trial 10 finished with value: 0.5930491925363132 and parameters: {'iterations': 637, 'learning_rate': 0.07042875870231836, 'depth': 6, 'random_strength': 0.9844694796763295, 'bagging_temperature': 0.12019603508728242, 'l2_leaf_reg': 5.469549051527513}. Best is trial 9 with value: 0.6096850932668768.\n",
      "[I 2024-07-10 14:39:49,697] Trial 11 finished with value: 0.6216763141053615 and parameters: {'iterations': 822, 'learning_rate': 0.012749394205765185, 'depth': 6, 'random_strength': 0.8556375451071735, 'bagging_temperature': 0.46741771686316147, 'l2_leaf_reg': 4.918253165397644}. Best is trial 11 with value: 0.6216763141053615.\n",
      "[I 2024-07-10 14:39:57,007] Trial 12 finished with value: 0.6086737456188867 and parameters: {'iterations': 813, 'learning_rate': 0.02474130812612923, 'depth': 6, 'random_strength': 0.9949521662464843, 'bagging_temperature': 0.4404218833670477, 'l2_leaf_reg': 4.114433578519767}. Best is trial 11 with value: 0.6216763141053615.\n",
      "[I 2024-07-10 14:40:05,548] Trial 13 finished with value: 0.5789984990763276 and parameters: {'iterations': 811, 'learning_rate': 0.06280644273004805, 'depth': 8, 'random_strength': 0.5203696680396386, 'bagging_temperature': 0.57729908358044, 'l2_leaf_reg': 3.7830693782982987}. Best is trial 11 with value: 0.6216763141053615.\n",
      "[I 2024-07-10 14:40:13,126] Trial 14 finished with value: 0.6001366085332754 and parameters: {'iterations': 823, 'learning_rate': 0.026783294263058276, 'depth': 7, 'random_strength': 0.8514205721912889, 'bagging_temperature': 0.9516984953073332, 'l2_leaf_reg': 6.130869636687991}. Best is trial 11 with value: 0.6216763141053615.\n",
      "[I 2024-07-10 14:40:23,505] Trial 15 finished with value: 0.5957037210391836 and parameters: {'iterations': 999, 'learning_rate': 0.024558863574151876, 'depth': 8, 'random_strength': 0.32077801543549656, 'bagging_temperature': 0.140821168726121, 'l2_leaf_reg': 7.648418567605106}. Best is trial 11 with value: 0.6216763141053615.\n",
      "[I 2024-07-10 14:40:31,749] Trial 16 finished with value: 0.6145037752447952 and parameters: {'iterations': 633, 'learning_rate': 0.012958690912060054, 'depth': 9, 'random_strength': 0.8994256217256811, 'bagging_temperature': 0.6100301055896837, 'l2_leaf_reg': 5.233232154692507}. Best is trial 11 with value: 0.6216763141053615.\n",
      "[I 2024-07-10 14:40:40,132] Trial 17 finished with value: 0.6137698908861063 and parameters: {'iterations': 650, 'learning_rate': 0.011007729060341358, 'depth': 9, 'random_strength': 0.9036491399058442, 'bagging_temperature': 0.6090485569656479, 'l2_leaf_reg': 5.1776653534863915}. Best is trial 11 with value: 0.6216763141053615.\n",
      "[I 2024-07-10 14:48:00,690] Trial 18 finished with value: 0.5779963867107083 and parameters: {'iterations': 654, 'learning_rate': 0.05552043451940537, 'depth': 16, 'random_strength': 0.7319126820862835, 'bagging_temperature': 0.3953879727089924, 'l2_leaf_reg': 3.306398074318065}. Best is trial 11 with value: 0.6216763141053615.\n",
      "[I 2024-07-10 14:48:07,664] Trial 19 finished with value: 0.6075724060553436 and parameters: {'iterations': 780, 'learning_rate': 0.032750256028540065, 'depth': 6, 'random_strength': 0.9043457364962153, 'bagging_temperature': 0.8342570627199292, 'l2_leaf_reg': 5.635022398461036}. Best is trial 11 with value: 0.6216763141053615.\n",
      "[I 2024-07-10 14:49:06,739] Trial 20 finished with value: 0.5827010390080132 and parameters: {'iterations': 867, 'learning_rate': 0.050676702876951245, 'depth': 13, 'random_strength': 0.9192558779918243, 'bagging_temperature': 0.5156790472469485, 'l2_leaf_reg': 4.822643291417361}. Best is trial 11 with value: 0.6216763141053615.\n",
      "[I 2024-07-10 14:49:15,099] Trial 21 finished with value: 0.6142989549313544 and parameters: {'iterations': 631, 'learning_rate': 0.010694165462250303, 'depth': 9, 'random_strength': 0.9017158627094448, 'bagging_temperature': 0.6054938010047186, 'l2_leaf_reg': 4.766887325066657}. Best is trial 11 with value: 0.6216763141053615.\n",
      "[I 2024-07-10 14:49:25,393] Trial 22 finished with value: 0.601952735769512 and parameters: {'iterations': 613, 'learning_rate': 0.018951534124521364, 'depth': 10, 'random_strength': 0.7678071495402017, 'bagging_temperature': 0.6303876223777525, 'l2_leaf_reg': 3.2523254255966405}. Best is trial 11 with value: 0.6216763141053615.\n",
      "[I 2024-07-10 14:49:30,506] Trial 23 finished with value: 0.6209558261086005 and parameters: {'iterations': 507, 'learning_rate': 0.011330749556729802, 'depth': 7, 'random_strength': 0.8579826302878257, 'bagging_temperature': 0.6462696101018348, 'l2_leaf_reg': 4.326853091767677}. Best is trial 11 with value: 0.6216763141053615.\n",
      "[I 2024-07-10 14:49:35,536] Trial 24 finished with value: 0.6089316408880906 and parameters: {'iterations': 507, 'learning_rate': 0.029835018617856746, 'depth': 7, 'random_strength': 0.8384812489769444, 'bagging_temperature': 0.40032755890344374, 'l2_leaf_reg': 6.147419833632863}. Best is trial 11 with value: 0.6216763141053615.\n",
      "[I 2024-07-10 14:49:40,323] Trial 25 finished with value: 0.6170591188365655 and parameters: {'iterations': 504, 'learning_rate': 0.019959023333748386, 'depth': 7, 'random_strength': 0.6859284753444319, 'bagging_temperature': 0.8009647095900884, 'l2_leaf_reg': 4.091303565382024}. Best is trial 11 with value: 0.6216763141053615.\n",
      "[I 2024-07-10 14:49:45,378] Trial 26 finished with value: 0.6191145212237219 and parameters: {'iterations': 504, 'learning_rate': 0.019883600509295652, 'depth': 7, 'random_strength': 0.6739293664965157, 'bagging_temperature': 0.852265147607852, 'l2_leaf_reg': 4.067170095568051}. Best is trial 11 with value: 0.6216763141053615.\n",
      "[I 2024-07-10 14:49:51,661] Trial 27 finished with value: 0.5978205933372174 and parameters: {'iterations': 686, 'learning_rate': 0.031771949932274175, 'depth': 7, 'random_strength': 0.6085564507492812, 'bagging_temperature': 0.9959398857591667, 'l2_leaf_reg': 3.352765062685779}. Best is trial 11 with value: 0.6216763141053615.\n",
      "[I 2024-07-10 14:49:56,658] Trial 28 finished with value: 0.619891376635979 and parameters: {'iterations': 580, 'learning_rate': 0.018202690116185395, 'depth': 6, 'random_strength': 0.5377302407009171, 'bagging_temperature': 0.6739097776104811, 'l2_leaf_reg': 2.0764436350323976}. Best is trial 11 with value: 0.6216763141053615.\n",
      "[I 2024-07-10 14:50:03,626] Trial 29 finished with value: 0.5775595566067404 and parameters: {'iterations': 766, 'learning_rate': 0.07285504192609048, 'depth': 6, 'random_strength': 0.529320730830332, 'bagging_temperature': 0.670318560248079, 'l2_leaf_reg': 2.237609411340533}. Best is trial 11 with value: 0.6216763141053615.\n",
      "[I 2024-07-10 14:50:12,450] Trial 30 finished with value: 0.6122905010158003 and parameters: {'iterations': 984, 'learning_rate': 0.016737427237637926, 'depth': 6, 'random_strength': 0.5049435416339902, 'bagging_temperature': 0.7812268459142151, 'l2_leaf_reg': 2.852926365302096}. Best is trial 11 with value: 0.6216763141053615.\n",
      "[I 2024-07-10 14:50:17,958] Trial 31 finished with value: 0.616650253886587 and parameters: {'iterations': 548, 'learning_rate': 0.017510387500539376, 'depth': 7, 'random_strength': 0.7020588569546458, 'bagging_temperature': 0.8853574721927919, 'l2_leaf_reg': 4.361715658798126}. Best is trial 11 with value: 0.6216763141053615.\n",
      "[I 2024-07-10 14:50:24,289] Trial 32 finished with value: 0.5956430010705559 and parameters: {'iterations': 579, 'learning_rate': 0.04313468047566745, 'depth': 8, 'random_strength': 0.5955166107230664, 'bagging_temperature': 0.6588045693902729, 'l2_leaf_reg': 3.615408046747847}. Best is trial 11 with value: 0.6216763141053615.\n",
      "[I 2024-07-10 14:50:29,327] Trial 33 finished with value: 0.5966979396258275 and parameters: {'iterations': 532, 'learning_rate': 0.0357518875960156, 'depth': 7, 'random_strength': 0.7355316745303703, 'bagging_temperature': 0.529653771299017, 'l2_leaf_reg': 2.925937288227808}. Best is trial 11 with value: 0.6216763141053615.\n",
      "[I 2024-07-10 14:50:33,627] Trial 34 finished with value: 0.6153934002559058 and parameters: {'iterations': 521, 'learning_rate': 0.022287132368218485, 'depth': 6, 'random_strength': 0.4659210770233413, 'bagging_temperature': 0.862699570560538, 'l2_leaf_reg': 2.0146437106850748}. Best is trial 11 with value: 0.6216763141053615.\n",
      "[I 2024-07-10 14:50:43,613] Trial 35 finished with value: 0.6137638823618852 and parameters: {'iterations': 600, 'learning_rate': 0.01020103810642191, 'depth': 10, 'random_strength': 0.5513384023968991, 'bagging_temperature': 0.7139658988480493, 'l2_leaf_reg': 4.306886845007364}. Best is trial 11 with value: 0.6216763141053615.\n",
      "[I 2024-07-10 14:50:49,698] Trial 36 finished with value: 0.6074702876281872 and parameters: {'iterations': 557, 'learning_rate': 0.028362813098171, 'depth': 8, 'random_strength': 0.7880203224014097, 'bagging_temperature': 0.4931007591991656, 'l2_leaf_reg': 4.8562843565809}. Best is trial 11 with value: 0.6216763141053615.\n",
      "[I 2024-07-10 14:51:08,738] Trial 37 finished with value: 0.6090501252625063 and parameters: {'iterations': 501, 'learning_rate': 0.01753663261124451, 'depth': 12, 'random_strength': 0.6764704098798348, 'bagging_temperature': 0.5560894474525985, 'l2_leaf_reg': 6.616390608627233}. Best is trial 11 with value: 0.6216763141053615.\n",
      "[I 2024-07-10 14:51:17,954] Trial 38 finished with value: 0.5862093481589135 and parameters: {'iterations': 851, 'learning_rate': 0.03830003407667263, 'depth': 7, 'random_strength': 0.6296556444472007, 'bagging_temperature': 0.7540882776480895, 'l2_leaf_reg': 2.9358768478744044}. Best is trial 11 with value: 0.6216763141053615.\n",
      "[I 2024-07-10 14:51:34,286] Trial 39 finished with value: 0.6031640867610101 and parameters: {'iterations': 954, 'learning_rate': 0.016578781089907704, 'depth': 10, 'random_strength': 0.8478372390069397, 'bagging_temperature': 0.6860304627126727, 'l2_leaf_reg': 9.876760098137725}. Best is trial 11 with value: 0.6216763141053615.\n",
      "[I 2024-07-10 14:51:41,037] Trial 40 finished with value: 0.5787061151288015 and parameters: {'iterations': 730, 'learning_rate': 0.08536857966711806, 'depth': 6, 'random_strength': 0.9429150838452883, 'bagging_temperature': 0.3037217974053006, 'l2_leaf_reg': 5.7272528270441505}. Best is trial 11 with value: 0.6216763141053615.\n",
      "[I 2024-07-10 14:51:46,604] Trial 41 finished with value: 0.6158916405774217 and parameters: {'iterations': 526, 'learning_rate': 0.021134207085549375, 'depth': 7, 'random_strength': 0.6736615470469066, 'bagging_temperature': 0.7916764838544988, 'l2_leaf_reg': 3.8865938358036076}. Best is trial 11 with value: 0.6216763141053615.\n",
      "[I 2024-07-10 14:51:53,623] Trial 42 finished with value: 0.6153269340528119 and parameters: {'iterations': 560, 'learning_rate': 0.014875902238701031, 'depth': 8, 'random_strength': 0.5812758156548018, 'bagging_temperature': 0.8149482849929429, 'l2_leaf_reg': 4.534489697559529}. Best is trial 11 with value: 0.6216763141053615.\n",
      "[I 2024-07-10 14:51:58,932] Trial 43 finished with value: 0.6151751540321639 and parameters: {'iterations': 503, 'learning_rate': 0.020958193212371877, 'depth': 7, 'random_strength': 0.7716360130827955, 'bagging_temperature': 0.9093033665583075, 'l2_leaf_reg': 3.9815156553884767}. Best is trial 11 with value: 0.6216763141053615.\n",
      "[I 2024-07-10 14:52:04,443] Trial 44 finished with value: 0.6112058780535814 and parameters: {'iterations': 600, 'learning_rate': 0.026364038060848694, 'depth': 6, 'random_strength': 0.8252111781482554, 'bagging_temperature': 0.7168709981397472, 'l2_leaf_reg': 5.180300757056317}. Best is trial 11 with value: 0.6216763141053615.\n",
      "[I 2024-07-10 14:52:09,617] Trial 45 finished with value: 0.6204026148848218 and parameters: {'iterations': 530, 'learning_rate': 0.013815828628048919, 'depth': 6, 'random_strength': 0.48205509670712127, 'bagging_temperature': 0.46129394950192915, 'l2_leaf_reg': 3.610359405340742}. Best is trial 11 with value: 0.6216763141053615.\n",
      "[I 2024-07-10 14:52:17,961] Trial 46 finished with value: 0.618492916737315 and parameters: {'iterations': 897, 'learning_rate': 0.014119725024202563, 'depth': 6, 'random_strength': 0.3950465494157711, 'bagging_temperature': 0.4576221104045461, 'l2_leaf_reg': 2.5591321054081564}. Best is trial 11 with value: 0.6216763141053615.\n",
      "[I 2024-07-10 14:52:24,643] Trial 47 finished with value: 0.6209673040814506 and parameters: {'iterations': 541, 'learning_rate': 0.010042170001715261, 'depth': 8, 'random_strength': 0.460765546044609, 'bagging_temperature': 0.3917295047889919, 'l2_leaf_reg': 3.48153318011732}. Best is trial 11 with value: 0.6216763141053615.\n",
      "[I 2024-07-10 14:52:31,592] Trial 48 finished with value: 0.6197276987471982 and parameters: {'iterations': 566, 'learning_rate': 0.010194746551989634, 'depth': 8, 'random_strength': 0.4599915582332259, 'bagging_temperature': 0.3710487822289859, 'l2_leaf_reg': 3.6510104256905134}. Best is trial 11 with value: 0.6216763141053615.\n",
      "[I 2024-07-10 14:52:36,600] Trial 49 finished with value: 0.6198918109632167 and parameters: {'iterations': 539, 'learning_rate': 0.013910901178864291, 'depth': 6, 'random_strength': 0.48713766611204623, 'bagging_temperature': 0.3188883975091198, 'l2_leaf_reg': 2.8443080927922946}. Best is trial 11 with value: 0.6216763141053615.\n",
      "[I 2024-07-10 14:52:42,728] Trial 50 finished with value: 0.6165970729166121 and parameters: {'iterations': 537, 'learning_rate': 0.023834978050689314, 'depth': 8, 'random_strength': 0.43191608391099623, 'bagging_temperature': 0.19350813566196842, 'l2_leaf_reg': 3.4806852786088385}. Best is trial 11 with value: 0.6216763141053615.\n",
      "[I 2024-07-10 14:52:48,267] Trial 51 finished with value: 0.6191516775960547 and parameters: {'iterations': 591, 'learning_rate': 0.014494730838099884, 'depth': 6, 'random_strength': 0.4858396501391477, 'bagging_temperature': 0.31530319198009876, 'l2_leaf_reg': 2.787235425078749}. Best is trial 11 with value: 0.6216763141053615.\n",
      "[I 2024-07-10 14:52:53,490] Trial 52 finished with value: 0.6208950992781394 and parameters: {'iterations': 543, 'learning_rate': 0.012979218705640986, 'depth': 6, 'random_strength': 0.4126074496651104, 'bagging_temperature': 0.353778358052952, 'l2_leaf_reg': 2.0140762145512388}. Best is trial 11 with value: 0.6216763141053615.\n",
      "[I 2024-07-10 14:52:58,810] Trial 53 finished with value: 0.6238698606232861 and parameters: {'iterations': 545, 'learning_rate': 0.013560631530876574, 'depth': 6, 'random_strength': 0.3660344916841721, 'bagging_temperature': 0.2722303737601264, 'l2_leaf_reg': 2.548492629309027}. Best is trial 53 with value: 0.6238698606232861.\n",
      "[I 2024-07-10 14:54:27,756] Trial 54 finished with value: 0.5934862211458344 and parameters: {'iterations': 676, 'learning_rate': 0.010114206574375383, 'depth': 14, 'random_strength': 0.3641947041891268, 'bagging_temperature': 0.2727768501442011, 'l2_leaf_reg': 2.4456479188804927}. Best is trial 53 with value: 0.6238698606232861.\n",
      "[I 2024-07-10 14:54:34,682] Trial 55 finished with value: 0.6191759023023949 and parameters: {'iterations': 793, 'learning_rate': 0.013755742627764215, 'depth': 6, 'random_strength': 0.38109241800474924, 'bagging_temperature': 0.3684915545281271, 'l2_leaf_reg': 3.0798230910007582}. Best is trial 53 with value: 0.6238698606232861.\n",
      "[I 2024-07-10 14:54:39,777] Trial 56 finished with value: 0.6159176416596047 and parameters: {'iterations': 521, 'learning_rate': 0.024514526657999754, 'depth': 7, 'random_strength': 0.4174699956481885, 'bagging_temperature': 0.4309810253096798, 'l2_leaf_reg': 3.191192283899398}. Best is trial 53 with value: 0.6238698606232861.\n",
      "[I 2024-07-10 14:54:47,298] Trial 57 finished with value: 0.5905167945074221 and parameters: {'iterations': 837, 'learning_rate': 0.060044944652680975, 'depth': 6, 'random_strength': 0.3324339277710917, 'bagging_temperature': 0.21389128716538405, 'l2_leaf_reg': 2.52797880568539}. Best is trial 53 with value: 0.6238698606232861.\n",
      "[I 2024-07-10 14:54:54,690] Trial 58 finished with value: 0.5998024926798095 and parameters: {'iterations': 552, 'learning_rate': 0.034589710593969494, 'depth': 9, 'random_strength': 0.30772132836495225, 'bagging_temperature': 0.35710266547450387, 'l2_leaf_reg': 9.080199794779027}. Best is trial 53 with value: 0.6238698606232861.\n",
      "[I 2024-07-10 14:55:00,560] Trial 59 finished with value: 0.606987951707205 and parameters: {'iterations': 617, 'learning_rate': 0.027670616469143646, 'depth': 7, 'random_strength': 0.4054658002230075, 'bagging_temperature': 0.47048341641049835, 'l2_leaf_reg': 4.530324497940832}. Best is trial 53 with value: 0.6238698606232861.\n",
      "[I 2024-07-10 14:55:06,526] Trial 60 finished with value: 0.5958340652386125 and parameters: {'iterations': 565, 'learning_rate': 0.04298582777185558, 'depth': 7, 'random_strength': 0.3662296038602934, 'bagging_temperature': 0.4225478696545574, 'l2_leaf_reg': 2.289813273470665}. Best is trial 53 with value: 0.6238698606232861.\n",
      "[I 2024-07-10 14:55:11,309] Trial 61 finished with value: 0.6193972372985594 and parameters: {'iterations': 540, 'learning_rate': 0.01334903297122099, 'depth': 6, 'random_strength': 0.443462540579066, 'bagging_temperature': 0.2767230523535553, 'l2_leaf_reg': 2.693688360080196}. Best is trial 53 with value: 0.6238698606232861.\n",
      "[I 2024-07-10 14:55:15,936] Trial 62 finished with value: 0.6213990250502356 and parameters: {'iterations': 524, 'learning_rate': 0.012959398488369016, 'depth': 6, 'random_strength': 0.488442510115641, 'bagging_temperature': 0.34523947071820726, 'l2_leaf_reg': 3.5339566326525995}. Best is trial 53 with value: 0.6238698606232861.\n",
      "[I 2024-07-10 14:55:20,331] Trial 63 finished with value: 0.6214927180185204 and parameters: {'iterations': 528, 'learning_rate': 0.01690795424281075, 'depth': 6, 'random_strength': 0.8731057346429435, 'bagging_temperature': 0.3534975753923011, 'l2_leaf_reg': 3.405495723302212}. Best is trial 53 with value: 0.6238698606232861.\n",
      "[I 2024-07-10 14:55:25,621] Trial 64 finished with value: 0.6120602456829145 and parameters: {'iterations': 573, 'learning_rate': 0.019052768041767483, 'depth': 7, 'random_strength': 0.8765887105943366, 'bagging_temperature': 0.3540454516792717, 'l2_leaf_reg': 3.843183954753438}. Best is trial 53 with value: 0.6238698606232861.\n",
      "[I 2024-07-10 14:55:31,543] Trial 65 finished with value: 0.6110489659363291 and parameters: {'iterations': 519, 'learning_rate': 0.017123627465169437, 'depth': 8, 'random_strength': 0.8736416176325902, 'bagging_temperature': 0.4058485741138832, 'l2_leaf_reg': 3.4111429227554324}. Best is trial 53 with value: 0.6238698606232861.\n",
      "[I 2024-07-10 14:55:36,450] Trial 66 finished with value: 0.6222498559624459 and parameters: {'iterations': 517, 'learning_rate': 0.011805885742070279, 'depth': 6, 'random_strength': 0.8088217855338014, 'bagging_temperature': 0.15518573058601282, 'l2_leaf_reg': 4.290903818823131}. Best is trial 53 with value: 0.6238698606232861.\n",
      "[I 2024-07-10 14:55:41,161] Trial 67 finished with value: 0.6150518718069131 and parameters: {'iterations': 516, 'learning_rate': 0.022493573738324987, 'depth': 6, 'random_strength': 0.9356094553022417, 'bagging_temperature': 0.1454312133671822, 'l2_leaf_reg': 4.278082546124933}. Best is trial 53 with value: 0.6238698606232861.\n",
      "[I 2024-07-10 14:55:48,343] Trial 68 finished with value: 0.5856348956760535 and parameters: {'iterations': 712, 'learning_rate': 0.0715673145806489, 'depth': 7, 'random_strength': 0.956156334222724, 'bagging_temperature': 0.19014901720073296, 'l2_leaf_reg': 4.709185567636208}. Best is trial 53 with value: 0.6238698606232861.\n",
      "[I 2024-07-10 14:56:09,655] Trial 69 finished with value: 0.6137266769126931 and parameters: {'iterations': 594, 'learning_rate': 0.011663880657528528, 'depth': 12, 'random_strength': 0.8765681427116658, 'bagging_temperature': 0.255458483007567, 'l2_leaf_reg': 5.353672399999175}. Best is trial 53 with value: 0.6238698606232861.\n",
      "[I 2024-07-10 14:56:16,814] Trial 70 finished with value: 0.6024038152777411 and parameters: {'iterations': 747, 'learning_rate': 0.029978637638251565, 'depth': 7, 'random_strength': 0.7440338963999514, 'bagging_temperature': 0.15212953221037914, 'l2_leaf_reg': 5.045613982467582}. Best is trial 53 with value: 0.6238698606232861.\n",
      "[I 2024-07-10 14:56:21,518] Trial 71 finished with value: 0.615183614097549 and parameters: {'iterations': 548, 'learning_rate': 0.01606686544649271, 'depth': 6, 'random_strength': 0.8319095022835603, 'bagging_temperature': 0.3359427385083574, 'l2_leaf_reg': 4.2070671772494155}. Best is trial 53 with value: 0.6238698606232861.\n",
      "[I 2024-07-10 14:56:26,374] Trial 72 finished with value: 0.6188570057434967 and parameters: {'iterations': 516, 'learning_rate': 0.010136127377280639, 'depth': 6, 'random_strength': 0.8204524622350277, 'bagging_temperature': 0.2856515057533623, 'l2_leaf_reg': 3.214867551361377}. Best is trial 53 with value: 0.6238698606232861.\n",
      "[I 2024-07-10 14:56:31,480] Trial 73 finished with value: 0.622516780994409 and parameters: {'iterations': 544, 'learning_rate': 0.01967121563024259, 'depth': 6, 'random_strength': 0.33557604109299616, 'bagging_temperature': 0.39193863243653787, 'l2_leaf_reg': 2.1984104430623446}. Best is trial 53 with value: 0.6238698606232861.\n",
      "[I 2024-07-10 14:56:37,419] Trial 74 finished with value: 0.614002182879049 and parameters: {'iterations': 579, 'learning_rate': 0.019608363558263793, 'depth': 7, 'random_strength': 0.7958527096373241, 'bagging_temperature': 0.5108942315765433, 'l2_leaf_reg': 3.7580834773344973}. Best is trial 53 with value: 0.6238698606232861.\n",
      "[I 2024-07-10 14:56:42,652] Trial 75 finished with value: 0.6187563668187519 and parameters: {'iterations': 611, 'learning_rate': 0.016106420397755644, 'depth': 6, 'random_strength': 0.33516351167106373, 'bagging_temperature': 0.3907881286475412, 'l2_leaf_reg': 3.04061204401415}. Best is trial 53 with value: 0.6238698606232861.\n",
      "[I 2024-07-10 15:02:08,562] Trial 76 finished with value: 0.5622004880322261 and parameters: {'iterations': 500, 'learning_rate': 0.012240534329953952, 'depth': 16, 'random_strength': 0.3051973167276289, 'bagging_temperature': 0.5510449168948048, 'l2_leaf_reg': 4.458715944153819}. Best is trial 53 with value: 0.6238698606232861.\n",
      "[I 2024-07-10 15:02:13,065] Trial 77 finished with value: 0.6133704258355506 and parameters: {'iterations': 559, 'learning_rate': 0.025445436165473186, 'depth': 6, 'random_strength': 0.8618052102943117, 'bagging_temperature': 0.5794221056068686, 'l2_leaf_reg': 7.387765046815516}. Best is trial 53 with value: 0.6238698606232861.\n",
      "[I 2024-07-10 15:02:17,740] Trial 78 finished with value: 0.6177883696197463 and parameters: {'iterations': 527, 'learning_rate': 0.02217453269486452, 'depth': 7, 'random_strength': 0.9177979017466107, 'bagging_temperature': 0.24425797719332462, 'l2_leaf_reg': 3.4458948320276406}. Best is trial 53 with value: 0.6238698606232861.\n",
      "[I 2024-07-10 15:02:25,654] Trial 79 finished with value: 0.5741909319043729 and parameters: {'iterations': 872, 'learning_rate': 0.07713486882764545, 'depth': 7, 'random_strength': 0.8121832723091191, 'bagging_temperature': 0.48925357938119785, 'l2_leaf_reg': 2.6343283679005447}. Best is trial 53 with value: 0.6238698606232861.\n",
      "[I 2024-07-10 15:02:46,021] Trial 80 finished with value: 0.5954702040266897 and parameters: {'iterations': 929, 'learning_rate': 0.018034234803367903, 'depth': 11, 'random_strength': 0.9804268984148283, 'bagging_temperature': 0.10704528626135423, 'l2_leaf_reg': 5.007359021196297}. Best is trial 53 with value: 0.6238698606232861.\n",
      "[I 2024-07-10 15:02:50,617] Trial 81 finished with value: 0.6184862494657375 and parameters: {'iterations': 544, 'learning_rate': 0.013004845018276086, 'depth': 6, 'random_strength': 0.3514170393178369, 'bagging_temperature': 0.38006402123407224, 'l2_leaf_reg': 2.1669969627885464}. Best is trial 53 with value: 0.6238698606232861.\n",
      "[I 2024-07-10 15:02:54,960] Trial 82 finished with value: 0.6190194200384096 and parameters: {'iterations': 535, 'learning_rate': 0.015637441035333658, 'depth': 6, 'random_strength': 0.37733066745042804, 'bagging_temperature': 0.3411437273806809, 'l2_leaf_reg': 3.994805914424924}. Best is trial 53 with value: 0.6238698606232861.\n",
      "[I 2024-07-10 15:02:59,587] Trial 83 finished with value: 0.6218795993638737 and parameters: {'iterations': 574, 'learning_rate': 0.012188842143770648, 'depth': 6, 'random_strength': 0.5617223915829471, 'bagging_temperature': 0.41735580686788465, 'l2_leaf_reg': 2.3772698141848183}. Best is trial 53 with value: 0.6238698606232861.\n",
      "[I 2024-07-10 15:03:03,881] Trial 84 finished with value: 0.6188103886616554 and parameters: {'iterations': 515, 'learning_rate': 0.019989054256128794, 'depth': 6, 'random_strength': 0.507994482974912, 'bagging_temperature': 0.41242502536429104, 'l2_leaf_reg': 2.3383548414144877}. Best is trial 53 with value: 0.6238698606232861.\n",
      "[I 2024-07-10 15:03:08,894] Trial 85 finished with value: 0.6225306230685795 and parameters: {'iterations': 573, 'learning_rate': 0.01195686486475217, 'depth': 7, 'random_strength': 0.5626167206913832, 'bagging_temperature': 0.6385318132237537, 'l2_leaf_reg': 5.803868072668102}. Best is trial 53 with value: 0.6238698606232861.\n",
      "[I 2024-07-10 15:03:14,737] Trial 86 finished with value: 0.6186476314914978 and parameters: {'iterations': 572, 'learning_rate': 0.017921290000707506, 'depth': 8, 'random_strength': 0.5501368121605925, 'bagging_temperature': 0.44904172810197107, 'l2_leaf_reg': 7.1849374339678755}. Best is trial 53 with value: 0.6238698606232861.\n",
      "[I 2024-07-10 15:03:20,075] Trial 87 finished with value: 0.6217084148600487 and parameters: {'iterations': 657, 'learning_rate': 0.012049862564364813, 'depth': 6, 'random_strength': 0.5775003883466994, 'bagging_temperature': 0.3009223252775956, 'l2_leaf_reg': 6.476627590212812}. Best is trial 53 with value: 0.6238698606232861.\n",
      "[I 2024-07-10 15:03:25,300] Trial 88 finished with value: 0.6030274175339563 and parameters: {'iterations': 627, 'learning_rate': 0.05045221382265476, 'depth': 6, 'random_strength': 0.5759218470092599, 'bagging_temperature': 0.17347754979700755, 'l2_leaf_reg': 6.096198192393001}. Best is trial 53 with value: 0.6238698606232861.\n",
      "[I 2024-07-10 15:03:30,054] Trial 89 finished with value: 0.6200035371141477 and parameters: {'iterations': 590, 'learning_rate': 0.02263085656200553, 'depth': 6, 'random_strength': 0.6254269388822163, 'bagging_temperature': 0.28933698289614396, 'l2_leaf_reg': 6.572787666525555}. Best is trial 53 with value: 0.6238698606232861.\n",
      "[I 2024-07-10 15:03:35,499] Trial 90 finished with value: 0.6195720004254286 and parameters: {'iterations': 652, 'learning_rate': 0.015537234594781674, 'depth': 6, 'random_strength': 0.5674123800382278, 'bagging_temperature': 0.30428255350448824, 'l2_leaf_reg': 6.331169604780622}. Best is trial 53 with value: 0.6238698606232861.\n",
      "[I 2024-07-10 15:03:40,589] Trial 91 finished with value: 0.6222746175526974 and parameters: {'iterations': 558, 'learning_rate': 0.011716696687560627, 'depth': 7, 'random_strength': 0.5175015602564192, 'bagging_temperature': 0.43603275308208567, 'l2_leaf_reg': 5.904086258979013}. Best is trial 53 with value: 0.6238698606232861.\n",
      "[I 2024-07-10 15:03:45,725] Trial 92 finished with value: 0.6216630519923438 and parameters: {'iterations': 556, 'learning_rate': 0.012944547240098213, 'depth': 7, 'random_strength': 0.6558263273750092, 'bagging_temperature': 0.32993094942636025, 'l2_leaf_reg': 5.700042739732115}. Best is trial 53 with value: 0.6238698606232861.\n",
      "[I 2024-07-10 15:03:51,556] Trial 93 finished with value: 0.6186265523314823 and parameters: {'iterations': 669, 'learning_rate': 0.011493592849105323, 'depth': 7, 'random_strength': 0.6510058153494414, 'bagging_temperature': 0.21971595943122763, 'l2_leaf_reg': 5.7445542291547635}. Best is trial 53 with value: 0.6238698606232861.\n",
      "[I 2024-07-10 15:03:56,622] Trial 94 finished with value: 0.6173303575910123 and parameters: {'iterations': 558, 'learning_rate': 0.01546370439091736, 'depth': 7, 'random_strength': 0.590693060622548, 'bagging_temperature': 0.4398283487104325, 'l2_leaf_reg': 5.889633824939145}. Best is trial 53 with value: 0.6238698606232861.\n",
      "[I 2024-07-10 15:04:02,025] Trial 95 finished with value: 0.5811329111457578 and parameters: {'iterations': 608, 'learning_rate': 0.09335485113251632, 'depth': 7, 'random_strength': 0.6084384066408234, 'bagging_temperature': 0.5330311061391986, 'l2_leaf_reg': 6.340520070851283}. Best is trial 53 with value: 0.6238698606232861.\n",
      "[I 2024-07-10 15:04:06,852] Trial 96 finished with value: 0.6189043815738664 and parameters: {'iterations': 583, 'learning_rate': 0.02069321294006554, 'depth': 6, 'random_strength': 0.5567629096263343, 'bagging_temperature': 0.32712212198459645, 'l2_leaf_reg': 5.460768787879042}. Best is trial 53 with value: 0.6238698606232861.\n",
      "[I 2024-07-10 15:04:12,504] Trial 97 finished with value: 0.6203043298926337 and parameters: {'iterations': 640, 'learning_rate': 0.01241118225527299, 'depth': 7, 'random_strength': 0.5310902968066467, 'bagging_temperature': 0.4226202951249464, 'l2_leaf_reg': 6.7875355012827105}. Best is trial 53 with value: 0.6238698606232861.\n",
      "[I 2024-07-10 15:06:17,192] Trial 98 finished with value: 0.5857152627291706 and parameters: {'iterations': 569, 'learning_rate': 0.018386813495526524, 'depth': 15, 'random_strength': 0.7079419859704429, 'bagging_temperature': 0.6289544551546615, 'l2_leaf_reg': 5.576016379282043}. Best is trial 53 with value: 0.6238698606232861.\n",
      "[I 2024-07-10 15:06:23,681] Trial 99 finished with value: 0.6163435858478223 and parameters: {'iterations': 807, 'learning_rate': 0.014957213941797557, 'depth': 6, 'random_strength': 0.642630055070634, 'bagging_temperature': 0.2559726130420136, 'l2_leaf_reg': 6.897679319817302}. Best is trial 53 with value: 0.6238698606232861.\n"
     ]
    }
   ],
   "source": [
    "study = optuna.create_study(direction='maximize')\n",
    "study.optimize(objective, n_trials=100, show_progress_bar=True)"
   ]
  },
  {
   "cell_type": "code",
   "execution_count": 29,
   "id": "d08f6ab5-62c1-435d-9f71-ab5c581e4dcf",
   "metadata": {},
   "outputs": [
    {
     "name": "stdout",
     "output_type": "stream",
     "text": [
      "Best trial: FrozenTrial(number=53, state=1, values=[0.6238698606232861], datetime_start=datetime.datetime(2024, 7, 10, 14, 52, 53, 492397), datetime_complete=datetime.datetime(2024, 7, 10, 14, 52, 58, 809779), params={'iterations': 545, 'learning_rate': 0.013560631530876574, 'depth': 6, 'random_strength': 0.3660344916841721, 'bagging_temperature': 0.2722303737601264, 'l2_leaf_reg': 2.548492629309027}, user_attrs={}, system_attrs={}, intermediate_values={}, distributions={'iterations': IntDistribution(high=1000, log=False, low=500, step=1), 'learning_rate': FloatDistribution(high=0.1, log=False, low=0.01, step=None), 'depth': IntDistribution(high=16, log=False, low=6, step=1), 'random_strength': FloatDistribution(high=1.0, log=False, low=0.3, step=None), 'bagging_temperature': FloatDistribution(high=1.0, log=False, low=0.1, step=None), 'l2_leaf_reg': FloatDistribution(high=10.0, log=False, low=2.0, step=None)}, trial_id=53, value=None)\n",
      "Best hyperparameters: {'iterations': 545, 'learning_rate': 0.013560631530876574, 'depth': 6, 'random_strength': 0.3660344916841721, 'bagging_temperature': 0.2722303737601264, 'l2_leaf_reg': 2.548492629309027}\n"
     ]
    }
   ],
   "source": [
    "print(\"Best trial:\", study.best_trial)\n",
    "print(\"Best hyperparameters:\", study.best_params)"
   ]
  },
  {
   "cell_type": "code",
   "execution_count": null,
   "id": "3ea07b18-ac4e-4689-82a6-b73a406cea6d",
   "metadata": {},
   "outputs": [],
   "source": []
  }
 ],
 "metadata": {
  "kernelspec": {
   "display_name": "Python 3 (ipykernel)",
   "language": "python",
   "name": "python3"
  },
  "language_info": {
   "codemirror_mode": {
    "name": "ipython",
    "version": 3
   },
   "file_extension": ".py",
   "mimetype": "text/x-python",
   "name": "python",
   "nbconvert_exporter": "python",
   "pygments_lexer": "ipython3",
   "version": "3.11.5"
  }
 },
 "nbformat": 4,
 "nbformat_minor": 5
}

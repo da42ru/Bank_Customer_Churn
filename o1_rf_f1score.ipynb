{
 "cells": [
  {
   "cell_type": "markdown",
   "id": "b8305d2b-05a2-4c03-96c1-41a8ed3e3f4e",
   "metadata": {},
   "source": [
    "## Random Forest Hyperparameter Tuning (F1-Score)"
   ]
  },
  {
   "cell_type": "code",
   "execution_count": 4,
   "id": "1737f07b-25d7-4e9a-950e-c41ea036b4c4",
   "metadata": {
    "tags": []
   },
   "outputs": [],
   "source": [
    "# Load Libraries\n",
    "\n",
    "import pandas as pd\n",
    "import numpy as np\n",
    "\n",
    "from sklearn.model_selection import train_test_split, StratifiedKFold\n",
    "from sklearn.metrics import f1_score\n",
    "\n",
    "from sklearn.ensemble import RandomForestClassifier\n",
    "\n",
    "import optuna"
   ]
  },
  {
   "cell_type": "code",
   "execution_count": 5,
   "id": "34b40b44-1c92-4b9d-ad57-3cddb44f6f0f",
   "metadata": {
    "tags": []
   },
   "outputs": [],
   "source": [
    "# Load Data\n",
    "\n",
    "df = pd.read_csv('bank_4.csv', index_col=0)"
   ]
  },
  {
   "cell_type": "code",
   "execution_count": 6,
   "id": "e25031a8-fef1-4150-86e7-8b7e22f0a9bb",
   "metadata": {
    "tags": []
   },
   "outputs": [],
   "source": [
    "# Train / Test Split\n",
    "\n",
    "X = df.drop(columns=['churn', 'complain', 'umap_1', 'umap_2'])\n",
    "y = df['churn']\n",
    "\n",
    "X_train, X_test, y_train, y_test = train_test_split(X, y, test_size=0.2, stratify=y, random_state=42)"
   ]
  },
  {
   "cell_type": "code",
   "execution_count": 7,
   "id": "2b530e97-2bc3-4b3d-b9f8-eb4ed610ff66",
   "metadata": {
    "tags": []
   },
   "outputs": [],
   "source": [
    "# Hyperparameter tuning\n",
    "\n",
    "def objective(trial):\n",
    "    \n",
    "    params = {\n",
    "        'n_estimators': trial.suggest_int('n_estimators', 100, 2000),\n",
    "        'max_features': trial.suggest_int('max_features', 4, 53),\n",
    "        'max_depth': trial.suggest_int('max_depth', 2, 50),\n",
    "        'min_samples_split': trial.suggest_int('min_samples_split', 2, 32),\n",
    "        'min_samples_leaf': trial.suggest_int('min_samples_leaf', 1, 32)\n",
    "    }\n",
    "\n",
    "    model = RandomForestClassifier(\n",
    "        **params,\n",
    "        random_state=42,\n",
    "        n_jobs=-1)\n",
    "    \n",
    "    threshold = 0.34\n",
    "    \n",
    "    skf = StratifiedKFold(n_splits=5, random_state=42, shuffle=True)\n",
    "    scores = []\n",
    "    \n",
    "    for tr, te in skf.split(X_train, y_train):\n",
    "        \n",
    "        X_tr, X_te = X_train.iloc[tr], X_train.iloc[te]\n",
    "        y_tr, y_te = y_train.iloc[tr], y_train.iloc[te]\n",
    "        \n",
    "        model.fit(X_tr, y_tr)\n",
    "        prob = model.predict_proba(X_te)[:, 1]\n",
    "        y_pred = np.where(prob < threshold, 0, 1)\n",
    "        \n",
    "        scores.append(f1_score(y_te, y_pred))\n",
    "        \n",
    "    return np.mean(scores)"
   ]
  },
  {
   "cell_type": "code",
   "execution_count": 8,
   "id": "eb85a387-214c-480a-8a96-d69570dcbce9",
   "metadata": {
    "tags": []
   },
   "outputs": [
    {
     "name": "stderr",
     "output_type": "stream",
     "text": [
      "[I 2024-07-09 22:46:32,374] A new study created in memory with name: no-name-57b4f9c1-fb6c-4e79-abc8-72ad457831c4\n"
     ]
    },
    {
     "data": {
      "application/vnd.jupyter.widget-view+json": {
       "model_id": "484fc59addd84a0fa43c0459630d2e78",
       "version_major": 2,
       "version_minor": 0
      },
      "text/plain": [
       "  0%|          | 0/100 [00:00<?, ?it/s]"
      ]
     },
     "metadata": {},
     "output_type": "display_data"
    },
    {
     "name": "stdout",
     "output_type": "stream",
     "text": [
      "[I 2024-07-09 22:46:41,811] Trial 0 finished with value: 0.6190332227272812 and parameters: {'n_estimators': 741, 'max_features': 12, 'max_depth': 34, 'min_samples_split': 9, 'min_samples_leaf': 16}. Best is trial 0 with value: 0.6190332227272812.\n",
      "[I 2024-07-09 22:47:08,186] Trial 1 finished with value: 0.6164309027765146 and parameters: {'n_estimators': 1832, 'max_features': 37, 'max_depth': 46, 'min_samples_split': 29, 'min_samples_leaf': 14}. Best is trial 0 with value: 0.6190332227272812.\n",
      "[I 2024-07-09 22:47:16,041] Trial 2 finished with value: 0.6171337233737887 and parameters: {'n_estimators': 555, 'max_features': 19, 'max_depth': 46, 'min_samples_split': 8, 'min_samples_leaf': 17}. Best is trial 0 with value: 0.6190332227272812.\n",
      "[I 2024-07-09 22:47:39,626] Trial 3 finished with value: 0.6176841168328293 and parameters: {'n_estimators': 1715, 'max_features': 30, 'max_depth': 9, 'min_samples_split': 29, 'min_samples_leaf': 11}. Best is trial 0 with value: 0.6190332227272812.\n",
      "[I 2024-07-09 22:47:47,807] Trial 4 finished with value: 0.6039437346152651 and parameters: {'n_estimators': 804, 'max_features': 5, 'max_depth': 25, 'min_samples_split': 32, 'min_samples_leaf': 27}. Best is trial 0 with value: 0.6190332227272812.\n",
      "[I 2024-07-09 22:48:16,461] Trial 5 finished with value: 0.6128797333183729 and parameters: {'n_estimators': 1957, 'max_features': 46, 'max_depth': 12, 'min_samples_split': 2, 'min_samples_leaf': 25}. Best is trial 0 with value: 0.6190332227272812.\n",
      "[I 2024-07-09 22:48:43,795] Trial 6 finished with value: 0.6179234229374652 and parameters: {'n_estimators': 1929, 'max_features': 17, 'max_depth': 38, 'min_samples_split': 20, 'min_samples_leaf': 15}. Best is trial 0 with value: 0.6190332227272812.\n",
      "[I 2024-07-09 22:48:52,837] Trial 7 finished with value: 0.6178007717811628 and parameters: {'n_estimators': 579, 'max_features': 22, 'max_depth': 35, 'min_samples_split': 6, 'min_samples_leaf': 21}. Best is trial 0 with value: 0.6190332227272812.\n",
      "[I 2024-07-09 22:49:05,115] Trial 8 finished with value: 0.6160793022398379 and parameters: {'n_estimators': 914, 'max_features': 8, 'max_depth': 44, 'min_samples_split': 19, 'min_samples_leaf': 1}. Best is trial 0 with value: 0.6190332227272812.\n",
      "[I 2024-07-09 22:49:16,243] Trial 9 finished with value: 0.6184694603715701 and parameters: {'n_estimators': 720, 'max_features': 36, 'max_depth': 22, 'min_samples_split': 7, 'min_samples_leaf': 13}. Best is trial 0 with value: 0.6190332227272812.\n",
      "[I 2024-07-09 22:49:19,463] Trial 10 finished with value: 0.6105326393223314 and parameters: {'n_estimators': 215, 'max_features': 13, 'max_depth': 17, 'min_samples_split': 14, 'min_samples_leaf': 5}. Best is trial 0 with value: 0.6190332227272812.\n",
      "[I 2024-07-09 22:49:40,308] Trial 11 finished with value: 0.6166487821729428 and parameters: {'n_estimators': 1264, 'max_features': 38, 'max_depth': 26, 'min_samples_split': 12, 'min_samples_leaf': 10}. Best is trial 0 with value: 0.6190332227272812.\n",
      "[I 2024-07-09 22:49:58,533] Trial 12 finished with value: 0.6023939513331137 and parameters: {'n_estimators': 1303, 'max_features': 53, 'max_depth': 33, 'min_samples_split': 8, 'min_samples_leaf': 32}. Best is trial 0 with value: 0.6190332227272812.\n",
      "[I 2024-07-09 22:50:02,480] Trial 13 finished with value: 0.6154940087524123 and parameters: {'n_estimators': 260, 'max_features': 28, 'max_depth': 19, 'min_samples_split': 3, 'min_samples_leaf': 21}. Best is trial 0 with value: 0.6190332227272812.\n",
      "[I 2024-07-09 22:50:12,089] Trial 14 finished with value: 0.6181328263547007 and parameters: {'n_estimators': 568, 'max_features': 34, 'max_depth': 29, 'min_samples_split': 13, 'min_samples_leaf': 9}. Best is trial 0 with value: 0.6190332227272812.\n",
      "[I 2024-07-09 22:50:30,393] Trial 15 finished with value: 0.617091013950881 and parameters: {'n_estimators': 1224, 'max_features': 45, 'max_depth': 19, 'min_samples_split': 23, 'min_samples_leaf': 19}. Best is trial 0 with value: 0.6190332227272812.\n",
      "[I 2024-07-09 22:50:39,156] Trial 16 finished with value: 0.5224147452312723 and parameters: {'n_estimators': 806, 'max_features': 26, 'max_depth': 3, 'min_samples_split': 10, 'min_samples_leaf': 7}. Best is trial 0 with value: 0.6190332227272812.\n",
      "[I 2024-07-09 22:50:59,963] Trial 17 finished with value: 0.6180371748426559 and parameters: {'n_estimators': 1503, 'max_features': 12, 'max_depth': 40, 'min_samples_split': 16, 'min_samples_leaf': 13}. Best is trial 0 with value: 0.6190332227272812.\n",
      "[I 2024-07-09 22:51:17,344] Trial 18 finished with value: 0.6036263354022979 and parameters: {'n_estimators': 1010, 'max_features': 41, 'max_depth': 32, 'min_samples_split': 6, 'min_samples_leaf': 4}. Best is trial 0 with value: 0.6190332227272812.\n",
      "[I 2024-07-09 22:51:22,809] Trial 19 finished with value: 0.6174996014282881 and parameters: {'n_estimators': 376, 'max_features': 22, 'max_depth': 24, 'min_samples_split': 5, 'min_samples_leaf': 18}. Best is trial 0 with value: 0.6190332227272812.\n",
      "[I 2024-07-09 22:51:34,033] Trial 20 finished with value: 0.6161050842943672 and parameters: {'n_estimators': 752, 'max_features': 34, 'max_depth': 50, 'min_samples_split': 10, 'min_samples_leaf': 23}. Best is trial 0 with value: 0.6190332227272812.\n",
      "[I 2024-07-09 22:51:43,602] Trial 21 finished with value: 0.6172650101380586 and parameters: {'n_estimators': 545, 'max_features': 32, 'max_depth': 28, 'min_samples_split': 13, 'min_samples_leaf': 9}. Best is trial 0 with value: 0.6190332227272812.\n",
      "[I 2024-07-09 22:51:45,395] Trial 22 finished with value: 0.6155087232849809 and parameters: {'n_estimators': 100, 'max_features': 42, 'max_depth': 30, 'min_samples_split': 16, 'min_samples_leaf': 13}. Best is trial 0 with value: 0.6190332227272812.\n",
      "[I 2024-07-09 22:51:56,495] Trial 23 finished with value: 0.615670056279936 and parameters: {'n_estimators': 628, 'max_features': 35, 'max_depth': 22, 'min_samples_split': 10, 'min_samples_leaf': 8}. Best is trial 0 with value: 0.6190332227272812.\n",
      "[I 2024-07-09 22:52:03,120] Trial 24 finished with value: 0.6185120191924441 and parameters: {'n_estimators': 414, 'max_features': 25, 'max_depth': 36, 'min_samples_split': 13, 'min_samples_leaf': 12}. Best is trial 0 with value: 0.6190332227272812.\n",
      "[I 2024-07-09 22:52:08,633] Trial 25 finished with value: 0.6167354415247092 and parameters: {'n_estimators': 368, 'max_features': 25, 'max_depth': 38, 'min_samples_split': 8, 'min_samples_leaf': 12}. Best is trial 0 with value: 0.6190332227272812.\n",
      "[I 2024-07-09 22:52:14,676] Trial 26 finished with value: 0.62004842316758 and parameters: {'n_estimators': 415, 'max_features': 15, 'max_depth': 35, 'min_samples_split': 4, 'min_samples_leaf': 16}. Best is trial 26 with value: 0.62004842316758.\n",
      "[I 2024-07-09 22:52:20,803] Trial 27 finished with value: 0.6174148378036499 and parameters: {'n_estimators': 396, 'max_features': 14, 'max_depth': 41, 'min_samples_split': 4, 'min_samples_leaf': 16}. Best is trial 26 with value: 0.62004842316758.\n",
      "[I 2024-07-09 22:52:34,384] Trial 28 finished with value: 0.6081485770743544 and parameters: {'n_estimators': 1108, 'max_features': 7, 'max_depth': 36, 'min_samples_split': 19, 'min_samples_leaf': 20}. Best is trial 26 with value: 0.62004842316758.\n",
      "[I 2024-07-09 22:52:40,623] Trial 29 finished with value: 0.6198152261800252 and parameters: {'n_estimators': 437, 'max_features': 16, 'max_depth': 42, 'min_samples_split': 22, 'min_samples_leaf': 16}. Best is trial 26 with value: 0.62004842316758.\n",
      "[I 2024-07-09 22:52:42,215] Trial 30 finished with value: 0.615038742206713 and parameters: {'n_estimators': 112, 'max_features': 10, 'max_depth': 43, 'min_samples_split': 24, 'min_samples_leaf': 15}. Best is trial 26 with value: 0.62004842316758.\n",
      "[I 2024-07-09 22:52:49,005] Trial 31 finished with value: 0.6185988700568894 and parameters: {'n_estimators': 444, 'max_features': 17, 'max_depth': 49, 'min_samples_split': 23, 'min_samples_leaf': 17}. Best is trial 26 with value: 0.62004842316758.\n",
      "[I 2024-07-09 22:52:56,166] Trial 32 finished with value: 0.61854606214388 and parameters: {'n_estimators': 483, 'max_features': 18, 'max_depth': 48, 'min_samples_split': 25, 'min_samples_leaf': 17}. Best is trial 26 with value: 0.62004842316758.\n",
      "[I 2024-07-09 22:53:00,559] Trial 33 finished with value: 0.6155655884282345 and parameters: {'n_estimators': 291, 'max_features': 16, 'max_depth': 45, 'min_samples_split': 27, 'min_samples_leaf': 23}. Best is trial 26 with value: 0.62004842316758.\n",
      "[I 2024-07-09 22:53:10,999] Trial 34 finished with value: 0.6177769550717018 and parameters: {'n_estimators': 680, 'max_features': 21, 'max_depth': 48, 'min_samples_split': 22, 'min_samples_leaf': 17}. Best is trial 26 with value: 0.62004842316758.\n",
      "[I 2024-07-09 22:53:22,871] Trial 35 finished with value: 0.620031469937326 and parameters: {'n_estimators': 923, 'max_features': 10, 'max_depth': 41, 'min_samples_split': 28, 'min_samples_leaf': 15}. Best is trial 26 with value: 0.62004842316758.\n",
      "[I 2024-07-09 22:53:32,106] Trial 36 finished with value: 0.6015282031579197 and parameters: {'n_estimators': 870, 'max_features': 4, 'max_depth': 41, 'min_samples_split': 28, 'min_samples_leaf': 14}. Best is trial 26 with value: 0.62004842316758.\n",
      "[I 2024-07-09 22:53:43,832] Trial 37 finished with value: 0.6104872878183165 and parameters: {'n_estimators': 973, 'max_features': 9, 'max_depth': 33, 'min_samples_split': 26, 'min_samples_leaf': 28}. Best is trial 26 with value: 0.62004842316758.\n",
      "[I 2024-07-09 22:53:58,281] Trial 38 finished with value: 0.6154429848095663 and parameters: {'n_estimators': 1082, 'max_features': 11, 'max_depth': 38, 'min_samples_split': 30, 'min_samples_leaf': 15}. Best is trial 26 with value: 0.62004842316758.\n",
      "[I 2024-07-09 22:54:10,341] Trial 39 finished with value: 0.6170830385732453 and parameters: {'n_estimators': 848, 'max_features': 15, 'max_depth': 43, 'min_samples_split': 30, 'min_samples_leaf': 19}. Best is trial 26 with value: 0.62004842316758.\n",
      "[I 2024-07-09 22:54:18,300] Trial 40 finished with value: 0.6098826735419013 and parameters: {'n_estimators': 681, 'max_features': 8, 'max_depth': 39, 'min_samples_split': 32, 'min_samples_leaf': 23}. Best is trial 26 with value: 0.62004842316758.\n",
      "[I 2024-07-09 22:54:26,356] Trial 41 finished with value: 0.6194435509998457 and parameters: {'n_estimators': 485, 'max_features': 19, 'max_depth': 46, 'min_samples_split': 22, 'min_samples_leaf': 16}. Best is trial 26 with value: 0.62004842316758.\n",
      "[I 2024-07-09 22:54:34,479] Trial 42 finished with value: 0.620047382552497 and parameters: {'n_estimators': 519, 'max_features': 19, 'max_depth': 44, 'min_samples_split': 21, 'min_samples_leaf': 11}. Best is trial 26 with value: 0.62004842316758.\n",
      "[I 2024-07-09 22:54:38,088] Trial 43 finished with value: 0.6175893653706278 and parameters: {'n_estimators': 206, 'max_features': 20, 'max_depth': 46, 'min_samples_split': 21, 'min_samples_leaf': 11}. Best is trial 26 with value: 0.62004842316758.\n",
      "[I 2024-07-09 22:54:45,234] Trial 44 finished with value: 0.6202670920058073 and parameters: {'n_estimators': 512, 'max_features': 13, 'max_depth': 42, 'min_samples_split': 18, 'min_samples_leaf': 15}. Best is trial 44 with value: 0.6202670920058073.\n",
      "[I 2024-07-09 22:55:02,715] Trial 45 finished with value: 0.6109399495575701 and parameters: {'n_estimators': 1561, 'max_features': 6, 'max_depth': 42, 'min_samples_split': 18, 'min_samples_leaf': 11}. Best is trial 44 with value: 0.6202670920058073.\n",
      "[I 2024-07-09 22:55:06,661] Trial 46 finished with value: 0.6197436681617929 and parameters: {'n_estimators': 298, 'max_features': 13, 'max_depth': 36, 'min_samples_split': 20, 'min_samples_leaf': 14}. Best is trial 44 with value: 0.6202670920058073.\n",
      "[I 2024-07-09 22:55:16,237] Trial 47 finished with value: 0.6138863350875129 and parameters: {'n_estimators': 608, 'max_features': 23, 'max_depth': 45, 'min_samples_split': 17, 'min_samples_leaf': 6}. Best is trial 44 with value: 0.6202670920058073.\n",
      "[I 2024-07-09 22:55:22,777] Trial 48 finished with value: 0.6205821476984937 and parameters: {'n_estimators': 494, 'max_features': 15, 'max_depth': 40, 'min_samples_split': 25, 'min_samples_leaf': 19}. Best is trial 48 with value: 0.6205821476984937.\n",
      "[I 2024-07-09 22:55:28,955] Trial 49 finished with value: 0.6171648821817314 and parameters: {'n_estimators': 522, 'max_features': 11, 'max_depth': 34, 'min_samples_split': 26, 'min_samples_leaf': 21}. Best is trial 48 with value: 0.6205821476984937.\n",
      "[I 2024-07-09 22:55:38,478] Trial 50 finished with value: 0.617727856692502 and parameters: {'n_estimators': 744, 'max_features': 14, 'max_depth': 39, 'min_samples_split': 15, 'min_samples_leaf': 19}. Best is trial 48 with value: 0.6205821476984937.\n",
      "[I 2024-07-09 22:55:43,049] Trial 51 finished with value: 0.6162055388505724 and parameters: {'n_estimators': 324, 'max_features': 16, 'max_depth': 42, 'min_samples_split': 24, 'min_samples_leaf': 15}. Best is trial 48 with value: 0.6205821476984937.\n",
      "[I 2024-07-09 22:55:45,974] Trial 52 finished with value: 0.6180847360636658 and parameters: {'n_estimators': 190, 'max_features': 19, 'max_depth': 44, 'min_samples_split': 20, 'min_samples_leaf': 18}. Best is trial 48 with value: 0.6205821476984937.\n",
      "[I 2024-07-09 22:55:54,146] Trial 53 finished with value: 0.6185299751429748 and parameters: {'n_estimators': 627, 'max_features': 12, 'max_depth': 37, 'min_samples_split': 18, 'min_samples_leaf': 12}. Best is trial 48 with value: 0.6205821476984937.\n",
      "[I 2024-07-09 22:56:00,475] Trial 54 finished with value: 0.6172935080843518 and parameters: {'n_estimators': 453, 'max_features': 15, 'max_depth': 40, 'min_samples_split': 29, 'min_samples_leaf': 10}. Best is trial 48 with value: 0.6205821476984937.\n",
      "[I 2024-07-09 22:56:14,081] Trial 55 finished with value: 0.6201036238349114 and parameters: {'n_estimators': 1170, 'max_features': 9, 'max_depth': 47, 'min_samples_split': 21, 'min_samples_leaf': 14}. Best is trial 48 with value: 0.6205821476984937.\n",
      "[I 2024-07-09 22:56:26,030] Trial 56 finished with value: 0.6081552860970965 and parameters: {'n_estimators': 1132, 'max_features': 6, 'max_depth': 47, 'min_samples_split': 25, 'min_samples_leaf': 14}. Best is trial 48 with value: 0.6205821476984937.\n",
      "[I 2024-07-09 22:56:36,989] Trial 57 finished with value: 0.6115258685204032 and parameters: {'n_estimators': 992, 'max_features': 8, 'max_depth': 44, 'min_samples_split': 2, 'min_samples_leaf': 21}. Best is trial 48 with value: 0.6205821476984937.\n",
      "[I 2024-07-09 22:56:53,051] Trial 58 finished with value: 0.6163475747326059 and parameters: {'n_estimators': 1379, 'max_features': 10, 'max_depth': 31, 'min_samples_split': 21, 'min_samples_leaf': 18}. Best is trial 48 with value: 0.6205821476984937.\n",
      "[I 2024-07-09 22:57:07,644] Trial 59 finished with value: 0.6066524224993514 and parameters: {'n_estimators': 1368, 'max_features': 4, 'max_depth': 50, 'min_samples_split': 19, 'min_samples_leaf': 1}. Best is trial 48 with value: 0.6205821476984937.\n",
      "[I 2024-07-09 22:57:34,383] Trial 60 finished with value: 0.6121336903566295 and parameters: {'n_estimators': 1786, 'max_features': 29, 'max_depth': 11, 'min_samples_split': 27, 'min_samples_leaf': 3}. Best is trial 48 with value: 0.6205821476984937.\n",
      "[I 2024-07-09 22:57:49,645] Trial 61 finished with value: 0.6169165000429068 and parameters: {'n_estimators': 1191, 'max_features': 13, 'max_depth': 41, 'min_samples_split': 22, 'min_samples_leaf': 16}. Best is trial 48 with value: 0.6205821476984937.\n",
      "[I 2024-07-09 22:57:57,275] Trial 62 finished with value: 0.618550746775601 and parameters: {'n_estimators': 530, 'max_features': 17, 'max_depth': 47, 'min_samples_split': 23, 'min_samples_leaf': 13}. Best is trial 48 with value: 0.6205821476984937.\n",
      "[I 2024-07-09 22:58:11,398] Trial 63 finished with value: 0.6179001571569614 and parameters: {'n_estimators': 917, 'max_features': 53, 'max_depth': 43, 'min_samples_split': 24, 'min_samples_leaf': 15}. Best is trial 48 with value: 0.6205821476984937.\n",
      "[I 2024-07-09 22:58:16,210] Trial 64 finished with value: 0.6178921256200713 and parameters: {'n_estimators': 374, 'max_features': 11, 'max_depth': 39, 'min_samples_split': 21, 'min_samples_leaf': 11}. Best is trial 48 with value: 0.6205821476984937.\n",
      "[I 2024-07-09 22:58:27,365] Trial 65 finished with value: 0.617741220966429 and parameters: {'n_estimators': 781, 'max_features': 23, 'max_depth': 45, 'min_samples_split': 17, 'min_samples_leaf': 20}. Best is trial 48 with value: 0.6205821476984937.\n",
      "[I 2024-07-09 22:58:34,414] Trial 66 finished with value: 0.6177506358361037 and parameters: {'n_estimators': 568, 'max_features': 9, 'max_depth': 42, 'min_samples_split': 18, 'min_samples_leaf': 9}. Best is trial 48 with value: 0.6205821476984937.\n",
      "[I 2024-07-09 22:58:40,450] Trial 67 finished with value: 0.5224147452312723 and parameters: {'n_estimators': 687, 'max_features': 15, 'max_depth': 2, 'min_samples_split': 25, 'min_samples_leaf': 14}. Best is trial 48 with value: 0.6205821476984937.\n",
      "[I 2024-07-09 22:58:45,531] Trial 68 finished with value: 0.6168457714761757 and parameters: {'n_estimators': 340, 'max_features': 18, 'max_depth': 35, 'min_samples_split': 23, 'min_samples_leaf': 17}. Best is trial 48 with value: 0.6205821476984937.\n",
      "[I 2024-07-09 22:58:48,927] Trial 69 finished with value: 0.6201151245364368 and parameters: {'n_estimators': 249, 'max_features': 13, 'max_depth': 48, 'min_samples_split': 16, 'min_samples_leaf': 13}. Best is trial 48 with value: 0.6205821476984937.\n",
      "[I 2024-07-09 22:58:51,115] Trial 70 finished with value: 0.615964689993198 and parameters: {'n_estimators': 156, 'max_features': 13, 'max_depth': 49, 'min_samples_split': 15, 'min_samples_leaf': 8}. Best is trial 48 with value: 0.6205821476984937.\n",
      "[I 2024-07-09 22:58:54,307] Trial 71 finished with value: 0.620448966792425 and parameters: {'n_estimators': 248, 'max_features': 12, 'max_depth': 47, 'min_samples_split': 19, 'min_samples_leaf': 13}. Best is trial 48 with value: 0.6205821476984937.\n",
      "[I 2024-07-09 22:58:57,082] Trial 72 finished with value: 0.6178366294634315 and parameters: {'n_estimators': 222, 'max_features': 10, 'max_depth': 48, 'min_samples_split': 12, 'min_samples_leaf': 12}. Best is trial 48 with value: 0.6205821476984937.\n",
      "[I 2024-07-09 22:58:59,023] Trial 73 finished with value: 0.6142349949690971 and parameters: {'n_estimators': 156, 'max_features': 7, 'max_depth': 47, 'min_samples_split': 15, 'min_samples_leaf': 13}. Best is trial 48 with value: 0.6205821476984937.\n",
      "[I 2024-07-09 22:59:02,665] Trial 74 finished with value: 0.6170721842055836 and parameters: {'n_estimators': 269, 'max_features': 14, 'max_depth': 50, 'min_samples_split': 20, 'min_samples_leaf': 12}. Best is trial 48 with value: 0.6205821476984937.\n",
      "[I 2024-07-09 22:59:07,739] Trial 75 finished with value: 0.6159281805815662 and parameters: {'n_estimators': 400, 'max_features': 11, 'max_depth': 44, 'min_samples_split': 19, 'min_samples_leaf': 10}. Best is trial 48 with value: 0.6205821476984937.\n",
      "[I 2024-07-09 22:59:13,885] Trial 76 finished with value: 0.6201939067167594 and parameters: {'n_estimators': 491, 'max_features': 12, 'max_depth': 40, 'min_samples_split': 16, 'min_samples_leaf': 14}. Best is trial 48 with value: 0.6205821476984937.\n",
      "[I 2024-07-09 22:59:19,019] Trial 77 finished with value: 0.587931117362754 and parameters: {'n_estimators': 497, 'max_features': 12, 'max_depth': 5, 'min_samples_split': 16, 'min_samples_leaf': 14}. Best is trial 48 with value: 0.6205821476984937.\n",
      "[I 2024-07-09 22:59:25,637] Trial 78 finished with value: 0.6161053835693424 and parameters: {'n_estimators': 438, 'max_features': 18, 'max_depth': 46, 'min_samples_split': 11, 'min_samples_leaf': 10}. Best is trial 48 with value: 0.6205821476984937.\n",
      "[I 2024-07-09 22:59:30,745] Trial 79 finished with value: 0.6160687039898946 and parameters: {'n_estimators': 346, 'max_features': 20, 'max_depth': 28, 'min_samples_split': 14, 'min_samples_leaf': 18}. Best is trial 48 with value: 0.6205821476984937.\n",
      "[I 2024-07-09 22:59:34,772] Trial 80 finished with value: 0.617084725808474 and parameters: {'n_estimators': 279, 'max_features': 16, 'max_depth': 49, 'min_samples_split': 17, 'min_samples_leaf': 13}. Best is trial 48 with value: 0.6205821476984937.\n",
      "[I 2024-07-09 22:59:41,652] Trial 81 finished with value: 0.6177905304473919 and parameters: {'n_estimators': 589, 'max_features': 9, 'max_depth': 40, 'min_samples_split': 30, 'min_samples_leaf': 15}. Best is trial 48 with value: 0.6205821476984937.\n",
      "[I 2024-07-09 22:59:44,766] Trial 82 finished with value: 0.6180766239143978 and parameters: {'n_estimators': 227, 'max_features': 14, 'max_depth': 37, 'min_samples_split': 7, 'min_samples_leaf': 16}. Best is trial 48 with value: 0.6205821476984937.\n",
      "[I 2024-07-09 23:00:01,166] Trial 83 finished with value: 0.6167888269314211 and parameters: {'n_estimators': 1307, 'max_features': 12, 'max_depth': 45, 'min_samples_split': 18, 'min_samples_leaf': 14}. Best is trial 48 with value: 0.6205821476984937.\n",
      "[I 2024-07-09 23:00:18,549] Trial 84 finished with value: 0.6175876121285934 and parameters: {'n_estimators': 1168, 'max_features': 49, 'max_depth': 43, 'min_samples_split': 32, 'min_samples_leaf': 13}. Best is trial 48 with value: 0.6205821476984937.\n",
      "[I 2024-07-09 23:00:24,095] Trial 85 finished with value: 0.6078684397914298 and parameters: {'n_estimators': 508, 'max_features': 6, 'max_depth': 38, 'min_samples_split': 4, 'min_samples_leaf': 15}. Best is trial 48 with value: 0.6205821476984937.\n",
      "[I 2024-07-09 23:00:31,322] Trial 86 finished with value: 0.6178437957075251 and parameters: {'n_estimators': 649, 'max_features': 8, 'max_depth': 41, 'min_samples_split': 28, 'min_samples_leaf': 11}. Best is trial 48 with value: 0.6205821476984937.\n",
      "[I 2024-07-09 23:00:36,806] Trial 87 finished with value: 0.619956373949855 and parameters: {'n_estimators': 457, 'max_features': 10, 'max_depth': 15, 'min_samples_split': 20, 'min_samples_leaf': 16}. Best is trial 48 with value: 0.6205821476984937.\n",
      "[I 2024-07-09 23:00:50,048] Trial 88 finished with value: 0.6169866606331385 and parameters: {'n_estimators': 1037, 'max_features': 14, 'max_depth': 48, 'min_samples_split': 9, 'min_samples_leaf': 18}. Best is trial 48 with value: 0.6205821476984937.\n",
      "[I 2024-07-09 23:00:55,963] Trial 89 finished with value: 0.6189759799828041 and parameters: {'n_estimators': 413, 'max_features': 17, 'max_depth': 44, 'min_samples_split': 16, 'min_samples_leaf': 17}. Best is trial 48 with value: 0.6205821476984937.\n",
      "[I 2024-07-09 23:01:00,131] Trial 90 finished with value: 0.6096874937216357 and parameters: {'n_estimators': 318, 'max_features': 15, 'max_depth': 46, 'min_samples_split': 14, 'min_samples_leaf': 30}. Best is trial 48 with value: 0.6205821476984937.\n",
      "[I 2024-07-09 23:01:05,534] Trial 91 finished with value: 0.6199622626059573 and parameters: {'n_estimators': 450, 'max_features': 10, 'max_depth': 40, 'min_samples_split': 19, 'min_samples_leaf': 16}. Best is trial 48 with value: 0.6205821476984937.\n",
      "[I 2024-07-09 23:01:11,443] Trial 92 finished with value: 0.6085905603042473 and parameters: {'n_estimators': 551, 'max_features': 7, 'max_depth': 39, 'min_samples_split': 21, 'min_samples_leaf': 20}. Best is trial 48 with value: 0.6205821476984937.\n",
      "[I 2024-07-09 23:01:13,443] Trial 93 finished with value: 0.6191261571904653 and parameters: {'n_estimators': 151, 'max_features': 13, 'max_depth': 42, 'min_samples_split': 19, 'min_samples_leaf': 14}. Best is trial 48 with value: 0.6205821476984937.\n",
      "[I 2024-07-09 23:01:19,598] Trial 94 finished with value: 0.6181698733452595 and parameters: {'n_estimators': 482, 'max_features': 11, 'max_depth': 37, 'min_samples_split': 18, 'min_samples_leaf': 13}. Best is trial 48 with value: 0.6205821476984937.\n",
      "[I 2024-07-09 23:01:24,213] Trial 95 finished with value: 0.6173130483319225 and parameters: {'n_estimators': 373, 'max_features': 9, 'max_depth': 41, 'min_samples_split': 31, 'min_samples_leaf': 15}. Best is trial 48 with value: 0.6205821476984937.\n",
      "[I 2024-07-09 23:01:27,537] Trial 96 finished with value: 0.6184773113060937 and parameters: {'n_estimators': 267, 'max_features': 12, 'max_depth': 35, 'min_samples_split': 17, 'min_samples_leaf': 19}. Best is trial 48 with value: 0.6205821476984937.\n",
      "[I 2024-07-09 23:01:40,662] Trial 97 finished with value: 0.6052196221253391 and parameters: {'n_estimators': 1273, 'max_features': 5, 'max_depth': 40, 'min_samples_split': 19, 'min_samples_leaf': 12}. Best is trial 48 with value: 0.6205821476984937.\n",
      "[I 2024-07-09 23:01:58,842] Trial 98 finished with value: 0.6186983367854861 and parameters: {'n_estimators': 1557, 'max_features': 10, 'max_depth': 43, 'min_samples_split': 16, 'min_samples_leaf': 16}. Best is trial 48 with value: 0.6205821476984937.\n",
      "[I 2024-07-09 23:02:06,806] Trial 99 finished with value: 0.616552650123702 and parameters: {'n_estimators': 627, 'max_features': 13, 'max_depth': 45, 'min_samples_split': 22, 'min_samples_leaf': 17}. Best is trial 48 with value: 0.6205821476984937.\n"
     ]
    }
   ],
   "source": [
    "study = optuna.create_study(direction='maximize')\n",
    "study.optimize(objective, n_trials=100, show_progress_bar=True)"
   ]
  },
  {
   "cell_type": "code",
   "execution_count": 22,
   "id": "d08f6ab5-62c1-435d-9f71-ab5c581e4dcf",
   "metadata": {
    "tags": []
   },
   "outputs": [
    {
     "name": "stdout",
     "output_type": "stream",
     "text": [
      "Best trial: FrozenTrial(number=48, state=1, values=[0.6205821476984937], datetime_start=datetime.datetime(2024, 7, 9, 22, 55, 16, 239302), datetime_complete=datetime.datetime(2024, 7, 9, 22, 55, 22, 777301), params={'n_estimators': 494, 'max_features': 15, 'max_depth': 40, 'min_samples_split': 25, 'min_samples_leaf': 19}, user_attrs={}, system_attrs={}, intermediate_values={}, distributions={'n_estimators': IntDistribution(high=2000, log=False, low=100, step=1), 'max_features': IntDistribution(high=53, log=False, low=4, step=1), 'max_depth': IntDistribution(high=50, log=False, low=2, step=1), 'min_samples_split': IntDistribution(high=32, log=False, low=2, step=1), 'min_samples_leaf': IntDistribution(high=32, log=False, low=1, step=1)}, trial_id=48, value=None)\n",
      "Best hyperparameters: {'n_estimators': 494, 'max_features': 15, 'max_depth': 40, 'min_samples_split': 25, 'min_samples_leaf': 19}\n"
     ]
    }
   ],
   "source": [
    "print(\"Best trial:\", study.best_trial)\n",
    "print(\"Best hyperparameters:\", study.best_params)"
   ]
  },
  {
   "cell_type": "code",
   "execution_count": null,
   "id": "50831393-8f7d-477e-ba8e-8ea2964c2233",
   "metadata": {},
   "outputs": [],
   "source": []
  }
 ],
 "metadata": {
  "kernelspec": {
   "display_name": "Python 3 (ipykernel)",
   "language": "python",
   "name": "python3"
  },
  "language_info": {
   "codemirror_mode": {
    "name": "ipython",
    "version": 3
   },
   "file_extension": ".py",
   "mimetype": "text/x-python",
   "name": "python",
   "nbconvert_exporter": "python",
   "pygments_lexer": "ipython3",
   "version": "3.11.5"
  }
 },
 "nbformat": 4,
 "nbformat_minor": 5
}

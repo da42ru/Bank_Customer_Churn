{
 "cells": [
  {
   "cell_type": "markdown",
   "id": "b8305d2b-05a2-4c03-96c1-41a8ed3e3f4e",
   "metadata": {},
   "source": [
    "## XGBoost Hyperparameter Tuning (Recall)"
   ]
  },
  {
   "cell_type": "code",
   "execution_count": 33,
   "id": "1737f07b-25d7-4e9a-950e-c41ea036b4c4",
   "metadata": {
    "tags": []
   },
   "outputs": [],
   "source": [
    "# Load Libraries\n",
    "\n",
    "import pandas as pd\n",
    "import numpy as np\n",
    "\n",
    "from sklearn.model_selection import train_test_split, StratifiedKFold\n",
    "from sklearn.metrics import recall_score\n",
    "\n",
    "from xgboost import XGBClassifier\n",
    "\n",
    "import optuna"
   ]
  },
  {
   "cell_type": "code",
   "execution_count": 35,
   "id": "34b40b44-1c92-4b9d-ad57-3cddb44f6f0f",
   "metadata": {
    "tags": []
   },
   "outputs": [],
   "source": [
    "# Load Data\n",
    "\n",
    "df = pd.read_csv('bank_4.csv', index_col=0)"
   ]
  },
  {
   "cell_type": "code",
   "execution_count": 37,
   "id": "e25031a8-fef1-4150-86e7-8b7e22f0a9bb",
   "metadata": {
    "tags": []
   },
   "outputs": [],
   "source": [
    "# Train / Test Split\n",
    "\n",
    "X = df.drop(columns=['churn', 'complain', 'umap_1', 'umap_2'])\n",
    "y = df['churn']\n",
    "\n",
    "X_train, X_test, y_train, y_test = train_test_split(X, y, test_size=0.2, stratify=y, random_state=42)"
   ]
  },
  {
   "cell_type": "code",
   "execution_count": 39,
   "id": "2b530e97-2bc3-4b3d-b9f8-eb4ed610ff66",
   "metadata": {
    "tags": []
   },
   "outputs": [],
   "source": [
    "# Hyperparameter tuning\n",
    "\n",
    "def objective(trial):\n",
    "    \n",
    "    params = {\n",
    "        'n_estimators': trial.suggest_int('n_estimators', 100, 1000),\n",
    "        'learning_rate': trial.suggest_float('learning_rate', 0.01, 0.3),\n",
    "        'gamma': trial.suggest_float('gamma', 0.0, 2.0),\n",
    "        'max_depth': trial.suggest_int('max_depth', 2, 10),\n",
    "        'min_child_weight': trial.suggest_int('min_child_weight', 1, 20),\n",
    "        'subsample': trial.suggest_float('subsample', 0.5, 1.0),\n",
    "        'colsample_bytree': trial.suggest_float('colsample_bytree', 0.5, 1.0)\n",
    "    }\n",
    "        \n",
    "    model = XGBClassifier(\n",
    "        **params,\n",
    "        random_state=42,\n",
    "        n_jobs=-1)\n",
    "    \n",
    "    threshold = 0.3\n",
    "    \n",
    "    skf = StratifiedKFold(n_splits=5, random_state=42, shuffle=True)\n",
    "    scores = []\n",
    "    \n",
    "    for tr, te in skf.split(X_train, y_train):\n",
    "        \n",
    "        X_tr, X_te = X_train.iloc[tr], X_train.iloc[te]\n",
    "        y_tr, y_te = y_train.iloc[tr], y_train.iloc[te]\n",
    "        \n",
    "        model.fit(X_tr, y_tr)\n",
    "        prob = model.predict_proba(X_te)[:, 1]\n",
    "        y_pred = np.where(prob < threshold, 0, 1)\n",
    "        \n",
    "        scores.append(recall_score(y_te, y_pred))\n",
    "        \n",
    "    return np.mean(scores)"
   ]
  },
  {
   "cell_type": "code",
   "execution_count": 41,
   "id": "eb85a387-214c-480a-8a96-d69570dcbce9",
   "metadata": {
    "tags": []
   },
   "outputs": [
    {
     "name": "stderr",
     "output_type": "stream",
     "text": [
      "[I 2024-07-08 22:10:51,825] A new study created in memory with name: no-name-4e007cbd-99e5-45ee-9163-9aa1fc06ec00\n"
     ]
    },
    {
     "data": {
      "application/vnd.jupyter.widget-view+json": {
       "model_id": "6208bedd0a8143ef9de6ca9720120265",
       "version_major": 2,
       "version_minor": 0
      },
      "text/plain": [
       "  0%|          | 0/100 [00:00<?, ?it/s]"
      ]
     },
     "metadata": {},
     "output_type": "display_data"
    },
    {
     "name": "stdout",
     "output_type": "stream",
     "text": [
      "[I 2024-07-08 22:11:08,251] Trial 0 finished with value: 0.5926380368098159 and parameters: {'n_estimators': 985, 'learning_rate': 0.1809639690179752, 'gamma': 0.6510251292623492, 'max_depth': 7, 'min_child_weight': 10, 'subsample': 0.7590685584978265, 'colsample_bytree': 0.9855282521799433}. Best is trial 0 with value: 0.5926380368098159.\n",
      "[I 2024-07-08 22:11:18,419] Trial 1 finished with value: 0.603680981595092 and parameters: {'n_estimators': 896, 'learning_rate': 0.1255262623935575, 'gamma': 0.5216517231781959, 'max_depth': 5, 'min_child_weight': 3, 'subsample': 0.5729503656816877, 'colsample_bytree': 0.7951983284799635}. Best is trial 1 with value: 0.603680981595092.\n",
      "[I 2024-07-08 22:11:33,229] Trial 2 finished with value: 0.6049079754601226 and parameters: {'n_estimators': 745, 'learning_rate': 0.12013438908326061, 'gamma': 0.31331649639040693, 'max_depth': 9, 'min_child_weight': 16, 'subsample': 0.990400215091016, 'colsample_bytree': 0.9549238072608173}. Best is trial 2 with value: 0.6049079754601226.\n",
      "[I 2024-07-08 22:11:34,268] Trial 3 finished with value: 0.6171779141104293 and parameters: {'n_estimators': 179, 'learning_rate': 0.05673772884180532, 'gamma': 1.0725253175990503, 'max_depth': 2, 'min_child_weight': 19, 'subsample': 0.6800635708002019, 'colsample_bytree': 0.9775319442760164}. Best is trial 3 with value: 0.6171779141104293.\n",
      "[I 2024-07-08 22:11:46,240] Trial 4 finished with value: 0.6098159509202454 and parameters: {'n_estimators': 931, 'learning_rate': 0.08477809813450965, 'gamma': 0.28861796565740305, 'max_depth': 5, 'min_child_weight': 6, 'subsample': 0.9918499367144481, 'colsample_bytree': 0.7764261256726409}. Best is trial 3 with value: 0.6171779141104293.\n",
      "[I 2024-07-08 22:11:58,787] Trial 5 finished with value: 0.6374233128834356 and parameters: {'n_estimators': 761, 'learning_rate': 0.07546318601820891, 'gamma': 1.4057482253801195, 'max_depth': 8, 'min_child_weight': 20, 'subsample': 0.9702667281168351, 'colsample_bytree': 0.8581591904279168}. Best is trial 5 with value: 0.6374233128834356.\n",
      "[I 2024-07-08 22:12:01,368] Trial 6 finished with value: 0.6368098159509202 and parameters: {'n_estimators': 340, 'learning_rate': 0.26443705885555646, 'gamma': 1.8872380913114344, 'max_depth': 3, 'min_child_weight': 10, 'subsample': 0.7860086866859118, 'colsample_bytree': 0.6919312004992377}. Best is trial 5 with value: 0.6374233128834356.\n",
      "[I 2024-07-08 22:12:14,925] Trial 7 finished with value: 0.6245398773006136 and parameters: {'n_estimators': 715, 'learning_rate': 0.05450304505596095, 'gamma': 0.4890669656201263, 'max_depth': 10, 'min_child_weight': 15, 'subsample': 0.9655849155157898, 'colsample_bytree': 0.8836710625685826}. Best is trial 5 with value: 0.6374233128834356.\n",
      "[I 2024-07-08 22:12:19,888] Trial 8 finished with value: 0.6214723926380368 and parameters: {'n_estimators': 817, 'learning_rate': 0.22935795821697783, 'gamma': 1.761514483583864, 'max_depth': 2, 'min_child_weight': 15, 'subsample': 0.9952584295861169, 'colsample_bytree': 0.8287969162537656}. Best is trial 5 with value: 0.6374233128834356.\n",
      "[I 2024-07-08 22:12:22,164] Trial 9 finished with value: 0.6294478527607362 and parameters: {'n_estimators': 368, 'learning_rate': 0.17580349930302913, 'gamma': 1.0082699409171807, 'max_depth': 2, 'min_child_weight': 15, 'subsample': 0.6686252497866022, 'colsample_bytree': 0.6221919609207248}. Best is trial 5 with value: 0.6374233128834356.\n",
      "[I 2024-07-08 22:12:30,973] Trial 10 finished with value: 0.6319018404907976 and parameters: {'n_estimators': 572, 'learning_rate': 0.011203573823801521, 'gamma': 1.4354804433968762, 'max_depth': 8, 'min_child_weight': 20, 'subsample': 0.862274951417884, 'colsample_bytree': 0.5264015910273048}. Best is trial 5 with value: 0.6374233128834356.\n",
      "[I 2024-07-08 22:12:34,592] Trial 11 finished with value: 0.6331288343558282 and parameters: {'n_estimators': 397, 'learning_rate': 0.2965679178535344, 'gamma': 1.8641149488373767, 'max_depth': 4, 'min_child_weight': 10, 'subsample': 0.8386705432991088, 'colsample_bytree': 0.6796706384314327}. Best is trial 5 with value: 0.6374233128834356.\n",
      "[I 2024-07-08 22:12:36,648] Trial 12 finished with value: 0.6269938650306748 and parameters: {'n_estimators': 124, 'learning_rate': 0.25906011195827544, 'gamma': 1.5391292487612391, 'max_depth': 7, 'min_child_weight': 7, 'subsample': 0.8491629479492028, 'colsample_bytree': 0.6879935848444394}. Best is trial 5 with value: 0.6374233128834356.\n",
      "[I 2024-07-08 22:12:41,703] Trial 13 finished with value: 0.6355828220858896 and parameters: {'n_estimators': 542, 'learning_rate': 0.21570940537258154, 'gamma': 1.991546450973412, 'max_depth': 4, 'min_child_weight': 12, 'subsample': 0.8997053906951131, 'colsample_bytree': 0.8728440602817885}. Best is trial 5 with value: 0.6374233128834356.\n",
      "[I 2024-07-08 22:12:45,719] Trial 14 finished with value: 0.6171779141104294 and parameters: {'n_estimators': 301, 'learning_rate': 0.11957771783640843, 'gamma': 1.4161789766252237, 'max_depth': 7, 'min_child_weight': 7, 'subsample': 0.7328045932129887, 'colsample_bytree': 0.7116081593815794}. Best is trial 5 with value: 0.6374233128834356.\n",
      "[I 2024-07-08 22:12:56,489] Trial 15 finished with value: 0.5846625766871165 and parameters: {'n_estimators': 575, 'learning_rate': 0.292166655045746, 'gamma': 1.2616540306553292, 'max_depth': 10, 'min_child_weight': 1, 'subsample': 0.5790750275506298, 'colsample_bytree': 0.5562426505648593}. Best is trial 5 with value: 0.6374233128834356.\n",
      "[I 2024-07-08 22:13:00,848] Trial 16 finished with value: 0.6233128834355829 and parameters: {'n_estimators': 475, 'learning_rate': 0.011291654521360744, 'gamma': 1.700128598283726, 'max_depth': 4, 'min_child_weight': 12, 'subsample': 0.5085867918307552, 'colsample_bytree': 0.6145410598139415}. Best is trial 5 with value: 0.6374233128834356.\n",
      "[I 2024-07-08 22:13:09,184] Trial 17 finished with value: 0.6239263803680981 and parameters: {'n_estimators': 670, 'learning_rate': 0.15683250863863257, 'gamma': 0.804561997032039, 'max_depth': 6, 'min_child_weight': 18, 'subsample': 0.785557256256458, 'colsample_bytree': 0.8955380261717245}. Best is trial 5 with value: 0.6374233128834356.\n",
      "[I 2024-07-08 22:13:13,440] Trial 18 finished with value: 0.6141104294478528 and parameters: {'n_estimators': 234, 'learning_rate': 0.2145436226675862, 'gamma': 0.05158697210144081, 'max_depth': 9, 'min_child_weight': 12, 'subsample': 0.9227856931320508, 'colsample_bytree': 0.738062018364902}. Best is trial 5 with value: 0.6374233128834356.\n",
      "[I 2024-07-08 22:13:16,990] Trial 19 finished with value: 0.6331288343558282 and parameters: {'n_estimators': 439, 'learning_rate': 0.0764295840717572, 'gamma': 1.2524669653044114, 'max_depth': 3, 'min_child_weight': 8, 'subsample': 0.7918577689483882, 'colsample_bytree': 0.8231890347974629}. Best is trial 5 with value: 0.6374233128834356.\n",
      "[I 2024-07-08 22:13:24,543] Trial 20 finished with value: 0.607361963190184 and parameters: {'n_estimators': 645, 'learning_rate': 0.25698391185872504, 'gamma': 1.61549673934306, 'max_depth': 6, 'min_child_weight': 4, 'subsample': 0.9288051853230804, 'colsample_bytree': 0.6517637017843313}. Best is trial 5 with value: 0.6374233128834356.\n",
      "[I 2024-07-08 22:13:27,932] Trial 21 finished with value: 0.6361963190184049 and parameters: {'n_estimators': 516, 'learning_rate': 0.21250024906689738, 'gamma': 1.9773951321422045, 'max_depth': 3, 'min_child_weight': 12, 'subsample': 0.918180538374981, 'colsample_bytree': 0.8909600100497287}. Best is trial 5 with value: 0.6374233128834356.\n",
      "[I 2024-07-08 22:13:29,950] Trial 22 finished with value: 0.6355828220858897 and parameters: {'n_estimators': 276, 'learning_rate': 0.24235469390666292, 'gamma': 1.9419906932440067, 'max_depth': 3, 'min_child_weight': 17, 'subsample': 0.8923863440743174, 'colsample_bytree': 0.927060452856675}. Best is trial 5 with value: 0.6374233128834356.\n",
      "[I 2024-07-08 22:13:33,556] Trial 23 finished with value: 0.6441717791411044 and parameters: {'n_estimators': 487, 'learning_rate': 0.1925292557011043, 'gamma': 1.8478199874827446, 'max_depth': 3, 'min_child_weight': 13, 'subsample': 0.9521696796752995, 'colsample_bytree': 0.7597489460929086}. Best is trial 23 with value: 0.6441717791411044.\n",
      "[I 2024-07-08 22:13:39,514] Trial 24 finished with value: 0.6208588957055214 and parameters: {'n_estimators': 353, 'learning_rate': 0.18563772286866606, 'gamma': 1.7296981480772287, 'max_depth': 8, 'min_child_weight': 9, 'subsample': 0.9519220675579002, 'colsample_bytree': 0.7639770351711206}. Best is trial 23 with value: 0.6441717791411044.\n",
      "[I 2024-07-08 22:13:48,929] Trial 25 finished with value: 0.611042944785276 and parameters: {'n_estimators': 832, 'learning_rate': 0.2735303698846759, 'gamma': 1.2647221417286452, 'max_depth': 5, 'min_child_weight': 14, 'subsample': 0.8220468569902482, 'colsample_bytree': 0.8228518311777883}. Best is trial 23 with value: 0.6441717791411044.\n",
      "[I 2024-07-08 22:13:53,570] Trial 26 finished with value: 0.6466257668711657 and parameters: {'n_estimators': 633, 'learning_rate': 0.14320466118397931, 'gamma': 1.5019425248106402, 'max_depth': 3, 'min_child_weight': 13, 'subsample': 0.6903479052443955, 'colsample_bytree': 0.7304015749626005}. Best is trial 26 with value: 0.6466257668711657.\n",
      "[I 2024-07-08 22:14:02,205] Trial 27 finished with value: 0.6251533742331288 and parameters: {'n_estimators': 628, 'learning_rate': 0.13881516864319932, 'gamma': 1.4756573567503508, 'max_depth': 8, 'min_child_weight': 13, 'subsample': 0.6758252626711799, 'colsample_bytree': 0.743986488749396}. Best is trial 26 with value: 0.6466257668711657.\n",
      "[I 2024-07-08 22:14:09,434] Trial 28 finished with value: 0.6404907975460122 and parameters: {'n_estimators': 787, 'learning_rate': 0.09796849313603387, 'gamma': 1.1501471949063138, 'max_depth': 4, 'min_child_weight': 20, 'subsample': 0.5947533061323913, 'colsample_bytree': 0.7982176140126641}. Best is trial 26 with value: 0.6466257668711657.\n",
      "[I 2024-07-08 22:14:18,471] Trial 29 finished with value: 0.6202453987730061 and parameters: {'n_estimators': 958, 'learning_rate': 0.18335527717855093, 'gamma': 0.807668513837555, 'max_depth': 4, 'min_child_weight': 17, 'subsample': 0.6118376974172659, 'colsample_bytree': 0.8092816738996433}. Best is trial 26 with value: 0.6466257668711657.\n",
      "[I 2024-07-08 22:14:24,793] Trial 30 finished with value: 0.6404907975460123 and parameters: {'n_estimators': 805, 'learning_rate': 0.09500145968985693, 'gamma': 1.1556059139145802, 'max_depth': 3, 'min_child_weight': 18, 'subsample': 0.7151654977556046, 'colsample_bytree': 0.7271959615671767}. Best is trial 26 with value: 0.6466257668711657.\n",
      "[I 2024-07-08 22:14:30,569] Trial 31 finished with value: 0.6368098159509202 and parameters: {'n_estimators': 809, 'learning_rate': 0.09956250190930829, 'gamma': 0.8880199510798401, 'max_depth': 3, 'min_child_weight': 19, 'subsample': 0.7221335797608794, 'colsample_bytree': 0.7249991377369338}. Best is trial 26 with value: 0.6466257668711657.\n",
      "[I 2024-07-08 22:14:35,519] Trial 32 finished with value: 0.6398773006134968 and parameters: {'n_estimators': 875, 'learning_rate': 0.15742920406098895, 'gamma': 1.1352366272367105, 'max_depth': 2, 'min_child_weight': 17, 'subsample': 0.6348542238554097, 'colsample_bytree': 0.7776956634617018}. Best is trial 26 with value: 0.6466257668711657.\n",
      "[I 2024-07-08 22:14:42,204] Trial 33 finished with value: 0.6368098159509202 and parameters: {'n_estimators': 699, 'learning_rate': 0.10326886434002402, 'gamma': 1.321137168658271, 'max_depth': 4, 'min_child_weight': 18, 'subsample': 0.5265675596091567, 'colsample_bytree': 0.7937784348448315}. Best is trial 26 with value: 0.6466257668711657.\n",
      "[I 2024-07-08 22:14:50,212] Trial 34 finished with value: 0.6276073619631902 and parameters: {'n_estimators': 776, 'learning_rate': 0.13641563239163815, 'gamma': 1.1376759927795526, 'max_depth': 5, 'min_child_weight': 14, 'subsample': 0.7045903780700266, 'colsample_bytree': 0.6593277640841904}. Best is trial 26 with value: 0.6466257668711657.\n",
      "[I 2024-07-08 22:14:57,146] Trial 35 finished with value: 0.6374233128834357 and parameters: {'n_estimators': 893, 'learning_rate': 0.04706513971413537, 'gamma': 1.613841917664168, 'max_depth': 3, 'min_child_weight': 16, 'subsample': 0.6338163265078737, 'colsample_bytree': 0.7573823719051158}. Best is trial 26 with value: 0.6466257668711657.\n",
      "[I 2024-07-08 22:15:00,799] Trial 36 finished with value: 0.6368098159509202 and parameters: {'n_estimators': 634, 'learning_rate': 0.11282872134820826, 'gamma': 0.8887173901209122, 'max_depth': 2, 'min_child_weight': 20, 'subsample': 0.7582275606691763, 'colsample_bytree': 0.8460047277601239}. Best is trial 26 with value: 0.6466257668711657.\n",
      "[I 2024-07-08 22:15:11,652] Trial 37 finished with value: 0.6184049079754602 and parameters: {'n_estimators': 980, 'learning_rate': 0.14629618669073785, 'gamma': 1.1152207046125613, 'max_depth': 5, 'min_child_weight': 19, 'subsample': 0.5955699143315436, 'colsample_bytree': 0.7933625317981882}. Best is trial 26 with value: 0.6466257668711657.\n",
      "[I 2024-07-08 22:15:20,202] Trial 38 finished with value: 0.6220858895705521 and parameters: {'n_estimators': 713, 'learning_rate': 0.09248445819626992, 'gamma': 0.6350291928625634, 'max_depth': 6, 'min_child_weight': 11, 'subsample': 0.5513770609763616, 'colsample_bytree': 0.7233628934072546}. Best is trial 26 with value: 0.6466257668711657.\n",
      "[I 2024-07-08 22:15:27,106] Trial 39 finished with value: 0.6337423312883436 and parameters: {'n_estimators': 751, 'learning_rate': 0.0395053109851197, 'gamma': 1.800146047729198, 'max_depth': 3, 'min_child_weight': 16, 'subsample': 0.6538814837650452, 'colsample_bytree': 0.9984492673996104}. Best is trial 26 with value: 0.6466257668711657.\n",
      "[I 2024-07-08 22:15:30,395] Trial 40 finished with value: 0.6355828220858896 and parameters: {'n_estimators': 598, 'learning_rate': 0.17067018602927425, 'gamma': 1.5832270930666164, 'max_depth': 2, 'min_child_weight': 14, 'subsample': 0.7024338437422379, 'colsample_bytree': 0.6072247098398283}. Best is trial 26 with value: 0.6466257668711657.\n",
      "[I 2024-07-08 22:15:35,247] Trial 41 finished with value: 0.6263803680981594 and parameters: {'n_estimators': 887, 'learning_rate': 0.1639331499552837, 'gamma': 1.1434178962940431, 'max_depth': 2, 'min_child_weight': 18, 'subsample': 0.6166474220686573, 'colsample_bytree': 0.7792859036118542}. Best is trial 26 with value: 0.6466257668711657.\n",
      "[I 2024-07-08 22:15:40,087] Trial 42 finished with value: 0.6337423312883436 and parameters: {'n_estimators': 859, 'learning_rate': 0.1898188294195391, 'gamma': 1.011576489677808, 'max_depth': 2, 'min_child_weight': 17, 'subsample': 0.6448210139983133, 'colsample_bytree': 0.7092239812143157}. Best is trial 26 with value: 0.6466257668711657.\n",
      "[I 2024-07-08 22:15:47,157] Trial 43 finished with value: 0.6392638036809816 and parameters: {'n_estimators': 927, 'learning_rate': 0.12931011060188083, 'gamma': 1.3413191070729107, 'max_depth': 3, 'min_child_weight': 19, 'subsample': 0.7010624583598148, 'colsample_bytree': 0.766280820106004}. Best is trial 26 with value: 0.6466257668711657.\n",
      "[I 2024-07-08 22:15:54,353] Trial 44 finished with value: 0.6355828220858897 and parameters: {'n_estimators': 774, 'learning_rate': 0.06454054236185337, 'gamma': 1.1701716685373607, 'max_depth': 4, 'min_child_weight': 16, 'subsample': 0.5507125988955214, 'colsample_bytree': 0.7916377548992324}. Best is trial 26 with value: 0.6466257668711657.\n",
      "[I 2024-07-08 22:15:57,699] Trial 45 finished with value: 0.6337423312883436 and parameters: {'n_estimators': 494, 'learning_rate': 0.14775327746116856, 'gamma': 0.9458746035617772, 'max_depth': 2, 'min_child_weight': 20, 'subsample': 0.7398594714255671, 'colsample_bytree': 0.8498904505864434}. Best is trial 26 with value: 0.6466257668711657.\n",
      "[I 2024-07-08 22:16:03,711] Trial 46 finished with value: 0.6312883435582822 and parameters: {'n_estimators': 843, 'learning_rate': 0.19696881810165343, 'gamma': 1.4897647546914248, 'max_depth': 3, 'min_child_weight': 15, 'subsample': 0.6722699739408152, 'colsample_bytree': 0.7414450729792237}. Best is trial 26 with value: 0.6466257668711657.\n",
      "[I 2024-07-08 22:16:08,191] Trial 47 finished with value: 0.6404907975460123 and parameters: {'n_estimators': 796, 'learning_rate': 0.11675372630158648, 'gamma': 1.0422220380209626, 'max_depth': 2, 'min_child_weight': 13, 'subsample': 0.6090192984210973, 'colsample_bytree': 0.6704158076601932}. Best is trial 26 with value: 0.6466257668711657.\n",
      "[I 2024-07-08 22:16:11,913] Trial 48 finished with value: 0.6331288343558282 and parameters: {'n_estimators': 431, 'learning_rate': 0.10990707004464023, 'gamma': 0.6491325570913433, 'max_depth': 4, 'min_child_weight': 11, 'subsample': 0.5712814662692447, 'colsample_bytree': 0.6649519737104403}. Best is trial 26 with value: 0.6466257668711657.\n",
      "[I 2024-07-08 22:16:17,162] Trial 49 finished with value: 0.6404907975460122 and parameters: {'n_estimators': 685, 'learning_rate': 0.08445172397625642, 'gamma': 0.44251989187691443, 'max_depth': 3, 'min_child_weight': 13, 'subsample': 0.7779199310043637, 'colsample_bytree': 0.6934742128109236}. Best is trial 26 with value: 0.6466257668711657.\n",
      "[I 2024-07-08 22:16:24,053] Trial 50 finished with value: 0.6251533742331288 and parameters: {'n_estimators': 793, 'learning_rate': 0.12388511261925143, 'gamma': 1.028928342692561, 'max_depth': 4, 'min_child_weight': 9, 'subsample': 0.6133163864750822, 'colsample_bytree': 0.5844275134674}. Best is trial 26 with value: 0.6466257668711657.\n",
      "[I 2024-07-08 22:16:29,393] Trial 51 finished with value: 0.6398773006134969 and parameters: {'n_estimators': 679, 'learning_rate': 0.08578279651370298, 'gamma': 0.4150353736394832, 'max_depth': 3, 'min_child_weight': 13, 'subsample': 0.8118554656352861, 'colsample_bytree': 0.6998468697820932}. Best is trial 26 with value: 0.6466257668711657.\n",
      "[I 2024-07-08 22:16:33,951] Trial 52 finished with value: 0.6343558282208589 and parameters: {'n_estimators': 753, 'learning_rate': 0.0645190274138492, 'gamma': 0.7536088059433541, 'max_depth': 2, 'min_child_weight': 13, 'subsample': 0.771517657919328, 'colsample_bytree': 0.6400134224395091}. Best is trial 26 with value: 0.6466257668711657.\n",
      "[I 2024-07-08 22:16:39,534] Trial 53 finished with value: 0.6392638036809816 and parameters: {'n_estimators': 715, 'learning_rate': 0.08243196308067773, 'gamma': 0.2061754547588304, 'max_depth': 3, 'min_child_weight': 10, 'subsample': 0.7189861971237684, 'colsample_bytree': 0.6860172903804277}. Best is trial 26 with value: 0.6466257668711657.\n",
      "[I 2024-07-08 22:16:46,791] Trial 54 finished with value: 0.6411042944785276 and parameters: {'n_estimators': 585, 'learning_rate': 0.030770364810095673, 'gamma': 1.357097010714428, 'max_depth': 5, 'min_child_weight': 13, 'subsample': 0.8775339912626355, 'colsample_bytree': 0.6712968470304903}. Best is trial 26 with value: 0.6466257668711657.\n",
      "[I 2024-07-08 22:16:53,390] Trial 55 finished with value: 0.6447852760736196 and parameters: {'n_estimators': 545, 'learning_rate': 0.04100428758756773, 'gamma': 1.3770262365480979, 'max_depth': 5, 'min_child_weight': 11, 'subsample': 0.974204455432872, 'colsample_bytree': 0.7238294077996068}. Best is trial 26 with value: 0.6466257668711657.\n",
      "[I 2024-07-08 22:16:59,506] Trial 56 finished with value: 0.6411042944785276 and parameters: {'n_estimators': 570, 'learning_rate': 0.028182464807998305, 'gamma': 1.3733826110587768, 'max_depth': 5, 'min_child_weight': 11, 'subsample': 0.9716770963065817, 'colsample_bytree': 0.6679279277276203}. Best is trial 26 with value: 0.6466257668711657.\n",
      "[I 2024-07-08 22:17:04,923] Trial 57 finished with value: 0.6429447852760737 and parameters: {'n_estimators': 535, 'learning_rate': 0.021834649396232635, 'gamma': 1.3716769147810426, 'max_depth': 5, 'min_child_weight': 9, 'subsample': 0.9552211958776741, 'colsample_bytree': 0.6366355431822724}. Best is trial 26 with value: 0.6466257668711657.\n",
      "[I 2024-07-08 22:17:11,515] Trial 58 finished with value: 0.6398773006134969 and parameters: {'n_estimators': 536, 'learning_rate': 0.027328108198775056, 'gamma': 1.3587922567991741, 'max_depth': 5, 'min_child_weight': 9, 'subsample': 0.972777976252505, 'colsample_bytree': 0.6413865556654088}. Best is trial 26 with value: 0.6466257668711657.\n",
      "[I 2024-07-08 22:17:18,766] Trial 59 finished with value: 0.6404907975460123 and parameters: {'n_estimators': 576, 'learning_rate': 0.027302183521681483, 'gamma': 1.683987021767673, 'max_depth': 6, 'min_child_weight': 11, 'subsample': 0.9972013125775302, 'colsample_bytree': 0.5784086912061556}. Best is trial 26 with value: 0.6466257668711657.\n",
      "[I 2024-07-08 22:17:26,338] Trial 60 finished with value: 0.6386503067484661 and parameters: {'n_estimators': 494, 'learning_rate': 0.023434802576351808, 'gamma': 1.5380259653523962, 'max_depth': 7, 'min_child_weight': 6, 'subsample': 0.9480132996148162, 'colsample_bytree': 0.6167254182266828}. Best is trial 26 with value: 0.6466257668711657.\n",
      "[I 2024-07-08 22:17:32,492] Trial 61 finished with value: 0.6411042944785276 and parameters: {'n_estimators': 441, 'learning_rate': 0.039646005590769876, 'gamma': 1.4234174239846173, 'max_depth': 6, 'min_child_weight': 8, 'subsample': 0.8955004619577409, 'colsample_bytree': 0.7229455570067091}. Best is trial 26 with value: 0.6466257668711657.\n",
      "[I 2024-07-08 22:17:38,039] Trial 62 finished with value: 0.6349693251533742 and parameters: {'n_estimators': 453, 'learning_rate': 0.035234517480335514, 'gamma': 1.4401757352447315, 'max_depth': 6, 'min_child_weight': 8, 'subsample': 0.8798756359005693, 'colsample_bytree': 0.6323306675009104}. Best is trial 26 with value: 0.6466257668711657.\n",
      "[I 2024-07-08 22:17:41,945] Trial 63 finished with value: 0.6288343558282208 and parameters: {'n_estimators': 400, 'learning_rate': 0.014901332714008144, 'gamma': 1.8256040264111988, 'max_depth': 5, 'min_child_weight': 8, 'subsample': 0.9720755524745041, 'colsample_bytree': 0.7085283912663125}. Best is trial 26 with value: 0.6466257668711657.\n",
      "[I 2024-07-08 22:17:49,138] Trial 64 finished with value: 0.6325153374233128 and parameters: {'n_estimators': 530, 'learning_rate': 0.05510093134621676, 'gamma': 1.270019156488998, 'max_depth': 6, 'min_child_weight': 6, 'subsample': 0.9431000103531001, 'colsample_bytree': 0.6694291080219009}. Best is trial 26 with value: 0.6466257668711657.\n",
      "[I 2024-07-08 22:17:55,131] Trial 65 finished with value: 0.6466257668711657 and parameters: {'n_estimators': 562, 'learning_rate': 0.037409312052488604, 'gamma': 1.3816937534287308, 'max_depth': 5, 'min_child_weight': 10, 'subsample': 0.8699410886350338, 'colsample_bytree': 0.7512713955891202}. Best is trial 26 with value: 0.6466257668711657.\n",
      "[I 2024-07-08 22:18:01,418] Trial 66 finished with value: 0.6404907975460121 and parameters: {'n_estimators': 615, 'learning_rate': 0.018427687849007834, 'gamma': 1.5378313648007922, 'max_depth': 5, 'min_child_weight': 12, 'subsample': 0.9097569660763617, 'colsample_bytree': 0.6819976936639432}. Best is trial 26 with value: 0.6466257668711657.\n",
      "[I 2024-07-08 22:18:07,352] Trial 67 finished with value: 0.6423312883435581 and parameters: {'n_estimators': 565, 'learning_rate': 0.06603519589246268, 'gamma': 1.6842558452842171, 'max_depth': 5, 'min_child_weight': 10, 'subsample': 0.8696045545337934, 'colsample_bytree': 0.740991853790419}. Best is trial 26 with value: 0.6466257668711657.\n",
      "[I 2024-07-08 22:18:14,741] Trial 68 finished with value: 0.6404907975460123 and parameters: {'n_estimators': 653, 'learning_rate': 0.06671133421476215, 'gamma': 1.6760862462797086, 'max_depth': 5, 'min_child_weight': 10, 'subsample': 0.8672153623494903, 'colsample_bytree': 0.7462627058442778}. Best is trial 26 with value: 0.6466257668711657.\n",
      "[I 2024-07-08 22:18:20,420] Trial 69 finished with value: 0.6312883435582822 and parameters: {'n_estimators': 600, 'learning_rate': 0.19958848693988657, 'gamma': 1.765448605499091, 'max_depth': 4, 'min_child_weight': 9, 'subsample': 0.8449589758941396, 'colsample_bytree': 0.7551892949503359}. Best is trial 26 with value: 0.6466257668711657.\n",
      "[I 2024-07-08 22:18:27,999] Trial 70 finished with value: 0.6312883435582822 and parameters: {'n_estimators': 561, 'learning_rate': 0.2309190316005956, 'gamma': 1.8928833044115725, 'max_depth': 7, 'min_child_weight': 12, 'subsample': 0.9290917565849977, 'colsample_bytree': 0.7290042317656935}. Best is trial 26 with value: 0.6466257668711657.\n",
      "[I 2024-07-08 22:18:33,880] Trial 71 finished with value: 0.6466257668711656 and parameters: {'n_estimators': 501, 'learning_rate': 0.04959491291476356, 'gamma': 1.3627409053639947, 'max_depth': 5, 'min_child_weight': 11, 'subsample': 0.9831360871594339, 'colsample_bytree': 0.6007380044418865}. Best is trial 26 with value: 0.6466257668711657.\n",
      "[I 2024-07-08 22:18:39,103] Trial 72 finished with value: 0.6368098159509202 and parameters: {'n_estimators': 509, 'learning_rate': 0.05165033362955486, 'gamma': 1.227340282763048, 'max_depth': 5, 'min_child_weight': 10, 'subsample': 0.9858150644777481, 'colsample_bytree': 0.5913517546995675}. Best is trial 26 with value: 0.6466257668711657.\n",
      "[I 2024-07-08 22:18:43,770] Trial 73 finished with value: 0.6447852760736196 and parameters: {'n_estimators': 461, 'learning_rate': 0.04362567644874382, 'gamma': 1.627769576063787, 'max_depth': 5, 'min_child_weight': 11, 'subsample': 0.937138500682075, 'colsample_bytree': 0.5662024490848478}. Best is trial 26 with value: 0.6466257668711657.\n",
      "[I 2024-07-08 22:18:48,950] Trial 74 finished with value: 0.6429447852760737 and parameters: {'n_estimators': 474, 'learning_rate': 0.04956985084741289, 'gamma': 1.6025927592016465, 'max_depth': 6, 'min_child_weight': 11, 'subsample': 0.9552235993688127, 'colsample_bytree': 0.5068278191812078}. Best is trial 26 with value: 0.6466257668711657.\n",
      "[I 2024-07-08 22:18:55,018] Trial 75 finished with value: 0.6447852760736197 and parameters: {'n_estimators': 469, 'learning_rate': 0.04358949300768397, 'gamma': 1.4905841954090184, 'max_depth': 6, 'min_child_weight': 11, 'subsample': 0.9568634162281073, 'colsample_bytree': 0.5042634812276496}. Best is trial 26 with value: 0.6466257668711657.\n",
      "[I 2024-07-08 22:18:59,702] Trial 76 finished with value: 0.6453987730061349 and parameters: {'n_estimators': 389, 'learning_rate': 0.04254006514944611, 'gamma': 1.497155668671979, 'max_depth': 6, 'min_child_weight': 12, 'subsample': 0.9377306404068517, 'colsample_bytree': 0.5376550887670895}. Best is trial 26 with value: 0.6466257668711657.\n",
      "[I 2024-07-08 22:19:05,079] Trial 77 finished with value: 0.6460122699386504 and parameters: {'n_estimators': 387, 'learning_rate': 0.044033864868341994, 'gamma': 1.4872800803814676, 'max_depth': 7, 'min_child_weight': 12, 'subsample': 0.9339285055537496, 'colsample_bytree': 0.5430943570368476}. Best is trial 26 with value: 0.6466257668711657.\n",
      "[I 2024-07-08 22:19:10,051] Trial 78 finished with value: 0.6404907975460123 and parameters: {'n_estimators': 381, 'learning_rate': 0.040147275371972525, 'gamma': 1.466060045611587, 'max_depth': 7, 'min_child_weight': 12, 'subsample': 0.9356702307114023, 'colsample_bytree': 0.541725990003085}. Best is trial 26 with value: 0.6466257668711657.\n",
      "[I 2024-07-08 22:19:15,066] Trial 79 finished with value: 0.641717791411043 and parameters: {'n_estimators': 338, 'learning_rate': 0.04406064510390921, 'gamma': 1.5276755703861569, 'max_depth': 7, 'min_child_weight': 14, 'subsample': 0.914118287584901, 'colsample_bytree': 0.5585814255422709}. Best is trial 26 with value: 0.6466257668711657.\n",
      "[I 2024-07-08 22:19:19,499] Trial 80 finished with value: 0.638036809815951 and parameters: {'n_estimators': 312, 'learning_rate': 0.0566205700225747, 'gamma': 1.2925568716879905, 'max_depth': 8, 'min_child_weight': 11, 'subsample': 0.981785101302967, 'colsample_bytree': 0.5434062874636159}. Best is trial 26 with value: 0.6466257668711657.\n",
      "[I 2024-07-08 22:19:24,696] Trial 81 finished with value: 0.6453987730061349 and parameters: {'n_estimators': 406, 'learning_rate': 0.07366300959004649, 'gamma': 1.642189576094499, 'max_depth': 6, 'min_child_weight': 12, 'subsample': 0.960572698529488, 'colsample_bytree': 0.505972482174741}. Best is trial 26 with value: 0.6466257668711657.\n",
      "[I 2024-07-08 22:19:30,462] Trial 82 finished with value: 0.6466257668711657 and parameters: {'n_estimators': 419, 'learning_rate': 0.07406523008067056, 'gamma': 1.5807927892744675, 'max_depth': 6, 'min_child_weight': 12, 'subsample': 0.9612854203042446, 'colsample_bytree': 0.5016350135106523}. Best is trial 26 with value: 0.6466257668711657.\n",
      "[I 2024-07-08 22:19:35,330] Trial 83 finished with value: 0.6411042944785277 and parameters: {'n_estimators': 396, 'learning_rate': 0.07196817410167831, 'gamma': 1.4888538768941877, 'max_depth': 6, 'min_child_weight': 12, 'subsample': 0.9984842158199919, 'colsample_bytree': 0.5232938231477313}. Best is trial 26 with value: 0.6466257668711657.\n",
      "[I 2024-07-08 22:19:41,902] Trial 84 finished with value: 0.6435582822085889 and parameters: {'n_estimators': 419, 'learning_rate': 0.05895339747618847, 'gamma': 1.2143878064864562, 'max_depth': 6, 'min_child_weight': 12, 'subsample': 0.9662123265206912, 'colsample_bytree': 0.5053287442032974}. Best is trial 26 with value: 0.6466257668711657.\n",
      "[I 2024-07-08 22:19:45,864] Trial 85 finished with value: 0.6404907975460123 and parameters: {'n_estimators': 250, 'learning_rate': 0.03327323780949881, 'gamma': 1.5604518028360082, 'max_depth': 7, 'min_child_weight': 14, 'subsample': 0.9821691006833682, 'colsample_bytree': 0.5259317725128879}. Best is trial 26 with value: 0.6466257668711657.\n",
      "[I 2024-07-08 22:19:50,536] Trial 86 finished with value: 0.6447852760736197 and parameters: {'n_estimators': 367, 'learning_rate': 0.07568339615008854, 'gamma': 1.6290357772221624, 'max_depth': 6, 'min_child_weight': 10, 'subsample': 0.9084933319400795, 'colsample_bytree': 0.542684808866693}. Best is trial 26 with value: 0.6466257668711657.\n",
      "[I 2024-07-08 22:19:57,079] Trial 87 finished with value: 0.6411042944785277 and parameters: {'n_estimators': 340, 'learning_rate': 0.07748924725190365, 'gamma': 1.7527690918894594, 'max_depth': 9, 'min_child_weight': 10, 'subsample': 0.9145931170671222, 'colsample_bytree': 0.5412757744178369}. Best is trial 26 with value: 0.6466257668711657.\n",
      "[I 2024-07-08 22:20:01,856] Trial 88 finished with value: 0.6429447852760736 and parameters: {'n_estimators': 365, 'learning_rate': 0.07280889625209895, 'gamma': 1.651131638139058, 'max_depth': 6, 'min_child_weight': 12, 'subsample': 0.9050078202690346, 'colsample_bytree': 0.5157379101990617}. Best is trial 26 with value: 0.6466257668711657.\n",
      "[I 2024-07-08 22:20:06,126] Trial 89 finished with value: 0.6392638036809817 and parameters: {'n_estimators': 311, 'learning_rate': 0.05843225495700921, 'gamma': 1.51610442167172, 'max_depth': 6, 'min_child_weight': 15, 'subsample': 0.9297275932223069, 'colsample_bytree': 0.5020588053422189}. Best is trial 26 with value: 0.6466257668711657.\n",
      "[I 2024-07-08 22:20:13,636] Trial 90 finished with value: 0.6269938650306748 and parameters: {'n_estimators': 413, 'learning_rate': 0.01026567794524047, 'gamma': 1.592064139675796, 'max_depth': 7, 'min_child_weight': 1, 'subsample': 0.9581501130765231, 'colsample_bytree': 0.5334598832557418}. Best is trial 26 with value: 0.6466257668711657.\n",
      "[I 2024-07-08 22:20:21,509] Trial 91 finished with value: 0.6386503067484662 and parameters: {'n_estimators': 509, 'learning_rate': 0.09212388536168872, 'gamma': 1.4200826353265348, 'max_depth': 6, 'min_child_weight': 11, 'subsample': 0.9238849431405151, 'colsample_bytree': 0.5168557729985018}. Best is trial 26 with value: 0.6466257668711657.\n",
      "[I 2024-07-08 22:20:28,436] Trial 92 finished with value: 0.645398773006135 and parameters: {'n_estimators': 385, 'learning_rate': 0.04832105506391931, 'gamma': 1.313403547716807, 'max_depth': 8, 'min_child_weight': 13, 'subsample': 0.8911001888448045, 'colsample_bytree': 0.558465883205881}. Best is trial 26 with value: 0.6466257668711657.\n",
      "[I 2024-07-08 22:20:35,998] Trial 93 finished with value: 0.6447852760736196 and parameters: {'n_estimators': 391, 'learning_rate': 0.05003156125463222, 'gamma': 1.4511496441754088, 'max_depth': 8, 'min_child_weight': 13, 'subsample': 0.8941530881506828, 'colsample_bytree': 0.5558554081701605}. Best is trial 26 with value: 0.6466257668711657.\n",
      "[I 2024-07-08 22:20:42,416] Trial 94 finished with value: 0.6484662576687117 and parameters: {'n_estimators': 288, 'learning_rate': 0.061636330417928126, 'gamma': 1.3188541387846544, 'max_depth': 8, 'min_child_weight': 12, 'subsample': 0.8835081674578914, 'colsample_bytree': 0.5958189298247507}. Best is trial 94 with value: 0.6484662576687117.\n",
      "[I 2024-07-08 22:20:44,300] Trial 95 finished with value: 0.6312883435582821 and parameters: {'n_estimators': 102, 'learning_rate': 0.06109702412297088, 'gamma': 1.3176093506438356, 'max_depth': 8, 'min_child_weight': 12, 'subsample': 0.855897909572181, 'colsample_bytree': 0.6022714466926089}. Best is trial 94 with value: 0.6484662576687117.\n",
      "[I 2024-07-08 22:20:48,566] Trial 96 finished with value: 0.6429447852760737 and parameters: {'n_estimators': 248, 'learning_rate': 0.06723483807599558, 'gamma': 1.398315448595743, 'max_depth': 8, 'min_child_weight': 14, 'subsample': 0.8792873816520972, 'colsample_bytree': 0.5714206194336402}. Best is trial 94 with value: 0.6484662576687117.\n",
      "[I 2024-07-08 22:20:52,078] Trial 97 finished with value: 0.6374233128834356 and parameters: {'n_estimators': 198, 'learning_rate': 0.0352610064824471, 'gamma': 1.4909587618563669, 'max_depth': 7, 'min_child_weight': 13, 'subsample': 0.8238943727253747, 'colsample_bytree': 0.5566465053609291}. Best is trial 94 with value: 0.6484662576687117.\n",
      "[I 2024-07-08 22:20:57,569] Trial 98 finished with value: 0.6404907975460123 and parameters: {'n_estimators': 292, 'learning_rate': 0.049867064485739805, 'gamma': 1.199635155785689, 'max_depth': 9, 'min_child_weight': 13, 'subsample': 0.9416782208546208, 'colsample_bytree': 0.5157135530277327}. Best is trial 94 with value: 0.6484662576687117.\n",
      "[I 2024-07-08 22:21:04,499] Trial 99 finished with value: 0.6417177914110429 and parameters: {'n_estimators': 425, 'learning_rate': 0.045785893591042834, 'gamma': 1.102386096312007, 'max_depth': 9, 'min_child_weight': 14, 'subsample': 0.9617196897676455, 'colsample_bytree': 0.5957335811064527}. Best is trial 94 with value: 0.6484662576687117.\n"
     ]
    }
   ],
   "source": [
    "study = optuna.create_study(direction='maximize')\n",
    "study.optimize(objective, n_trials=100, show_progress_bar=True)"
   ]
  },
  {
   "cell_type": "code",
   "execution_count": 45,
   "id": "d08f6ab5-62c1-435d-9f71-ab5c581e4dcf",
   "metadata": {},
   "outputs": [
    {
     "name": "stdout",
     "output_type": "stream",
     "text": [
      "Best trial: FrozenTrial(number=94, state=1, values=[0.6484662576687117], datetime_start=datetime.datetime(2024, 7, 8, 22, 20, 36, 691), datetime_complete=datetime.datetime(2024, 7, 8, 22, 20, 42, 415751), params={'n_estimators': 288, 'learning_rate': 0.061636330417928126, 'gamma': 1.3188541387846544, 'max_depth': 8, 'min_child_weight': 12, 'subsample': 0.8835081674578914, 'colsample_bytree': 0.5958189298247507}, user_attrs={}, system_attrs={}, intermediate_values={}, distributions={'n_estimators': IntDistribution(high=1000, log=False, low=100, step=1), 'learning_rate': FloatDistribution(high=0.3, log=False, low=0.01, step=None), 'gamma': FloatDistribution(high=2.0, log=False, low=0.0, step=None), 'max_depth': IntDistribution(high=10, log=False, low=2, step=1), 'min_child_weight': IntDistribution(high=20, log=False, low=1, step=1), 'subsample': FloatDistribution(high=1.0, log=False, low=0.5, step=None), 'colsample_bytree': FloatDistribution(high=1.0, log=False, low=0.5, step=None)}, trial_id=94, value=None)\n",
      "Best hyperparameters: {'n_estimators': 288, 'learning_rate': 0.061636330417928126, 'gamma': 1.3188541387846544, 'max_depth': 8, 'min_child_weight': 12, 'subsample': 0.8835081674578914, 'colsample_bytree': 0.5958189298247507}\n"
     ]
    }
   ],
   "source": [
    "print(\"Best trial:\", study.best_trial)\n",
    "print(\"Best hyperparameters:\", study.best_params)"
   ]
  },
  {
   "cell_type": "code",
   "execution_count": null,
   "id": "e3dfffb5-2efe-48f0-ad0c-dc9b2dd770d5",
   "metadata": {},
   "outputs": [],
   "source": []
  }
 ],
 "metadata": {
  "kernelspec": {
   "display_name": "Python 3 (ipykernel)",
   "language": "python",
   "name": "python3"
  },
  "language_info": {
   "codemirror_mode": {
    "name": "ipython",
    "version": 3
   },
   "file_extension": ".py",
   "mimetype": "text/x-python",
   "name": "python",
   "nbconvert_exporter": "python",
   "pygments_lexer": "ipython3",
   "version": "3.11.5"
  }
 },
 "nbformat": 4,
 "nbformat_minor": 5
}

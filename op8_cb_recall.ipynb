{
 "cells": [
  {
   "cell_type": "markdown",
   "id": "b8305d2b-05a2-4c03-96c1-41a8ed3e3f4e",
   "metadata": {},
   "source": [
    "## CatBoost Hyperparameter Tuning (Recall)"
   ]
  },
  {
   "cell_type": "code",
   "execution_count": 10,
   "id": "1737f07b-25d7-4e9a-950e-c41ea036b4c4",
   "metadata": {
    "tags": []
   },
   "outputs": [],
   "source": [
    "# Load Libraries\n",
    "\n",
    "import pandas as pd\n",
    "import numpy as np\n",
    "\n",
    "from sklearn.model_selection import train_test_split, StratifiedKFold\n",
    "from sklearn.metrics import recall_score\n",
    "\n",
    "from catboost import CatBoostClassifier\n",
    "\n",
    "import optuna"
   ]
  },
  {
   "cell_type": "code",
   "execution_count": 11,
   "id": "34b40b44-1c92-4b9d-ad57-3cddb44f6f0f",
   "metadata": {
    "tags": []
   },
   "outputs": [],
   "source": [
    "# Load Data\n",
    "\n",
    "df = pd.read_csv('bank_4.csv', index_col=0)"
   ]
  },
  {
   "cell_type": "code",
   "execution_count": 14,
   "id": "e25031a8-fef1-4150-86e7-8b7e22f0a9bb",
   "metadata": {
    "tags": []
   },
   "outputs": [],
   "source": [
    "# Train / Test Split\n",
    "\n",
    "X = df.drop(columns=['churn', 'complain', 'umap_1', 'umap_2'])\n",
    "y = df['churn']\n",
    "\n",
    "X_train, X_test, y_train, y_test = train_test_split(X, y, test_size=0.2, stratify=y, random_state=42)"
   ]
  },
  {
   "cell_type": "code",
   "execution_count": 20,
   "id": "2b530e97-2bc3-4b3d-b9f8-eb4ed610ff66",
   "metadata": {
    "tags": []
   },
   "outputs": [],
   "source": [
    "# Hyperparameter tuning\n",
    "\n",
    "def objective(trial):\n",
    "    \n",
    "    params = {\n",
    "        'iterations': trial.suggest_int('iterations', 500, 1000),\n",
    "        'learning_rate': trial.suggest_float('learning_rate', 0.01, 0.1),\n",
    "        'depth': trial.suggest_int('depth', 6, 16),\n",
    "        'random_strength': trial.suggest_float('random_strength', 0.3, 1),\n",
    "        'bagging_temperature': trial.suggest_float('bagging_temperature', 0.1, 1.0),\n",
    "        'l2_leaf_reg': trial.suggest_float('l2_leaf_reg', 2.0, 10.0)\n",
    "    }\n",
    "\n",
    "    model = CatBoostClassifier(\n",
    "        **params,\n",
    "        verbose=0,\n",
    "        random_state=42)\n",
    "    \n",
    "    threshold = 0.29\n",
    "    \n",
    "    skf = StratifiedKFold(n_splits=5, random_state=42, shuffle=True)\n",
    "    scores = []\n",
    "    \n",
    "    for tr, te in skf.split(X_train, y_train):\n",
    "        \n",
    "        X_tr, X_te = X_train.iloc[tr], X_train.iloc[te]\n",
    "        y_tr, y_te = y_train.iloc[tr], y_train.iloc[te]\n",
    "        \n",
    "        model.fit(X_tr, y_tr)\n",
    "        prob = model.predict_proba(X_te)[:, 1]\n",
    "        y_pred = np.where(prob < threshold, 0, 1)\n",
    "        \n",
    "        scores.append(recall_score(y_te, y_pred))\n",
    "        \n",
    "    return np.mean(scores)"
   ]
  },
  {
   "cell_type": "code",
   "execution_count": 22,
   "id": "eb85a387-214c-480a-8a96-d69570dcbce9",
   "metadata": {
    "tags": []
   },
   "outputs": [
    {
     "name": "stderr",
     "output_type": "stream",
     "text": [
      "[I 2024-07-08 23:23:12,643] A new study created in memory with name: no-name-275468a2-d8a2-4356-9483-890c29739ae8\n"
     ]
    },
    {
     "data": {
      "application/vnd.jupyter.widget-view+json": {
       "model_id": "f3601d24cf1b4aeb8c1522802916e374",
       "version_major": 2,
       "version_minor": 0
      },
      "text/plain": [
       "  0%|          | 0/100 [00:00<?, ?it/s]"
      ]
     },
     "metadata": {},
     "output_type": "display_data"
    },
    {
     "name": "stdout",
     "output_type": "stream",
     "text": [
      "[I 2024-07-08 23:25:06,432] Trial 0 finished with value: 0.5539877300613496 and parameters: {'iterations': 896, 'learning_rate': 0.04717034219365293, 'depth': 14, 'random_strength': 0.8797714361731837, 'bagging_temperature': 0.9920666119693674, 'l2_leaf_reg': 4.191741545235302}. Best is trial 0 with value: 0.5539877300613496.\n",
      "[I 2024-07-08 23:25:38,676] Trial 1 finished with value: 0.5687116564417178 and parameters: {'iterations': 502, 'learning_rate': 0.06823524196549374, 'depth': 13, 'random_strength': 0.5623614949528171, 'bagging_temperature': 0.491102258505801, 'l2_leaf_reg': 7.916810708323666}. Best is trial 1 with value: 0.5687116564417178.\n",
      "[I 2024-07-08 23:25:50,232] Trial 2 finished with value: 0.5957055214723926 and parameters: {'iterations': 939, 'learning_rate': 0.028985324053387343, 'depth': 9, 'random_strength': 0.906565002666909, 'bagging_temperature': 0.5326567053418519, 'l2_leaf_reg': 7.293269291753438}. Best is trial 2 with value: 0.5957055214723926.\n",
      "[I 2024-07-08 23:34:18,468] Trial 3 finished with value: 0.5938650306748466 and parameters: {'iterations': 786, 'learning_rate': 0.04373782652419313, 'depth': 16, 'random_strength': 0.36744586424857906, 'bagging_temperature': 0.9219496068206293, 'l2_leaf_reg': 5.537658862998386}. Best is trial 2 with value: 0.5957055214723926.\n",
      "[I 2024-07-08 23:35:10,555] Trial 4 finished with value: 0.5453987730061349 and parameters: {'iterations': 805, 'learning_rate': 0.07535261261988013, 'depth': 13, 'random_strength': 0.6160828947377514, 'bagging_temperature': 0.6698804672307206, 'l2_leaf_reg': 5.215638952209237}. Best is trial 2 with value: 0.5957055214723926.\n",
      "[I 2024-07-08 23:35:16,229] Trial 5 finished with value: 0.6165644171779141 and parameters: {'iterations': 719, 'learning_rate': 0.07931541787837189, 'depth': 6, 'random_strength': 0.6437124835393583, 'bagging_temperature': 0.6386976826950491, 'l2_leaf_reg': 7.964240524853188}. Best is trial 5 with value: 0.6165644171779141.\n",
      "[I 2024-07-08 23:35:26,698] Trial 6 finished with value: 0.6171779141104294 and parameters: {'iterations': 675, 'learning_rate': 0.023297478496750297, 'depth': 10, 'random_strength': 0.3993388438888078, 'bagging_temperature': 0.5811375967097175, 'l2_leaf_reg': 8.913058374678652}. Best is trial 6 with value: 0.6171779141104294.\n",
      "[I 2024-07-08 23:35:46,928] Trial 7 finished with value: 0.5466257668711656 and parameters: {'iterations': 897, 'learning_rate': 0.09595608664104001, 'depth': 11, 'random_strength': 0.53695938634341, 'bagging_temperature': 0.1364601684666513, 'l2_leaf_reg': 7.525700085838128}. Best is trial 6 with value: 0.6171779141104294.\n",
      "[I 2024-07-08 23:35:54,471] Trial 8 finished with value: 0.6165644171779141 and parameters: {'iterations': 738, 'learning_rate': 0.03544908237843719, 'depth': 8, 'random_strength': 0.35201908350492594, 'bagging_temperature': 0.44964631053227166, 'l2_leaf_reg': 5.565178817357286}. Best is trial 6 with value: 0.6171779141104294.\n",
      "[I 2024-07-08 23:36:13,594] Trial 9 finished with value: 0.5552147239263804 and parameters: {'iterations': 842, 'learning_rate': 0.062103541155055494, 'depth': 11, 'random_strength': 0.5422934238329232, 'bagging_temperature': 0.2904014049607301, 'l2_leaf_reg': 6.810135620225911}. Best is trial 6 with value: 0.6171779141104294.\n",
      "[I 2024-07-08 23:36:20,634] Trial 10 finished with value: 0.6386503067484662 and parameters: {'iterations': 587, 'learning_rate': 0.01277893680782077, 'depth': 9, 'random_strength': 0.8085756474793864, 'bagging_temperature': 0.7783720737947232, 'l2_leaf_reg': 9.860056893692569}. Best is trial 10 with value: 0.6386503067484662.\n",
      "[I 2024-07-08 23:36:27,994] Trial 11 finished with value: 0.6404907975460123 and parameters: {'iterations': 606, 'learning_rate': 0.010073265437536881, 'depth': 9, 'random_strength': 0.7818764627426449, 'bagging_temperature': 0.7962155939709135, 'l2_leaf_reg': 9.80515536352708}. Best is trial 11 with value: 0.6404907975460123.\n",
      "[I 2024-07-08 23:36:33,067] Trial 12 finished with value: 0.6478527607361964 and parameters: {'iterations': 581, 'learning_rate': 0.014913469814836098, 'depth': 7, 'random_strength': 0.7838537034557636, 'bagging_temperature': 0.7955888793409429, 'l2_leaf_reg': 9.645610741357919}. Best is trial 12 with value: 0.6478527607361964.\n",
      "[I 2024-07-08 23:36:37,654] Trial 13 finished with value: 0.6355828220858896 and parameters: {'iterations': 582, 'learning_rate': 0.011025699699432793, 'depth': 6, 'random_strength': 0.7594487963885985, 'bagging_temperature': 0.8051961062071061, 'l2_leaf_reg': 9.944666728168881}. Best is trial 12 with value: 0.6478527607361964.\n",
      "[I 2024-07-08 23:36:43,187] Trial 14 finished with value: 0.6325153374233128 and parameters: {'iterations': 632, 'learning_rate': 0.020756464763662143, 'depth': 7, 'random_strength': 0.7547966603722303, 'bagging_temperature': 0.8115818564535836, 'l2_leaf_reg': 2.1265484617466264}. Best is trial 12 with value: 0.6478527607361964.\n",
      "[I 2024-07-08 23:36:48,366] Trial 15 finished with value: 0.6269938650306748 and parameters: {'iterations': 504, 'learning_rate': 0.03689160427645918, 'depth': 8, 'random_strength': 0.9847175789214953, 'bagging_temperature': 0.7251817528143724, 'l2_leaf_reg': 9.01103657703393}. Best is trial 12 with value: 0.6478527607361964.\n",
      "[I 2024-07-08 23:36:54,189] Trial 16 finished with value: 0.6429447852760736 and parameters: {'iterations': 578, 'learning_rate': 0.010255660925352867, 'depth': 8, 'random_strength': 0.7185675260549952, 'bagging_temperature': 0.8716956317233837, 'l2_leaf_reg': 9.046722825440167}. Best is trial 12 with value: 0.6478527607361964.\n",
      "[I 2024-07-08 23:36:58,939] Trial 17 finished with value: 0.6257668711656442 and parameters: {'iterations': 545, 'learning_rate': 0.05275670721389564, 'depth': 7, 'random_strength': 0.6819952518059581, 'bagging_temperature': 0.9140962157416475, 'l2_leaf_reg': 8.54149614099287}. Best is trial 12 with value: 0.6478527607361964.\n",
      "[I 2024-07-08 23:37:04,780] Trial 18 finished with value: 0.6368098159509203 and parameters: {'iterations': 666, 'learning_rate': 0.024975420680242402, 'depth': 7, 'random_strength': 0.8752458710392045, 'bagging_temperature': 0.9157448438297989, 'l2_leaf_reg': 6.371667343317524}. Best is trial 12 with value: 0.6478527607361964.\n",
      "[I 2024-07-08 23:37:15,457] Trial 19 finished with value: 0.5773006134969325 and parameters: {'iterations': 673, 'learning_rate': 0.03451207743008107, 'depth': 10, 'random_strength': 0.9938755330282714, 'bagging_temperature': 0.41916994064923047, 'l2_leaf_reg': 3.6533825641875675}. Best is trial 12 with value: 0.6478527607361964.\n",
      "[I 2024-07-08 23:37:23,370] Trial 20 finished with value: 0.641717791411043 and parameters: {'iterations': 1000, 'learning_rate': 0.018738666353465508, 'depth': 6, 'random_strength': 0.6944136846596699, 'bagging_temperature': 0.9830244733838196, 'l2_leaf_reg': 8.825664252804826}. Best is trial 12 with value: 0.6478527607361964.\n",
      "[I 2024-07-08 23:37:30,940] Trial 21 finished with value: 0.6423312883435582 and parameters: {'iterations': 950, 'learning_rate': 0.018551378688646793, 'depth': 6, 'random_strength': 0.6816897036576026, 'bagging_temperature': 0.9975511494192463, 'l2_leaf_reg': 8.959350755851883}. Best is trial 12 with value: 0.6478527607361964.\n",
      "[I 2024-07-08 23:37:36,530] Trial 22 finished with value: 0.6417177914110429 and parameters: {'iterations': 558, 'learning_rate': 0.017273478889394824, 'depth': 8, 'random_strength': 0.7281527227142407, 'bagging_temperature': 0.8670738191011946, 'l2_leaf_reg': 9.265303170866355}. Best is trial 12 with value: 0.6478527607361964.\n",
      "[I 2024-07-08 23:37:45,827] Trial 23 finished with value: 0.6184049079754602 and parameters: {'iterations': 983, 'learning_rate': 0.02827619583225359, 'depth': 7, 'random_strength': 0.46746113804822026, 'bagging_temperature': 0.6935531728815543, 'l2_leaf_reg': 8.163039113810099}. Best is trial 12 with value: 0.6478527607361964.\n",
      "[I 2024-07-08 23:37:50,795] Trial 24 finished with value: 0.6441717791411044 and parameters: {'iterations': 628, 'learning_rate': 0.01802151173797548, 'depth': 6, 'random_strength': 0.8367003425677904, 'bagging_temperature': 0.8748611144310211, 'l2_leaf_reg': 9.38815731300392}. Best is trial 12 with value: 0.6478527607361964.\n",
      "[I 2024-07-08 23:37:57,213] Trial 25 finished with value: 0.6337423312883435 and parameters: {'iterations': 639, 'learning_rate': 0.029691459747574298, 'depth': 8, 'random_strength': 0.8390026301208114, 'bagging_temperature': 0.7488004629270081, 'l2_leaf_reg': 9.422876840340113}. Best is trial 12 with value: 0.6478527607361964.\n",
      "[I 2024-07-08 23:38:40,849] Trial 26 finished with value: 0.6073619631901841 and parameters: {'iterations': 539, 'learning_rate': 0.04065038056959517, 'depth': 10, 'random_strength': 0.9201508862332282, 'bagging_temperature': 0.8407002290594465, 'l2_leaf_reg': 8.369331596638045}. Best is trial 12 with value: 0.6478527607361964.\n",
      "[I 2024-07-08 23:38:47,000] Trial 27 finished with value: 0.6441717791411042 and parameters: {'iterations': 714, 'learning_rate': 0.015449358127127878, 'depth': 7, 'random_strength': 0.8355251667351331, 'bagging_temperature': 0.5952202355396585, 'l2_leaf_reg': 7.188925712615642}. Best is trial 12 with value: 0.6478527607361964.\n",
      "[I 2024-07-08 23:38:52,664] Trial 28 finished with value: 0.6312883435582822 and parameters: {'iterations': 706, 'learning_rate': 0.05125936169338061, 'depth': 6, 'random_strength': 0.820213581046748, 'bagging_temperature': 0.59871669879367, 'l2_leaf_reg': 7.143932472014796}. Best is trial 12 with value: 0.6478527607361964.\n",
      "[I 2024-07-09 00:09:31,213] Trial 29 finished with value: 0.560122699386503 and parameters: {'iterations': 780, 'learning_rate': 0.04535587594641276, 'depth': 12, 'random_strength': 0.8633283209729995, 'bagging_temperature': 0.348858760091336, 'l2_leaf_reg': 4.50018378626016}. Best is trial 12 with value: 0.6478527607361964.\n",
      "[I 2024-07-09 00:12:06,120] Trial 30 finished with value: 0.558282208588957 and parameters: {'iterations': 637, 'learning_rate': 0.05872313682737836, 'depth': 15, 'random_strength': 0.9098121936697333, 'bagging_temperature': 0.6290338967380699, 'l2_leaf_reg': 6.5168475721918115}. Best is trial 12 with value: 0.6478527607361964.\n",
      "[I 2024-07-09 00:12:11,500] Trial 31 finished with value: 0.6447852760736196 and parameters: {'iterations': 604, 'learning_rate': 0.016860801574529412, 'depth': 7, 'random_strength': 0.7963909599081038, 'bagging_temperature': 0.8702013787320443, 'l2_leaf_reg': 9.340570184347579}. Best is trial 12 with value: 0.6478527607361964.\n",
      "[I 2024-07-09 00:12:16,971] Trial 32 finished with value: 0.645398773006135 and parameters: {'iterations': 617, 'learning_rate': 0.01640081082133157, 'depth': 7, 'random_strength': 0.7877147091583875, 'bagging_temperature': 0.7254111898887652, 'l2_leaf_reg': 9.539879818237202}. Best is trial 12 with value: 0.6478527607361964.\n",
      "[I 2024-07-09 00:12:22,606] Trial 33 finished with value: 0.6368098159509203 and parameters: {'iterations': 618, 'learning_rate': 0.02552178627587027, 'depth': 7, 'random_strength': 0.7946659388749122, 'bagging_temperature': 0.7009272486376119, 'l2_leaf_reg': 9.521205794886878}. Best is trial 12 with value: 0.6478527607361964.\n",
      "[I 2024-07-09 00:12:29,115] Trial 34 finished with value: 0.6214723926380368 and parameters: {'iterations': 525, 'learning_rate': 0.030819003852605893, 'depth': 9, 'random_strength': 0.9521492392694241, 'bagging_temperature': 0.9578477398889204, 'l2_leaf_reg': 7.857994411672567}. Best is trial 12 with value: 0.6478527607361964.\n",
      "[I 2024-07-09 00:12:33,884] Trial 35 finished with value: 0.6447852760736195 and parameters: {'iterations': 599, 'learning_rate': 0.022141351322754667, 'depth': 6, 'random_strength': 0.5931142442948618, 'bagging_temperature': 0.8648770209426491, 'l2_leaf_reg': 8.53988609591712}. Best is trial 12 with value: 0.6478527607361964.\n",
      "[I 2024-07-09 00:12:38,895] Trial 36 finished with value: 0.645398773006135 and parameters: {'iterations': 566, 'learning_rate': 0.022289991902464577, 'depth': 7, 'random_strength': 0.5984145031877193, 'bagging_temperature': 0.7504271207059554, 'l2_leaf_reg': 8.618488499644362}. Best is trial 12 with value: 0.6478527607361964.\n",
      "[I 2024-07-09 00:12:45,821] Trial 37 finished with value: 0.638036809815951 and parameters: {'iterations': 564, 'learning_rate': 0.014409017586781793, 'depth': 9, 'random_strength': 0.6362553203518821, 'bagging_temperature': 0.52493644343466, 'l2_leaf_reg': 7.704802204147876}. Best is trial 12 with value: 0.6478527607361964.\n",
      "[I 2024-07-09 00:12:50,958] Trial 38 finished with value: 0.6018404907975461 and parameters: {'iterations': 501, 'learning_rate': 0.08369959481827663, 'depth': 8, 'random_strength': 0.5033485804133455, 'bagging_temperature': 0.7500684945364069, 'l2_leaf_reg': 9.61619235562481}. Best is trial 12 with value: 0.6478527607361964.\n",
      "[I 2024-07-09 00:14:11,911] Trial 39 finished with value: 0.5865030674846626 and parameters: {'iterations': 666, 'learning_rate': 0.04123087827727341, 'depth': 14, 'random_strength': 0.597290894895334, 'bagging_temperature': 0.6735153509890632, 'l2_leaf_reg': 8.515336859195404}. Best is trial 12 with value: 0.6478527607361964.\n",
      "[I 2024-07-09 00:14:37,239] Trial 40 finished with value: 0.587116564417178 and parameters: {'iterations': 695, 'learning_rate': 0.03279785326550281, 'depth': 12, 'random_strength': 0.42504188750303595, 'bagging_temperature': 0.6385697549255984, 'l2_leaf_reg': 9.99655933109869}. Best is trial 12 with value: 0.6478527607361964.\n",
      "[I 2024-07-09 00:14:42,525] Trial 41 finished with value: 0.6496932515337422 and parameters: {'iterations': 598, 'learning_rate': 0.023443878098496275, 'depth': 7, 'random_strength': 0.5850280189408111, 'bagging_temperature': 0.8338604000665841, 'l2_leaf_reg': 8.631900728051564}. Best is trial 41 with value: 0.6496932515337422.\n",
      "[I 2024-07-09 00:14:47,684] Trial 42 finished with value: 0.6447852760736197 and parameters: {'iterations': 564, 'learning_rate': 0.022468513653692963, 'depth': 7, 'random_strength': 0.5748788906915842, 'bagging_temperature': 0.7586453652644577, 'l2_leaf_reg': 8.160119771682167}. Best is trial 41 with value: 0.6496932515337422.\n",
      "[I 2024-07-09 00:14:53,102] Trial 43 finished with value: 0.6343558282208589 and parameters: {'iterations': 531, 'learning_rate': 0.026218702459738515, 'depth': 8, 'random_strength': 0.5694590580201023, 'bagging_temperature': 0.7608280956126664, 'l2_leaf_reg': 7.5666221171255845}. Best is trial 41 with value: 0.6496932515337422.\n",
      "[I 2024-07-09 00:14:58,052] Trial 44 finished with value: 0.6423312883435583 and parameters: {'iterations': 560, 'learning_rate': 0.020679627439676006, 'depth': 7, 'random_strength': 0.5070372164216229, 'bagging_temperature': 0.8183558028482253, 'l2_leaf_reg': 8.02481889828999}. Best is trial 41 with value: 0.6496932515337422.\n",
      "[I 2024-07-09 00:15:07,311] Trial 45 finished with value: 0.5987730061349692 and parameters: {'iterations': 582, 'learning_rate': 0.038043517077760304, 'depth': 10, 'random_strength': 0.6481864986619753, 'bagging_temperature': 0.709431413867404, 'l2_leaf_reg': 8.638830702064915}. Best is trial 41 with value: 0.6496932515337422.\n",
      "[I 2024-07-09 00:15:15,360] Trial 46 finished with value: 0.5828220858895705 and parameters: {'iterations': 652, 'learning_rate': 0.0707713605826238, 'depth': 9, 'random_strength': 0.30207126002758955, 'bagging_temperature': 0.11651979231122617, 'l2_leaf_reg': 8.187805952120424}. Best is trial 41 with value: 0.6496932515337422.\n",
      "[I 2024-07-09 00:15:20,883] Trial 47 finished with value: 0.6294478527607362 and parameters: {'iterations': 520, 'learning_rate': 0.023295046078638266, 'depth': 8, 'random_strength': 0.5571893979194469, 'bagging_temperature': 0.7799456058930625, 'l2_leaf_reg': 5.839861523299802}. Best is trial 41 with value: 0.6496932515337422.\n",
      "[I 2024-07-09 00:15:26,916] Trial 48 finished with value: 0.639877300613497 and parameters: {'iterations': 745, 'learning_rate': 0.02858856887275475, 'depth': 6, 'random_strength': 0.6134689834246769, 'bagging_temperature': 0.7341263974909239, 'l2_leaf_reg': 9.048622541216165}. Best is trial 41 with value: 0.6496932515337422.\n",
      "[I 2024-07-09 00:15:34,372] Trial 49 finished with value: 0.6423312883435581 and parameters: {'iterations': 839, 'learning_rate': 0.012296593943571823, 'depth': 7, 'random_strength': 0.4639848604343921, 'bagging_temperature': 0.8257508065667939, 'l2_leaf_reg': 5.085787503806148}. Best is trial 41 with value: 0.6496932515337422.\n",
      "[I 2024-07-09 00:15:41,970] Trial 50 finished with value: 0.5711656441717792 and parameters: {'iterations': 598, 'learning_rate': 0.09928751039903222, 'depth': 9, 'random_strength': 0.513025879214213, 'bagging_temperature': 0.5466826437153954, 'l2_leaf_reg': 9.795435036721923}. Best is trial 41 with value: 0.6496932515337422.\n",
      "[I 2024-07-09 00:15:47,387] Trial 51 finished with value: 0.6429447852760737 and parameters: {'iterations': 611, 'learning_rate': 0.013908116867085709, 'depth': 7, 'random_strength': 0.7471469336410638, 'bagging_temperature': 0.9220202125788779, 'l2_leaf_reg': 9.256998497015797}. Best is trial 41 with value: 0.6496932515337422.\n",
      "[I 2024-07-09 00:15:52,349] Trial 52 finished with value: 0.647239263803681 and parameters: {'iterations': 570, 'learning_rate': 0.02220949673853767, 'depth': 7, 'random_strength': 0.7805506425318977, 'bagging_temperature': 0.782855544321633, 'l2_leaf_reg': 8.839752143504235}. Best is trial 41 with value: 0.6496932515337422.\n",
      "[I 2024-07-09 00:15:58,091] Trial 53 finished with value: 0.6361963190184048 and parameters: {'iterations': 563, 'learning_rate': 0.02169795095309835, 'depth': 8, 'random_strength': 0.6678539660013959, 'bagging_temperature': 0.18763530492507718, 'l2_leaf_reg': 8.79963528814383}. Best is trial 41 with value: 0.6496932515337422.\n",
      "[I 2024-07-09 00:16:03,207] Trial 54 finished with value: 0.6417177914110429 and parameters: {'iterations': 578, 'learning_rate': 0.025816509071975573, 'depth': 7, 'random_strength': 0.7074232785710105, 'bagging_temperature': 0.7870388166196604, 'l2_leaf_reg': 8.245913563203882}. Best is trial 41 with value: 0.6496932515337422.\n",
      "[I 2024-07-09 00:16:07,623] Trial 55 finished with value: 0.6404907975460123 and parameters: {'iterations': 553, 'learning_rate': 0.03148304161244918, 'depth': 6, 'random_strength': 0.5790146675841689, 'bagging_temperature': 0.6875029657580772, 'l2_leaf_reg': 9.724184577244325}. Best is trial 41 with value: 0.6496932515337422.\n",
      "[I 2024-07-09 00:16:12,160] Trial 56 finished with value: 0.645398773006135 and parameters: {'iterations': 513, 'learning_rate': 0.020427416281860383, 'depth': 7, 'random_strength': 0.6234833038645599, 'bagging_temperature': 0.6537137111076039, 'l2_leaf_reg': 7.412968982958492}. Best is trial 41 with value: 0.6496932515337422.\n",
      "[I 2024-07-09 00:16:16,347] Trial 57 finished with value: 0.6300613496932516 and parameters: {'iterations': 517, 'learning_rate': 0.010380664963613184, 'depth': 6, 'random_strength': 0.7635827158254662, 'bagging_temperature': 0.646727744756068, 'l2_leaf_reg': 6.9850239934451706}. Best is trial 41 with value: 0.6496932515337422.\n",
      "[I 2024-07-09 00:21:26,385] Trial 58 finished with value: 0.6239263803680982 and parameters: {'iterations': 541, 'learning_rate': 0.019262523626365963, 'depth': 16, 'random_strength': 0.633418322794574, 'bagging_temperature': 0.7281505472041846, 'l2_leaf_reg': 7.530632424065165}. Best is trial 41 with value: 0.6496932515337422.\n",
      "[I 2024-07-09 00:21:32,357] Trial 59 finished with value: 0.6294478527607362 and parameters: {'iterations': 588, 'learning_rate': 0.014432485790888482, 'depth': 8, 'random_strength': 0.7341664194089766, 'bagging_temperature': 0.6544026049212833, 'l2_leaf_reg': 2.441073200078063}. Best is trial 41 with value: 0.6496932515337422.\n",
      "[I 2024-07-09 00:21:37,455] Trial 60 finished with value: 0.6312883435582822 and parameters: {'iterations': 500, 'learning_rate': 0.035647304578340325, 'depth': 8, 'random_strength': 0.679223288584295, 'bagging_temperature': 0.90194330926121, 'l2_leaf_reg': 9.046808053206922}. Best is trial 41 with value: 0.6496932515337422.\n",
      "[I 2024-07-09 00:21:42,510] Trial 61 finished with value: 0.641717791411043 and parameters: {'iterations': 575, 'learning_rate': 0.023327793891320114, 'depth': 7, 'random_strength': 0.538858665608774, 'bagging_temperature': 0.7742856601205504, 'l2_leaf_reg': 8.737886347688145}. Best is trial 41 with value: 0.6496932515337422.\n",
      "[I 2024-07-09 00:21:46,939] Trial 62 finished with value: 0.6423312883435582 and parameters: {'iterations': 544, 'learning_rate': 0.027513388016999644, 'depth': 6, 'random_strength': 0.6167156245144134, 'bagging_temperature': 0.8401122834481077, 'l2_leaf_reg': 7.837608594016929}. Best is trial 41 with value: 0.6496932515337422.\n",
      "[I 2024-07-09 00:21:52,436] Trial 63 finished with value: 0.6392638036809817 and parameters: {'iterations': 618, 'learning_rate': 0.016602136282726297, 'depth': 7, 'random_strength': 0.555952651631891, 'bagging_temperature': 0.7999062398810362, 'l2_leaf_reg': 9.166239352986434}. Best is trial 41 with value: 0.6496932515337422.\n",
      "[I 2024-07-09 00:21:57,784] Trial 64 finished with value: 0.6398773006134969 and parameters: {'iterations': 516, 'learning_rate': 0.019482392594506615, 'depth': 8, 'random_strength': 0.7721050680502257, 'bagging_temperature': 0.750859974810735, 'l2_leaf_reg': 8.408874265601096}. Best is trial 41 with value: 0.6496932515337422.\n",
      "[I 2024-07-09 00:22:03,491] Trial 65 finished with value: 0.6380368098159509 and parameters: {'iterations': 650, 'learning_rate': 0.023800073211039413, 'depth': 7, 'random_strength': 0.665611395289703, 'bagging_temperature': 0.7114422546527205, 'l2_leaf_reg': 8.806731519996326}. Best is trial 41 with value: 0.6496932515337422.\n",
      "[I 2024-07-09 00:22:08,048] Trial 66 finished with value: 0.6122699386503067 and parameters: {'iterations': 569, 'learning_rate': 0.08870177052064931, 'depth': 6, 'random_strength': 0.6163518576801316, 'bagging_temperature': 0.604070936643803, 'l2_leaf_reg': 6.636653075108782}. Best is trial 41 with value: 0.6496932515337422.\n",
      "[I 2024-07-09 00:22:13,275] Trial 67 finished with value: 0.6398773006134969 and parameters: {'iterations': 594, 'learning_rate': 0.016161272328384872, 'depth': 7, 'random_strength': 0.8711983417291409, 'bagging_temperature': 0.6721671043754982, 'l2_leaf_reg': 9.515066644148643}. Best is trial 41 with value: 0.6496932515337422.\n",
      "[I 2024-07-09 00:22:21,100] Trial 68 finished with value: 0.6134969325153374 and parameters: {'iterations': 622, 'learning_rate': 0.0335455270097862, 'depth': 9, 'random_strength': 0.5883593231863825, 'bagging_temperature': 0.8430123440066504, 'l2_leaf_reg': 7.312421485254655}. Best is trial 41 with value: 0.6496932515337422.\n",
      "[I 2024-07-09 00:22:26,033] Trial 69 finished with value: 0.6429447852760737 and parameters: {'iterations': 535, 'learning_rate': 0.012899697480075276, 'depth': 7, 'random_strength': 0.8211656365788074, 'bagging_temperature': 0.4922591036555159, 'l2_leaf_reg': 6.201546620750485}. Best is trial 41 with value: 0.6496932515337422.\n",
      "[I 2024-07-09 00:22:33,893] Trial 70 finished with value: 0.6398773006134969 and parameters: {'iterations': 770, 'learning_rate': 0.020776958271888128, 'depth': 8, 'random_strength': 0.47365548487669873, 'bagging_temperature': 0.9489549151901167, 'l2_leaf_reg': 7.933892116918158}. Best is trial 41 with value: 0.6496932515337422.\n",
      "[I 2024-07-09 00:22:39,276] Trial 71 finished with value: 0.6447852760736197 and parameters: {'iterations': 607, 'learning_rate': 0.016886519170906777, 'depth': 7, 'random_strength': 0.7927305343312451, 'bagging_temperature': 0.8815126350772675, 'l2_leaf_reg': 9.31350496208745}. Best is trial 41 with value: 0.6496932515337422.\n",
      "[I 2024-07-09 00:22:44,712] Trial 72 finished with value: 0.647239263803681 and parameters: {'iterations': 688, 'learning_rate': 0.018384912591440615, 'depth': 6, 'random_strength': 0.7885073961279802, 'bagging_temperature': 0.8118538015438099, 'l2_leaf_reg': 9.238715876162576}. Best is trial 41 with value: 0.6496932515337422.\n",
      "[I 2024-07-09 00:22:50,287] Trial 73 finished with value: 0.6398773006134969 and parameters: {'iterations': 687, 'learning_rate': 0.02939883646849158, 'depth': 6, 'random_strength': 0.7005665153647497, 'bagging_temperature': 0.8027366948827444, 'l2_leaf_reg': 8.32917393436963}. Best is trial 41 with value: 0.6496932515337422.\n",
      "[I 2024-07-09 00:22:55,434] Trial 74 finished with value: 0.638036809815951 and parameters: {'iterations': 646, 'learning_rate': 0.023796055295279808, 'depth': 6, 'random_strength': 0.851632376342825, 'bagging_temperature': 0.7647858359716259, 'l2_leaf_reg': 9.664910952846355}. Best is trial 41 with value: 0.6496932515337422.\n",
      "[I 2024-07-09 00:22:59,886] Trial 75 finished with value: 0.645398773006135 and parameters: {'iterations': 549, 'learning_rate': 0.019532267502299465, 'depth': 6, 'random_strength': 0.7272203839118588, 'bagging_temperature': 0.737266960070689, 'l2_leaf_reg': 8.934559301461253}. Best is trial 41 with value: 0.6496932515337422.\n",
      "[I 2024-07-09 00:23:04,241] Trial 76 finished with value: 0.6368098159509202 and parameters: {'iterations': 551, 'learning_rate': 0.04927250868590432, 'depth': 6, 'random_strength': 0.7440024256151541, 'bagging_temperature': 0.7285997787514166, 'l2_leaf_reg': 8.910654105425708}. Best is trial 41 with value: 0.6496932515337422.\n",
      "[I 2024-07-09 00:23:09,588] Trial 77 finished with value: 0.6447852760736195 and parameters: {'iterations': 662, 'learning_rate': 0.019001627778297024, 'depth': 6, 'random_strength': 0.8121657046616666, 'bagging_temperature': 0.8440636157653503, 'l2_leaf_reg': 9.157121558208239}. Best is trial 41 with value: 0.6496932515337422.\n",
      "[I 2024-07-09 00:23:15,316] Trial 78 finished with value: 0.6417177914110429 and parameters: {'iterations': 727, 'learning_rate': 0.01226102650791874, 'depth': 6, 'random_strength': 0.8921111672688963, 'bagging_temperature': 0.579329163046825, 'l2_leaf_reg': 9.869959076126202}. Best is trial 41 with value: 0.6496932515337422.\n",
      "[I 2024-07-09 00:23:21,172] Trial 79 finished with value: 0.6429447852760737 and parameters: {'iterations': 634, 'learning_rate': 0.010181974608965317, 'depth': 7, 'random_strength': 0.7731457711619683, 'bagging_temperature': 0.8143994384025797, 'l2_leaf_reg': 9.490413522784168}. Best is trial 41 with value: 0.6496932515337422.\n",
      "[I 2024-07-09 00:23:25,329] Trial 80 finished with value: 0.6349693251533742 and parameters: {'iterations': 515, 'learning_rate': 0.06379815378145072, 'depth': 6, 'random_strength': 0.7176292404942559, 'bagging_temperature': 0.6945281386907368, 'l2_leaf_reg': 8.644651008430289}. Best is trial 41 with value: 0.6496932515337422.\n",
      "[I 2024-07-09 00:23:30,358] Trial 81 finished with value: 0.638036809815951 and parameters: {'iterations': 569, 'learning_rate': 0.026714900407405984, 'depth': 7, 'random_strength': 0.782591218688471, 'bagging_temperature': 0.7426541235698998, 'l2_leaf_reg': 8.169120798635586}. Best is trial 41 with value: 0.6496932515337422.\n",
      "[I 2024-07-09 00:23:35,598] Trial 82 finished with value: 0.6435582822085889 and parameters: {'iterations': 591, 'learning_rate': 0.020853525622104827, 'depth': 7, 'random_strength': 0.5235103880400339, 'bagging_temperature': 0.7812953621991625, 'l2_leaf_reg': 8.878774683545135}. Best is trial 41 with value: 0.6496932515337422.\n",
      "[I 2024-07-09 00:23:40,492] Trial 83 finished with value: 0.6466257668711657 and parameters: {'iterations': 552, 'learning_rate': 0.015100292295281094, 'depth': 7, 'random_strength': 0.6071796505823907, 'bagging_temperature': 0.6194938277069163, 'l2_leaf_reg': 8.560935864320903}. Best is trial 41 with value: 0.6496932515337422.\n",
      "[I 2024-07-09 00:23:45,874] Trial 84 finished with value: 0.6447852760736196 and parameters: {'iterations': 533, 'learning_rate': 0.015143277508710237, 'depth': 8, 'random_strength': 0.6551870312011014, 'bagging_temperature': 0.6067440470424869, 'l2_leaf_reg': 8.524971444472357}. Best is trial 41 with value: 0.6496932515337422.\n",
      "[I 2024-07-09 00:23:50,963] Trial 85 finished with value: 0.6447852760736197 and parameters: {'iterations': 553, 'learning_rate': 0.018630085672071035, 'depth': 7, 'random_strength': 0.6266626576187747, 'bagging_temperature': 0.6735592783269826, 'l2_leaf_reg': 9.358322453853365}. Best is trial 41 with value: 0.6496932515337422.\n",
      "[I 2024-07-09 00:23:55,568] Trial 86 finished with value: 0.6398773006134968 and parameters: {'iterations': 578, 'learning_rate': 0.013625778744098462, 'depth': 6, 'random_strength': 0.7297854692413215, 'bagging_temperature': 0.6196848331283445, 'l2_leaf_reg': 9.051475515007013}. Best is trial 41 with value: 0.6496932515337422.\n",
      "[I 2024-07-09 00:24:28,931] Trial 87 finished with value: 0.6098159509202453 and parameters: {'iterations': 544, 'learning_rate': 0.024904154119650742, 'depth': 13, 'random_strength': 0.6890023674606345, 'bagging_temperature': 0.5784150105103699, 'l2_leaf_reg': 9.974551363565386}. Best is trial 41 with value: 0.6496932515337422.\n",
      "[I 2024-07-09 00:24:34,292] Trial 88 finished with value: 0.6447852760736196 and parameters: {'iterations': 526, 'learning_rate': 0.0171797558195443, 'depth': 8, 'random_strength': 0.595795070208475, 'bagging_temperature': 0.7152655803434882, 'l2_leaf_reg': 9.6513280731348}. Best is trial 41 with value: 0.6496932515337422.\n",
      "[I 2024-07-09 00:24:42,436] Trial 89 finished with value: 0.6306748466257669 and parameters: {'iterations': 907, 'learning_rate': 0.03137699329066915, 'depth': 7, 'random_strength': 0.8255283967159962, 'bagging_temperature': 0.6589158410970376, 'l2_leaf_reg': 8.704554414297782}. Best is trial 41 with value: 0.6496932515337422.\n",
      "[I 2024-07-09 00:25:04,527] Trial 90 finished with value: 0.6147239263803681 and parameters: {'iterations': 613, 'learning_rate': 0.0213289412270574, 'depth': 12, 'random_strength': 0.7942413826662525, 'bagging_temperature': 0.8885038610999513, 'l2_leaf_reg': 9.214262885584526}. Best is trial 41 with value: 0.6496932515337422.\n",
      "[I 2024-07-09 00:25:09,542] Trial 91 finished with value: 0.6466257668711657 and parameters: {'iterations': 566, 'learning_rate': 0.022716278705792972, 'depth': 7, 'random_strength': 0.5752325772747445, 'bagging_temperature': 0.8271982162813587, 'l2_leaf_reg': 8.409370605561698}. Best is trial 41 with value: 0.6496932515337422.\n",
      "[I 2024-07-09 00:25:14,241] Trial 92 finished with value: 0.6423312883435582 and parameters: {'iterations': 585, 'learning_rate': 0.01607703348808416, 'depth': 6, 'random_strength': 0.5531953777831666, 'bagging_temperature': 0.8239056167219949, 'l2_leaf_reg': 8.387299632176106}. Best is trial 41 with value: 0.6496932515337422.\n",
      "[I 2024-07-09 00:25:18,820] Trial 93 finished with value: 0.6435582822085889 and parameters: {'iterations': 510, 'learning_rate': 0.01932607232028744, 'depth': 7, 'random_strength': 0.6081419964033741, 'bagging_temperature': 0.8009172584682062, 'l2_leaf_reg': 7.730287726117863}. Best is trial 41 with value: 0.6496932515337422.\n",
      "[I 2024-07-09 00:25:24,586] Trial 94 finished with value: 0.6386503067484662 and parameters: {'iterations': 557, 'learning_rate': 0.011878080906119581, 'depth': 8, 'random_strength': 0.7590130042838292, 'bagging_temperature': 0.8535986660422249, 'l2_leaf_reg': 8.05057615146155}. Best is trial 41 with value: 0.6496932515337422.\n",
      "[I 2024-07-09 00:25:30,017] Trial 95 finished with value: 0.641717791411043 and parameters: {'iterations': 603, 'learning_rate': 0.027274762744759675, 'depth': 7, 'random_strength': 0.6563170148891089, 'bagging_temperature': 0.7669563992465857, 'l2_leaf_reg': 8.556504704954254}. Best is trial 41 with value: 0.6496932515337422.\n",
      "[I 2024-07-09 00:25:34,522] Trial 96 finished with value: 0.6435582822085889 and parameters: {'iterations': 566, 'learning_rate': 0.024775074511759716, 'depth': 6, 'random_strength': 0.5831302468532429, 'bagging_temperature': 0.6851460085519029, 'l2_leaf_reg': 8.90738606344812}. Best is trial 41 with value: 0.6496932515337422.\n",
      "[I 2024-07-09 00:25:42,820] Trial 97 finished with value: 0.6306748466257669 and parameters: {'iterations': 824, 'learning_rate': 0.022398180003662893, 'depth': 8, 'random_strength': 0.6340377145552992, 'bagging_temperature': 0.788408732751582, 'l2_leaf_reg': 9.48197548824086}. Best is trial 41 with value: 0.6496932515337422.\n",
      "[I 2024-07-09 00:25:48,446] Trial 98 finished with value: 0.6411042944785276 and parameters: {'iterations': 627, 'learning_rate': 0.018027047802009796, 'depth': 7, 'random_strength': 0.5258185860223941, 'bagging_temperature': 0.7300880167063893, 'l2_leaf_reg': 9.045744957169433}. Best is trial 41 with value: 0.6496932515337422.\n",
      "[I 2024-07-09 00:27:37,486] Trial 99 finished with value: 0.6208588957055214 and parameters: {'iterations': 531, 'learning_rate': 0.015066682020005029, 'depth': 15, 'random_strength': 0.844001290212589, 'bagging_temperature': 0.6300745251326171, 'l2_leaf_reg': 7.339041603985352}. Best is trial 41 with value: 0.6496932515337422.\n"
     ]
    }
   ],
   "source": [
    "study = optuna.create_study(direction='maximize')\n",
    "study.optimize(objective, n_trials=100, show_progress_bar=True)"
   ]
  },
  {
   "cell_type": "code",
   "execution_count": 28,
   "id": "d08f6ab5-62c1-435d-9f71-ab5c581e4dcf",
   "metadata": {},
   "outputs": [
    {
     "name": "stdout",
     "output_type": "stream",
     "text": [
      "Best trial: FrozenTrial(number=41, state=1, values=[0.6496932515337422], datetime_start=datetime.datetime(2024, 7, 9, 0, 14, 37, 241149), datetime_complete=datetime.datetime(2024, 7, 9, 0, 14, 42, 525641), params={'iterations': 598, 'learning_rate': 0.023443878098496275, 'depth': 7, 'random_strength': 0.5850280189408111, 'bagging_temperature': 0.8338604000665841, 'l2_leaf_reg': 8.631900728051564}, user_attrs={}, system_attrs={}, intermediate_values={}, distributions={'iterations': IntDistribution(high=1000, log=False, low=500, step=1), 'learning_rate': FloatDistribution(high=0.1, log=False, low=0.01, step=None), 'depth': IntDistribution(high=16, log=False, low=6, step=1), 'random_strength': FloatDistribution(high=1.0, log=False, low=0.3, step=None), 'bagging_temperature': FloatDistribution(high=1.0, log=False, low=0.1, step=None), 'l2_leaf_reg': FloatDistribution(high=10.0, log=False, low=2.0, step=None)}, trial_id=41, value=None)\n",
      "Best hyperparameters: {'iterations': 598, 'learning_rate': 0.023443878098496275, 'depth': 7, 'random_strength': 0.5850280189408111, 'bagging_temperature': 0.8338604000665841, 'l2_leaf_reg': 8.631900728051564}\n"
     ]
    }
   ],
   "source": [
    "print(\"Best trial:\", study.best_trial)\n",
    "print(\"Best hyperparameters:\", study.best_params)"
   ]
  },
  {
   "cell_type": "code",
   "execution_count": null,
   "id": "3ea07b18-ac4e-4689-82a6-b73a406cea6d",
   "metadata": {},
   "outputs": [],
   "source": []
  }
 ],
 "metadata": {
  "kernelspec": {
   "display_name": "Python 3 (ipykernel)",
   "language": "python",
   "name": "python3"
  },
  "language_info": {
   "codemirror_mode": {
    "name": "ipython",
    "version": 3
   },
   "file_extension": ".py",
   "mimetype": "text/x-python",
   "name": "python",
   "nbconvert_exporter": "python",
   "pygments_lexer": "ipython3",
   "version": "3.11.5"
  }
 },
 "nbformat": 4,
 "nbformat_minor": 5
}

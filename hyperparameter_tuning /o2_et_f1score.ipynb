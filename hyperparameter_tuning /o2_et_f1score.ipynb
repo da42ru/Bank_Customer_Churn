{
 "cells": [
  {
   "cell_type": "markdown",
   "id": "b8305d2b-05a2-4c03-96c1-41a8ed3e3f4e",
   "metadata": {},
   "source": [
    "## Extra Trees Hyperparameter Tuning (F1-Score)"
   ]
  },
  {
   "cell_type": "code",
   "execution_count": 4,
   "id": "1737f07b-25d7-4e9a-950e-c41ea036b4c4",
   "metadata": {
    "tags": []
   },
   "outputs": [],
   "source": [
    "# Load Libraries\n",
    "\n",
    "import pandas as pd\n",
    "import numpy as np\n",
    "\n",
    "from sklearn.model_selection import train_test_split, StratifiedKFold\n",
    "from sklearn.metrics import f1_score\n",
    "\n",
    "from sklearn.ensemble import ExtraTreesClassifier\n",
    "\n",
    "import optuna"
   ]
  },
  {
   "cell_type": "code",
   "execution_count": 5,
   "id": "34b40b44-1c92-4b9d-ad57-3cddb44f6f0f",
   "metadata": {
    "tags": []
   },
   "outputs": [],
   "source": [
    "# Load Data\n",
    "\n",
    "df = pd.read_csv('bank_4.csv', index_col=0)"
   ]
  },
  {
   "cell_type": "code",
   "execution_count": 6,
   "id": "e25031a8-fef1-4150-86e7-8b7e22f0a9bb",
   "metadata": {
    "tags": []
   },
   "outputs": [],
   "source": [
    "# Train / Test Split\n",
    "\n",
    "X = df.drop(columns=['churn', 'complain', 'umap_1', 'umap_2'])\n",
    "y = df['churn']\n",
    "\n",
    "X_train, X_test, y_train, y_test = train_test_split(X, y, test_size=0.2, stratify=y, random_state=42)"
   ]
  },
  {
   "cell_type": "code",
   "execution_count": 10,
   "id": "2b530e97-2bc3-4b3d-b9f8-eb4ed610ff66",
   "metadata": {
    "tags": []
   },
   "outputs": [],
   "source": [
    "# Hyperparameter tuning\n",
    "\n",
    "def objective(trial):\n",
    "    \n",
    "    params = {\n",
    "        'n_estimators': trial.suggest_int('n_estimators', 100, 2000),\n",
    "        'max_features': trial.suggest_int('max_features', 4, 53),\n",
    "        'max_depth': trial.suggest_int('max_depth', 2, 50),\n",
    "        'min_samples_split': trial.suggest_int('min_samples_split', 2, 32),\n",
    "        'min_samples_leaf': trial.suggest_int('min_samples_leaf', 1, 32)\n",
    "    }\n",
    "\n",
    "    model = ExtraTreesClassifier(\n",
    "        **params,\n",
    "        random_state=42,\n",
    "        n_jobs=-1)\n",
    "        \n",
    "    threshold = 0.32\n",
    "    \n",
    "    skf = StratifiedKFold(n_splits=5, random_state=42, shuffle=True)\n",
    "    scores = []\n",
    "    \n",
    "    for tr, te in skf.split(X_train, y_train):\n",
    "        \n",
    "        X_tr, X_te = X_train.iloc[tr], X_train.iloc[te]\n",
    "        y_tr, y_te = y_train.iloc[tr], y_train.iloc[te]\n",
    "        \n",
    "        model.fit(X_tr, y_tr)\n",
    "        prob = model.predict_proba(X_te)[:, 1]\n",
    "        y_pred = np.where(prob < threshold, 0, 1)\n",
    "        \n",
    "        scores.append(f1_score(y_te, y_pred))\n",
    "        \n",
    "    return np.mean(scores)"
   ]
  },
  {
   "cell_type": "code",
   "execution_count": 12,
   "id": "eb85a387-214c-480a-8a96-d69570dcbce9",
   "metadata": {
    "tags": []
   },
   "outputs": [
    {
     "name": "stderr",
     "output_type": "stream",
     "text": [
      "[I 2024-07-09 22:23:08,689] A new study created in memory with name: no-name-ba1620d4-887f-4ad9-83df-a7513bc58aae\n"
     ]
    },
    {
     "data": {
      "application/vnd.jupyter.widget-view+json": {
       "model_id": "fb3a28cd42b14eaf8f11e5d95740563f",
       "version_major": 2,
       "version_minor": 0
      },
      "text/plain": [
       "  0%|          | 0/100 [00:00<?, ?it/s]"
      ]
     },
     "metadata": {},
     "output_type": "display_data"
    },
    {
     "name": "stdout",
     "output_type": "stream",
     "text": [
      "[I 2024-07-09 22:23:21,295] Trial 0 finished with value: 0.6174258375341066 and parameters: {'n_estimators': 1104, 'max_features': 15, 'max_depth': 39, 'min_samples_split': 32, 'min_samples_leaf': 31}. Best is trial 0 with value: 0.6174258375341066.\n",
      "[I 2024-07-09 22:23:29,728] Trial 1 finished with value: 0.6063472138917796 and parameters: {'n_estimators': 974, 'max_features': 5, 'max_depth': 46, 'min_samples_split': 2, 'min_samples_leaf': 15}. Best is trial 0 with value: 0.6174258375341066.\n",
      "[I 2024-07-09 22:23:47,713] Trial 2 finished with value: 0.6175315083852329 and parameters: {'n_estimators': 1554, 'max_features': 17, 'max_depth': 37, 'min_samples_split': 29, 'min_samples_leaf': 30}. Best is trial 2 with value: 0.6175315083852329.\n",
      "[I 2024-07-09 22:24:04,780] Trial 3 finished with value: 0.6170859601574837 and parameters: {'n_estimators': 1373, 'max_features': 40, 'max_depth': 48, 'min_samples_split': 30, 'min_samples_leaf': 30}. Best is trial 2 with value: 0.6175315083852329.\n",
      "[I 2024-07-09 22:24:27,882] Trial 4 finished with value: 0.6123784340698746 and parameters: {'n_estimators': 1578, 'max_features': 52, 'max_depth': 15, 'min_samples_split': 27, 'min_samples_leaf': 5}. Best is trial 2 with value: 0.6175315083852329.\n",
      "[I 2024-07-09 22:24:52,714] Trial 5 finished with value: 0.6103555186433615 and parameters: {'n_estimators': 1939, 'max_features': 32, 'max_depth': 9, 'min_samples_split': 6, 'min_samples_leaf': 9}. Best is trial 2 with value: 0.6175315083852329.\n",
      "[I 2024-07-09 22:25:04,358] Trial 6 finished with value: 0.6143495677186988 and parameters: {'n_estimators': 934, 'max_features': 20, 'max_depth': 43, 'min_samples_split': 14, 'min_samples_leaf': 28}. Best is trial 2 with value: 0.6175315083852329.\n",
      "[I 2024-07-09 22:25:15,784] Trial 7 finished with value: 0.6083221899800282 and parameters: {'n_estimators': 829, 'max_features': 40, 'max_depth': 49, 'min_samples_split': 26, 'min_samples_leaf': 2}. Best is trial 2 with value: 0.6175315083852329.\n",
      "[I 2024-07-09 22:25:27,708] Trial 8 finished with value: 0.6163042566069699 and parameters: {'n_estimators': 1035, 'max_features': 11, 'max_depth': 39, 'min_samples_split': 20, 'min_samples_leaf': 12}. Best is trial 2 with value: 0.6175315083852329.\n",
      "[I 2024-07-09 22:25:33,394] Trial 9 finished with value: 0.573815798389972 and parameters: {'n_estimators': 571, 'max_features': 52, 'max_depth': 4, 'min_samples_split': 8, 'min_samples_leaf': 23}. Best is trial 2 with value: 0.6175315083852329.\n",
      "[I 2024-07-09 22:25:35,571] Trial 10 finished with value: 0.6175299513041821 and parameters: {'n_estimators': 165, 'max_features': 27, 'max_depth': 27, 'min_samples_split': 21, 'min_samples_leaf': 19}. Best is trial 2 with value: 0.6175315083852329.\n",
      "[I 2024-07-09 22:25:37,864] Trial 11 finished with value: 0.6136843983438565 and parameters: {'n_estimators': 165, 'max_features': 25, 'max_depth': 26, 'min_samples_split': 21, 'min_samples_leaf': 21}. Best is trial 2 with value: 0.6175315083852329.\n",
      "[I 2024-07-09 22:25:40,140] Trial 12 finished with value: 0.615674165169213 and parameters: {'n_estimators': 167, 'max_features': 29, 'max_depth': 29, 'min_samples_split': 23, 'min_samples_leaf': 23}. Best is trial 2 with value: 0.6175315083852329.\n",
      "[I 2024-07-09 22:26:03,838] Trial 13 finished with value: 0.6165703012142872 and parameters: {'n_estimators': 1772, 'max_features': 21, 'max_depth': 29, 'min_samples_split': 16, 'min_samples_leaf': 19}. Best is trial 2 with value: 0.6175315083852329.\n",
      "[I 2024-07-09 22:26:23,415] Trial 14 finished with value: 0.6141031088493069 and parameters: {'n_estimators': 1379, 'max_features': 35, 'max_depth': 21, 'min_samples_split': 26, 'min_samples_leaf': 26}. Best is trial 2 with value: 0.6175315083852329.\n",
      "[I 2024-07-09 22:26:31,394] Trial 15 finished with value: 0.6168062441066634 and parameters: {'n_estimators': 611, 'max_features': 15, 'max_depth': 37, 'min_samples_split': 12, 'min_samples_leaf': 17}. Best is trial 2 with value: 0.6175315083852329.\n",
      "[I 2024-07-09 22:26:34,994] Trial 16 finished with value: 0.6031387708698427 and parameters: {'n_estimators': 411, 'max_features': 5, 'max_depth': 33, 'min_samples_split': 18, 'min_samples_leaf': 25}. Best is trial 2 with value: 0.6175315083852329.\n",
      "[I 2024-07-09 22:26:54,859] Trial 17 finished with value: 0.6206468427606204 and parameters: {'n_estimators': 1374, 'max_features': 23, 'max_depth': 21, 'min_samples_split': 23, 'min_samples_leaf': 14}. Best is trial 17 with value: 0.6206468427606204.\n",
      "[I 2024-07-09 22:27:14,200] Trial 18 finished with value: 0.6163893735252304 and parameters: {'n_estimators': 1344, 'max_features': 20, 'max_depth': 20, 'min_samples_split': 29, 'min_samples_leaf': 12}. Best is trial 17 with value: 0.6206468427606204.\n",
      "[I 2024-07-09 22:27:34,678] Trial 19 finished with value: 0.6143013394374324 and parameters: {'n_estimators': 1577, 'max_features': 13, 'max_depth': 16, 'min_samples_split': 24, 'min_samples_leaf': 6}. Best is trial 17 with value: 0.6206468427606204.\n",
      "[I 2024-07-09 22:27:56,393] Trial 20 finished with value: 0.6152034539478228 and parameters: {'n_estimators': 1969, 'max_features': 9, 'max_depth': 34, 'min_samples_split': 32, 'min_samples_leaf': 13}. Best is trial 17 with value: 0.6206468427606204.\n",
      "[I 2024-07-09 22:28:13,207] Trial 21 finished with value: 0.6168996650452367 and parameters: {'n_estimators': 1228, 'max_features': 25, 'max_depth': 23, 'min_samples_split': 22, 'min_samples_leaf': 18}. Best is trial 17 with value: 0.6206468427606204.\n",
      "[I 2024-07-09 22:28:36,261] Trial 22 finished with value: 0.6167279398084121 and parameters: {'n_estimators': 1720, 'max_features': 23, 'max_depth': 14, 'min_samples_split': 19, 'min_samples_leaf': 15}. Best is trial 17 with value: 0.6206468427606204.\n",
      "[I 2024-07-09 22:28:55,767] Trial 23 finished with value: 0.6179543749045591 and parameters: {'n_estimators': 1545, 'max_features': 29, 'max_depth': 29, 'min_samples_split': 24, 'min_samples_leaf': 32}. Best is trial 17 with value: 0.6206468427606204.\n",
      "[I 2024-07-09 22:29:14,545] Trial 24 finished with value: 0.6181424575518905 and parameters: {'n_estimators': 1486, 'max_features': 36, 'max_depth': 33, 'min_samples_split': 25, 'min_samples_leaf': 32}. Best is trial 17 with value: 0.6206468427606204.\n",
      "[I 2024-07-09 22:29:29,651] Trial 25 finished with value: 0.6148701064752451 and parameters: {'n_estimators': 1194, 'max_features': 38, 'max_depth': 33, 'min_samples_split': 24, 'min_samples_leaf': 27}. Best is trial 17 with value: 0.6206468427606204.\n",
      "[I 2024-07-09 22:29:48,468] Trial 26 finished with value: 0.6177604920491423 and parameters: {'n_estimators': 1444, 'max_features': 45, 'max_depth': 25, 'min_samples_split': 25, 'min_samples_leaf': 32}. Best is trial 17 with value: 0.6206468427606204.\n",
      "[I 2024-07-09 22:30:12,530] Trial 27 finished with value: 0.6174436278433569 and parameters: {'n_estimators': 1823, 'max_features': 30, 'max_depth': 20, 'min_samples_split': 16, 'min_samples_leaf': 29}. Best is trial 17 with value: 0.6206468427606204.\n",
      "[I 2024-07-09 22:30:36,784] Trial 28 finished with value: 0.6130145685849747 and parameters: {'n_estimators': 1700, 'max_features': 33, 'max_depth': 30, 'min_samples_split': 28, 'min_samples_leaf': 9}. Best is trial 17 with value: 0.6206468427606204.\n",
      "[I 2024-07-09 22:30:52,317] Trial 29 finished with value: 0.6184111061183273 and parameters: {'n_estimators': 1237, 'max_features': 44, 'max_depth': 42, 'min_samples_split': 31, 'min_samples_leaf': 32}. Best is trial 17 with value: 0.6206468427606204.\n",
      "[I 2024-07-09 22:31:07,106] Trial 30 finished with value: 0.6156561222873933 and parameters: {'n_estimators': 1119, 'max_features': 45, 'max_depth': 43, 'min_samples_split': 31, 'min_samples_leaf': 24}. Best is trial 17 with value: 0.6206468427606204.\n",
      "[I 2024-07-09 22:31:24,372] Trial 31 finished with value: 0.6173139236833196 and parameters: {'n_estimators': 1268, 'max_features': 45, 'max_depth': 42, 'min_samples_split': 32, 'min_samples_leaf': 30}. Best is trial 17 with value: 0.6206468427606204.\n",
      "[I 2024-07-09 22:31:43,128] Trial 32 finished with value: 0.6177604920491423 and parameters: {'n_estimators': 1477, 'max_features': 37, 'max_depth': 39, 'min_samples_split': 28, 'min_samples_leaf': 32}. Best is trial 17 with value: 0.6206468427606204.\n",
      "[I 2024-07-09 22:32:04,565] Trial 33 finished with value: 0.6156540031715204 and parameters: {'n_estimators': 1626, 'max_features': 42, 'max_depth': 35, 'min_samples_split': 23, 'min_samples_leaf': 28}. Best is trial 17 with value: 0.6206468427606204.\n",
      "[I 2024-07-09 22:32:24,111] Trial 34 finished with value: 0.6179543749045591 and parameters: {'n_estimators': 1478, 'max_features': 35, 'max_depth': 32, 'min_samples_split': 30, 'min_samples_leaf': 32}. Best is trial 17 with value: 0.6206468427606204.\n",
      "[I 2024-07-09 22:32:39,455] Trial 35 finished with value: 0.6152415709976612 and parameters: {'n_estimators': 1119, 'max_features': 32, 'max_depth': 45, 'min_samples_split': 26, 'min_samples_leaf': 21}. Best is trial 17 with value: 0.6206468427606204.\n",
      "[I 2024-07-09 22:32:50,816] Trial 36 finished with value: 0.6181408627355399 and parameters: {'n_estimators': 874, 'max_features': 47, 'max_depth': 24, 'min_samples_split': 27, 'min_samples_leaf': 30}. Best is trial 17 with value: 0.6206468427606204.\n",
      "[I 2024-07-09 22:33:01,832] Trial 37 finished with value: 0.6187547581145948 and parameters: {'n_estimators': 847, 'max_features': 50, 'max_depth': 17, 'min_samples_split': 28, 'min_samples_leaf': 30}. Best is trial 17 with value: 0.6206468427606204.\n",
      "[I 2024-07-09 22:33:10,748] Trial 38 finished with value: 0.6145053920479143 and parameters: {'n_estimators': 704, 'max_features': 48, 'max_depth': 12, 'min_samples_split': 30, 'min_samples_leaf': 27}. Best is trial 17 with value: 0.6206468427606204.\n",
      "[I 2024-07-09 22:33:23,865] Trial 39 finished with value: 0.617237676647447 and parameters: {'n_estimators': 1008, 'max_features': 50, 'max_depth': 18, 'min_samples_split': 28, 'min_samples_leaf': 29}. Best is trial 17 with value: 0.6206468427606204.\n",
      "[I 2024-07-09 22:33:38,577] Trial 40 finished with value: 0.6165424153013044 and parameters: {'n_estimators': 1309, 'max_features': 53, 'max_depth': 7, 'min_samples_split': 4, 'min_samples_leaf': 9}. Best is trial 17 with value: 0.6206468427606204.\n",
      "[I 2024-07-09 22:33:49,447] Trial 41 finished with value: 0.6183361888604091 and parameters: {'n_estimators': 862, 'max_features': 49, 'max_depth': 23, 'min_samples_split': 27, 'min_samples_leaf': 30}. Best is trial 17 with value: 0.6206468427606204.\n",
      "[I 2024-07-09 22:34:00,270] Trial 42 finished with value: 0.6162444405100864 and parameters: {'n_estimators': 806, 'max_features': 42, 'max_depth': 11, 'min_samples_split': 29, 'min_samples_leaf': 30}. Best is trial 17 with value: 0.6206468427606204.\n",
      "[I 2024-07-09 22:34:10,568] Trial 43 finished with value: 0.616155406796605 and parameters: {'n_estimators': 728, 'max_features': 50, 'max_depth': 22, 'min_samples_split': 26, 'min_samples_leaf': 15}. Best is trial 17 with value: 0.6206468427606204.\n",
      "[I 2024-07-09 22:34:22,771] Trial 44 finished with value: 0.6155573896971809 and parameters: {'n_estimators': 941, 'max_features': 42, 'max_depth': 17, 'min_samples_split': 31, 'min_samples_leaf': 28}. Best is trial 17 with value: 0.6206468427606204.\n",
      "[I 2024-07-09 22:34:36,858] Trial 45 finished with value: 0.6176441422713616 and parameters: {'n_estimators': 1090, 'max_features': 49, 'max_depth': 50, 'min_samples_split': 27, 'min_samples_leaf': 25}. Best is trial 17 with value: 0.6206468427606204.\n",
      "[I 2024-07-09 22:34:43,319] Trial 46 finished with value: 0.615830397583942 and parameters: {'n_estimators': 492, 'max_features': 40, 'max_depth': 13, 'min_samples_split': 22, 'min_samples_leaf': 31}. Best is trial 17 with value: 0.6206468427606204.\n",
      "[I 2024-07-09 22:35:00,366] Trial 47 finished with value: 0.607000619726878 and parameters: {'n_estimators': 1170, 'max_features': 47, 'max_depth': 27, 'min_samples_split': 25, 'min_samples_leaf': 1}. Best is trial 17 with value: 0.6206468427606204.\n",
      "[I 2024-07-09 22:35:13,208] Trial 48 finished with value: 0.6155822631883825 and parameters: {'n_estimators': 1014, 'max_features': 52, 'max_depth': 19, 'min_samples_split': 11, 'min_samples_leaf': 21}. Best is trial 17 with value: 0.6206468427606204.\n",
      "[I 2024-07-09 22:35:24,694] Trial 49 finished with value: 0.6145751587107325 and parameters: {'n_estimators': 870, 'max_features': 38, 'max_depth': 46, 'min_samples_split': 29, 'min_samples_leaf': 26}. Best is trial 17 with value: 0.6206468427606204.\n",
      "[I 2024-07-09 22:35:42,296] Trial 50 finished with value: 0.6169365529828403 and parameters: {'n_estimators': 1409, 'max_features': 17, 'max_depth': 40, 'min_samples_split': 21, 'min_samples_leaf': 31}. Best is trial 17 with value: 0.6206468427606204.\n",
      "[I 2024-07-09 22:35:54,194] Trial 51 finished with value: 0.6180701012736718 and parameters: {'n_estimators': 885, 'max_features': 47, 'max_depth': 24, 'min_samples_split': 27, 'min_samples_leaf': 29}. Best is trial 17 with value: 0.6206468427606204.\n",
      "[I 2024-07-09 22:36:03,873] Trial 52 finished with value: 0.6185286107138198 and parameters: {'n_estimators': 762, 'max_features': 44, 'max_depth': 22, 'min_samples_split': 27, 'min_samples_leaf': 30}. Best is trial 17 with value: 0.6206468427606204.\n",
      "[I 2024-07-09 22:36:13,538] Trial 53 finished with value: 0.6160307295074363 and parameters: {'n_estimators': 752, 'max_features': 44, 'max_depth': 22, 'min_samples_split': 31, 'min_samples_leaf': 31}. Best is trial 17 with value: 0.6206468427606204.\n",
      "[I 2024-07-09 22:36:25,922] Trial 54 finished with value: 0.6150385296485278 and parameters: {'n_estimators': 965, 'max_features': 51, 'max_depth': 16, 'min_samples_split': 25, 'min_samples_leaf': 27}. Best is trial 17 with value: 0.6206468427606204.\n",
      "[I 2024-07-09 22:36:34,661] Trial 55 finished with value: 0.6171645893385058 and parameters: {'n_estimators': 610, 'max_features': 44, 'max_depth': 36, 'min_samples_split': 30, 'min_samples_leaf': 14}. Best is trial 17 with value: 0.6206468427606204.\n",
      "[I 2024-07-09 22:36:44,068] Trial 56 finished with value: 0.617618808254375 and parameters: {'n_estimators': 662, 'max_features': 26, 'max_depth': 19, 'min_samples_split': 28, 'min_samples_leaf': 29}. Best is trial 17 with value: 0.6206468427606204.\n",
      "[I 2024-07-09 22:36:51,423] Trial 57 finished with value: 0.6109144074948747 and parameters: {'n_estimators': 478, 'max_features': 23, 'max_depth': 27, 'min_samples_split': 23, 'min_samples_leaf': 7}. Best is trial 17 with value: 0.6206468427606204.\n",
      "[I 2024-07-09 22:37:09,800] Trial 58 finished with value: 0.6169845519678537 and parameters: {'n_estimators': 1291, 'max_features': 40, 'max_depth': 15, 'min_samples_split': 20, 'min_samples_leaf': 17}. Best is trial 17 with value: 0.6206468427606204.\n",
      "[I 2024-07-09 22:37:20,537] Trial 59 finished with value: 0.6132958176406357 and parameters: {'n_estimators': 777, 'max_features': 36, 'max_depth': 21, 'min_samples_split': 32, 'min_samples_leaf': 11}. Best is trial 17 with value: 0.6206468427606204.\n",
      "[I 2024-07-09 22:37:25,048] Trial 60 finished with value: 0.618013170243173 and parameters: {'n_estimators': 339, 'max_features': 53, 'max_depth': 31, 'min_samples_split': 26, 'min_samples_leaf': 30}. Best is trial 17 with value: 0.6206468427606204.\n",
      "[I 2024-07-09 22:37:36,328] Trial 61 finished with value: 0.6183361888604091 and parameters: {'n_estimators': 870, 'max_features': 47, 'max_depth': 24, 'min_samples_split': 27, 'min_samples_leaf': 30}. Best is trial 17 with value: 0.6206468427606204.\n",
      "[I 2024-07-09 22:37:47,051] Trial 62 finished with value: 0.615343733348188 and parameters: {'n_estimators': 822, 'max_features': 49, 'max_depth': 26, 'min_samples_split': 25, 'min_samples_leaf': 28}. Best is trial 17 with value: 0.6206468427606204.\n",
      "[I 2024-07-09 22:38:00,990] Trial 63 finished with value: 0.6184153800447061 and parameters: {'n_estimators': 1057, 'max_features': 43, 'max_depth': 23, 'min_samples_split': 27, 'min_samples_leaf': 32}. Best is trial 17 with value: 0.6206468427606204.\n",
      "[I 2024-07-09 22:38:15,619] Trial 64 finished with value: 0.6168388614755554 and parameters: {'n_estimators': 1096, 'max_features': 46, 'max_depth': 24, 'min_samples_split': 27, 'min_samples_leaf': 31}. Best is trial 17 with value: 0.6206468427606204.\n",
      "[I 2024-07-09 22:38:27,392] Trial 65 finished with value: 0.6141621915416224 and parameters: {'n_estimators': 896, 'max_features': 42, 'max_depth': 21, 'min_samples_split': 30, 'min_samples_leaf': 26}. Best is trial 17 with value: 0.6206468427606204.\n",
      "[I 2024-07-09 22:38:41,000] Trial 66 finished with value: 0.6188274494591006 and parameters: {'n_estimators': 1045, 'max_features': 44, 'max_depth': 18, 'min_samples_split': 28, 'min_samples_leaf': 32}. Best is trial 17 with value: 0.6206468427606204.\n",
      "[I 2024-07-09 22:38:55,357] Trial 67 finished with value: 0.6184111061183273 and parameters: {'n_estimators': 1209, 'max_features': 44, 'max_depth': 17, 'min_samples_split': 29, 'min_samples_leaf': 32}. Best is trial 17 with value: 0.6206468427606204.\n",
      "[I 2024-07-09 22:39:10,620] Trial 68 finished with value: 0.6174663584436452 and parameters: {'n_estimators': 1189, 'max_features': 43, 'max_depth': 9, 'min_samples_split': 29, 'min_samples_leaf': 31}. Best is trial 17 with value: 0.6206468427606204.\n",
      "[I 2024-07-09 22:39:26,499] Trial 69 finished with value: 0.6184111061183273 and parameters: {'n_estimators': 1247, 'max_features': 39, 'max_depth': 18, 'min_samples_split': 29, 'min_samples_leaf': 32}. Best is trial 17 with value: 0.6206468427606204.\n",
      "[I 2024-07-09 22:39:43,702] Trial 70 finished with value: 0.6179866217933443 and parameters: {'n_estimators': 1372, 'max_features': 41, 'max_depth': 14, 'min_samples_split': 31, 'min_samples_leaf': 32}. Best is trial 17 with value: 0.6206468427606204.\n",
      "[I 2024-07-09 22:39:56,851] Trial 71 finished with value: 0.6184153800447061 and parameters: {'n_estimators': 1059, 'max_features': 40, 'max_depth': 18, 'min_samples_split': 29, 'min_samples_leaf': 32}. Best is trial 17 with value: 0.6206468427606204.\n",
      "[I 2024-07-09 22:40:10,831] Trial 72 finished with value: 0.6170135281566369 and parameters: {'n_estimators': 1063, 'max_features': 44, 'max_depth': 17, 'min_samples_split': 28, 'min_samples_leaf': 29}. Best is trial 17 with value: 0.6206468427606204.\n",
      "[I 2024-07-09 22:40:24,908] Trial 73 finished with value: 0.616635269583887 and parameters: {'n_estimators': 1141, 'max_features': 45, 'max_depth': 20, 'min_samples_split': 32, 'min_samples_leaf': 31}. Best is trial 17 with value: 0.6206468427606204.\n",
      "[I 2024-07-09 22:40:40,474] Trial 74 finished with value: 0.6184111061183273 and parameters: {'n_estimators': 1215, 'max_features': 23, 'max_depth': 15, 'min_samples_split': 28, 'min_samples_leaf': 32}. Best is trial 17 with value: 0.6206468427606204.\n",
      "[I 2024-07-09 22:40:57,019] Trial 75 finished with value: 0.6151040105252811 and parameters: {'n_estimators': 1324, 'max_features': 19, 'max_depth': 18, 'min_samples_split': 29, 'min_samples_leaf': 28}. Best is trial 17 with value: 0.6206468427606204.\n",
      "[I 2024-07-09 22:41:10,772] Trial 76 finished with value: 0.6172435884362908 and parameters: {'n_estimators': 1040, 'max_features': 39, 'max_depth': 22, 'min_samples_split': 17, 'min_samples_leaf': 31}. Best is trial 17 with value: 0.6206468427606204.\n",
      "[I 2024-07-09 22:41:24,948] Trial 77 finished with value: 0.6127777275610553 and parameters: {'n_estimators': 994, 'max_features': 33, 'max_depth': 16, 'min_samples_split': 24, 'min_samples_leaf': 11}. Best is trial 17 with value: 0.6206468427606204.\n",
      "[I 2024-07-09 22:41:36,772] Trial 78 finished with value: 0.6175019090592583 and parameters: {'n_estimators': 944, 'max_features': 43, 'max_depth': 11, 'min_samples_split': 31, 'min_samples_leaf': 32}. Best is trial 17 with value: 0.6206468427606204.\n",
      "[I 2024-07-09 22:41:52,220] Trial 79 finished with value: 0.6178099364349156 and parameters: {'n_estimators': 1152, 'max_features': 46, 'max_depth': 19, 'min_samples_split': 26, 'min_samples_leaf': 19}. Best is trial 17 with value: 0.6206468427606204.\n",
      "[I 2024-07-09 22:42:07,536] Trial 80 finished with value: 0.6170859601574837 and parameters: {'n_estimators': 1229, 'max_features': 41, 'max_depth': 28, 'min_samples_split': 30, 'min_samples_leaf': 30}. Best is trial 17 with value: 0.6206468427606204.\n",
      "[I 2024-07-09 22:42:22,150] Trial 81 finished with value: 0.6184153800447061 and parameters: {'n_estimators': 1066, 'max_features': 38, 'max_depth': 18, 'min_samples_split': 29, 'min_samples_leaf': 32}. Best is trial 17 with value: 0.6206468427606204.\n",
      "[I 2024-07-09 22:42:35,520] Trial 82 finished with value: 0.6190204924854213 and parameters: {'n_estimators': 1027, 'max_features': 38, 'max_depth': 17, 'min_samples_split': 30, 'min_samples_leaf': 32}. Best is trial 17 with value: 0.6206468427606204.\n",
      "[I 2024-07-09 22:42:49,609] Trial 83 finished with value: 0.6170135281566369 and parameters: {'n_estimators': 1065, 'max_features': 35, 'max_depth': 20, 'min_samples_split': 32, 'min_samples_leaf': 29}. Best is trial 17 with value: 0.6206468427606204.\n",
      "[I 2024-07-09 22:43:01,092] Trial 84 finished with value: 0.6168648897845317 and parameters: {'n_estimators': 929, 'max_features': 37, 'max_depth': 13, 'min_samples_split': 28, 'min_samples_leaf': 31}. Best is trial 17 with value: 0.6206468427606204.\n",
      "[I 2024-07-09 22:43:14,587] Trial 85 finished with value: 0.6149175383144218 and parameters: {'n_estimators': 994, 'max_features': 30, 'max_depth': 23, 'min_samples_split': 30, 'min_samples_leaf': 27}. Best is trial 17 with value: 0.6206468427606204.\n",
      "[I 2024-07-09 22:43:22,714] Trial 86 finished with value: 0.6176251258988572 and parameters: {'n_estimators': 671, 'max_features': 38, 'max_depth': 19, 'min_samples_split': 31, 'min_samples_leaf': 29}. Best is trial 17 with value: 0.6206468427606204.\n",
      "[I 2024-07-09 22:43:32,440] Trial 87 finished with value: 0.6185286107138198 and parameters: {'n_estimators': 808, 'max_features': 28, 'max_depth': 25, 'min_samples_split': 30, 'min_samples_leaf': 30}. Best is trial 17 with value: 0.6206468427606204.\n",
      "[I 2024-07-09 22:43:41,742] Trial 88 finished with value: 0.6185286107138198 and parameters: {'n_estimators': 771, 'max_features': 28, 'max_depth': 26, 'min_samples_split': 26, 'min_samples_leaf': 30}. Best is trial 17 with value: 0.6206468427606204.\n",
      "[I 2024-07-09 22:43:51,882] Trial 89 finished with value: 0.6164828449214369 and parameters: {'n_estimators': 759, 'max_features': 28, 'max_depth': 25, 'min_samples_split': 26, 'min_samples_leaf': 15}. Best is trial 17 with value: 0.6206468427606204.\n",
      "[I 2024-07-09 22:44:02,418] Trial 90 finished with value: 0.61748828787912 and parameters: {'n_estimators': 801, 'max_features': 30, 'max_depth': 29, 'min_samples_split': 23, 'min_samples_leaf': 16}. Best is trial 17 with value: 0.6206468427606204.\n",
      "[I 2024-07-09 22:44:11,145] Trial 91 finished with value: 0.6185296514744466 and parameters: {'n_estimators': 704, 'max_features': 25, 'max_depth': 22, 'min_samples_split': 28, 'min_samples_leaf': 30}. Best is trial 17 with value: 0.6206468427606204.\n",
      "[I 2024-07-09 22:44:17,932] Trial 92 finished with value: 0.6187097800309267 and parameters: {'n_estimators': 562, 'max_features': 25, 'max_depth': 21, 'min_samples_split': 27, 'min_samples_leaf': 30}. Best is trial 17 with value: 0.6206468427606204.\n",
      "[I 2024-07-09 22:44:25,224] Trial 93 finished with value: 0.6162876238868347 and parameters: {'n_estimators': 594, 'max_features': 25, 'max_depth': 26, 'min_samples_split': 27, 'min_samples_leaf': 28}. Best is trial 17 with value: 0.6206468427606204.\n",
      "[I 2024-07-09 22:44:32,086] Trial 94 finished with value: 0.616289745398638 and parameters: {'n_estimators': 514, 'max_features': 21, 'max_depth': 22, 'min_samples_split': 25, 'min_samples_leaf': 27}. Best is trial 17 with value: 0.6206468427606204.\n",
      "[I 2024-07-09 22:44:41,312] Trial 95 finished with value: 0.6185296514744466 and parameters: {'n_estimators': 702, 'max_features': 26, 'max_depth': 25, 'min_samples_split': 28, 'min_samples_leaf': 30}. Best is trial 17 with value: 0.6206468427606204.\n",
      "[I 2024-07-09 22:44:47,865] Trial 96 finished with value: 0.6184205283723937 and parameters: {'n_estimators': 544, 'max_features': 27, 'max_depth': 21, 'min_samples_split': 26, 'min_samples_leaf': 29}. Best is trial 17 with value: 0.6206468427606204.\n",
      "[I 2024-07-09 22:44:56,834] Trial 97 finished with value: 0.6170309274006041 and parameters: {'n_estimators': 672, 'max_features': 24, 'max_depth': 25, 'min_samples_split': 14, 'min_samples_leaf': 13}. Best is trial 17 with value: 0.6206468427606204.\n",
      "[I 2024-07-09 22:45:04,925] Trial 98 finished with value: 0.6180990204096768 and parameters: {'n_estimators': 645, 'max_features': 27, 'max_depth': 27, 'min_samples_split': 24, 'min_samples_leaf': 30}. Best is trial 17 with value: 0.6206468427606204.\n",
      "[I 2024-07-09 22:45:14,590] Trial 99 finished with value: 0.615829390286269 and parameters: {'n_estimators': 714, 'max_features': 22, 'max_depth': 30, 'min_samples_split': 28, 'min_samples_leaf': 26}. Best is trial 17 with value: 0.6206468427606204.\n"
     ]
    }
   ],
   "source": [
    "study = optuna.create_study(direction='maximize')\n",
    "study.optimize(objective, n_trials=100, show_progress_bar=True)"
   ]
  },
  {
   "cell_type": "code",
   "execution_count": 36,
   "id": "eea8aafd-af4f-4ad6-bf8a-53d2592270df",
   "metadata": {
    "tags": []
   },
   "outputs": [
    {
     "name": "stdout",
     "output_type": "stream",
     "text": [
      "Best trial: FrozenTrial(number=17, state=1, values=[0.6206468427606204], datetime_start=datetime.datetime(2024, 7, 9, 22, 26, 34, 996376), datetime_complete=datetime.datetime(2024, 7, 9, 22, 26, 54, 858765), params={'n_estimators': 1374, 'max_features': 23, 'max_depth': 21, 'min_samples_split': 23, 'min_samples_leaf': 14}, user_attrs={}, system_attrs={}, intermediate_values={}, distributions={'n_estimators': IntDistribution(high=2000, log=False, low=100, step=1), 'max_features': IntDistribution(high=53, log=False, low=4, step=1), 'max_depth': IntDistribution(high=50, log=False, low=2, step=1), 'min_samples_split': IntDistribution(high=32, log=False, low=2, step=1), 'min_samples_leaf': IntDistribution(high=32, log=False, low=1, step=1)}, trial_id=17, value=None)\n",
      "Best hyperparameters: {'n_estimators': 1374, 'max_features': 23, 'max_depth': 21, 'min_samples_split': 23, 'min_samples_leaf': 14}\n"
     ]
    }
   ],
   "source": [
    "print(\"Best trial:\", study.best_trial)\n",
    "print(\"Best hyperparameters:\", study.best_params)"
   ]
  },
  {
   "cell_type": "code",
   "execution_count": null,
   "id": "fe68db3b-05af-46f9-b52b-f33a3c16fa69",
   "metadata": {},
   "outputs": [],
   "source": []
  }
 ],
 "metadata": {
  "kernelspec": {
   "display_name": "Python 3 (ipykernel)",
   "language": "python",
   "name": "python3"
  },
  "language_info": {
   "codemirror_mode": {
    "name": "ipython",
    "version": 3
   },
   "file_extension": ".py",
   "mimetype": "text/x-python",
   "name": "python",
   "nbconvert_exporter": "python",
   "pygments_lexer": "ipython3",
   "version": "3.11.5"
  }
 },
 "nbformat": 4,
 "nbformat_minor": 5
}
